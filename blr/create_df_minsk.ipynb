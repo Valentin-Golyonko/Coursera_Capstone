{
 "cells": [
  {
   "cell_type": "code",
   "execution_count": 83,
   "metadata": {},
   "outputs": [],
   "source": [
    "import os\n",
    "\n",
    "import pandas as pd\n",
    "import requests\n",
    "from bs4 import BeautifulSoup\n",
    "from dotenv import load_dotenv\n",
    "from geopy.geocoders import GoogleV3"
   ]
  },
  {
   "cell_type": "code",
   "execution_count": 86,
   "metadata": {},
   "outputs": [],
   "source": [
    "load_dotenv()\n",
    "GOOGLE_GEO_API_KEY = os.environ.get('GOOGLE_GEO_API_KEY')"
   ]
  },
  {
   "cell_type": "markdown",
   "metadata": {},
   "source": [
    "# Load and save html with zip codes"
   ]
  },
  {
   "cell_type": "code",
   "execution_count": 3,
   "metadata": {},
   "outputs": [],
   "source": [
    "page_url = 'http://belpost.by/branch/post/otdeleniya-sviazi/'\n",
    "html_page_name = 'otdeleniya-sviazi.html'"
   ]
  },
  {
   "cell_type": "code",
   "execution_count": 4,
   "metadata": {},
   "outputs": [
    {
     "name": "stdout",
     "output_type": "stream",
     "text": [
      "Save source page to html file - done!\n"
     ]
    }
   ],
   "source": [
    "source_html = requests.get(page_url).text\n",
    "\n",
    "with open(html_page_name, 'w') as html_file:\n",
    "    html_file.write(source_html)\n",
    "\n",
    "print('Save source page to html file - done!')"
   ]
  },
  {
   "cell_type": "code",
   "execution_count": 5,
   "metadata": {},
   "outputs": [
    {
     "name": "stdout",
     "output_type": "stream",
     "text": [
      "soup is ready: Адреса и режим работы отделений почтовой связи (ОПС) и пунктов почтовой связи производства “Минская почта” - Белпочта\n"
     ]
    }
   ],
   "source": [
    "with open(html_page_name) as html_file:\n",
    "    soup = BeautifulSoup(html_file, 'html.parser')\n",
    "\n",
    "print('soup is ready:', soup.title.text)"
   ]
  },
  {
   "cell_type": "markdown",
   "metadata": {},
   "source": [
    "# Zip Code Parser "
   ]
  },
  {
   "cell_type": "code",
   "execution_count": 6,
   "metadata": {},
   "outputs": [
    {
     "data": {
      "text/plain": [
       "4"
      ]
     },
     "execution_count": 6,
     "metadata": {},
     "output_type": "execute_result"
    }
   ],
   "source": [
    "table_body = soup.find_all('table', attrs={'border': 1})\n",
    "len(table_body)"
   ]
  },
  {
   "cell_type": "code",
   "execution_count": 7,
   "metadata": {},
   "outputs": [],
   "source": [
    "all_table_rows = table_body[1].find_all('tr')"
   ]
  },
  {
   "cell_type": "code",
   "execution_count": 44,
   "metadata": {},
   "outputs": [
    {
     "name": "stdout",
     "output_type": "stream",
     "text": [
      "Exception in address_full: 'NoneType' object has no attribute 'contents' 0\n",
      "Exception in address_full: list index out of range 116\n",
      "errors: 2\n",
      "zip_codes_minsk_list: 125\n"
     ]
    }
   ],
   "source": [
    "error = 0\n",
    "zip_codes_minsk_list = []\n",
    "for i, row in enumerate(all_table_rows, 0):\n",
    "    cols_all = row.find_all('td')\n",
    "    try:\n",
    "        address_full = cols_all[1].find_all('div')\n",
    "        \n",
    "        if address_full and len(address_full) > 1:\n",
    "            street = address_full[0].string\n",
    "            if not street:\n",
    "                street = address_full[0].text\n",
    "            zip_code = address_full[1].string\n",
    "            if not zip_code:\n",
    "                zip_code = address_full[1].text\n",
    "\n",
    "        elif not address_full or len(address_full) == 1:\n",
    "            some_content = cols_all[1].contents\n",
    "            if len(some_content) == 1:\n",
    "                some_content = cols_all[1].find('div').contents\n",
    "\n",
    "            address = [(q.string).replace('\\xa0', ' ').strip() \n",
    "                       for q in some_content if q.string]\n",
    "            \n",
    "            street = address[0]\n",
    "            zip_code = address[1]\n",
    "        else:\n",
    "            continue\n",
    "            \n",
    "        street = street.replace('\\xa0', ' ').strip()\n",
    "        zip_code = zip_code[:6]\n",
    "        \n",
    "        zip_codes_minsk_list.append([street, int(zip_code), 0.0, 0.0])\n",
    "        \n",
    "    except Exception as ex:\n",
    "        error += 1\n",
    "        print('Exception in address_full: %s' % ex, i)\n",
    "\n",
    "print('errors:', error)\n",
    "print('zip_codes_minsk_list:', len(zip_codes_minsk_list))"
   ]
  },
  {
   "cell_type": "markdown",
   "metadata": {},
   "source": [
    "# Create Pandas data frame"
   ]
  },
  {
   "cell_type": "code",
   "execution_count": 36,
   "metadata": {},
   "outputs": [],
   "source": [
    "pd_columns = ['address', 'zip-code', 'lat', 'lng']\n",
    "df_minsk = pd.DataFrame(data=zip_codes_minsk_list, columns=pd_columns)"
   ]
  },
  {
   "cell_type": "code",
   "execution_count": 37,
   "metadata": {},
   "outputs": [
    {
     "data": {
      "text/html": [
       "<div>\n",
       "<style scoped>\n",
       "    .dataframe tbody tr th:only-of-type {\n",
       "        vertical-align: middle;\n",
       "    }\n",
       "\n",
       "    .dataframe tbody tr th {\n",
       "        vertical-align: top;\n",
       "    }\n",
       "\n",
       "    .dataframe thead th {\n",
       "        text-align: right;\n",
       "    }\n",
       "</style>\n",
       "<table border=\"1\" class=\"dataframe\">\n",
       "  <thead>\n",
       "    <tr style=\"text-align: right;\">\n",
       "      <th></th>\n",
       "      <th>address</th>\n",
       "      <th>zip-code</th>\n",
       "      <th>lat</th>\n",
       "      <th>lng</th>\n",
       "    </tr>\n",
       "  </thead>\n",
       "  <tbody>\n",
       "    <tr>\n",
       "      <th>6</th>\n",
       "      <td>ул. Жуковского, 6, к.2</td>\n",
       "      <td>220007</td>\n",
       "      <td>0.0</td>\n",
       "      <td>0.0</td>\n",
       "    </tr>\n",
       "    <tr>\n",
       "      <th>7</th>\n",
       "      <td>ул. Жуковского, 6, к.2</td>\n",
       "      <td>220007</td>\n",
       "      <td>0.0</td>\n",
       "      <td>0.0</td>\n",
       "    </tr>\n",
       "    <tr>\n",
       "      <th>47</th>\n",
       "      <td>ул. Нестерова, 51</td>\n",
       "      <td>220047</td>\n",
       "      <td>0.0</td>\n",
       "      <td>0.0</td>\n",
       "    </tr>\n",
       "    <tr>\n",
       "      <th>48</th>\n",
       "      <td>ул. Нестерова, 51</td>\n",
       "      <td>220047</td>\n",
       "      <td>0.0</td>\n",
       "      <td>0.0</td>\n",
       "    </tr>\n",
       "    <tr>\n",
       "      <th>119</th>\n",
       "      <td>ул. Одинцова, 36,к.1</td>\n",
       "      <td>220136</td>\n",
       "      <td>0.0</td>\n",
       "      <td>0.0</td>\n",
       "    </tr>\n",
       "    <tr>\n",
       "      <th>120</th>\n",
       "      <td>ул. Одинцова, 36,к.1</td>\n",
       "      <td>220136</td>\n",
       "      <td>0.0</td>\n",
       "      <td>0.0</td>\n",
       "    </tr>\n",
       "  </tbody>\n",
       "</table>\n",
       "</div>"
      ],
      "text/plain": [
       "                    address  zip-code  lat  lng\n",
       "6    ул. Жуковского, 6, к.2    220007  0.0  0.0\n",
       "7    ул. Жуковского, 6, к.2    220007  0.0  0.0\n",
       "47        ул. Нестерова, 51    220047  0.0  0.0\n",
       "48        ул. Нестерова, 51    220047  0.0  0.0\n",
       "119    ул. Одинцова, 36,к.1    220136  0.0  0.0\n",
       "120    ул. Одинцова, 36,к.1    220136  0.0  0.0"
      ]
     },
     "execution_count": 37,
     "metadata": {},
     "output_type": "execute_result"
    }
   ],
   "source": [
    "zip_codes = df_minsk['zip-code']\n",
    "df_minsk[zip_codes.isin(zip_codes[zip_codes.duplicated()])]"
   ]
  },
  {
   "cell_type": "markdown",
   "metadata": {},
   "source": [
    "# delete repeated zip codes"
   ]
  },
  {
   "cell_type": "code",
   "execution_count": 38,
   "metadata": {},
   "outputs": [
    {
     "data": {
      "text/html": [
       "<div>\n",
       "<style scoped>\n",
       "    .dataframe tbody tr th:only-of-type {\n",
       "        vertical-align: middle;\n",
       "    }\n",
       "\n",
       "    .dataframe tbody tr th {\n",
       "        vertical-align: top;\n",
       "    }\n",
       "\n",
       "    .dataframe thead th {\n",
       "        text-align: right;\n",
       "    }\n",
       "</style>\n",
       "<table border=\"1\" class=\"dataframe\">\n",
       "  <thead>\n",
       "    <tr style=\"text-align: right;\">\n",
       "      <th></th>\n",
       "      <th>index</th>\n",
       "      <th>address</th>\n",
       "      <th>zip-code</th>\n",
       "      <th>lat</th>\n",
       "      <th>lng</th>\n",
       "    </tr>\n",
       "  </thead>\n",
       "  <tbody>\n",
       "    <tr>\n",
       "      <th>0</th>\n",
       "      <td>0</td>\n",
       "      <td>ул. Московская,16</td>\n",
       "      <td>220001</td>\n",
       "      <td>0.0</td>\n",
       "      <td>0.0</td>\n",
       "    </tr>\n",
       "    <tr>\n",
       "      <th>1</th>\n",
       "      <td>1</td>\n",
       "      <td>ул. Сторожевская, 8</td>\n",
       "      <td>220002</td>\n",
       "      <td>0.0</td>\n",
       "      <td>0.0</td>\n",
       "    </tr>\n",
       "    <tr>\n",
       "      <th>2</th>\n",
       "      <td>2</td>\n",
       "      <td>ул. Одинцова, 113</td>\n",
       "      <td>220003</td>\n",
       "      <td>0.0</td>\n",
       "      <td>0.0</td>\n",
       "    </tr>\n",
       "    <tr>\n",
       "      <th>3</th>\n",
       "      <td>3</td>\n",
       "      <td>ул. М.Танка,36, к.2,</td>\n",
       "      <td>220004</td>\n",
       "      <td>0.0</td>\n",
       "      <td>0.0</td>\n",
       "    </tr>\n",
       "    <tr>\n",
       "      <th>4</th>\n",
       "      <td>4</td>\n",
       "      <td>пр. Независимости, 46</td>\n",
       "      <td>220005</td>\n",
       "      <td>0.0</td>\n",
       "      <td>0.0</td>\n",
       "    </tr>\n",
       "  </tbody>\n",
       "</table>\n",
       "</div>"
      ],
      "text/plain": [
       "   index                address  zip-code  lat  lng\n",
       "0      0      ул. Московская,16    220001  0.0  0.0\n",
       "1      1    ул. Сторожевская, 8    220002  0.0  0.0\n",
       "2      2      ул. Одинцова, 113    220003  0.0  0.0\n",
       "3      3   ул. М.Танка,36, к.2,    220004  0.0  0.0\n",
       "4      4  пр. Независимости, 46    220005  0.0  0.0"
      ]
     },
     "execution_count": 38,
     "metadata": {},
     "output_type": "execute_result"
    }
   ],
   "source": [
    "df_minsk.sort_values('zip-code', inplace=True)\n",
    "df_minsk.drop_duplicates(subset='zip-code', inplace=True)\n",
    "df_minsk.reset_index(inplace=True)\n",
    "df_minsk.head()"
   ]
  },
  {
   "cell_type": "code",
   "execution_count": 39,
   "metadata": {},
   "outputs": [],
   "source": [
    "df_minsk.drop(columns=['index'], inplace=True)"
   ]
  },
  {
   "cell_type": "code",
   "execution_count": 40,
   "metadata": {},
   "outputs": [
    {
     "name": "stdout",
     "output_type": "stream",
     "text": [
      "122\n",
      "(122, 4)\n"
     ]
    }
   ],
   "source": [
    "print(len(df_minsk['zip-code'].unique()))\n",
    "print(df_minsk.shape)"
   ]
  },
  {
   "cell_type": "code",
   "execution_count": 41,
   "metadata": {},
   "outputs": [],
   "source": [
    "# df_minsk.to_csv('zip_codes_minsk_list.csv')"
   ]
  },
  {
   "cell_type": "markdown",
   "metadata": {},
   "source": [
    "# Find coordinates for all zip codes with Google Geo API"
   ]
  },
  {
   "cell_type": "code",
   "execution_count": null,
   "metadata": {},
   "outputs": [],
   "source": [
    "for i in range(df_minsk.shape[0]):\n",
    "    try:\n",
    "        address = df_minsk.iloc[i, 0] + ', Minsk'\n",
    "        \n",
    "        google_geo = GoogleV3(api_key=GOOGLE_GEO_API_KEY)\n",
    "        coords = google_geo.geocode(address)\n",
    "        \n",
    "        lat = float(coords.latitude)\n",
    "        lng = float(coords.longitude)\n",
    "        \n",
    "        df_minsk.iloc[i, 2:4] = lat, lng\n",
    "        #  print(i, lat, lng)\n",
    "    except Exception as ex:\n",
    "        print('Exception in google_location: %s' % ex)"
   ]
  },
  {
   "cell_type": "code",
   "execution_count": 101,
   "metadata": {},
   "outputs": [
    {
     "data": {
      "text/plain": [
       "address     0\n",
       "zip-code    0\n",
       "lat         0\n",
       "lng         0\n",
       "dtype: int64"
      ]
     },
     "execution_count": 101,
     "metadata": {},
     "output_type": "execute_result"
    }
   ],
   "source": [
    "df_minsk.isnull().sum()"
   ]
  },
  {
   "cell_type": "code",
   "execution_count": 102,
   "metadata": {},
   "outputs": [
    {
     "data": {
      "text/plain": [
       "False"
      ]
     },
     "execution_count": 102,
     "metadata": {},
     "output_type": "execute_result"
    }
   ],
   "source": [
    "0.0 in df_minsk.values"
   ]
  },
  {
   "cell_type": "code",
   "execution_count": 103,
   "metadata": {},
   "outputs": [],
   "source": [
    "df_minsk.to_csv('zip_codes_minsk_list.csv')"
   ]
  },
  {
   "cell_type": "code",
   "execution_count": 104,
   "metadata": {},
   "outputs": [
    {
     "data": {
      "text/html": [
       "<div>\n",
       "<style scoped>\n",
       "    .dataframe tbody tr th:only-of-type {\n",
       "        vertical-align: middle;\n",
       "    }\n",
       "\n",
       "    .dataframe tbody tr th {\n",
       "        vertical-align: top;\n",
       "    }\n",
       "\n",
       "    .dataframe thead th {\n",
       "        text-align: right;\n",
       "    }\n",
       "</style>\n",
       "<table border=\"1\" class=\"dataframe\">\n",
       "  <thead>\n",
       "    <tr style=\"text-align: right;\">\n",
       "      <th></th>\n",
       "      <th>address</th>\n",
       "      <th>zip-code</th>\n",
       "      <th>lat</th>\n",
       "      <th>lng</th>\n",
       "    </tr>\n",
       "  </thead>\n",
       "  <tbody>\n",
       "    <tr>\n",
       "      <th>0</th>\n",
       "      <td>ул. Московская,16</td>\n",
       "      <td>220001</td>\n",
       "      <td>53.887919</td>\n",
       "      <td>27.538119</td>\n",
       "    </tr>\n",
       "    <tr>\n",
       "      <th>1</th>\n",
       "      <td>ул. Сторожевская, 8</td>\n",
       "      <td>220002</td>\n",
       "      <td>53.912949</td>\n",
       "      <td>27.555453</td>\n",
       "    </tr>\n",
       "    <tr>\n",
       "      <th>2</th>\n",
       "      <td>ул. Одинцова, 113</td>\n",
       "      <td>220003</td>\n",
       "      <td>53.900651</td>\n",
       "      <td>27.427532</td>\n",
       "    </tr>\n",
       "    <tr>\n",
       "      <th>3</th>\n",
       "      <td>ул. М.Танка,36, к.2,</td>\n",
       "      <td>220004</td>\n",
       "      <td>53.908628</td>\n",
       "      <td>27.529463</td>\n",
       "    </tr>\n",
       "    <tr>\n",
       "      <th>4</th>\n",
       "      <td>пр. Независимости, 46</td>\n",
       "      <td>220005</td>\n",
       "      <td>53.912815</td>\n",
       "      <td>27.580710</td>\n",
       "    </tr>\n",
       "  </tbody>\n",
       "</table>\n",
       "</div>"
      ],
      "text/plain": [
       "                 address  zip-code        lat        lng\n",
       "0      ул. Московская,16    220001  53.887919  27.538119\n",
       "1    ул. Сторожевская, 8    220002  53.912949  27.555453\n",
       "2      ул. Одинцова, 113    220003  53.900651  27.427532\n",
       "3   ул. М.Танка,36, к.2,    220004  53.908628  27.529463\n",
       "4  пр. Независимости, 46    220005  53.912815  27.580710"
      ]
     },
     "execution_count": 104,
     "metadata": {},
     "output_type": "execute_result"
    }
   ],
   "source": [
    "df_minsk.head()"
   ]
  },
  {
   "cell_type": "markdown",
   "metadata": {},
   "source": [
    "# Done"
   ]
  },
  {
   "cell_type": "code",
   "execution_count": null,
   "metadata": {},
   "outputs": [],
   "source": []
  }
 ],
 "metadata": {
  "kernelspec": {
   "display_name": "Python 3",
   "language": "python",
   "name": "python3"
  },
  "language_info": {
   "codemirror_mode": {
    "name": "ipython",
    "version": 3
   },
   "file_extension": ".py",
   "mimetype": "text/x-python",
   "name": "python",
   "nbconvert_exporter": "python",
   "pygments_lexer": "ipython3",
   "version": "3.7.3"
  },
  "pycharm": {
   "stem_cell": {
    "cell_type": "raw",
    "metadata": {
     "collapsed": false
    },
    "source": []
   }
  }
 },
 "nbformat": 4,
 "nbformat_minor": 4
}
