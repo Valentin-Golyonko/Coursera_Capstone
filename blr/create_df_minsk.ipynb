{
 "cells": [
  {
   "cell_type": "code",
   "execution_count": 83,
   "metadata": {},
   "outputs": [],
   "source": [
    "import os\n",
    "from collections import defaultdict\n",
    "from datetime import date\n",
    "\n",
    "import folium\n",
    "import matplotlib.cm as cm\n",
    "import matplotlib.colors as colors\n",
    "import numpy as np\n",
    "import pandas as pd\n",
    "import requests\n",
    "from bs4 import BeautifulSoup\n",
    "from dotenv import load_dotenv\n",
    "from geopy.geocoders import GoogleV3\n",
    "from sklearn.cluster import KMeans\n",
    "from IPython.display import Image"
   ]
  },
  {
   "cell_type": "code",
   "execution_count": 86,
   "metadata": {},
   "outputs": [],
   "source": [
    "load_dotenv()\n",
    "CLIENT_ID = os.environ.get('CLIENT_ID')\n",
    "CLIENT_SECRET = os.environ.get('CLIENT_SECRET')\n",
    "GOOGLE_GEO_API_KEY = os.environ.get('GOOGLE_GEO_API_KEY')"
   ]
  },
  {
   "cell_type": "markdown",
   "metadata": {},
   "source": [
    "# Load and save html with zip codes"
   ]
  },
  {
   "cell_type": "code",
   "execution_count": 3,
   "metadata": {},
   "outputs": [],
   "source": [
    "page_url = 'http://belpost.by/branch/post/otdeleniya-sviazi/'\n",
    "html_page_name = 'otdeleniya-sviazi.html'"
   ]
  },
  {
   "cell_type": "code",
   "execution_count": 4,
   "metadata": {},
   "outputs": [
    {
     "name": "stdout",
     "output_type": "stream",
     "text": [
      "Save source page to html file - done!\n"
     ]
    }
   ],
   "source": [
    "source_html = requests.get(page_url).text\n",
    "\n",
    "with open(html_page_name, 'w') as html_file:\n",
    "    html_file.write(source_html)\n",
    "\n",
    "print('Save source page to html file - done!')"
   ]
  },
  {
   "cell_type": "code",
   "execution_count": 5,
   "metadata": {},
   "outputs": [
    {
     "name": "stdout",
     "output_type": "stream",
     "text": [
      "soup is ready: Адреса и режим работы отделений почтовой связи (ОПС) и пунктов почтовой связи производства “Минская почта” - Белпочта\n"
     ]
    }
   ],
   "source": [
    "with open(html_page_name) as html_file:\n",
    "    soup = BeautifulSoup(html_file, 'html.parser')\n",
    "\n",
    "print('soup is ready:', soup.title.text)"
   ]
  },
  {
   "cell_type": "markdown",
   "metadata": {},
   "source": [
    "# Zip Code Parser "
   ]
  },
  {
   "cell_type": "code",
   "execution_count": 6,
   "metadata": {},
   "outputs": [
    {
     "data": {
      "text/plain": [
       "4"
      ]
     },
     "execution_count": 6,
     "metadata": {},
     "output_type": "execute_result"
    }
   ],
   "source": [
    "table_body = soup.find_all('table', attrs={'border': 1})\n",
    "len(table_body)"
   ]
  },
  {
   "cell_type": "code",
   "execution_count": 7,
   "metadata": {},
   "outputs": [],
   "source": [
    "all_table_rows = table_body[1].find_all('tr')"
   ]
  },
  {
   "cell_type": "code",
   "execution_count": 44,
   "metadata": {},
   "outputs": [
    {
     "name": "stdout",
     "output_type": "stream",
     "text": [
      "Exception in address_full: 'NoneType' object has no attribute 'contents' 0\n",
      "Exception in address_full: list index out of range 116\n",
      "errors: 2\n",
      "zip_codes_minsk_list: 125\n"
     ]
    }
   ],
   "source": [
    "error = 0\n",
    "zip_codes_minsk_list = []\n",
    "for i, row in enumerate(all_table_rows, 0):\n",
    "    cols_all = row.find_all('td')\n",
    "    try:\n",
    "        address_full = cols_all[1].find_all('div')\n",
    "        \n",
    "        if address_full and len(address_full) > 1:\n",
    "            \n",
    "            if len(address_full) > 1:\n",
    "                street = address_full[0].string\n",
    "                if not street:\n",
    "                    street = address_full[0].text\n",
    "                zip_code = (address_full[1].string)\n",
    "                if not zip_code:\n",
    "                    zip_code = address_full[1].text\n",
    "            else:\n",
    "                continue\n",
    "\n",
    "        elif not address_full or len(address_full) == 1:\n",
    "            some_content = cols_all[1].contents\n",
    "            if len(some_content) == 1:\n",
    "                some_content = cols_all[1].find('div').contents\n",
    "\n",
    "            address = [(q.string).replace('\\xa0', ' ').strip() \n",
    "                       for q in some_content if q.string]\n",
    "            \n",
    "            street = address[0]\n",
    "            zip_code = address[1]\n",
    "        else:\n",
    "            continue\n",
    "            \n",
    "        street = street.replace('\\xa0', ' ').strip()\n",
    "        zip_code = zip_code[:6]\n",
    "        \n",
    "        zip_codes_minsk_list.append([street, int(zip_code), 0.0, 0.0])\n",
    "        \n",
    "    except Exception as ex:\n",
    "        error += 1\n",
    "        print('Exception in address_full: %s' % ex, i)\n",
    "\n",
    "print('errors:', error)\n",
    "print('zip_codes_minsk_list:', len(zip_codes_minsk_list))"
   ]
  },
  {
   "cell_type": "markdown",
   "metadata": {},
   "source": [
    "# Create Pandas data frame"
   ]
  },
  {
   "cell_type": "code",
   "execution_count": 36,
   "metadata": {},
   "outputs": [],
   "source": [
    "pd_columns = ['address', 'zip-code', 'lat', 'lng']\n",
    "df_minsk = pd.DataFrame(data=zip_codes_minsk_list, columns=pd_columns)"
   ]
  },
  {
   "cell_type": "code",
   "execution_count": 37,
   "metadata": {},
   "outputs": [
    {
     "data": {
      "text/html": [
       "<div>\n",
       "<style scoped>\n",
       "    .dataframe tbody tr th:only-of-type {\n",
       "        vertical-align: middle;\n",
       "    }\n",
       "\n",
       "    .dataframe tbody tr th {\n",
       "        vertical-align: top;\n",
       "    }\n",
       "\n",
       "    .dataframe thead th {\n",
       "        text-align: right;\n",
       "    }\n",
       "</style>\n",
       "<table border=\"1\" class=\"dataframe\">\n",
       "  <thead>\n",
       "    <tr style=\"text-align: right;\">\n",
       "      <th></th>\n",
       "      <th>address</th>\n",
       "      <th>zip-code</th>\n",
       "      <th>lat</th>\n",
       "      <th>lng</th>\n",
       "    </tr>\n",
       "  </thead>\n",
       "  <tbody>\n",
       "    <tr>\n",
       "      <th>6</th>\n",
       "      <td>ул. Жуковского, 6, к.2</td>\n",
       "      <td>220007</td>\n",
       "      <td>0.0</td>\n",
       "      <td>0.0</td>\n",
       "    </tr>\n",
       "    <tr>\n",
       "      <th>7</th>\n",
       "      <td>ул. Жуковского, 6, к.2</td>\n",
       "      <td>220007</td>\n",
       "      <td>0.0</td>\n",
       "      <td>0.0</td>\n",
       "    </tr>\n",
       "    <tr>\n",
       "      <th>47</th>\n",
       "      <td>ул. Нестерова, 51</td>\n",
       "      <td>220047</td>\n",
       "      <td>0.0</td>\n",
       "      <td>0.0</td>\n",
       "    </tr>\n",
       "    <tr>\n",
       "      <th>48</th>\n",
       "      <td>ул. Нестерова, 51</td>\n",
       "      <td>220047</td>\n",
       "      <td>0.0</td>\n",
       "      <td>0.0</td>\n",
       "    </tr>\n",
       "    <tr>\n",
       "      <th>119</th>\n",
       "      <td>ул. Одинцова, 36,к.1</td>\n",
       "      <td>220136</td>\n",
       "      <td>0.0</td>\n",
       "      <td>0.0</td>\n",
       "    </tr>\n",
       "    <tr>\n",
       "      <th>120</th>\n",
       "      <td>ул. Одинцова, 36,к.1</td>\n",
       "      <td>220136</td>\n",
       "      <td>0.0</td>\n",
       "      <td>0.0</td>\n",
       "    </tr>\n",
       "  </tbody>\n",
       "</table>\n",
       "</div>"
      ],
      "text/plain": [
       "                    address  zip-code  lat  lng\n",
       "6    ул. Жуковского, 6, к.2    220007  0.0  0.0\n",
       "7    ул. Жуковского, 6, к.2    220007  0.0  0.0\n",
       "47        ул. Нестерова, 51    220047  0.0  0.0\n",
       "48        ул. Нестерова, 51    220047  0.0  0.0\n",
       "119    ул. Одинцова, 36,к.1    220136  0.0  0.0\n",
       "120    ул. Одинцова, 36,к.1    220136  0.0  0.0"
      ]
     },
     "execution_count": 37,
     "metadata": {},
     "output_type": "execute_result"
    }
   ],
   "source": [
    "zip_codes = df_minsk['zip-code']\n",
    "df_minsk[zip_codes.isin(zip_codes[zip_codes.duplicated()])]"
   ]
  },
  {
   "cell_type": "markdown",
   "metadata": {},
   "source": [
    "# delete repeated zip codes"
   ]
  },
  {
   "cell_type": "code",
   "execution_count": 38,
   "metadata": {},
   "outputs": [
    {
     "data": {
      "text/html": [
       "<div>\n",
       "<style scoped>\n",
       "    .dataframe tbody tr th:only-of-type {\n",
       "        vertical-align: middle;\n",
       "    }\n",
       "\n",
       "    .dataframe tbody tr th {\n",
       "        vertical-align: top;\n",
       "    }\n",
       "\n",
       "    .dataframe thead th {\n",
       "        text-align: right;\n",
       "    }\n",
       "</style>\n",
       "<table border=\"1\" class=\"dataframe\">\n",
       "  <thead>\n",
       "    <tr style=\"text-align: right;\">\n",
       "      <th></th>\n",
       "      <th>index</th>\n",
       "      <th>address</th>\n",
       "      <th>zip-code</th>\n",
       "      <th>lat</th>\n",
       "      <th>lng</th>\n",
       "    </tr>\n",
       "  </thead>\n",
       "  <tbody>\n",
       "    <tr>\n",
       "      <th>0</th>\n",
       "      <td>0</td>\n",
       "      <td>ул. Московская,16</td>\n",
       "      <td>220001</td>\n",
       "      <td>0.0</td>\n",
       "      <td>0.0</td>\n",
       "    </tr>\n",
       "    <tr>\n",
       "      <th>1</th>\n",
       "      <td>1</td>\n",
       "      <td>ул. Сторожевская, 8</td>\n",
       "      <td>220002</td>\n",
       "      <td>0.0</td>\n",
       "      <td>0.0</td>\n",
       "    </tr>\n",
       "    <tr>\n",
       "      <th>2</th>\n",
       "      <td>2</td>\n",
       "      <td>ул. Одинцова, 113</td>\n",
       "      <td>220003</td>\n",
       "      <td>0.0</td>\n",
       "      <td>0.0</td>\n",
       "    </tr>\n",
       "    <tr>\n",
       "      <th>3</th>\n",
       "      <td>3</td>\n",
       "      <td>ул. М.Танка,36, к.2,</td>\n",
       "      <td>220004</td>\n",
       "      <td>0.0</td>\n",
       "      <td>0.0</td>\n",
       "    </tr>\n",
       "    <tr>\n",
       "      <th>4</th>\n",
       "      <td>4</td>\n",
       "      <td>пр. Независимости, 46</td>\n",
       "      <td>220005</td>\n",
       "      <td>0.0</td>\n",
       "      <td>0.0</td>\n",
       "    </tr>\n",
       "  </tbody>\n",
       "</table>\n",
       "</div>"
      ],
      "text/plain": [
       "   index                address  zip-code  lat  lng\n",
       "0      0      ул. Московская,16    220001  0.0  0.0\n",
       "1      1    ул. Сторожевская, 8    220002  0.0  0.0\n",
       "2      2      ул. Одинцова, 113    220003  0.0  0.0\n",
       "3      3   ул. М.Танка,36, к.2,    220004  0.0  0.0\n",
       "4      4  пр. Независимости, 46    220005  0.0  0.0"
      ]
     },
     "execution_count": 38,
     "metadata": {},
     "output_type": "execute_result"
    }
   ],
   "source": [
    "df_minsk.sort_values('zip-code', inplace=True)\n",
    "df_minsk.drop_duplicates(subset='zip-code', inplace=True)\n",
    "df_minsk.reset_index(inplace=True)\n",
    "df_minsk.head()"
   ]
  },
  {
   "cell_type": "code",
   "execution_count": 39,
   "metadata": {},
   "outputs": [],
   "source": [
    "df_minsk.drop(columns=['index'], inplace=True)"
   ]
  },
  {
   "cell_type": "code",
   "execution_count": 40,
   "metadata": {},
   "outputs": [
    {
     "name": "stdout",
     "output_type": "stream",
     "text": [
      "122\n",
      "(122, 4)\n"
     ]
    }
   ],
   "source": [
    "print(len(df_minsk['zip-code'].unique()))\n",
    "print(df_minsk.shape)"
   ]
  },
  {
   "cell_type": "code",
   "execution_count": 41,
   "metadata": {},
   "outputs": [],
   "source": [
    "# df_minsk.to_csv('zip_codes_minsk_list.csv')"
   ]
  },
  {
   "cell_type": "code",
   "execution_count": 42,
   "metadata": {},
   "outputs": [
    {
     "data": {
      "text/html": [
       "<div>\n",
       "<style scoped>\n",
       "    .dataframe tbody tr th:only-of-type {\n",
       "        vertical-align: middle;\n",
       "    }\n",
       "\n",
       "    .dataframe tbody tr th {\n",
       "        vertical-align: top;\n",
       "    }\n",
       "\n",
       "    .dataframe thead th {\n",
       "        text-align: right;\n",
       "    }\n",
       "</style>\n",
       "<table border=\"1\" class=\"dataframe\">\n",
       "  <thead>\n",
       "    <tr style=\"text-align: right;\">\n",
       "      <th></th>\n",
       "      <th>address</th>\n",
       "      <th>zip-code</th>\n",
       "      <th>lat</th>\n",
       "      <th>lng</th>\n",
       "    </tr>\n",
       "  </thead>\n",
       "  <tbody>\n",
       "    <tr>\n",
       "      <th>0</th>\n",
       "      <td>ул. Московская,16</td>\n",
       "      <td>220001</td>\n",
       "      <td>0.0</td>\n",
       "      <td>0.0</td>\n",
       "    </tr>\n",
       "    <tr>\n",
       "      <th>1</th>\n",
       "      <td>ул. Сторожевская, 8</td>\n",
       "      <td>220002</td>\n",
       "      <td>0.0</td>\n",
       "      <td>0.0</td>\n",
       "    </tr>\n",
       "    <tr>\n",
       "      <th>2</th>\n",
       "      <td>ул. Одинцова, 113</td>\n",
       "      <td>220003</td>\n",
       "      <td>0.0</td>\n",
       "      <td>0.0</td>\n",
       "    </tr>\n",
       "    <tr>\n",
       "      <th>3</th>\n",
       "      <td>ул. М.Танка,36, к.2,</td>\n",
       "      <td>220004</td>\n",
       "      <td>0.0</td>\n",
       "      <td>0.0</td>\n",
       "    </tr>\n",
       "    <tr>\n",
       "      <th>4</th>\n",
       "      <td>пр. Независимости, 46</td>\n",
       "      <td>220005</td>\n",
       "      <td>0.0</td>\n",
       "      <td>0.0</td>\n",
       "    </tr>\n",
       "  </tbody>\n",
       "</table>\n",
       "</div>"
      ],
      "text/plain": [
       "                 address  zip-code  lat  lng\n",
       "0      ул. Московская,16    220001  0.0  0.0\n",
       "1    ул. Сторожевская, 8    220002  0.0  0.0\n",
       "2      ул. Одинцова, 113    220003  0.0  0.0\n",
       "3   ул. М.Танка,36, к.2,    220004  0.0  0.0\n",
       "4  пр. Независимости, 46    220005  0.0  0.0"
      ]
     },
     "execution_count": 42,
     "metadata": {},
     "output_type": "execute_result"
    }
   ],
   "source": [
    "df_minsk.head()"
   ]
  },
  {
   "cell_type": "markdown",
   "metadata": {},
   "source": [
    "# Find coordinates for all zip codes from Google Geo API"
   ]
  },
  {
   "cell_type": "code",
   "execution_count": 100,
   "metadata": {},
   "outputs": [
    {
     "name": "stdout",
     "output_type": "stream",
     "text": [
      "0 53.887919 27.5381191\n",
      "1 53.9129489 27.5554527\n",
      "2 53.9006514 27.4275318\n",
      "3 53.9086282 27.5294632\n",
      "4 53.91281499999999 27.5807098\n",
      "5 53.8835694 27.5664649\n",
      "6 53.88244659999999 27.5497952\n",
      "7 53.8999924 27.5586274\n",
      "8 53.8899568 27.6112189\n",
      "9 53.896201 27.5448597\n",
      "10 53.8906326 27.550621\n",
      "11 53.9238362 27.6102492\n",
      "12 53.9242816 27.5911224\n",
      "13 53.8670165 27.5112945\n",
      "14 53.8970339 27.4914757\n",
      "15 53.9003685 27.5644425\n",
      "16 53.9144154 27.4348301\n",
      "17 53.8971674 27.4521196\n",
      "18 53.8822002 27.4324538\n",
      "19 53.9311816 27.490671\n",
      "20 53.8693841 27.650115\n",
      "21 53.8829154 27.4395681\n",
      "22 53.9280942 27.626541\n",
      "23 53.8509136 27.5456794\n",
      "24 53.8495964 27.4652115\n",
      "25 53.8696759 27.6269446\n",
      "26 53.8606217 27.4979263\n",
      "27 53.8633581 27.5708799\n",
      "28 53.91166639999999 27.5651746\n",
      "29 53.8989762 27.5635574\n",
      "30 53.9364251 27.7200152\n",
      "31 53.922778 27.636838\n",
      "32 53.8849653 27.5943195\n",
      "33 53.90838249999999 27.5817171\n",
      "34 53.9180661 27.529327\n",
      "35 53.8950403 27.5203662\n",
      "36 53.9023605 27.6171665\n",
      "37 53.90108129999999 27.6015507\n",
      "38 53.8767896 27.5316228\n",
      "39 53.9325491 27.588974\n",
      "40 53.8653621 27.4531202\n",
      "41 53.85964560000001 27.4819672\n",
      "42 53.925901 27.6166866\n",
      "43 53.8769185 27.9023403\n",
      "44 53.8437194 27.4815971\n",
      "45 53.8991201 27.6495517\n",
      "46 53.8847108 27.6832536\n",
      "47 53.904034 27.5440831\n",
      "48 53.9351814 27.6137549\n",
      "49 53.8597499 27.4377264\n",
      "50 53.8800006 27.4850347\n",
      "51 53.9280284 27.5449867\n",
      "52 53.88920299999999 28.0342349\n",
      "53 53.9232234 27.4425548\n",
      "54 53.9483484 27.70841\n",
      "55 53.95884419999999 27.7392823\n",
      "56 53.9277112 27.4327966\n",
      "57 53.8899465 27.4157998\n",
      "58 53.8891603 27.5511594\n",
      "59 53.91109290000001 27.4152788\n",
      "60 53.938932 27.4705863\n",
      "61 53.91415379999999 27.4260906\n",
      "62 53.84221609999999 27.493085\n",
      "63 53.8732942 27.5382427\n",
      "64 53.8408836 27.6308312\n",
      "65 53.846539 27.56296\n",
      "66 53.92849769999999 27.5548442\n",
      "67 53.8886185 27.5209116\n",
      "68 53.8819228 27.6121992\n",
      "69 53.9117659 27.5879681\n",
      "70 53.9197326 27.5981927\n",
      "71 53.9137108 27.5043933\n",
      "72 53.8988263 27.5060711\n",
      "73 53.84253260000001 27.700881\n",
      "74 53.8369855 27.6223192\n",
      "75 53.8735393 27.4418273\n",
      "76 53.9082458 27.5138828\n",
      "77 53.9117454 27.4892871\n",
      "78 53.8582219 27.6151604\n",
      "79 53.9387814 27.6420066\n",
      "80 53.897742 27.5794415\n",
      "81 53.8800006 27.4850347\n",
      "82 53.9527854 27.6175073\n",
      "83 53.9054632 27.4973685\n",
      "84 53.9205461 27.4929214\n",
      "85 53.8704374 27.6026935\n",
      "86 53.8632962 27.587141\n",
      "87 53.8387407 27.6472342\n",
      "88 53.860778 27.4299776\n",
      "89 53.8557354 27.5202933\n",
      "90 53.92825999999999 27.5745222\n",
      "91 53.850789 27.606042\n",
      "92 53.8649277 27.6663266\n",
      "93 53.9472118 27.6290917\n",
      "94 53.9209063 27.4795343\n",
      "95 53.8768551 27.6185083\n",
      "96 53.846514 27.5007829\n",
      "97 53.8256279 27.7649054\n",
      "98 53.8669422 27.6039403\n",
      "99 53.8383575 27.56827\n",
      "100 53.9404961 27.6055473\n",
      "101 53.9324988 27.6438935\n",
      "102 53.84474849999999 27.5342024\n",
      "103 53.8676745 27.4839817\n",
      "104 53.85846549999999 27.4632588\n",
      "105 53.85871599999999 27.6335995\n",
      "106 53.9540306 27.6321441\n",
      "107 53.8426493 27.5040468\n",
      "108 53.9089266 27.4732373\n",
      "109 53.9191103 27.5650567\n",
      "110 53.9290607 27.4737327\n",
      "111 53.9484225 27.6717844\n",
      "112 53.9110218 27.545203\n",
      "113 53.8432922 27.5157416\n",
      "114 53.9273803 27.4814039\n",
      "115 53.958658 27.6050216\n",
      "116 53.9035861 27.4550203\n",
      "117 53.9008771 27.4358275\n",
      "118 53.8798824 27.6690942\n",
      "119 53.912468 27.6782432\n",
      "120 53.9070955 27.4461731\n",
      "121 53.9386772 27.6846188\n"
     ]
    }
   ],
   "source": [
    "for i in range(df_minsk.shape[0]):\n",
    "    try:\n",
    "        address = df_minsk.iloc[i, 0] + ', Minsk'\n",
    "        \n",
    "        google_location = GoogleV3(api_key=GOOGLE_GEO_API_KEY)\n",
    "        coords = google_location.geocode(address)\n",
    "        \n",
    "        df_minsk.iloc[i, 2:4] = float(coords.latitude), float(coords.longitude)\n",
    "\n",
    "        print(i, coords.latitude, coords.longitude)\n",
    "    except Exception as ex:\n",
    "        print('Exception in google_location: %s' % ex)"
   ]
  },
  {
   "cell_type": "code",
   "execution_count": 101,
   "metadata": {},
   "outputs": [
    {
     "data": {
      "text/plain": [
       "address     0\n",
       "zip-code    0\n",
       "lat         0\n",
       "lng         0\n",
       "dtype: int64"
      ]
     },
     "execution_count": 101,
     "metadata": {},
     "output_type": "execute_result"
    }
   ],
   "source": [
    "df_minsk.isnull().sum()"
   ]
  },
  {
   "cell_type": "code",
   "execution_count": 102,
   "metadata": {},
   "outputs": [
    {
     "data": {
      "text/plain": [
       "False"
      ]
     },
     "execution_count": 102,
     "metadata": {},
     "output_type": "execute_result"
    }
   ],
   "source": [
    "0.0 in df_minsk.values"
   ]
  },
  {
   "cell_type": "code",
   "execution_count": 103,
   "metadata": {},
   "outputs": [],
   "source": [
    "df_minsk.to_csv('zip_codes_minsk_list.csv')"
   ]
  },
  {
   "cell_type": "code",
   "execution_count": null,
   "metadata": {},
   "outputs": [],
   "source": []
  }
 ],
 "metadata": {
  "kernelspec": {
   "display_name": "Python 3",
   "language": "python",
   "name": "python3"
  },
  "language_info": {
   "codemirror_mode": {
    "name": "ipython",
    "version": 3
   },
   "file_extension": ".py",
   "mimetype": "text/x-python",
   "name": "python",
   "nbconvert_exporter": "python",
   "pygments_lexer": "ipython3",
   "version": "3.7.3"
  }
 },
 "nbformat": 4,
 "nbformat_minor": 4
}
