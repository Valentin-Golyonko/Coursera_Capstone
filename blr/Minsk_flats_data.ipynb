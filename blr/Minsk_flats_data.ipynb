{
 "cells": [
  {
   "cell_type": "code",
   "execution_count": 1,
   "metadata": {},
   "outputs": [],
   "source": [
    "import os\n",
    "\n",
    "import pandas as pd\n",
    "import requests\n",
    "from bs4 import BeautifulSoup\n",
    "from dotenv import load_dotenv\n",
    "from geopy.geocoders import GoogleV3"
   ]
  },
  {
   "cell_type": "code",
   "execution_count": 2,
   "metadata": {},
   "outputs": [],
   "source": [
    "load_dotenv()\n",
    "GOOGLE_GEO_API_KEY = os.environ.get('GOOGLE_GEO_API_KEY')"
   ]
  },
  {
   "cell_type": "code",
   "execution_count": 3,
   "metadata": {},
   "outputs": [],
   "source": [
    "def find_flat_in_minsk() -> list:\n",
    "    _flats = []\n",
    "\n",
    "    for page_number in range(1, 26):\n",
    "        html_page_name = 'flat/%s.html' % page_number\n",
    "        with open(html_page_name) as html_file:\n",
    "            soup = BeautifulSoup(html_file, 'html.parser')\n",
    "\n",
    "        prices = soup.find_all('span', attrs={'data-bind': \"text: SearchApartments.formatPrice(apartment.price, 'USD')\"})\n",
    "\n",
    "        flats = soup.find_all('span', attrs={'class': 'classified__caption-item classified__caption-item_type', \n",
    "                                             'data-bind': 'text: SearchApartments.formatRentType(apartment.rent_type)'})\n",
    "\n",
    "        addresses = soup.find_all('span', attrs={'class': 'classified__caption-item classified__caption-item_adress', \n",
    "                                                 'data-bind': 'text: apartment.location.user_address'})\n",
    "\n",
    "        # print(page_number, '| prices:', len(prices), ', flats:', len(flats), ', addresses', len(addresses), '\\n')\n",
    "\n",
    "        for price, flat_size, address in zip(prices, flats, addresses):\n",
    "            pr = int(price.text)\n",
    "            fs = flat_size.text\n",
    "            if fs == 'Комната':\n",
    "                fs = 0.5\n",
    "            else:\n",
    "                fs = int(fs[0])\n",
    "\n",
    "            ads = address.text\n",
    "\n",
    "            _flats.append([pr, fs, ads])\n",
    "    \n",
    "    return _flats"
   ]
  },
  {
   "cell_type": "code",
   "execution_count": 4,
   "metadata": {},
   "outputs": [
    {
     "name": "stdout",
     "output_type": "stream",
     "text": [
      "Now avalible 900 flats in Minsk\n"
     ]
    },
    {
     "data": {
      "text/plain": [
       "[[295, 1, 'Чернышевского, 7'],\n",
       " [900, 4, 'Калинина, 7А'],\n",
       " [470, 2, 'Мельникайте, 16'],\n",
       " [380, 1, 'Академика Фёдорова, 3'],\n",
       " [300, 2, 'Волоха, 7 к1']]"
      ]
     },
     "execution_count": 4,
     "metadata": {},
     "output_type": "execute_result"
    }
   ],
   "source": [
    "minsk_flats = find_flat_in_minsk()\n",
    "print('Now avalible', len(minsk_flats), 'flats in Minsk')\n",
    "minsk_flats[:5]"
   ]
  },
  {
   "cell_type": "code",
   "execution_count": 5,
   "metadata": {},
   "outputs": [],
   "source": [
    "def find_coords(flat_list: list):\n",
    "    for flat in flat_list:\n",
    "        try:\n",
    "            address = flat[2] + ', Minsk'\n",
    "            google_geo = GoogleV3(api_key=GOOGLE_GEO_API_KEY)\n",
    "            coords = google_geo.geocode(address)\n",
    "\n",
    "            lat = round(float(coords.latitude), 7)\n",
    "            lng = round(float(coords.longitude), 7)\n",
    "\n",
    "            flat.append(lat)\n",
    "            flat.append(lng)\n",
    "            # print(lat, lng)\n",
    "        except Exception as ex:\n",
    "            print('Exception in google_location: %s' % ex)"
   ]
  },
  {
   "cell_type": "code",
   "execution_count": 6,
   "metadata": {},
   "outputs": [],
   "source": [
    "# find_coords(minsk_flats)"
   ]
  },
  {
   "cell_type": "code",
   "execution_count": 7,
   "metadata": {},
   "outputs": [
    {
     "data": {
      "text/plain": [
       "[[295, 1, 'Чернышевского, 7', 53.9269839, 27.6004055],\n",
       " [900, 4, 'Калинина, 7А', 53.9264201, 27.6057458],\n",
       " [470, 2, 'Мельникайте, 16', 53.9096188, 27.5449777],\n",
       " [380, 1, 'Академика Фёдорова, 3', 53.8729582, 27.6332679],\n",
       " [300, 2, 'Волоха, 7 к1', 53.8969071, 27.5218413]]"
      ]
     },
     "execution_count": 7,
     "metadata": {},
     "output_type": "execute_result"
    }
   ],
   "source": [
    "minsk_flats[:5]"
   ]
  },
  {
   "cell_type": "code",
   "execution_count": 8,
   "metadata": {},
   "outputs": [
    {
     "data": {
      "text/html": [
       "<div>\n",
       "<style scoped>\n",
       "    .dataframe tbody tr th:only-of-type {\n",
       "        vertical-align: middle;\n",
       "    }\n",
       "\n",
       "    .dataframe tbody tr th {\n",
       "        vertical-align: top;\n",
       "    }\n",
       "\n",
       "    .dataframe thead th {\n",
       "        text-align: right;\n",
       "    }\n",
       "</style>\n",
       "<table border=\"1\" class=\"dataframe\">\n",
       "  <thead>\n",
       "    <tr style=\"text-align: right;\">\n",
       "      <th></th>\n",
       "      <th>price</th>\n",
       "      <th>flat-size</th>\n",
       "      <th>address</th>\n",
       "      <th>lat</th>\n",
       "      <th>lng</th>\n",
       "    </tr>\n",
       "  </thead>\n",
       "  <tbody>\n",
       "    <tr>\n",
       "      <th>0</th>\n",
       "      <td>295</td>\n",
       "      <td>1.0</td>\n",
       "      <td>Чернышевского, 7</td>\n",
       "      <td>53.926984</td>\n",
       "      <td>27.600406</td>\n",
       "    </tr>\n",
       "    <tr>\n",
       "      <th>1</th>\n",
       "      <td>900</td>\n",
       "      <td>4.0</td>\n",
       "      <td>Калинина, 7А</td>\n",
       "      <td>53.926420</td>\n",
       "      <td>27.605746</td>\n",
       "    </tr>\n",
       "    <tr>\n",
       "      <th>2</th>\n",
       "      <td>470</td>\n",
       "      <td>2.0</td>\n",
       "      <td>Мельникайте, 16</td>\n",
       "      <td>53.909619</td>\n",
       "      <td>27.544978</td>\n",
       "    </tr>\n",
       "    <tr>\n",
       "      <th>3</th>\n",
       "      <td>380</td>\n",
       "      <td>1.0</td>\n",
       "      <td>Академика Фёдорова, 3</td>\n",
       "      <td>53.872958</td>\n",
       "      <td>27.633268</td>\n",
       "    </tr>\n",
       "    <tr>\n",
       "      <th>4</th>\n",
       "      <td>300</td>\n",
       "      <td>2.0</td>\n",
       "      <td>Волоха, 7 к1</td>\n",
       "      <td>53.896907</td>\n",
       "      <td>27.521841</td>\n",
       "    </tr>\n",
       "  </tbody>\n",
       "</table>\n",
       "</div>"
      ],
      "text/plain": [
       "   price  flat-size                address        lat        lng\n",
       "0    295        1.0       Чернышевского, 7  53.926984  27.600406\n",
       "1    900        4.0           Калинина, 7А  53.926420  27.605746\n",
       "2    470        2.0        Мельникайте, 16  53.909619  27.544978\n",
       "3    380        1.0  Академика Фёдорова, 3  53.872958  27.633268\n",
       "4    300        2.0           Волоха, 7 к1  53.896907  27.521841"
      ]
     },
     "execution_count": 8,
     "metadata": {},
     "output_type": "execute_result"
    }
   ],
   "source": [
    "columns = ['price', 'flat-size', 'address', 'lat', 'lng']\n",
    "df_flats = pd.DataFrame(data=minsk_flats, columns=columns)\n",
    "df_flats.head()"
   ]
  },
  {
   "cell_type": "code",
   "execution_count": 9,
   "metadata": {},
   "outputs": [],
   "source": [
    "# df_flats.to_csv('minsk_flats.csv')"
   ]
  },
  {
   "cell_type": "code",
   "execution_count": 12,
   "metadata": {},
   "outputs": [
    {
     "name": "stdout",
     "output_type": "stream",
     "text": [
      "(900, 5)\n"
     ]
    },
    {
     "data": {
      "text/html": [
       "<div>\n",
       "<style scoped>\n",
       "    .dataframe tbody tr th:only-of-type {\n",
       "        vertical-align: middle;\n",
       "    }\n",
       "\n",
       "    .dataframe tbody tr th {\n",
       "        vertical-align: top;\n",
       "    }\n",
       "\n",
       "    .dataframe thead th {\n",
       "        text-align: right;\n",
       "    }\n",
       "</style>\n",
       "<table border=\"1\" class=\"dataframe\">\n",
       "  <thead>\n",
       "    <tr style=\"text-align: right;\">\n",
       "      <th></th>\n",
       "      <th>price</th>\n",
       "      <th>flat-size</th>\n",
       "      <th>address</th>\n",
       "      <th>lat</th>\n",
       "      <th>lng</th>\n",
       "    </tr>\n",
       "  </thead>\n",
       "  <tbody>\n",
       "    <tr>\n",
       "      <th>0</th>\n",
       "      <td>295</td>\n",
       "      <td>1.0</td>\n",
       "      <td>Чернышевского, 7</td>\n",
       "      <td>53.926984</td>\n",
       "      <td>27.600406</td>\n",
       "    </tr>\n",
       "    <tr>\n",
       "      <th>1</th>\n",
       "      <td>900</td>\n",
       "      <td>4.0</td>\n",
       "      <td>Калинина, 7А</td>\n",
       "      <td>53.926420</td>\n",
       "      <td>27.605746</td>\n",
       "    </tr>\n",
       "    <tr>\n",
       "      <th>2</th>\n",
       "      <td>470</td>\n",
       "      <td>2.0</td>\n",
       "      <td>Мельникайте, 16</td>\n",
       "      <td>53.909619</td>\n",
       "      <td>27.544978</td>\n",
       "    </tr>\n",
       "    <tr>\n",
       "      <th>3</th>\n",
       "      <td>380</td>\n",
       "      <td>1.0</td>\n",
       "      <td>Академика Фёдорова, 3</td>\n",
       "      <td>53.872958</td>\n",
       "      <td>27.633268</td>\n",
       "    </tr>\n",
       "    <tr>\n",
       "      <th>4</th>\n",
       "      <td>300</td>\n",
       "      <td>2.0</td>\n",
       "      <td>Волоха, 7 к1</td>\n",
       "      <td>53.896907</td>\n",
       "      <td>27.521841</td>\n",
       "    </tr>\n",
       "  </tbody>\n",
       "</table>\n",
       "</div>"
      ],
      "text/plain": [
       "   price  flat-size                address        lat        lng\n",
       "0    295        1.0       Чернышевского, 7  53.926984  27.600406\n",
       "1    900        4.0           Калинина, 7А  53.926420  27.605746\n",
       "2    470        2.0        Мельникайте, 16  53.909619  27.544978\n",
       "3    380        1.0  Академика Фёдорова, 3  53.872958  27.633268\n",
       "4    300        2.0           Волоха, 7 к1  53.896907  27.521841"
      ]
     },
     "execution_count": 12,
     "metadata": {},
     "output_type": "execute_result"
    }
   ],
   "source": [
    "df_flats = pd.read_csv('minsk_flats.csv')\n",
    "df_flats.drop(columns=['Unnamed: 0'], axis=1, inplace=True)\n",
    "print(df_flats.shape)\n",
    "df_flats.head()"
   ]
  },
  {
   "cell_type": "code",
   "execution_count": null,
   "metadata": {},
   "outputs": [],
   "source": []
  }
 ],
 "metadata": {
  "kernelspec": {
   "display_name": "Python 3",
   "language": "python",
   "name": "python3"
  },
  "language_info": {
   "codemirror_mode": {
    "name": "ipython",
    "version": 3
   },
   "file_extension": ".py",
   "mimetype": "text/x-python",
   "name": "python",
   "nbconvert_exporter": "python",
   "pygments_lexer": "ipython3",
   "version": "3.7.3"
  }
 },
 "nbformat": 4,
 "nbformat_minor": 4
}
