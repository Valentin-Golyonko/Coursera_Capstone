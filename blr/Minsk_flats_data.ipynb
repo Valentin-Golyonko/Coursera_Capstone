{
 "cells": [
  {
   "cell_type": "code",
   "execution_count": 140,
   "metadata": {},
   "outputs": [],
   "source": [
    "import os\n",
    "\n",
    "import pandas as pd\n",
    "import requests\n",
    "from bs4 import BeautifulSoup\n",
    "from dotenv import load_dotenv\n",
    "from geopy.geocoders import GoogleV3, Nominatim\n",
    "import folium\n",
    "import geojson\n",
    "import numpy as np\n",
    "from shapely.geometry import shape, Point"
   ]
  },
  {
   "cell_type": "code",
   "execution_count": 8,
   "metadata": {},
   "outputs": [],
   "source": [
    "load_dotenv()\n",
    "GOOGLE_GEO_API_KEY = os.environ.get('GOOGLE_GEO_API_KEY')"
   ]
  },
  {
   "cell_type": "markdown",
   "metadata": {},
   "source": [
    "## Parse flat price, size, address from saved html pages"
   ]
  },
  {
   "cell_type": "code",
   "execution_count": 9,
   "metadata": {},
   "outputs": [],
   "source": [
    "def find_flat_in_minsk() -> list:\n",
    "    _flats = []\n",
    "\n",
    "    for page_number in range(1, 26):\n",
    "        html_page_name = 'flat/%s.html' % page_number\n",
    "        with open(html_page_name) as html_file:\n",
    "            soup = BeautifulSoup(html_file, 'html.parser')\n",
    "\n",
    "        prices = soup.find_all('span', attrs={'data-bind': \"text: SearchApartments.formatPrice(apartment.price, 'USD')\"})\n",
    "\n",
    "        flats = soup.find_all('span', attrs={'class': 'classified__caption-item classified__caption-item_type', \n",
    "                                             'data-bind': 'text: SearchApartments.formatRentType(apartment.rent_type)'})\n",
    "\n",
    "        addresses = soup.find_all('span', attrs={'class': 'classified__caption-item classified__caption-item_adress', \n",
    "                                                 'data-bind': 'text: apartment.location.user_address'})\n",
    "\n",
    "        # print(page_number, '| prices:', len(prices), ', flats:', len(flats), ', addresses', len(addresses), '\\n')\n",
    "\n",
    "        for price, flat_size, address in zip(prices, flats, addresses):\n",
    "            pr = int(price.text)\n",
    "            fs = flat_size.text\n",
    "            if fs == 'Комната':\n",
    "                fs = 0.5\n",
    "            else:\n",
    "                fs = int(fs[0])\n",
    "\n",
    "            ads = address.text\n",
    "\n",
    "            _flats.append([pr, fs, ads])\n",
    "    \n",
    "    return _flats"
   ]
  },
  {
   "cell_type": "code",
   "execution_count": 158,
   "metadata": {},
   "outputs": [],
   "source": [
    "# minsk_flats = find_flat_in_minsk()\n",
    "# print('Now avalible', len(minsk_flats), 'flats in Minsk')\n",
    "# minsk_flats[:5]"
   ]
  },
  {
   "cell_type": "markdown",
   "metadata": {},
   "source": [
    "## Find coordinates for each flat with Google GEO API, and add them to the list (minsk_flats)"
   ]
  },
  {
   "cell_type": "code",
   "execution_count": 160,
   "metadata": {},
   "outputs": [],
   "source": [
    "def find_coords(flat_list: list):\n",
    "    for flat in flat_list:\n",
    "        try:\n",
    "            address = flat[2] + ', Minsk'\n",
    "            google_geo = GoogleV3(api_key=GOOGLE_GEO_API_KEY)\n",
    "            coords = google_geo.geocode(address)\n",
    "\n",
    "            lat = round(float(coords.latitude), 7)\n",
    "            lng = round(float(coords.longitude), 7)\n",
    "\n",
    "            flat.append(lat)\n",
    "            flat.append(lng)\n",
    "            # print(lat, lng)\n",
    "        except Exception as ex:\n",
    "            print('Exception in google_location: %s' % ex)"
   ]
  },
  {
   "cell_type": "code",
   "execution_count": 161,
   "metadata": {},
   "outputs": [],
   "source": [
    "# find_coords(minsk_flats)\n",
    "# minsk_flats[:5]"
   ]
  },
  {
   "cell_type": "markdown",
   "metadata": {},
   "source": [
    "## Save parsed data to csv"
   ]
  },
  {
   "cell_type": "code",
   "execution_count": 159,
   "metadata": {},
   "outputs": [],
   "source": [
    "# columns = ['price', 'flat-size', 'address', 'lat', 'lng']\n",
    "# df_flats = pd.DataFrame(data=minsk_flats, columns=columns)\n",
    "# df_flats.head()"
   ]
  },
  {
   "cell_type": "code",
   "execution_count": 157,
   "metadata": {},
   "outputs": [],
   "source": [
    "# df_flats.to_csv('minsk_flats.csv')"
   ]
  },
  {
   "cell_type": "markdown",
   "metadata": {},
   "source": [
    "### open csv"
   ]
  },
  {
   "cell_type": "code",
   "execution_count": 199,
   "metadata": {},
   "outputs": [
    {
     "name": "stdout",
     "output_type": "stream",
     "text": [
      "(900, 5)\n"
     ]
    },
    {
     "data": {
      "text/html": [
       "<div>\n",
       "<style scoped>\n",
       "    .dataframe tbody tr th:only-of-type {\n",
       "        vertical-align: middle;\n",
       "    }\n",
       "\n",
       "    .dataframe tbody tr th {\n",
       "        vertical-align: top;\n",
       "    }\n",
       "\n",
       "    .dataframe thead th {\n",
       "        text-align: right;\n",
       "    }\n",
       "</style>\n",
       "<table border=\"1\" class=\"dataframe\">\n",
       "  <thead>\n",
       "    <tr style=\"text-align: right;\">\n",
       "      <th></th>\n",
       "      <th>price</th>\n",
       "      <th>flat-size</th>\n",
       "      <th>address</th>\n",
       "      <th>lat</th>\n",
       "      <th>lng</th>\n",
       "    </tr>\n",
       "  </thead>\n",
       "  <tbody>\n",
       "    <tr>\n",
       "      <th>0</th>\n",
       "      <td>295</td>\n",
       "      <td>1.0</td>\n",
       "      <td>Чернышевского, 7</td>\n",
       "      <td>53.926984</td>\n",
       "      <td>27.600406</td>\n",
       "    </tr>\n",
       "    <tr>\n",
       "      <th>1</th>\n",
       "      <td>900</td>\n",
       "      <td>4.0</td>\n",
       "      <td>Калинина, 7А</td>\n",
       "      <td>53.926420</td>\n",
       "      <td>27.605746</td>\n",
       "    </tr>\n",
       "    <tr>\n",
       "      <th>2</th>\n",
       "      <td>470</td>\n",
       "      <td>2.0</td>\n",
       "      <td>Мельникайте, 16</td>\n",
       "      <td>53.909619</td>\n",
       "      <td>27.544978</td>\n",
       "    </tr>\n",
       "    <tr>\n",
       "      <th>3</th>\n",
       "      <td>380</td>\n",
       "      <td>1.0</td>\n",
       "      <td>Академика Фёдорова, 3</td>\n",
       "      <td>53.872958</td>\n",
       "      <td>27.633268</td>\n",
       "    </tr>\n",
       "    <tr>\n",
       "      <th>4</th>\n",
       "      <td>300</td>\n",
       "      <td>2.0</td>\n",
       "      <td>Волоха, 7 к1</td>\n",
       "      <td>53.896907</td>\n",
       "      <td>27.521841</td>\n",
       "    </tr>\n",
       "  </tbody>\n",
       "</table>\n",
       "</div>"
      ],
      "text/plain": [
       "   price  flat-size                address        lat        lng\n",
       "0    295        1.0       Чернышевского, 7  53.926984  27.600406\n",
       "1    900        4.0           Калинина, 7А  53.926420  27.605746\n",
       "2    470        2.0        Мельникайте, 16  53.909619  27.544978\n",
       "3    380        1.0  Академика Фёдорова, 3  53.872958  27.633268\n",
       "4    300        2.0           Волоха, 7 к1  53.896907  27.521841"
      ]
     },
     "execution_count": 199,
     "metadata": {},
     "output_type": "execute_result"
    }
   ],
   "source": [
    "df_flats = pd.read_csv('minsk_flats.csv')\n",
    "df_flats.drop(columns=['Unnamed: 0'], axis=1, inplace=True)\n",
    "print(df_flats.shape)\n",
    "df_flats.head()"
   ]
  },
  {
   "cell_type": "markdown",
   "metadata": {},
   "source": [
    "## for df_flats add 1 column 'aria'"
   ]
  },
  {
   "cell_type": "code",
   "execution_count": 207,
   "metadata": {},
   "outputs": [
    {
     "data": {
      "text/plain": [
       "900"
      ]
     },
     "execution_count": 207,
     "metadata": {},
     "output_type": "execute_result"
    }
   ],
   "source": [
    "len_df_flats = df_flats.shape[0]\n",
    "len_df_flats"
   ]
  },
  {
   "cell_type": "code",
   "execution_count": 201,
   "metadata": {},
   "outputs": [
    {
     "data": {
      "text/html": [
       "<div>\n",
       "<style scoped>\n",
       "    .dataframe tbody tr th:only-of-type {\n",
       "        vertical-align: middle;\n",
       "    }\n",
       "\n",
       "    .dataframe tbody tr th {\n",
       "        vertical-align: top;\n",
       "    }\n",
       "\n",
       "    .dataframe thead th {\n",
       "        text-align: right;\n",
       "    }\n",
       "</style>\n",
       "<table border=\"1\" class=\"dataframe\">\n",
       "  <thead>\n",
       "    <tr style=\"text-align: right;\">\n",
       "      <th></th>\n",
       "      <th>price</th>\n",
       "      <th>flat-size</th>\n",
       "      <th>address</th>\n",
       "      <th>lat</th>\n",
       "      <th>lng</th>\n",
       "      <th>area</th>\n",
       "    </tr>\n",
       "  </thead>\n",
       "  <tbody>\n",
       "    <tr>\n",
       "      <th>0</th>\n",
       "      <td>295</td>\n",
       "      <td>1.0</td>\n",
       "      <td>Чернышевского, 7</td>\n",
       "      <td>53.926984</td>\n",
       "      <td>27.600406</td>\n",
       "      <td>None</td>\n",
       "    </tr>\n",
       "    <tr>\n",
       "      <th>1</th>\n",
       "      <td>900</td>\n",
       "      <td>4.0</td>\n",
       "      <td>Калинина, 7А</td>\n",
       "      <td>53.926420</td>\n",
       "      <td>27.605746</td>\n",
       "      <td>None</td>\n",
       "    </tr>\n",
       "    <tr>\n",
       "      <th>2</th>\n",
       "      <td>470</td>\n",
       "      <td>2.0</td>\n",
       "      <td>Мельникайте, 16</td>\n",
       "      <td>53.909619</td>\n",
       "      <td>27.544978</td>\n",
       "      <td>None</td>\n",
       "    </tr>\n",
       "    <tr>\n",
       "      <th>3</th>\n",
       "      <td>380</td>\n",
       "      <td>1.0</td>\n",
       "      <td>Академика Фёдорова, 3</td>\n",
       "      <td>53.872958</td>\n",
       "      <td>27.633268</td>\n",
       "      <td>None</td>\n",
       "    </tr>\n",
       "    <tr>\n",
       "      <th>4</th>\n",
       "      <td>300</td>\n",
       "      <td>2.0</td>\n",
       "      <td>Волоха, 7 к1</td>\n",
       "      <td>53.896907</td>\n",
       "      <td>27.521841</td>\n",
       "      <td>None</td>\n",
       "    </tr>\n",
       "  </tbody>\n",
       "</table>\n",
       "</div>"
      ],
      "text/plain": [
       "   price  flat-size                address        lat        lng  area\n",
       "0    295        1.0       Чернышевского, 7  53.926984  27.600406  None\n",
       "1    900        4.0           Калинина, 7А  53.926420  27.605746  None\n",
       "2    470        2.0        Мельникайте, 16  53.909619  27.544978  None\n",
       "3    380        1.0  Академика Фёдорова, 3  53.872958  27.633268  None\n",
       "4    300        2.0           Волоха, 7 к1  53.896907  27.521841  None"
      ]
     },
     "execution_count": 201,
     "metadata": {},
     "output_type": "execute_result"
    }
   ],
   "source": [
    "df_a = pd.DataFrame(data=[None for _ in range(len_df_flats)], columns=['area'])\n",
    "df_flats = pd.concat([df_flats, df_a], axis=1)\n",
    "df_flats.head()"
   ]
  },
  {
   "cell_type": "markdown",
   "metadata": {},
   "source": [
    "## for each flat find neighborhood from geojson polygons"
   ]
  },
  {
   "cell_type": "code",
   "execution_count": 202,
   "metadata": {},
   "outputs": [],
   "source": [
    "minsk_areas = r'minsk_areas.geojson'"
   ]
  },
  {
   "cell_type": "code",
   "execution_count": 203,
   "metadata": {},
   "outputs": [],
   "source": [
    "def open_geojson():\n",
    "    with open(minsk_areas, encoding=\"utf8\") as f:\n",
    "        data = geojson.load(f)\n",
    "    \n",
    "    point = Point(27.429495, 53.912448)\n",
    "    \n",
    "    for index in range(len_df_flats):\n",
    "        flat_lat = df_flats.iloc[index, 3]\n",
    "        flat_lng = df_flats.iloc[index, 4]\n",
    "\n",
    "        for feature_t in data['features']:\n",
    "            point = Point(flat_lng, flat_lat)\n",
    "            polygon = shape(feature_t['geometry'])\n",
    "            \n",
    "            if polygon.contains(point):\n",
    "                neighborhood = feature_t['properties']['neighborhood']\n",
    "                # print('Found containing polygon:', neighborhood)\n",
    "                df_flats.at[index, 'area'] = neighborhood\n"
   ]
  },
  {
   "cell_type": "code",
   "execution_count": 204,
   "metadata": {},
   "outputs": [
    {
     "name": "stdout",
     "output_type": "stream",
     "text": [
      "CPU times: user 3.71 s, sys: 319 µs, total: 3.71 s\n",
      "Wall time: 3.71 s\n"
     ]
    },
    {
     "data": {
      "text/html": [
       "<div>\n",
       "<style scoped>\n",
       "    .dataframe tbody tr th:only-of-type {\n",
       "        vertical-align: middle;\n",
       "    }\n",
       "\n",
       "    .dataframe tbody tr th {\n",
       "        vertical-align: top;\n",
       "    }\n",
       "\n",
       "    .dataframe thead th {\n",
       "        text-align: right;\n",
       "    }\n",
       "</style>\n",
       "<table border=\"1\" class=\"dataframe\">\n",
       "  <thead>\n",
       "    <tr style=\"text-align: right;\">\n",
       "      <th></th>\n",
       "      <th>price</th>\n",
       "      <th>flat-size</th>\n",
       "      <th>address</th>\n",
       "      <th>lat</th>\n",
       "      <th>lng</th>\n",
       "      <th>area</th>\n",
       "    </tr>\n",
       "  </thead>\n",
       "  <tbody>\n",
       "    <tr>\n",
       "      <th>0</th>\n",
       "      <td>295</td>\n",
       "      <td>1.0</td>\n",
       "      <td>Чернышевского, 7</td>\n",
       "      <td>53.926984</td>\n",
       "      <td>27.600406</td>\n",
       "      <td>None</td>\n",
       "    </tr>\n",
       "    <tr>\n",
       "      <th>1</th>\n",
       "      <td>900</td>\n",
       "      <td>4.0</td>\n",
       "      <td>Калинина, 7А</td>\n",
       "      <td>53.926420</td>\n",
       "      <td>27.605746</td>\n",
       "      <td>Челюскинтцев</td>\n",
       "    </tr>\n",
       "    <tr>\n",
       "      <th>2</th>\n",
       "      <td>470</td>\n",
       "      <td>2.0</td>\n",
       "      <td>Мельникайте, 16</td>\n",
       "      <td>53.909619</td>\n",
       "      <td>27.544978</td>\n",
       "      <td>Центр</td>\n",
       "    </tr>\n",
       "    <tr>\n",
       "      <th>3</th>\n",
       "      <td>380</td>\n",
       "      <td>1.0</td>\n",
       "      <td>Академика Фёдорова, 3</td>\n",
       "      <td>53.872958</td>\n",
       "      <td>27.633268</td>\n",
       "      <td>западный посёлок</td>\n",
       "    </tr>\n",
       "    <tr>\n",
       "      <th>4</th>\n",
       "      <td>300</td>\n",
       "      <td>2.0</td>\n",
       "      <td>Волоха, 7 к1</td>\n",
       "      <td>53.896907</td>\n",
       "      <td>27.521841</td>\n",
       "      <td>Розы люксембург</td>\n",
       "    </tr>\n",
       "  </tbody>\n",
       "</table>\n",
       "</div>"
      ],
      "text/plain": [
       "   price  flat-size                address        lat        lng  \\\n",
       "0    295        1.0       Чернышевского, 7  53.926984  27.600406   \n",
       "1    900        4.0           Калинина, 7А  53.926420  27.605746   \n",
       "2    470        2.0        Мельникайте, 16  53.909619  27.544978   \n",
       "3    380        1.0  Академика Фёдорова, 3  53.872958  27.633268   \n",
       "4    300        2.0           Волоха, 7 к1  53.896907  27.521841   \n",
       "\n",
       "               area  \n",
       "0              None  \n",
       "1      Челюскинтцев  \n",
       "2             Центр  \n",
       "3  западный посёлок  \n",
       "4   Розы люксембург  "
      ]
     },
     "execution_count": 204,
     "metadata": {},
     "output_type": "execute_result"
    }
   ],
   "source": [
    "%%time\n",
    "open_geojson()\n",
    "df_flats.head()"
   ]
  },
  {
   "cell_type": "code",
   "execution_count": 206,
   "metadata": {},
   "outputs": [
    {
     "data": {
      "text/plain": [
       "price          0\n",
       "flat-size      0\n",
       "address        0\n",
       "lat            0\n",
       "lng            0\n",
       "area         115\n",
       "dtype: int64"
      ]
     },
     "execution_count": 206,
     "metadata": {},
     "output_type": "execute_result"
    }
   ],
   "source": [
    "df_flats.isnull().sum()"
   ]
  },
  {
   "cell_type": "code",
   "execution_count": 213,
   "metadata": {},
   "outputs": [
    {
     "name": "stdout",
     "output_type": "stream",
     "text": [
      "(58, 5)\n"
     ]
    },
    {
     "data": {
      "text/html": [
       "<div>\n",
       "<style scoped>\n",
       "    .dataframe tbody tr th:only-of-type {\n",
       "        vertical-align: middle;\n",
       "    }\n",
       "\n",
       "    .dataframe tbody tr th {\n",
       "        vertical-align: top;\n",
       "    }\n",
       "\n",
       "    .dataframe thead th {\n",
       "        text-align: right;\n",
       "    }\n",
       "</style>\n",
       "<table border=\"1\" class=\"dataframe\">\n",
       "  <thead>\n",
       "    <tr style=\"text-align: right;\">\n",
       "      <th></th>\n",
       "      <th>area</th>\n",
       "      <th>price</th>\n",
       "      <th>flat-size</th>\n",
       "      <th>lat</th>\n",
       "      <th>lng</th>\n",
       "    </tr>\n",
       "  </thead>\n",
       "  <tbody>\n",
       "    <tr>\n",
       "      <th>0</th>\n",
       "      <td>Академии наук</td>\n",
       "      <td>818.000000</td>\n",
       "      <td>2.500000</td>\n",
       "      <td>53.923316</td>\n",
       "      <td>27.599986</td>\n",
       "    </tr>\n",
       "    <tr>\n",
       "      <th>1</th>\n",
       "      <td>Аэродромная</td>\n",
       "      <td>418.894737</td>\n",
       "      <td>1.855263</td>\n",
       "      <td>53.878749</td>\n",
       "      <td>27.548420</td>\n",
       "    </tr>\n",
       "    <tr>\n",
       "      <th>2</th>\n",
       "      <td>Брилевичи</td>\n",
       "      <td>424.545455</td>\n",
       "      <td>1.636364</td>\n",
       "      <td>53.851028</td>\n",
       "      <td>27.484192</td>\n",
       "    </tr>\n",
       "    <tr>\n",
       "      <th>3</th>\n",
       "      <td>Велозавод</td>\n",
       "      <td>140.000000</td>\n",
       "      <td>0.500000</td>\n",
       "      <td>53.885515</td>\n",
       "      <td>27.587505</td>\n",
       "    </tr>\n",
       "    <tr>\n",
       "      <th>4</th>\n",
       "      <td>Восгоградская</td>\n",
       "      <td>300.000000</td>\n",
       "      <td>1.000000</td>\n",
       "      <td>53.930212</td>\n",
       "      <td>27.617529</td>\n",
       "    </tr>\n",
       "  </tbody>\n",
       "</table>\n",
       "</div>"
      ],
      "text/plain": [
       "            area       price  flat-size        lat        lng\n",
       "0  Академии наук  818.000000   2.500000  53.923316  27.599986\n",
       "1    Аэродромная  418.894737   1.855263  53.878749  27.548420\n",
       "2      Брилевичи  424.545455   1.636364  53.851028  27.484192\n",
       "3      Велозавод  140.000000   0.500000  53.885515  27.587505\n",
       "4  Восгоградская  300.000000   1.000000  53.930212  27.617529"
      ]
     },
     "execution_count": 213,
     "metadata": {},
     "output_type": "execute_result"
    }
   ],
   "source": [
    "areas_grouped = df_flats.groupby('area').mean().reset_index()\n",
    "print(areas_grouped.shape)\n",
    "areas_grouped.head()"
   ]
  },
  {
   "cell_type": "markdown",
   "metadata": {},
   "source": [
    "## Normalyze flat price: x $ / 1 room"
   ]
  },
  {
   "cell_type": "code",
   "execution_count": 220,
   "metadata": {},
   "outputs": [
    {
     "data": {
      "text/html": [
       "<div>\n",
       "<style scoped>\n",
       "    .dataframe tbody tr th:only-of-type {\n",
       "        vertical-align: middle;\n",
       "    }\n",
       "\n",
       "    .dataframe tbody tr th {\n",
       "        vertical-align: top;\n",
       "    }\n",
       "\n",
       "    .dataframe thead th {\n",
       "        text-align: right;\n",
       "    }\n",
       "</style>\n",
       "<table border=\"1\" class=\"dataframe\">\n",
       "  <thead>\n",
       "    <tr style=\"text-align: right;\">\n",
       "      <th></th>\n",
       "      <th>area</th>\n",
       "      <th>avg-price</th>\n",
       "    </tr>\n",
       "  </thead>\n",
       "  <tbody>\n",
       "    <tr>\n",
       "      <th>0</th>\n",
       "      <td>Академии наук</td>\n",
       "      <td>327.2</td>\n",
       "    </tr>\n",
       "    <tr>\n",
       "      <th>1</th>\n",
       "      <td>Аэродромная</td>\n",
       "      <td>225.8</td>\n",
       "    </tr>\n",
       "    <tr>\n",
       "      <th>2</th>\n",
       "      <td>Брилевичи</td>\n",
       "      <td>259.4</td>\n",
       "    </tr>\n",
       "    <tr>\n",
       "      <th>3</th>\n",
       "      <td>Велозавод</td>\n",
       "      <td>280.0</td>\n",
       "    </tr>\n",
       "    <tr>\n",
       "      <th>4</th>\n",
       "      <td>Восгоградская</td>\n",
       "      <td>300.0</td>\n",
       "    </tr>\n",
       "  </tbody>\n",
       "</table>\n",
       "</div>"
      ],
      "text/plain": [
       "            area  avg-price\n",
       "0  Академии наук      327.2\n",
       "1    Аэродромная      225.8\n",
       "2      Брилевичи      259.4\n",
       "3      Велозавод      280.0\n",
       "4  Восгоградская      300.0"
      ]
     },
     "execution_count": 220,
     "metadata": {},
     "output_type": "execute_result"
    }
   ],
   "source": [
    "avg_price = round(areas_grouped['price'].div(areas_grouped['flat-size']), 1)\n",
    "flat_norm = pd.concat([areas_grouped['area'], avg_price], axis=1)\n",
    "flat_norm.columns = ['area', 'avg-price']\n",
    "flat_norm.head()"
   ]
  },
  {
   "cell_type": "markdown",
   "metadata": {},
   "source": [
    "## Plot Rezult"
   ]
  },
  {
   "cell_type": "code",
   "execution_count": 221,
   "metadata": {},
   "outputs": [
    {
     "name": "stdout",
     "output_type": "stream",
     "text": [
      "The geographical coordinate of Minsk are 53.902334, 27.5618791.\n"
     ]
    }
   ],
   "source": [
    "address = 'Minsk, BY'\n",
    "geolocator = Nominatim(user_agent=\"ny_explorer\")\n",
    "location = geolocator.geocode(address)\n",
    "latitude = location.latitude\n",
    "longitude = location.longitude\n",
    "print('The geographical coordinate of Minsk are {}, {}.'.format(latitude, longitude))"
   ]
  },
  {
   "cell_type": "code",
   "execution_count": 222,
   "metadata": {},
   "outputs": [
    {
     "data": {
      "text/html": [
       "<div style=\"width:100%;\"><div style=\"position:relative;width:100%;height:0;padding-bottom:60%;\"><iframe src=\"data:text/html;charset=utf-8;base64,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\" style=\"position:absolute;width:100%;height:100%;left:0;top:0;border:none !important;\" allowfullscreen webkitallowfullscreen mozallowfullscreen></iframe></div></div>"
      ],
      "text/plain": [
       "<folium.folium.Map at 0x7f89fcf7d7f0>"
      ]
     },
     "execution_count": 222,
     "metadata": {},
     "output_type": "execute_result"
    }
   ],
   "source": [
    "map_minsk_flat = folium.Map(location=[latitude, longitude], zoom_start=12)\n",
    "\n",
    "choropleth = folium.Choropleth(\n",
    "    geo_data=minsk_areas,    # geojson\n",
    "    data=flat_norm,\n",
    "    columns=['area', 'avg-price'],\n",
    "    key_on='feature.properties.neighborhood',\n",
    "    fill_color='YlOrRd', \n",
    "    fill_opacity=0.7, \n",
    "    line_opacity=0.2,\n",
    "    legend_name='Flat Price',\n",
    ").add_to(map_minsk_flat)\n",
    "\n",
    "choropleth.geojson.add_child(\n",
    "    folium.features.GeoJsonTooltip(['neighborhood'])\n",
    ")\n",
    "\n",
    "# display map\n",
    "map_minsk_flat"
   ]
  },
  {
   "cell_type": "code",
   "execution_count": null,
   "metadata": {},
   "outputs": [],
   "source": []
  },
  {
   "cell_type": "code",
   "execution_count": null,
   "metadata": {},
   "outputs": [],
   "source": []
  }
 ],
 "metadata": {
  "kernelspec": {
   "display_name": "Python 3",
   "language": "python",
   "name": "python3"
  },
  "language_info": {
   "codemirror_mode": {
    "name": "ipython",
    "version": 3
   },
   "file_extension": ".py",
   "mimetype": "text/x-python",
   "name": "python",
   "nbconvert_exporter": "python",
   "pygments_lexer": "ipython3",
   "version": "3.7.3"
  }
 },
 "nbformat": 4,
 "nbformat_minor": 4
}
