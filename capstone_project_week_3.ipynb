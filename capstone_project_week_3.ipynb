{
 "cells": [
  {
   "cell_type": "code",
   "execution_count": 1,
   "metadata": {},
   "outputs": [],
   "source": [
    "from bs4 import BeautifulSoup\n",
    "import requests\n",
    "import pandas as pd\n",
    "from collections import defaultdict\n",
    "import geocoder\n",
    "import numpy as np\n",
    "from sklearn.cluster import KMeans\n",
    "import folium\n",
    "import json\n",
    "import os\n",
    "from dotenv import load_dotenv\n",
    "from datetime import date\n",
    "from geopy.geocoders import Nominatim\n",
    "import matplotlib.cm as cm\n",
    "import matplotlib.colors as colors\n",
    "from pandas.io.json import json_normalize"
   ]
  },
  {
   "cell_type": "code",
   "execution_count": 2,
   "metadata": {},
   "outputs": [],
   "source": [
    "load_dotenv()\n",
    "CLIENT_ID = os.environ.get('CLIENT_ID')\n",
    "CLIENT_SECRET = os.environ.get('CLIENT_SECRET')"
   ]
  },
  {
   "cell_type": "markdown",
   "metadata": {},
   "source": [
    " "
   ]
  },
  {
   "cell_type": "markdown",
   "metadata": {},
   "source": [
    "# TASK 1: postal codes of a neighborhoods in Toronto\n",
    "### Scrape Wikipedia page https://en.wikipedia.org/wiki/List_of_postal_codes_of_Canada:_M"
   ]
  },
  {
   "cell_type": "markdown",
   "metadata": {},
   "source": [
    "### 1.1 get source code of the html page:"
   ]
  },
  {
   "cell_type": "code",
   "execution_count": 3,
   "metadata": {},
   "outputs": [],
   "source": [
    "postal_codes_wiki_url = 'https://en.wikipedia.org/wiki/List_of_postal_codes_of_Canada:_M'\n",
    "\n",
    "source_html = requests.get(postal_codes_wiki_url).text"
   ]
  },
  {
   "cell_type": "markdown",
   "metadata": {},
   "source": [
    "### 1.2 save sorce code to html file and open it with BeautifulSoup:"
   ]
  },
  {
   "cell_type": "code",
   "execution_count": 4,
   "metadata": {},
   "outputs": [
    {
     "name": "stdout",
     "output_type": "stream",
     "text": [
      "Save sorce page to html file - done!\n"
     ]
    }
   ],
   "source": [
    "with open('wiki_page.html', 'w') as html_file:\n",
    "    html_file.write(source_html)\n",
    "\n",
    "print('Save sorce page to html file - done!')"
   ]
  },
  {
   "cell_type": "code",
   "execution_count": 5,
   "metadata": {},
   "outputs": [
    {
     "name": "stdout",
     "output_type": "stream",
     "text": [
      "soup is ready: List of postal codes of Canada: M - Wikipedia\n"
     ]
    }
   ],
   "source": [
    "with open('wiki_page.html') as html_file:\n",
    "    soup = BeautifulSoup(html_file, 'html.parser')\n",
    "\n",
    "print('soup is ready:', soup.title.text)"
   ]
  },
  {
   "cell_type": "markdown",
   "metadata": {},
   "source": [
    "### 1.3 find table"
   ]
  },
  {
   "cell_type": "code",
   "execution_count": 6,
   "metadata": {},
   "outputs": [],
   "source": [
    "table_body = soup.find('table').tbody\n",
    "table_rows = table_body.find_all('tr')"
   ]
  },
  {
   "cell_type": "markdown",
   "metadata": {},
   "source": [
    "### 1.4 create dictionary like -\n",
    "### {'one postal code area': ('Borough', 'more than one neighborhood')}"
   ]
  },
  {
   "cell_type": "code",
   "execution_count": 7,
   "metadata": {},
   "outputs": [
    {
     "name": "stdout",
     "output_type": "stream",
     "text": [
      "length of the combo_dict: 103\n"
     ]
    }
   ],
   "source": [
    "combo_dict = defaultdict()\n",
    "\n",
    "for row in table_rows:\n",
    "    cols = row.find_all('td')\n",
    "    row = [sel.text.strip() for sel in cols]\n",
    "    \n",
    "    if row and row[1] != 'Not assigned':\n",
    "        \n",
    "        # If a cell has a borough but a Not assigned neighborhood, \n",
    "        # then the neighborhood will be the same as the borough.\n",
    "        if row[2] == 'Not assigned':\n",
    "            row[2] = row[1]\n",
    "        \n",
    "        # create dictionary\n",
    "        if combo_dict.get(row[0]):\n",
    "            combo_dict[row[0]] = row[1], \"%s, %s\" % (combo_dict[row[0]][0], row[2])\n",
    "        else:\n",
    "            combo_dict[row[0]] = row[1], row[2]\n",
    "\n",
    "print('length of the combo_dict:', len(combo_dict))"
   ]
  },
  {
   "cell_type": "markdown",
   "metadata": {},
   "source": [
    "### 1.5 conver dictionary to list like ['Postcode', 'Borough', 'Neighbourhood']"
   ]
  },
  {
   "cell_type": "code",
   "execution_count": 8,
   "metadata": {},
   "outputs": [],
   "source": [
    "prepare_dataframe = []\n",
    "for i in combo_dict.items():\n",
    "    new_list = [i[0]] + [i[1][0]] + [i[1][1]]\n",
    "    prepare_dataframe.append(new_list)"
   ]
  },
  {
   "cell_type": "markdown",
   "metadata": {},
   "source": [
    "### 1.6 create pandas datafreme"
   ]
  },
  {
   "cell_type": "code",
   "execution_count": 9,
   "metadata": {},
   "outputs": [
    {
     "data": {
      "text/html": [
       "<div>\n",
       "<style scoped>\n",
       "    .dataframe tbody tr th:only-of-type {\n",
       "        vertical-align: middle;\n",
       "    }\n",
       "\n",
       "    .dataframe tbody tr th {\n",
       "        vertical-align: top;\n",
       "    }\n",
       "\n",
       "    .dataframe thead th {\n",
       "        text-align: right;\n",
       "    }\n",
       "</style>\n",
       "<table border=\"1\" class=\"dataframe\">\n",
       "  <thead>\n",
       "    <tr style=\"text-align: right;\">\n",
       "      <th></th>\n",
       "      <th>Postcode</th>\n",
       "      <th>Borough</th>\n",
       "      <th>Neighborhood</th>\n",
       "    </tr>\n",
       "  </thead>\n",
       "  <tbody>\n",
       "    <tr>\n",
       "      <th>0</th>\n",
       "      <td>M1B</td>\n",
       "      <td>Scarborough</td>\n",
       "      <td>Scarborough, Malvern</td>\n",
       "    </tr>\n",
       "    <tr>\n",
       "      <th>1</th>\n",
       "      <td>M1C</td>\n",
       "      <td>Scarborough</td>\n",
       "      <td>Scarborough, Port Union</td>\n",
       "    </tr>\n",
       "    <tr>\n",
       "      <th>2</th>\n",
       "      <td>M1E</td>\n",
       "      <td>Scarborough</td>\n",
       "      <td>Scarborough, West Hill</td>\n",
       "    </tr>\n",
       "    <tr>\n",
       "      <th>3</th>\n",
       "      <td>M1G</td>\n",
       "      <td>Scarborough</td>\n",
       "      <td>Woburn</td>\n",
       "    </tr>\n",
       "    <tr>\n",
       "      <th>4</th>\n",
       "      <td>M1H</td>\n",
       "      <td>Scarborough</td>\n",
       "      <td>Cedarbrae</td>\n",
       "    </tr>\n",
       "    <tr>\n",
       "      <th>...</th>\n",
       "      <td>...</td>\n",
       "      <td>...</td>\n",
       "      <td>...</td>\n",
       "    </tr>\n",
       "    <tr>\n",
       "      <th>98</th>\n",
       "      <td>M9N</td>\n",
       "      <td>York</td>\n",
       "      <td>Weston</td>\n",
       "    </tr>\n",
       "    <tr>\n",
       "      <th>99</th>\n",
       "      <td>M9P</td>\n",
       "      <td>Etobicoke</td>\n",
       "      <td>Westmount</td>\n",
       "    </tr>\n",
       "    <tr>\n",
       "      <th>100</th>\n",
       "      <td>M9R</td>\n",
       "      <td>Etobicoke</td>\n",
       "      <td>Etobicoke, St. Phillips</td>\n",
       "    </tr>\n",
       "    <tr>\n",
       "      <th>101</th>\n",
       "      <td>M9V</td>\n",
       "      <td>Etobicoke</td>\n",
       "      <td>Etobicoke, Thistletown</td>\n",
       "    </tr>\n",
       "    <tr>\n",
       "      <th>102</th>\n",
       "      <td>M9W</td>\n",
       "      <td>Etobicoke</td>\n",
       "      <td>Northwest</td>\n",
       "    </tr>\n",
       "  </tbody>\n",
       "</table>\n",
       "<p>103 rows × 3 columns</p>\n",
       "</div>"
      ],
      "text/plain": [
       "    Postcode      Borough             Neighborhood\n",
       "0        M1B  Scarborough     Scarborough, Malvern\n",
       "1        M1C  Scarborough  Scarborough, Port Union\n",
       "2        M1E  Scarborough   Scarborough, West Hill\n",
       "3        M1G  Scarborough                   Woburn\n",
       "4        M1H  Scarborough                Cedarbrae\n",
       "..       ...          ...                      ...\n",
       "98       M9N         York                   Weston\n",
       "99       M9P    Etobicoke                Westmount\n",
       "100      M9R    Etobicoke  Etobicoke, St. Phillips\n",
       "101      M9V    Etobicoke   Etobicoke, Thistletown\n",
       "102      M9W    Etobicoke                Northwest\n",
       "\n",
       "[103 rows x 3 columns]"
      ]
     },
     "execution_count": 9,
     "metadata": {},
     "output_type": "execute_result"
    }
   ],
   "source": [
    "df_columns = ['Postcode', 'Borough', 'Neighborhood']\n",
    "\n",
    "df = pd.DataFrame(data=prepare_dataframe, columns=df_columns)\n",
    "\n",
    "df.sort_values(by='Postcode', inplace=True)\n",
    "df.reset_index(drop=True, inplace=True)\n",
    "df"
   ]
  },
  {
   "cell_type": "markdown",
   "metadata": {},
   "source": [
    "### 1.7 Result:"
   ]
  },
  {
   "cell_type": "code",
   "execution_count": 10,
   "metadata": {},
   "outputs": [
    {
     "data": {
      "text/plain": [
       "(103, 3)"
      ]
     },
     "execution_count": 10,
     "metadata": {},
     "output_type": "execute_result"
    }
   ],
   "source": [
    "df.shape"
   ]
  },
  {
   "cell_type": "markdown",
   "metadata": {},
   "source": [
    "# TASK 2: get the latitude and the longitude coordinates of each neighborhood."
   ]
  },
  {
   "cell_type": "markdown",
   "metadata": {},
   "source": [
    "### 2.1 open csv file that has the geographical coordinates of each postal code"
   ]
  },
  {
   "cell_type": "code",
   "execution_count": 11,
   "metadata": {},
   "outputs": [
    {
     "data": {
      "text/html": [
       "<div>\n",
       "<style scoped>\n",
       "    .dataframe tbody tr th:only-of-type {\n",
       "        vertical-align: middle;\n",
       "    }\n",
       "\n",
       "    .dataframe tbody tr th {\n",
       "        vertical-align: top;\n",
       "    }\n",
       "\n",
       "    .dataframe thead th {\n",
       "        text-align: right;\n",
       "    }\n",
       "</style>\n",
       "<table border=\"1\" class=\"dataframe\">\n",
       "  <thead>\n",
       "    <tr style=\"text-align: right;\">\n",
       "      <th></th>\n",
       "      <th>Postal Code</th>\n",
       "      <th>Latitude</th>\n",
       "      <th>Longitude</th>\n",
       "    </tr>\n",
       "  </thead>\n",
       "  <tbody>\n",
       "    <tr>\n",
       "      <th>0</th>\n",
       "      <td>M1B</td>\n",
       "      <td>43.806686</td>\n",
       "      <td>-79.194353</td>\n",
       "    </tr>\n",
       "    <tr>\n",
       "      <th>1</th>\n",
       "      <td>M1C</td>\n",
       "      <td>43.784535</td>\n",
       "      <td>-79.160497</td>\n",
       "    </tr>\n",
       "    <tr>\n",
       "      <th>2</th>\n",
       "      <td>M1E</td>\n",
       "      <td>43.763573</td>\n",
       "      <td>-79.188711</td>\n",
       "    </tr>\n",
       "    <tr>\n",
       "      <th>3</th>\n",
       "      <td>M1G</td>\n",
       "      <td>43.770992</td>\n",
       "      <td>-79.216917</td>\n",
       "    </tr>\n",
       "    <tr>\n",
       "      <th>4</th>\n",
       "      <td>M1H</td>\n",
       "      <td>43.773136</td>\n",
       "      <td>-79.239476</td>\n",
       "    </tr>\n",
       "  </tbody>\n",
       "</table>\n",
       "</div>"
      ],
      "text/plain": [
       "  Postal Code   Latitude  Longitude\n",
       "0         M1B  43.806686 -79.194353\n",
       "1         M1C  43.784535 -79.160497\n",
       "2         M1E  43.763573 -79.188711\n",
       "3         M1G  43.770992 -79.216917\n",
       "4         M1H  43.773136 -79.239476"
      ]
     },
     "execution_count": 11,
     "metadata": {},
     "output_type": "execute_result"
    }
   ],
   "source": [
    "df_geo_coords = pd.read_csv('Geospatial_Coordinates.csv')\n",
    "df_geo_coords.head()"
   ]
  },
  {
   "cell_type": "markdown",
   "metadata": {},
   "source": [
    "### 2.2 expand curent data frame with 2 more columns with zeros"
   ]
  },
  {
   "cell_type": "code",
   "execution_count": 12,
   "metadata": {},
   "outputs": [
    {
     "data": {
      "text/html": [
       "<div>\n",
       "<style scoped>\n",
       "    .dataframe tbody tr th:only-of-type {\n",
       "        vertical-align: middle;\n",
       "    }\n",
       "\n",
       "    .dataframe tbody tr th {\n",
       "        vertical-align: top;\n",
       "    }\n",
       "\n",
       "    .dataframe thead th {\n",
       "        text-align: right;\n",
       "    }\n",
       "</style>\n",
       "<table border=\"1\" class=\"dataframe\">\n",
       "  <thead>\n",
       "    <tr style=\"text-align: right;\">\n",
       "      <th></th>\n",
       "      <th>Postcode</th>\n",
       "      <th>Borough</th>\n",
       "      <th>Neighborhood</th>\n",
       "      <th>Latitude</th>\n",
       "      <th>Longitude</th>\n",
       "    </tr>\n",
       "  </thead>\n",
       "  <tbody>\n",
       "    <tr>\n",
       "      <th>0</th>\n",
       "      <td>M1B</td>\n",
       "      <td>Scarborough</td>\n",
       "      <td>Scarborough, Malvern</td>\n",
       "      <td>0.0</td>\n",
       "      <td>0.0</td>\n",
       "    </tr>\n",
       "    <tr>\n",
       "      <th>1</th>\n",
       "      <td>M1C</td>\n",
       "      <td>Scarborough</td>\n",
       "      <td>Scarborough, Port Union</td>\n",
       "      <td>0.0</td>\n",
       "      <td>0.0</td>\n",
       "    </tr>\n",
       "    <tr>\n",
       "      <th>2</th>\n",
       "      <td>M1E</td>\n",
       "      <td>Scarborough</td>\n",
       "      <td>Scarborough, West Hill</td>\n",
       "      <td>0.0</td>\n",
       "      <td>0.0</td>\n",
       "    </tr>\n",
       "    <tr>\n",
       "      <th>3</th>\n",
       "      <td>M1G</td>\n",
       "      <td>Scarborough</td>\n",
       "      <td>Woburn</td>\n",
       "      <td>0.0</td>\n",
       "      <td>0.0</td>\n",
       "    </tr>\n",
       "    <tr>\n",
       "      <th>4</th>\n",
       "      <td>M1H</td>\n",
       "      <td>Scarborough</td>\n",
       "      <td>Cedarbrae</td>\n",
       "      <td>0.0</td>\n",
       "      <td>0.0</td>\n",
       "    </tr>\n",
       "  </tbody>\n",
       "</table>\n",
       "</div>"
      ],
      "text/plain": [
       "  Postcode      Borough             Neighborhood  Latitude  Longitude\n",
       "0      M1B  Scarborough     Scarborough, Malvern       0.0        0.0\n",
       "1      M1C  Scarborough  Scarborough, Port Union       0.0        0.0\n",
       "2      M1E  Scarborough   Scarborough, West Hill       0.0        0.0\n",
       "3      M1G  Scarborough                   Woburn       0.0        0.0\n",
       "4      M1H  Scarborough                Cedarbrae       0.0        0.0"
      ]
     },
     "execution_count": 12,
     "metadata": {},
     "output_type": "execute_result"
    }
   ],
   "source": [
    "new_df = pd.DataFrame(data=np.zeros((103, 2), dtype=float), columns=['Latitude', 'Longitude'])\n",
    "df = pd.concat([df, new_df], axis=1)\n",
    "df.head()"
   ]
  },
  {
   "cell_type": "markdown",
   "metadata": {},
   "source": [
    "### 2.3 Check if Post Code data is valid and aply them to curent(work) data freme"
   ]
  },
  {
   "cell_type": "code",
   "execution_count": 13,
   "metadata": {},
   "outputs": [
    {
     "name": "stdout",
     "output_type": "stream",
     "text": [
      "errors: 0\n"
     ]
    }
   ],
   "source": [
    "errors = 0\n",
    "for i in range(len(df_geo_coords)):\n",
    "    geo_df = df_geo_coords.iloc[i, :]\n",
    "    geo_post_code = geo_df[0]\n",
    "    my_df_post_code = df.iloc[i, 0]\n",
    "    \n",
    "    if my_df_post_code == geo_post_code:\n",
    "        lat = geo_df[1]\n",
    "        lng = geo_df[2]\n",
    "        df.at[i, 'Latitude'], df.at[i, 'Longitude'] = round(lat, 7), round(lng, 7)\n",
    "    else:\n",
    "        errors += 1\n",
    "\n",
    "print('errors:', errors)"
   ]
  },
  {
   "cell_type": "markdown",
   "metadata": {},
   "source": [
    "### 2.4 Result:"
   ]
  },
  {
   "cell_type": "code",
   "execution_count": 14,
   "metadata": {},
   "outputs": [
    {
     "name": "stdout",
     "output_type": "stream",
     "text": [
      "(103, 5)\n"
     ]
    },
    {
     "data": {
      "text/html": [
       "<div>\n",
       "<style scoped>\n",
       "    .dataframe tbody tr th:only-of-type {\n",
       "        vertical-align: middle;\n",
       "    }\n",
       "\n",
       "    .dataframe tbody tr th {\n",
       "        vertical-align: top;\n",
       "    }\n",
       "\n",
       "    .dataframe thead th {\n",
       "        text-align: right;\n",
       "    }\n",
       "</style>\n",
       "<table border=\"1\" class=\"dataframe\">\n",
       "  <thead>\n",
       "    <tr style=\"text-align: right;\">\n",
       "      <th></th>\n",
       "      <th>Postcode</th>\n",
       "      <th>Borough</th>\n",
       "      <th>Neighborhood</th>\n",
       "      <th>Latitude</th>\n",
       "      <th>Longitude</th>\n",
       "    </tr>\n",
       "  </thead>\n",
       "  <tbody>\n",
       "    <tr>\n",
       "      <th>0</th>\n",
       "      <td>M1B</td>\n",
       "      <td>Scarborough</td>\n",
       "      <td>Scarborough, Malvern</td>\n",
       "      <td>43.806686</td>\n",
       "      <td>-79.194353</td>\n",
       "    </tr>\n",
       "    <tr>\n",
       "      <th>1</th>\n",
       "      <td>M1C</td>\n",
       "      <td>Scarborough</td>\n",
       "      <td>Scarborough, Port Union</td>\n",
       "      <td>43.784535</td>\n",
       "      <td>-79.160497</td>\n",
       "    </tr>\n",
       "    <tr>\n",
       "      <th>2</th>\n",
       "      <td>M1E</td>\n",
       "      <td>Scarborough</td>\n",
       "      <td>Scarborough, West Hill</td>\n",
       "      <td>43.763573</td>\n",
       "      <td>-79.188711</td>\n",
       "    </tr>\n",
       "    <tr>\n",
       "      <th>3</th>\n",
       "      <td>M1G</td>\n",
       "      <td>Scarborough</td>\n",
       "      <td>Woburn</td>\n",
       "      <td>43.770992</td>\n",
       "      <td>-79.216917</td>\n",
       "    </tr>\n",
       "    <tr>\n",
       "      <th>4</th>\n",
       "      <td>M1H</td>\n",
       "      <td>Scarborough</td>\n",
       "      <td>Cedarbrae</td>\n",
       "      <td>43.773136</td>\n",
       "      <td>-79.239476</td>\n",
       "    </tr>\n",
       "  </tbody>\n",
       "</table>\n",
       "</div>"
      ],
      "text/plain": [
       "  Postcode      Borough             Neighborhood   Latitude  Longitude\n",
       "0      M1B  Scarborough     Scarborough, Malvern  43.806686 -79.194353\n",
       "1      M1C  Scarborough  Scarborough, Port Union  43.784535 -79.160497\n",
       "2      M1E  Scarborough   Scarborough, West Hill  43.763573 -79.188711\n",
       "3      M1G  Scarborough                   Woburn  43.770992 -79.216917\n",
       "4      M1H  Scarborough                Cedarbrae  43.773136 -79.239476"
      ]
     },
     "execution_count": 14,
     "metadata": {},
     "output_type": "execute_result"
    }
   ],
   "source": [
    "print(df.shape)\n",
    "df.head()"
   ]
  },
  {
   "cell_type": "code",
   "execution_count": 15,
   "metadata": {},
   "outputs": [
    {
     "data": {
      "text/plain": [
       "Postcode        0\n",
       "Borough         0\n",
       "Neighborhood    0\n",
       "Latitude        0\n",
       "Longitude       0\n",
       "dtype: int64"
      ]
     },
     "execution_count": 15,
     "metadata": {},
     "output_type": "execute_result"
    }
   ],
   "source": [
    "df.isnull().sum()"
   ]
  },
  {
   "cell_type": "code",
   "execution_count": 16,
   "metadata": {},
   "outputs": [
    {
     "data": {
      "text/plain": [
       "False"
      ]
     },
     "execution_count": 16,
     "metadata": {},
     "output_type": "execute_result"
    }
   ],
   "source": [
    "0.0 in df.values"
   ]
  },
  {
   "cell_type": "code",
   "execution_count": 17,
   "metadata": {},
   "outputs": [],
   "source": [
    "# df.to_csv('my_df.csv')"
   ]
  },
  {
   "cell_type": "markdown",
   "metadata": {},
   "source": [
    "# TASK 3: Explore and cluster the neighborhoods in Toronto."
   ]
  },
  {
   "cell_type": "markdown",
   "metadata": {},
   "source": [
    "### 3.1 Show all Toronto neighborhoods"
   ]
  },
  {
   "cell_type": "code",
   "execution_count": 18,
   "metadata": {},
   "outputs": [
    {
     "name": "stdout",
     "output_type": "stream",
     "text": [
      "The geograpical coordinate of Toronto are 43.653963, -79.387207.\n"
     ]
    }
   ],
   "source": [
    "address = 'Toronto, CA'\n",
    "\n",
    "geolocator = Nominatim(user_agent=\"ny_explorer\")\n",
    "location = geolocator.geocode(address)\n",
    "latitude = location.latitude\n",
    "longitude = location.longitude\n",
    "print('The geograpical coordinate of Toronto are {}, {}.'.format(latitude, longitude))"
   ]
  },
  {
   "cell_type": "code",
   "execution_count": 19,
   "metadata": {},
   "outputs": [
    {
     "data": {
      "text/html": [
       "<div style=\"width:100%;\"><div style=\"position:relative;width:100%;height:0;padding-bottom:60%;\"><iframe src=\"data:text/html;charset=utf-8;base64,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\" style=\"position:absolute;width:100%;height:100%;left:0;top:0;border:none !important;\" allowfullscreen webkitallowfullscreen mozallowfullscreen></iframe></div></div>"
      ],
      "text/plain": [
       "<folium.folium.Map at 0x7f5b3f0af438>"
      ]
     },
     "execution_count": 19,
     "metadata": {},
     "output_type": "execute_result"
    }
   ],
   "source": [
    "map_toronto = folium.Map(location=[latitude, longitude], zoom_start=10)\n",
    "\n",
    "# add markers to map\n",
    "for lat, lng, borough, neighborhood in zip(df['Latitude'], df['Longitude'], df['Borough'], df['Neighborhood']):\n",
    "    label = '{}; {}'.format(neighborhood, borough)\n",
    "    label_f = folium.Popup(label, parse_html=True)\n",
    "    tooltip = folium.Tooltip(label)\n",
    "    folium.CircleMarker(\n",
    "        [lat, lng],\n",
    "        radius=5,\n",
    "        popup=label_f,\n",
    "        tooltip=label,\n",
    "        color='blue',\n",
    "        fill=True,\n",
    "        fill_color='#3186cc',\n",
    "        fill_opacity=0.7,\n",
    "        parse_html=False).add_to(map_toronto)  \n",
    "    \n",
    "map_toronto"
   ]
  },
  {
   "cell_type": "code",
   "execution_count": 20,
   "metadata": {},
   "outputs": [
    {
     "name": "stdout",
     "output_type": "stream",
     "text": [
      "number of Toronto neighborhoods: 103\n"
     ]
    }
   ],
   "source": [
    "print('number of Toronto neighborhoods:', df.shape[0])"
   ]
  },
  {
   "cell_type": "markdown",
   "metadata": {},
   "source": [
    "### 3.2 Load data from Foursquare"
   ]
  },
  {
   "cell_type": "code",
   "execution_count": 21,
   "metadata": {},
   "outputs": [
    {
     "data": {
      "text/plain": [
       "'20200127'"
      ]
     },
     "execution_count": 21,
     "metadata": {},
     "output_type": "execute_result"
    }
   ],
   "source": [
    "LIMIT = 100\n",
    "VERSION = date.today().strftime(\"%Y%m%d\")\n",
    "VERSION"
   ]
  },
  {
   "cell_type": "code",
   "execution_count": 22,
   "metadata": {},
   "outputs": [],
   "source": [
    "def getNearbyVenues(names, latitudes, longitudes, radius=500):\n",
    "    \n",
    "    venues_list=[]\n",
    "    for name, lat, lng in zip(names, latitudes, longitudes):\n",
    "        print(name)\n",
    "            \n",
    "        # create the API request URL\n",
    "        url = 'https://api.foursquare.com/v2/venues/explore?&client_id={}&client_secret={}&v={}&ll={},{}&radius={}&limit={}'.format(\n",
    "            CLIENT_ID, \n",
    "            CLIENT_SECRET, \n",
    "            VERSION, \n",
    "            lat, \n",
    "            lng, \n",
    "            radius, \n",
    "            LIMIT)\n",
    "            \n",
    "        # make the GET request\n",
    "        results = requests.get(url).json()[\"response\"]['groups'][0]['items']\n",
    "        \n",
    "        # return only relevant information for each nearby venue\n",
    "        venues_list.append([(\n",
    "            name, \n",
    "            lat, \n",
    "            lng, \n",
    "            v['venue']['name'], \n",
    "            v['venue']['location']['lat'], \n",
    "            v['venue']['location']['lng'],  \n",
    "            v['venue']['categories'][0]['name']) for v in results])\n",
    "\n",
    "    nearby_venues = pd.DataFrame([item for venue_list in venues_list for item in venue_list])\n",
    "    nearby_venues.columns = ['Neighborhood', \n",
    "                  'Neighborhood Latitude', \n",
    "                  'Neighborhood Longitude', \n",
    "                  'Venue', \n",
    "                  'Venue Latitude', \n",
    "                  'Venue Longitude', \n",
    "                  'Venue Category']\n",
    "    \n",
    "    return(nearby_venues)"
   ]
  },
  {
   "cell_type": "code",
   "execution_count": 23,
   "metadata": {},
   "outputs": [],
   "source": [
    "# toronto_venues = getNearbyVenues(\n",
    "#     names=df['Neighborhood'],\n",
    "#     latitudes=df['Latitude'],\n",
    "#     longitudes=df['Longitude']\n",
    "# )"
   ]
  },
  {
   "cell_type": "markdown",
   "metadata": {},
   "source": [
    "### Save data to the file and then work only with file if you don't want to load it again from Foursquare"
   ]
  },
  {
   "cell_type": "code",
   "execution_count": 24,
   "metadata": {},
   "outputs": [],
   "source": [
    "# toronto_venues.to_csv('toronto_venues.csv')"
   ]
  },
  {
   "cell_type": "code",
   "execution_count": 25,
   "metadata": {},
   "outputs": [],
   "source": [
    "toronto_venues = pd.read_csv('toronto_venues.csv')"
   ]
  },
  {
   "cell_type": "code",
   "execution_count": 26,
   "metadata": {},
   "outputs": [
    {
     "name": "stdout",
     "output_type": "stream",
     "text": [
      "(2213, 8)\n"
     ]
    },
    {
     "data": {
      "text/html": [
       "<div>\n",
       "<style scoped>\n",
       "    .dataframe tbody tr th:only-of-type {\n",
       "        vertical-align: middle;\n",
       "    }\n",
       "\n",
       "    .dataframe tbody tr th {\n",
       "        vertical-align: top;\n",
       "    }\n",
       "\n",
       "    .dataframe thead th {\n",
       "        text-align: right;\n",
       "    }\n",
       "</style>\n",
       "<table border=\"1\" class=\"dataframe\">\n",
       "  <thead>\n",
       "    <tr style=\"text-align: right;\">\n",
       "      <th></th>\n",
       "      <th>Unnamed: 0</th>\n",
       "      <th>Neighborhood</th>\n",
       "      <th>Neighborhood Latitude</th>\n",
       "      <th>Neighborhood Longitude</th>\n",
       "      <th>Venue</th>\n",
       "      <th>Venue Latitude</th>\n",
       "      <th>Venue Longitude</th>\n",
       "      <th>Venue Category</th>\n",
       "    </tr>\n",
       "  </thead>\n",
       "  <tbody>\n",
       "    <tr>\n",
       "      <th>0</th>\n",
       "      <td>0</td>\n",
       "      <td>Scarborough, Malvern</td>\n",
       "      <td>43.806686</td>\n",
       "      <td>-79.194353</td>\n",
       "      <td>Wendy's</td>\n",
       "      <td>43.807448</td>\n",
       "      <td>-79.199056</td>\n",
       "      <td>Fast Food Restaurant</td>\n",
       "    </tr>\n",
       "    <tr>\n",
       "      <th>1</th>\n",
       "      <td>1</td>\n",
       "      <td>Scarborough, Port Union</td>\n",
       "      <td>43.784535</td>\n",
       "      <td>-79.160497</td>\n",
       "      <td>Royal Canadian Legion</td>\n",
       "      <td>43.782533</td>\n",
       "      <td>-79.163085</td>\n",
       "      <td>Bar</td>\n",
       "    </tr>\n",
       "    <tr>\n",
       "      <th>2</th>\n",
       "      <td>2</td>\n",
       "      <td>Scarborough, Port Union</td>\n",
       "      <td>43.784535</td>\n",
       "      <td>-79.160497</td>\n",
       "      <td>Scarborough Historical Society</td>\n",
       "      <td>43.788755</td>\n",
       "      <td>-79.162438</td>\n",
       "      <td>History Museum</td>\n",
       "    </tr>\n",
       "    <tr>\n",
       "      <th>3</th>\n",
       "      <td>3</td>\n",
       "      <td>Scarborough, West Hill</td>\n",
       "      <td>43.763573</td>\n",
       "      <td>-79.188711</td>\n",
       "      <td>Swiss Chalet Rotisserie &amp; Grill</td>\n",
       "      <td>43.767697</td>\n",
       "      <td>-79.189914</td>\n",
       "      <td>Pizza Place</td>\n",
       "    </tr>\n",
       "    <tr>\n",
       "      <th>4</th>\n",
       "      <td>4</td>\n",
       "      <td>Scarborough, West Hill</td>\n",
       "      <td>43.763573</td>\n",
       "      <td>-79.188711</td>\n",
       "      <td>G &amp; G Electronics</td>\n",
       "      <td>43.765309</td>\n",
       "      <td>-79.191537</td>\n",
       "      <td>Electronics Store</td>\n",
       "    </tr>\n",
       "  </tbody>\n",
       "</table>\n",
       "</div>"
      ],
      "text/plain": [
       "   Unnamed: 0             Neighborhood  Neighborhood Latitude  \\\n",
       "0           0     Scarborough, Malvern              43.806686   \n",
       "1           1  Scarborough, Port Union              43.784535   \n",
       "2           2  Scarborough, Port Union              43.784535   \n",
       "3           3   Scarborough, West Hill              43.763573   \n",
       "4           4   Scarborough, West Hill              43.763573   \n",
       "\n",
       "   Neighborhood Longitude                            Venue  Venue Latitude  \\\n",
       "0              -79.194353                          Wendy's       43.807448   \n",
       "1              -79.160497            Royal Canadian Legion       43.782533   \n",
       "2              -79.160497   Scarborough Historical Society       43.788755   \n",
       "3              -79.188711  Swiss Chalet Rotisserie & Grill       43.767697   \n",
       "4              -79.188711                G & G Electronics       43.765309   \n",
       "\n",
       "   Venue Longitude        Venue Category  \n",
       "0       -79.199056  Fast Food Restaurant  \n",
       "1       -79.163085                   Bar  \n",
       "2       -79.162438        History Museum  \n",
       "3       -79.189914           Pizza Place  \n",
       "4       -79.191537     Electronics Store  "
      ]
     },
     "execution_count": 26,
     "metadata": {},
     "output_type": "execute_result"
    }
   ],
   "source": [
    "print(toronto_venues.shape)\n",
    "toronto_venues.head()"
   ]
  },
  {
   "cell_type": "code",
   "execution_count": 27,
   "metadata": {},
   "outputs": [],
   "source": [
    "toronto_venues.drop(columns=['Unnamed: 0'], inplace=True, axis=1)"
   ]
  },
  {
   "cell_type": "code",
   "execution_count": 28,
   "metadata": {},
   "outputs": [
    {
     "name": "stdout",
     "output_type": "stream",
     "text": [
      "There are 266 uniques categories.\n"
     ]
    }
   ],
   "source": [
    "print('There are {} uniques categories.'.format(len(toronto_venues['Venue Category'].unique())))"
   ]
  },
  {
   "cell_type": "markdown",
   "metadata": {},
   "source": [
    "### 3.3 Analyze Each Neighborhood"
   ]
  },
  {
   "cell_type": "code",
   "execution_count": 29,
   "metadata": {},
   "outputs": [
    {
     "data": {
      "text/html": [
       "<div>\n",
       "<style scoped>\n",
       "    .dataframe tbody tr th:only-of-type {\n",
       "        vertical-align: middle;\n",
       "    }\n",
       "\n",
       "    .dataframe tbody tr th {\n",
       "        vertical-align: top;\n",
       "    }\n",
       "\n",
       "    .dataframe thead th {\n",
       "        text-align: right;\n",
       "    }\n",
       "</style>\n",
       "<table border=\"1\" class=\"dataframe\">\n",
       "  <thead>\n",
       "    <tr style=\"text-align: right;\">\n",
       "      <th></th>\n",
       "      <th>Yoga Studio</th>\n",
       "      <th>Accessories Store</th>\n",
       "      <th>Afghan Restaurant</th>\n",
       "      <th>Airport</th>\n",
       "      <th>Airport Food Court</th>\n",
       "      <th>Airport Gate</th>\n",
       "      <th>Airport Lounge</th>\n",
       "      <th>Airport Service</th>\n",
       "      <th>Airport Terminal</th>\n",
       "      <th>American Restaurant</th>\n",
       "      <th>...</th>\n",
       "      <th>Turkish Restaurant</th>\n",
       "      <th>Vegetarian / Vegan Restaurant</th>\n",
       "      <th>Video Game Store</th>\n",
       "      <th>Video Store</th>\n",
       "      <th>Vietnamese Restaurant</th>\n",
       "      <th>Warehouse Store</th>\n",
       "      <th>Wine Bar</th>\n",
       "      <th>Wine Shop</th>\n",
       "      <th>Wings Joint</th>\n",
       "      <th>Women's Store</th>\n",
       "    </tr>\n",
       "  </thead>\n",
       "  <tbody>\n",
       "    <tr>\n",
       "      <th>0</th>\n",
       "      <td>0</td>\n",
       "      <td>0</td>\n",
       "      <td>0</td>\n",
       "      <td>0</td>\n",
       "      <td>0</td>\n",
       "      <td>0</td>\n",
       "      <td>0</td>\n",
       "      <td>0</td>\n",
       "      <td>0</td>\n",
       "      <td>0</td>\n",
       "      <td>...</td>\n",
       "      <td>0</td>\n",
       "      <td>0</td>\n",
       "      <td>0</td>\n",
       "      <td>0</td>\n",
       "      <td>0</td>\n",
       "      <td>0</td>\n",
       "      <td>0</td>\n",
       "      <td>0</td>\n",
       "      <td>0</td>\n",
       "      <td>0</td>\n",
       "    </tr>\n",
       "    <tr>\n",
       "      <th>1</th>\n",
       "      <td>0</td>\n",
       "      <td>0</td>\n",
       "      <td>0</td>\n",
       "      <td>0</td>\n",
       "      <td>0</td>\n",
       "      <td>0</td>\n",
       "      <td>0</td>\n",
       "      <td>0</td>\n",
       "      <td>0</td>\n",
       "      <td>0</td>\n",
       "      <td>...</td>\n",
       "      <td>0</td>\n",
       "      <td>0</td>\n",
       "      <td>0</td>\n",
       "      <td>0</td>\n",
       "      <td>0</td>\n",
       "      <td>0</td>\n",
       "      <td>0</td>\n",
       "      <td>0</td>\n",
       "      <td>0</td>\n",
       "      <td>0</td>\n",
       "    </tr>\n",
       "    <tr>\n",
       "      <th>2</th>\n",
       "      <td>0</td>\n",
       "      <td>0</td>\n",
       "      <td>0</td>\n",
       "      <td>0</td>\n",
       "      <td>0</td>\n",
       "      <td>0</td>\n",
       "      <td>0</td>\n",
       "      <td>0</td>\n",
       "      <td>0</td>\n",
       "      <td>0</td>\n",
       "      <td>...</td>\n",
       "      <td>0</td>\n",
       "      <td>0</td>\n",
       "      <td>0</td>\n",
       "      <td>0</td>\n",
       "      <td>0</td>\n",
       "      <td>0</td>\n",
       "      <td>0</td>\n",
       "      <td>0</td>\n",
       "      <td>0</td>\n",
       "      <td>0</td>\n",
       "    </tr>\n",
       "    <tr>\n",
       "      <th>3</th>\n",
       "      <td>0</td>\n",
       "      <td>0</td>\n",
       "      <td>0</td>\n",
       "      <td>0</td>\n",
       "      <td>0</td>\n",
       "      <td>0</td>\n",
       "      <td>0</td>\n",
       "      <td>0</td>\n",
       "      <td>0</td>\n",
       "      <td>0</td>\n",
       "      <td>...</td>\n",
       "      <td>0</td>\n",
       "      <td>0</td>\n",
       "      <td>0</td>\n",
       "      <td>0</td>\n",
       "      <td>0</td>\n",
       "      <td>0</td>\n",
       "      <td>0</td>\n",
       "      <td>0</td>\n",
       "      <td>0</td>\n",
       "      <td>0</td>\n",
       "    </tr>\n",
       "    <tr>\n",
       "      <th>4</th>\n",
       "      <td>0</td>\n",
       "      <td>0</td>\n",
       "      <td>0</td>\n",
       "      <td>0</td>\n",
       "      <td>0</td>\n",
       "      <td>0</td>\n",
       "      <td>0</td>\n",
       "      <td>0</td>\n",
       "      <td>0</td>\n",
       "      <td>0</td>\n",
       "      <td>...</td>\n",
       "      <td>0</td>\n",
       "      <td>0</td>\n",
       "      <td>0</td>\n",
       "      <td>0</td>\n",
       "      <td>0</td>\n",
       "      <td>0</td>\n",
       "      <td>0</td>\n",
       "      <td>0</td>\n",
       "      <td>0</td>\n",
       "      <td>0</td>\n",
       "    </tr>\n",
       "  </tbody>\n",
       "</table>\n",
       "<p>5 rows × 266 columns</p>\n",
       "</div>"
      ],
      "text/plain": [
       "   Yoga Studio  Accessories Store  Afghan Restaurant  Airport  \\\n",
       "0            0                  0                  0        0   \n",
       "1            0                  0                  0        0   \n",
       "2            0                  0                  0        0   \n",
       "3            0                  0                  0        0   \n",
       "4            0                  0                  0        0   \n",
       "\n",
       "   Airport Food Court  Airport Gate  Airport Lounge  Airport Service  \\\n",
       "0                   0             0               0                0   \n",
       "1                   0             0               0                0   \n",
       "2                   0             0               0                0   \n",
       "3                   0             0               0                0   \n",
       "4                   0             0               0                0   \n",
       "\n",
       "   Airport Terminal  American Restaurant  ...  Turkish Restaurant  \\\n",
       "0                 0                    0  ...                   0   \n",
       "1                 0                    0  ...                   0   \n",
       "2                 0                    0  ...                   0   \n",
       "3                 0                    0  ...                   0   \n",
       "4                 0                    0  ...                   0   \n",
       "\n",
       "   Vegetarian / Vegan Restaurant  Video Game Store  Video Store  \\\n",
       "0                              0                 0            0   \n",
       "1                              0                 0            0   \n",
       "2                              0                 0            0   \n",
       "3                              0                 0            0   \n",
       "4                              0                 0            0   \n",
       "\n",
       "   Vietnamese Restaurant  Warehouse Store  Wine Bar  Wine Shop  Wings Joint  \\\n",
       "0                      0                0         0          0            0   \n",
       "1                      0                0         0          0            0   \n",
       "2                      0                0         0          0            0   \n",
       "3                      0                0         0          0            0   \n",
       "4                      0                0         0          0            0   \n",
       "\n",
       "   Women's Store  \n",
       "0              0  \n",
       "1              0  \n",
       "2              0  \n",
       "3              0  \n",
       "4              0  \n",
       "\n",
       "[5 rows x 266 columns]"
      ]
     },
     "execution_count": 29,
     "metadata": {},
     "output_type": "execute_result"
    }
   ],
   "source": [
    "# one hot encoding\n",
    "toronto_onehot = pd.get_dummies(toronto_venues[['Venue Category']], prefix=\"\", prefix_sep=\"\")\n",
    "\n",
    "# add neighborhood column back to dataframe\n",
    "toronto_onehot['Neighborhood'] = toronto_venues['Neighborhood'] \n",
    "\n",
    "# move neighborhood column to the first column\n",
    "fixed_columns = [toronto_onehot.columns[-1]] + list(toronto_onehot.columns[:-1])\n",
    "toronto_onehot = toronto_onehot[fixed_columns]\n",
    "\n",
    "toronto_onehot.head()"
   ]
  },
  {
   "cell_type": "markdown",
   "metadata": {},
   "source": [
    "### group rows by neighborhood and by taking the mean of the frequency of occurrence of each category"
   ]
  },
  {
   "cell_type": "code",
   "execution_count": 30,
   "metadata": {},
   "outputs": [
    {
     "name": "stdout",
     "output_type": "stream",
     "text": [
      "(98, 266)\n"
     ]
    },
    {
     "data": {
      "text/html": [
       "<div>\n",
       "<style scoped>\n",
       "    .dataframe tbody tr th:only-of-type {\n",
       "        vertical-align: middle;\n",
       "    }\n",
       "\n",
       "    .dataframe tbody tr th {\n",
       "        vertical-align: top;\n",
       "    }\n",
       "\n",
       "    .dataframe thead th {\n",
       "        text-align: right;\n",
       "    }\n",
       "</style>\n",
       "<table border=\"1\" class=\"dataframe\">\n",
       "  <thead>\n",
       "    <tr style=\"text-align: right;\">\n",
       "      <th></th>\n",
       "      <th>Neighborhood</th>\n",
       "      <th>Yoga Studio</th>\n",
       "      <th>Accessories Store</th>\n",
       "      <th>Afghan Restaurant</th>\n",
       "      <th>Airport</th>\n",
       "      <th>Airport Food Court</th>\n",
       "      <th>Airport Gate</th>\n",
       "      <th>Airport Lounge</th>\n",
       "      <th>Airport Service</th>\n",
       "      <th>Airport Terminal</th>\n",
       "      <th>...</th>\n",
       "      <th>Turkish Restaurant</th>\n",
       "      <th>Vegetarian / Vegan Restaurant</th>\n",
       "      <th>Video Game Store</th>\n",
       "      <th>Video Store</th>\n",
       "      <th>Vietnamese Restaurant</th>\n",
       "      <th>Warehouse Store</th>\n",
       "      <th>Wine Bar</th>\n",
       "      <th>Wine Shop</th>\n",
       "      <th>Wings Joint</th>\n",
       "      <th>Women's Store</th>\n",
       "    </tr>\n",
       "  </thead>\n",
       "  <tbody>\n",
       "    <tr>\n",
       "      <th>0</th>\n",
       "      <td>Agincourt</td>\n",
       "      <td>0.0</td>\n",
       "      <td>0.0</td>\n",
       "      <td>0.0</td>\n",
       "      <td>0.0</td>\n",
       "      <td>0.0</td>\n",
       "      <td>0.0</td>\n",
       "      <td>0.0</td>\n",
       "      <td>0.0</td>\n",
       "      <td>0.0</td>\n",
       "      <td>...</td>\n",
       "      <td>0.0</td>\n",
       "      <td>0.000000</td>\n",
       "      <td>0.0</td>\n",
       "      <td>0.0</td>\n",
       "      <td>0.0</td>\n",
       "      <td>0.0</td>\n",
       "      <td>0.0</td>\n",
       "      <td>0.0</td>\n",
       "      <td>0.0</td>\n",
       "      <td>0.00</td>\n",
       "    </tr>\n",
       "    <tr>\n",
       "      <th>1</th>\n",
       "      <td>Bayview Village</td>\n",
       "      <td>0.0</td>\n",
       "      <td>0.0</td>\n",
       "      <td>0.0</td>\n",
       "      <td>0.0</td>\n",
       "      <td>0.0</td>\n",
       "      <td>0.0</td>\n",
       "      <td>0.0</td>\n",
       "      <td>0.0</td>\n",
       "      <td>0.0</td>\n",
       "      <td>...</td>\n",
       "      <td>0.0</td>\n",
       "      <td>0.000000</td>\n",
       "      <td>0.0</td>\n",
       "      <td>0.0</td>\n",
       "      <td>0.0</td>\n",
       "      <td>0.0</td>\n",
       "      <td>0.0</td>\n",
       "      <td>0.0</td>\n",
       "      <td>0.0</td>\n",
       "      <td>0.00</td>\n",
       "    </tr>\n",
       "    <tr>\n",
       "      <th>2</th>\n",
       "      <td>Berczy Park</td>\n",
       "      <td>0.0</td>\n",
       "      <td>0.0</td>\n",
       "      <td>0.0</td>\n",
       "      <td>0.0</td>\n",
       "      <td>0.0</td>\n",
       "      <td>0.0</td>\n",
       "      <td>0.0</td>\n",
       "      <td>0.0</td>\n",
       "      <td>0.0</td>\n",
       "      <td>...</td>\n",
       "      <td>0.0</td>\n",
       "      <td>0.017857</td>\n",
       "      <td>0.0</td>\n",
       "      <td>0.0</td>\n",
       "      <td>0.0</td>\n",
       "      <td>0.0</td>\n",
       "      <td>0.0</td>\n",
       "      <td>0.0</td>\n",
       "      <td>0.0</td>\n",
       "      <td>0.00</td>\n",
       "    </tr>\n",
       "    <tr>\n",
       "      <th>3</th>\n",
       "      <td>Business Reply Mail Processing Centre 969 Eastern</td>\n",
       "      <td>0.0</td>\n",
       "      <td>0.0</td>\n",
       "      <td>0.0</td>\n",
       "      <td>0.0</td>\n",
       "      <td>0.0</td>\n",
       "      <td>0.0</td>\n",
       "      <td>0.0</td>\n",
       "      <td>0.0</td>\n",
       "      <td>0.0</td>\n",
       "      <td>...</td>\n",
       "      <td>0.0</td>\n",
       "      <td>0.000000</td>\n",
       "      <td>0.0</td>\n",
       "      <td>0.0</td>\n",
       "      <td>0.0</td>\n",
       "      <td>0.0</td>\n",
       "      <td>0.0</td>\n",
       "      <td>0.0</td>\n",
       "      <td>0.0</td>\n",
       "      <td>0.00</td>\n",
       "    </tr>\n",
       "    <tr>\n",
       "      <th>4</th>\n",
       "      <td>Caledonia-Fairbanks</td>\n",
       "      <td>0.0</td>\n",
       "      <td>0.0</td>\n",
       "      <td>0.0</td>\n",
       "      <td>0.0</td>\n",
       "      <td>0.0</td>\n",
       "      <td>0.0</td>\n",
       "      <td>0.0</td>\n",
       "      <td>0.0</td>\n",
       "      <td>0.0</td>\n",
       "      <td>...</td>\n",
       "      <td>0.0</td>\n",
       "      <td>0.000000</td>\n",
       "      <td>0.0</td>\n",
       "      <td>0.0</td>\n",
       "      <td>0.0</td>\n",
       "      <td>0.0</td>\n",
       "      <td>0.0</td>\n",
       "      <td>0.0</td>\n",
       "      <td>0.0</td>\n",
       "      <td>0.25</td>\n",
       "    </tr>\n",
       "  </tbody>\n",
       "</table>\n",
       "<p>5 rows × 266 columns</p>\n",
       "</div>"
      ],
      "text/plain": [
       "                                        Neighborhood  Yoga Studio  \\\n",
       "0                                          Agincourt          0.0   \n",
       "1                                    Bayview Village          0.0   \n",
       "2                                        Berczy Park          0.0   \n",
       "3  Business Reply Mail Processing Centre 969 Eastern          0.0   \n",
       "4                                Caledonia-Fairbanks          0.0   \n",
       "\n",
       "   Accessories Store  Afghan Restaurant  Airport  Airport Food Court  \\\n",
       "0                0.0                0.0      0.0                 0.0   \n",
       "1                0.0                0.0      0.0                 0.0   \n",
       "2                0.0                0.0      0.0                 0.0   \n",
       "3                0.0                0.0      0.0                 0.0   \n",
       "4                0.0                0.0      0.0                 0.0   \n",
       "\n",
       "   Airport Gate  Airport Lounge  Airport Service  Airport Terminal  ...  \\\n",
       "0           0.0             0.0              0.0               0.0  ...   \n",
       "1           0.0             0.0              0.0               0.0  ...   \n",
       "2           0.0             0.0              0.0               0.0  ...   \n",
       "3           0.0             0.0              0.0               0.0  ...   \n",
       "4           0.0             0.0              0.0               0.0  ...   \n",
       "\n",
       "   Turkish Restaurant  Vegetarian / Vegan Restaurant  Video Game Store  \\\n",
       "0                 0.0                       0.000000               0.0   \n",
       "1                 0.0                       0.000000               0.0   \n",
       "2                 0.0                       0.017857               0.0   \n",
       "3                 0.0                       0.000000               0.0   \n",
       "4                 0.0                       0.000000               0.0   \n",
       "\n",
       "   Video Store  Vietnamese Restaurant  Warehouse Store  Wine Bar  Wine Shop  \\\n",
       "0          0.0                    0.0              0.0       0.0        0.0   \n",
       "1          0.0                    0.0              0.0       0.0        0.0   \n",
       "2          0.0                    0.0              0.0       0.0        0.0   \n",
       "3          0.0                    0.0              0.0       0.0        0.0   \n",
       "4          0.0                    0.0              0.0       0.0        0.0   \n",
       "\n",
       "   Wings Joint  Women's Store  \n",
       "0          0.0           0.00  \n",
       "1          0.0           0.00  \n",
       "2          0.0           0.00  \n",
       "3          0.0           0.00  \n",
       "4          0.0           0.25  \n",
       "\n",
       "[5 rows x 266 columns]"
      ]
     },
     "execution_count": 30,
     "metadata": {},
     "output_type": "execute_result"
    }
   ],
   "source": [
    "toronto_grouped = toronto_onehot.groupby('Neighborhood').mean().reset_index()\n",
    "print(toronto_grouped.shape)\n",
    "toronto_grouped.head()"
   ]
  },
  {
   "cell_type": "markdown",
   "metadata": {},
   "source": [
    "### sort the venues in descending order"
   ]
  },
  {
   "cell_type": "code",
   "execution_count": 31,
   "metadata": {},
   "outputs": [],
   "source": [
    "def return_most_common_venues(row, num_top_venues):\n",
    "    row_categories = row.iloc[1:]\n",
    "    row_categories_sorted = row_categories.sort_values(ascending=False)\n",
    "    \n",
    "    return row_categories_sorted.index.values[0:num_top_venues]"
   ]
  },
  {
   "cell_type": "markdown",
   "metadata": {},
   "source": [
    "### create the new dataframe and display the top 10 venues for each neighborhood"
   ]
  },
  {
   "cell_type": "code",
   "execution_count": 32,
   "metadata": {},
   "outputs": [
    {
     "data": {
      "text/html": [
       "<div>\n",
       "<style scoped>\n",
       "    .dataframe tbody tr th:only-of-type {\n",
       "        vertical-align: middle;\n",
       "    }\n",
       "\n",
       "    .dataframe tbody tr th {\n",
       "        vertical-align: top;\n",
       "    }\n",
       "\n",
       "    .dataframe thead th {\n",
       "        text-align: right;\n",
       "    }\n",
       "</style>\n",
       "<table border=\"1\" class=\"dataframe\">\n",
       "  <thead>\n",
       "    <tr style=\"text-align: right;\">\n",
       "      <th></th>\n",
       "      <th>Neighborhood</th>\n",
       "      <th>1st Most Common Venue</th>\n",
       "      <th>2nd Most Common Venue</th>\n",
       "      <th>3rd Most Common Venue</th>\n",
       "      <th>4th Most Common Venue</th>\n",
       "      <th>5th Most Common Venue</th>\n",
       "      <th>6th Most Common Venue</th>\n",
       "      <th>7th Most Common Venue</th>\n",
       "      <th>8th Most Common Venue</th>\n",
       "      <th>9th Most Common Venue</th>\n",
       "      <th>10th Most Common Venue</th>\n",
       "    </tr>\n",
       "  </thead>\n",
       "  <tbody>\n",
       "    <tr>\n",
       "      <th>0</th>\n",
       "      <td>Agincourt</td>\n",
       "      <td>Latin American Restaurant</td>\n",
       "      <td>Lounge</td>\n",
       "      <td>Skating Rink</td>\n",
       "      <td>Breakfast Spot</td>\n",
       "      <td>Donut Shop</td>\n",
       "      <td>Dim Sum Restaurant</td>\n",
       "      <td>Diner</td>\n",
       "      <td>Discount Store</td>\n",
       "      <td>Dog Run</td>\n",
       "      <td>Doner Restaurant</td>\n",
       "    </tr>\n",
       "    <tr>\n",
       "      <th>1</th>\n",
       "      <td>Bayview Village</td>\n",
       "      <td>Café</td>\n",
       "      <td>Bank</td>\n",
       "      <td>Chinese Restaurant</td>\n",
       "      <td>Japanese Restaurant</td>\n",
       "      <td>Doner Restaurant</td>\n",
       "      <td>Dim Sum Restaurant</td>\n",
       "      <td>Diner</td>\n",
       "      <td>Discount Store</td>\n",
       "      <td>Dog Run</td>\n",
       "      <td>Donut Shop</td>\n",
       "    </tr>\n",
       "    <tr>\n",
       "      <th>2</th>\n",
       "      <td>Berczy Park</td>\n",
       "      <td>Coffee Shop</td>\n",
       "      <td>Cocktail Bar</td>\n",
       "      <td>Farmers Market</td>\n",
       "      <td>Beer Bar</td>\n",
       "      <td>Seafood Restaurant</td>\n",
       "      <td>Café</td>\n",
       "      <td>Cheese Shop</td>\n",
       "      <td>Bakery</td>\n",
       "      <td>Steakhouse</td>\n",
       "      <td>Beach</td>\n",
       "    </tr>\n",
       "    <tr>\n",
       "      <th>3</th>\n",
       "      <td>Business Reply Mail Processing Centre 969 Eastern</td>\n",
       "      <td>Light Rail Station</td>\n",
       "      <td>Auto Workshop</td>\n",
       "      <td>Brewery</td>\n",
       "      <td>Farmers Market</td>\n",
       "      <td>Fast Food Restaurant</td>\n",
       "      <td>Burrito Place</td>\n",
       "      <td>Butcher</td>\n",
       "      <td>Restaurant</td>\n",
       "      <td>Recording Studio</td>\n",
       "      <td>Skate Park</td>\n",
       "    </tr>\n",
       "    <tr>\n",
       "      <th>4</th>\n",
       "      <td>Caledonia-Fairbanks</td>\n",
       "      <td>Women's Store</td>\n",
       "      <td>Park</td>\n",
       "      <td>Fast Food Restaurant</td>\n",
       "      <td>Market</td>\n",
       "      <td>Doner Restaurant</td>\n",
       "      <td>Dessert Shop</td>\n",
       "      <td>Dim Sum Restaurant</td>\n",
       "      <td>Diner</td>\n",
       "      <td>Discount Store</td>\n",
       "      <td>Dog Run</td>\n",
       "    </tr>\n",
       "  </tbody>\n",
       "</table>\n",
       "</div>"
      ],
      "text/plain": [
       "                                        Neighborhood  \\\n",
       "0                                          Agincourt   \n",
       "1                                    Bayview Village   \n",
       "2                                        Berczy Park   \n",
       "3  Business Reply Mail Processing Centre 969 Eastern   \n",
       "4                                Caledonia-Fairbanks   \n",
       "\n",
       "       1st Most Common Venue 2nd Most Common Venue 3rd Most Common Venue  \\\n",
       "0  Latin American Restaurant                Lounge          Skating Rink   \n",
       "1                       Café                  Bank    Chinese Restaurant   \n",
       "2                Coffee Shop          Cocktail Bar        Farmers Market   \n",
       "3         Light Rail Station         Auto Workshop               Brewery   \n",
       "4              Women's Store                  Park  Fast Food Restaurant   \n",
       "\n",
       "  4th Most Common Venue 5th Most Common Venue 6th Most Common Venue  \\\n",
       "0        Breakfast Spot            Donut Shop    Dim Sum Restaurant   \n",
       "1   Japanese Restaurant      Doner Restaurant    Dim Sum Restaurant   \n",
       "2              Beer Bar    Seafood Restaurant                  Café   \n",
       "3        Farmers Market  Fast Food Restaurant         Burrito Place   \n",
       "4                Market      Doner Restaurant          Dessert Shop   \n",
       "\n",
       "  7th Most Common Venue 8th Most Common Venue 9th Most Common Venue  \\\n",
       "0                 Diner        Discount Store               Dog Run   \n",
       "1                 Diner        Discount Store               Dog Run   \n",
       "2           Cheese Shop                Bakery            Steakhouse   \n",
       "3               Butcher            Restaurant      Recording Studio   \n",
       "4    Dim Sum Restaurant                 Diner        Discount Store   \n",
       "\n",
       "  10th Most Common Venue  \n",
       "0       Doner Restaurant  \n",
       "1             Donut Shop  \n",
       "2                  Beach  \n",
       "3             Skate Park  \n",
       "4                Dog Run  "
      ]
     },
     "execution_count": 32,
     "metadata": {},
     "output_type": "execute_result"
    }
   ],
   "source": [
    "num_top_venues = 10\n",
    "\n",
    "indicators = ['st', 'nd', 'rd']\n",
    "\n",
    "# create columns according to number of top venues\n",
    "columns = ['Neighborhood']\n",
    "for ind in np.arange(num_top_venues):\n",
    "    try:\n",
    "        columns.append('{}{} Most Common Venue'.format(ind+1, indicators[ind]))\n",
    "    except:\n",
    "        columns.append('{}th Most Common Venue'.format(ind+1))\n",
    "\n",
    "# create a new dataframe\n",
    "neighborhoods_venues_sorted = pd.DataFrame(columns=columns)\n",
    "neighborhoods_venues_sorted['Neighborhood'] = toronto_grouped['Neighborhood']\n",
    "\n",
    "for ind in np.arange(toronto_grouped.shape[0]):\n",
    "    neighborhoods_venues_sorted.iloc[ind, 1:] = return_most_common_venues(toronto_grouped.iloc[ind, :], num_top_venues)\n",
    "\n",
    "neighborhoods_venues_sorted.head()"
   ]
  },
  {
   "cell_type": "markdown",
   "metadata": {},
   "source": [
    "### 3.4 Cluster Neighborhoods"
   ]
  },
  {
   "cell_type": "markdown",
   "metadata": {},
   "source": [
    "### Run k-means to cluster the neighborhood into 5 clusters."
   ]
  },
  {
   "cell_type": "code",
   "execution_count": 33,
   "metadata": {},
   "outputs": [
    {
     "data": {
      "text/plain": [
       "array([3, 3, 3, 3, 0, 3, 3, 3, 0, 3], dtype=int32)"
      ]
     },
     "execution_count": 33,
     "metadata": {},
     "output_type": "execute_result"
    }
   ],
   "source": [
    "# set number of clusters\n",
    "kclusters = 10\n",
    "\n",
    "toronto_grouped_clustering = toronto_grouped.drop('Neighborhood', 1)\n",
    "\n",
    "# run k-means clustering\n",
    "kmeans = KMeans(init=\"k-means++\", n_clusters=kclusters, random_state=0, n_init=12).fit(toronto_grouped_clustering)\n",
    "\n",
    "# check cluster labels generated for each row in the dataframe\n",
    "kmeans.labels_[:10]"
   ]
  },
  {
   "cell_type": "markdown",
   "metadata": {},
   "source": [
    "### new dataframe that includes the cluster as well as the top 10 venues for each neighborhood"
   ]
  },
  {
   "cell_type": "code",
   "execution_count": 34,
   "metadata": {},
   "outputs": [],
   "source": [
    "# add clustering labels\n",
    "neighborhoods_venues_sorted.insert(0, 'Cluster Labels', kmeans.labels_)\n",
    "\n",
    "toronto_merged = df\n",
    "\n",
    "# merge toronto_grouped with toronto_data to add latitude/longitude for each neighborhood\n",
    "toronto_merged = toronto_merged.join(neighborhoods_venues_sorted.set_index('Neighborhood'), on='Neighborhood')"
   ]
  },
  {
   "cell_type": "markdown",
   "metadata": {},
   "source": [
    "### delete rows with 'nan' values, and transform 'Cluster Labels' to int type"
   ]
  },
  {
   "cell_type": "code",
   "execution_count": 35,
   "metadata": {},
   "outputs": [
    {
     "data": {
      "text/html": [
       "<div>\n",
       "<style scoped>\n",
       "    .dataframe tbody tr th:only-of-type {\n",
       "        vertical-align: middle;\n",
       "    }\n",
       "\n",
       "    .dataframe tbody tr th {\n",
       "        vertical-align: top;\n",
       "    }\n",
       "\n",
       "    .dataframe thead th {\n",
       "        text-align: right;\n",
       "    }\n",
       "</style>\n",
       "<table border=\"1\" class=\"dataframe\">\n",
       "  <thead>\n",
       "    <tr style=\"text-align: right;\">\n",
       "      <th></th>\n",
       "      <th>Postcode</th>\n",
       "      <th>Borough</th>\n",
       "      <th>Neighborhood</th>\n",
       "      <th>Latitude</th>\n",
       "      <th>Longitude</th>\n",
       "      <th>Cluster Labels</th>\n",
       "      <th>1st Most Common Venue</th>\n",
       "      <th>2nd Most Common Venue</th>\n",
       "      <th>3rd Most Common Venue</th>\n",
       "      <th>4th Most Common Venue</th>\n",
       "      <th>5th Most Common Venue</th>\n",
       "      <th>6th Most Common Venue</th>\n",
       "      <th>7th Most Common Venue</th>\n",
       "      <th>8th Most Common Venue</th>\n",
       "      <th>9th Most Common Venue</th>\n",
       "      <th>10th Most Common Venue</th>\n",
       "    </tr>\n",
       "  </thead>\n",
       "  <tbody>\n",
       "    <tr>\n",
       "      <th>0</th>\n",
       "      <td>M1B</td>\n",
       "      <td>Scarborough</td>\n",
       "      <td>Scarborough, Malvern</td>\n",
       "      <td>43.806686</td>\n",
       "      <td>-79.194353</td>\n",
       "      <td>8.0</td>\n",
       "      <td>Fast Food Restaurant</td>\n",
       "      <td>Women's Store</td>\n",
       "      <td>Deli / Bodega</td>\n",
       "      <td>Empanada Restaurant</td>\n",
       "      <td>Electronics Store</td>\n",
       "      <td>Eastern European Restaurant</td>\n",
       "      <td>Dumpling Restaurant</td>\n",
       "      <td>Drugstore</td>\n",
       "      <td>Donut Shop</td>\n",
       "      <td>Doner Restaurant</td>\n",
       "    </tr>\n",
       "    <tr>\n",
       "      <th>1</th>\n",
       "      <td>M1C</td>\n",
       "      <td>Scarborough</td>\n",
       "      <td>Scarborough, Port Union</td>\n",
       "      <td>43.784535</td>\n",
       "      <td>-79.160497</td>\n",
       "      <td>3.0</td>\n",
       "      <td>History Museum</td>\n",
       "      <td>Bar</td>\n",
       "      <td>Women's Store</td>\n",
       "      <td>Doner Restaurant</td>\n",
       "      <td>Dim Sum Restaurant</td>\n",
       "      <td>Diner</td>\n",
       "      <td>Discount Store</td>\n",
       "      <td>Dog Run</td>\n",
       "      <td>Donut Shop</td>\n",
       "      <td>Department Store</td>\n",
       "    </tr>\n",
       "    <tr>\n",
       "      <th>2</th>\n",
       "      <td>M1E</td>\n",
       "      <td>Scarborough</td>\n",
       "      <td>Scarborough, West Hill</td>\n",
       "      <td>43.763573</td>\n",
       "      <td>-79.188711</td>\n",
       "      <td>3.0</td>\n",
       "      <td>Electronics Store</td>\n",
       "      <td>Breakfast Spot</td>\n",
       "      <td>Rental Car Location</td>\n",
       "      <td>Mexican Restaurant</td>\n",
       "      <td>Intersection</td>\n",
       "      <td>Medical Center</td>\n",
       "      <td>Pizza Place</td>\n",
       "      <td>Drugstore</td>\n",
       "      <td>Donut Shop</td>\n",
       "      <td>Doner Restaurant</td>\n",
       "    </tr>\n",
       "    <tr>\n",
       "      <th>3</th>\n",
       "      <td>M1G</td>\n",
       "      <td>Scarborough</td>\n",
       "      <td>Woburn</td>\n",
       "      <td>43.770992</td>\n",
       "      <td>-79.216917</td>\n",
       "      <td>9.0</td>\n",
       "      <td>Coffee Shop</td>\n",
       "      <td>Indian Restaurant</td>\n",
       "      <td>Korean Restaurant</td>\n",
       "      <td>Women's Store</td>\n",
       "      <td>Doner Restaurant</td>\n",
       "      <td>Dim Sum Restaurant</td>\n",
       "      <td>Diner</td>\n",
       "      <td>Discount Store</td>\n",
       "      <td>Dog Run</td>\n",
       "      <td>Drugstore</td>\n",
       "    </tr>\n",
       "    <tr>\n",
       "      <th>4</th>\n",
       "      <td>M1H</td>\n",
       "      <td>Scarborough</td>\n",
       "      <td>Cedarbrae</td>\n",
       "      <td>43.773136</td>\n",
       "      <td>-79.239476</td>\n",
       "      <td>3.0</td>\n",
       "      <td>Bakery</td>\n",
       "      <td>Bank</td>\n",
       "      <td>Fried Chicken Joint</td>\n",
       "      <td>Hakka Restaurant</td>\n",
       "      <td>Athletics &amp; Sports</td>\n",
       "      <td>Thai Restaurant</td>\n",
       "      <td>Caribbean Restaurant</td>\n",
       "      <td>Gas Station</td>\n",
       "      <td>Discount Store</td>\n",
       "      <td>Dessert Shop</td>\n",
       "    </tr>\n",
       "  </tbody>\n",
       "</table>\n",
       "</div>"
      ],
      "text/plain": [
       "  Postcode      Borough             Neighborhood   Latitude  Longitude  \\\n",
       "0      M1B  Scarborough     Scarborough, Malvern  43.806686 -79.194353   \n",
       "1      M1C  Scarborough  Scarborough, Port Union  43.784535 -79.160497   \n",
       "2      M1E  Scarborough   Scarborough, West Hill  43.763573 -79.188711   \n",
       "3      M1G  Scarborough                   Woburn  43.770992 -79.216917   \n",
       "4      M1H  Scarborough                Cedarbrae  43.773136 -79.239476   \n",
       "\n",
       "   Cluster Labels 1st Most Common Venue 2nd Most Common Venue  \\\n",
       "0             8.0  Fast Food Restaurant         Women's Store   \n",
       "1             3.0        History Museum                   Bar   \n",
       "2             3.0     Electronics Store        Breakfast Spot   \n",
       "3             9.0           Coffee Shop     Indian Restaurant   \n",
       "4             3.0                Bakery                  Bank   \n",
       "\n",
       "  3rd Most Common Venue 4th Most Common Venue 5th Most Common Venue  \\\n",
       "0         Deli / Bodega   Empanada Restaurant     Electronics Store   \n",
       "1         Women's Store      Doner Restaurant    Dim Sum Restaurant   \n",
       "2   Rental Car Location    Mexican Restaurant          Intersection   \n",
       "3     Korean Restaurant         Women's Store      Doner Restaurant   \n",
       "4   Fried Chicken Joint      Hakka Restaurant    Athletics & Sports   \n",
       "\n",
       "         6th Most Common Venue 7th Most Common Venue 8th Most Common Venue  \\\n",
       "0  Eastern European Restaurant   Dumpling Restaurant             Drugstore   \n",
       "1                        Diner        Discount Store               Dog Run   \n",
       "2               Medical Center           Pizza Place             Drugstore   \n",
       "3           Dim Sum Restaurant                 Diner        Discount Store   \n",
       "4              Thai Restaurant  Caribbean Restaurant           Gas Station   \n",
       "\n",
       "  9th Most Common Venue 10th Most Common Venue  \n",
       "0            Donut Shop       Doner Restaurant  \n",
       "1            Donut Shop       Department Store  \n",
       "2            Donut Shop       Doner Restaurant  \n",
       "3               Dog Run              Drugstore  \n",
       "4        Discount Store           Dessert Shop  "
      ]
     },
     "execution_count": 35,
     "metadata": {},
     "output_type": "execute_result"
    }
   ],
   "source": [
    "toronto_merged.head()"
   ]
  },
  {
   "cell_type": "code",
   "execution_count": 36,
   "metadata": {},
   "outputs": [
    {
     "data": {
      "text/plain": [
       "Postcode                  0\n",
       "Borough                   0\n",
       "Neighborhood              0\n",
       "Latitude                  0\n",
       "Longitude                 0\n",
       "Cluster Labels            4\n",
       "1st Most Common Venue     4\n",
       "2nd Most Common Venue     4\n",
       "3rd Most Common Venue     4\n",
       "4th Most Common Venue     4\n",
       "5th Most Common Venue     4\n",
       "6th Most Common Venue     4\n",
       "7th Most Common Venue     4\n",
       "8th Most Common Venue     4\n",
       "9th Most Common Venue     4\n",
       "10th Most Common Venue    4\n",
       "dtype: int64"
      ]
     },
     "execution_count": 36,
     "metadata": {},
     "output_type": "execute_result"
    }
   ],
   "source": [
    "toronto_merged.isnull().sum()"
   ]
  },
  {
   "cell_type": "code",
   "execution_count": 37,
   "metadata": {},
   "outputs": [
    {
     "data": {
      "text/plain": [
       "3    72\n",
       "0    11\n",
       "1     7\n",
       "7     3\n",
       "9     1\n",
       "8     1\n",
       "6     1\n",
       "5     1\n",
       "4     1\n",
       "2     1\n",
       "Name: Cluster Labels, dtype: int64"
      ]
     },
     "execution_count": 37,
     "metadata": {},
     "output_type": "execute_result"
    }
   ],
   "source": [
    "toronto_merged.dropna(inplace=True)\n",
    "# toronto_merged['Cluster Labels'].replace(np.nan, -1, inplace=True)\n",
    "toronto_merged['Cluster Labels'] = toronto_merged['Cluster Labels'].astype(int)\n",
    "toronto_merged['Cluster Labels'].value_counts()"
   ]
  },
  {
   "cell_type": "code",
   "execution_count": 38,
   "metadata": {},
   "outputs": [
    {
     "name": "stdout",
     "output_type": "stream",
     "text": [
      "(99, 16)\n"
     ]
    },
    {
     "data": {
      "text/html": [
       "<div>\n",
       "<style scoped>\n",
       "    .dataframe tbody tr th:only-of-type {\n",
       "        vertical-align: middle;\n",
       "    }\n",
       "\n",
       "    .dataframe tbody tr th {\n",
       "        vertical-align: top;\n",
       "    }\n",
       "\n",
       "    .dataframe thead th {\n",
       "        text-align: right;\n",
       "    }\n",
       "</style>\n",
       "<table border=\"1\" class=\"dataframe\">\n",
       "  <thead>\n",
       "    <tr style=\"text-align: right;\">\n",
       "      <th></th>\n",
       "      <th>Postcode</th>\n",
       "      <th>Borough</th>\n",
       "      <th>Neighborhood</th>\n",
       "      <th>Latitude</th>\n",
       "      <th>Longitude</th>\n",
       "      <th>Cluster Labels</th>\n",
       "      <th>1st Most Common Venue</th>\n",
       "      <th>2nd Most Common Venue</th>\n",
       "      <th>3rd Most Common Venue</th>\n",
       "      <th>4th Most Common Venue</th>\n",
       "      <th>5th Most Common Venue</th>\n",
       "      <th>6th Most Common Venue</th>\n",
       "      <th>7th Most Common Venue</th>\n",
       "      <th>8th Most Common Venue</th>\n",
       "      <th>9th Most Common Venue</th>\n",
       "      <th>10th Most Common Venue</th>\n",
       "    </tr>\n",
       "  </thead>\n",
       "  <tbody>\n",
       "    <tr>\n",
       "      <th>0</th>\n",
       "      <td>M1B</td>\n",
       "      <td>Scarborough</td>\n",
       "      <td>Scarborough, Malvern</td>\n",
       "      <td>43.806686</td>\n",
       "      <td>-79.194353</td>\n",
       "      <td>8</td>\n",
       "      <td>Fast Food Restaurant</td>\n",
       "      <td>Women's Store</td>\n",
       "      <td>Deli / Bodega</td>\n",
       "      <td>Empanada Restaurant</td>\n",
       "      <td>Electronics Store</td>\n",
       "      <td>Eastern European Restaurant</td>\n",
       "      <td>Dumpling Restaurant</td>\n",
       "      <td>Drugstore</td>\n",
       "      <td>Donut Shop</td>\n",
       "      <td>Doner Restaurant</td>\n",
       "    </tr>\n",
       "    <tr>\n",
       "      <th>1</th>\n",
       "      <td>M1C</td>\n",
       "      <td>Scarborough</td>\n",
       "      <td>Scarborough, Port Union</td>\n",
       "      <td>43.784535</td>\n",
       "      <td>-79.160497</td>\n",
       "      <td>3</td>\n",
       "      <td>History Museum</td>\n",
       "      <td>Bar</td>\n",
       "      <td>Women's Store</td>\n",
       "      <td>Doner Restaurant</td>\n",
       "      <td>Dim Sum Restaurant</td>\n",
       "      <td>Diner</td>\n",
       "      <td>Discount Store</td>\n",
       "      <td>Dog Run</td>\n",
       "      <td>Donut Shop</td>\n",
       "      <td>Department Store</td>\n",
       "    </tr>\n",
       "    <tr>\n",
       "      <th>2</th>\n",
       "      <td>M1E</td>\n",
       "      <td>Scarborough</td>\n",
       "      <td>Scarborough, West Hill</td>\n",
       "      <td>43.763573</td>\n",
       "      <td>-79.188711</td>\n",
       "      <td>3</td>\n",
       "      <td>Electronics Store</td>\n",
       "      <td>Breakfast Spot</td>\n",
       "      <td>Rental Car Location</td>\n",
       "      <td>Mexican Restaurant</td>\n",
       "      <td>Intersection</td>\n",
       "      <td>Medical Center</td>\n",
       "      <td>Pizza Place</td>\n",
       "      <td>Drugstore</td>\n",
       "      <td>Donut Shop</td>\n",
       "      <td>Doner Restaurant</td>\n",
       "    </tr>\n",
       "    <tr>\n",
       "      <th>3</th>\n",
       "      <td>M1G</td>\n",
       "      <td>Scarborough</td>\n",
       "      <td>Woburn</td>\n",
       "      <td>43.770992</td>\n",
       "      <td>-79.216917</td>\n",
       "      <td>9</td>\n",
       "      <td>Coffee Shop</td>\n",
       "      <td>Indian Restaurant</td>\n",
       "      <td>Korean Restaurant</td>\n",
       "      <td>Women's Store</td>\n",
       "      <td>Doner Restaurant</td>\n",
       "      <td>Dim Sum Restaurant</td>\n",
       "      <td>Diner</td>\n",
       "      <td>Discount Store</td>\n",
       "      <td>Dog Run</td>\n",
       "      <td>Drugstore</td>\n",
       "    </tr>\n",
       "    <tr>\n",
       "      <th>4</th>\n",
       "      <td>M1H</td>\n",
       "      <td>Scarborough</td>\n",
       "      <td>Cedarbrae</td>\n",
       "      <td>43.773136</td>\n",
       "      <td>-79.239476</td>\n",
       "      <td>3</td>\n",
       "      <td>Bakery</td>\n",
       "      <td>Bank</td>\n",
       "      <td>Fried Chicken Joint</td>\n",
       "      <td>Hakka Restaurant</td>\n",
       "      <td>Athletics &amp; Sports</td>\n",
       "      <td>Thai Restaurant</td>\n",
       "      <td>Caribbean Restaurant</td>\n",
       "      <td>Gas Station</td>\n",
       "      <td>Discount Store</td>\n",
       "      <td>Dessert Shop</td>\n",
       "    </tr>\n",
       "  </tbody>\n",
       "</table>\n",
       "</div>"
      ],
      "text/plain": [
       "  Postcode      Borough             Neighborhood   Latitude  Longitude  \\\n",
       "0      M1B  Scarborough     Scarborough, Malvern  43.806686 -79.194353   \n",
       "1      M1C  Scarborough  Scarborough, Port Union  43.784535 -79.160497   \n",
       "2      M1E  Scarborough   Scarborough, West Hill  43.763573 -79.188711   \n",
       "3      M1G  Scarborough                   Woburn  43.770992 -79.216917   \n",
       "4      M1H  Scarborough                Cedarbrae  43.773136 -79.239476   \n",
       "\n",
       "   Cluster Labels 1st Most Common Venue 2nd Most Common Venue  \\\n",
       "0               8  Fast Food Restaurant         Women's Store   \n",
       "1               3        History Museum                   Bar   \n",
       "2               3     Electronics Store        Breakfast Spot   \n",
       "3               9           Coffee Shop     Indian Restaurant   \n",
       "4               3                Bakery                  Bank   \n",
       "\n",
       "  3rd Most Common Venue 4th Most Common Venue 5th Most Common Venue  \\\n",
       "0         Deli / Bodega   Empanada Restaurant     Electronics Store   \n",
       "1         Women's Store      Doner Restaurant    Dim Sum Restaurant   \n",
       "2   Rental Car Location    Mexican Restaurant          Intersection   \n",
       "3     Korean Restaurant         Women's Store      Doner Restaurant   \n",
       "4   Fried Chicken Joint      Hakka Restaurant    Athletics & Sports   \n",
       "\n",
       "         6th Most Common Venue 7th Most Common Venue 8th Most Common Venue  \\\n",
       "0  Eastern European Restaurant   Dumpling Restaurant             Drugstore   \n",
       "1                        Diner        Discount Store               Dog Run   \n",
       "2               Medical Center           Pizza Place             Drugstore   \n",
       "3           Dim Sum Restaurant                 Diner        Discount Store   \n",
       "4              Thai Restaurant  Caribbean Restaurant           Gas Station   \n",
       "\n",
       "  9th Most Common Venue 10th Most Common Venue  \n",
       "0            Donut Shop       Doner Restaurant  \n",
       "1            Donut Shop       Department Store  \n",
       "2            Donut Shop       Doner Restaurant  \n",
       "3               Dog Run              Drugstore  \n",
       "4        Discount Store           Dessert Shop  "
      ]
     },
     "execution_count": 38,
     "metadata": {},
     "output_type": "execute_result"
    }
   ],
   "source": [
    "print(toronto_merged.shape)\n",
    "toronto_merged.head() # check the last columns!"
   ]
  },
  {
   "cell_type": "markdown",
   "metadata": {},
   "source": [
    "### visualize the resulting clusters"
   ]
  },
  {
   "cell_type": "code",
   "execution_count": 39,
   "metadata": {},
   "outputs": [
    {
     "data": {
      "text/html": [
       "<div style=\"width:100%;\"><div style=\"position:relative;width:100%;height:0;padding-bottom:60%;\"><iframe src=\"data:text/html;charset=utf-8;base64,PCFET0NUWVBFIGh0bWw+CjxoZWFkPiAgICAKICAgIDxtZXRhIGh0dHAtZXF1aXY9ImNvbnRlbnQtdHlwZSIgY29udGVudD0idGV4dC9odG1sOyBjaGFyc2V0PVVURi04IiAvPgogICAgCiAgICAgICAgPHNjcmlwdD4KICAgICAgICAgICAgTF9OT19UT1VDSCA9IGZhbHNlOwogICAgICAgICAgICBMX0RJU0FCTEVfM0QgPSBmYWxzZTsKICAgICAgICA8L3NjcmlwdD4KICAgIAogICAgPHNjcmlwdCBzcmM9Imh0dHBzOi8vY2RuLmpzZGVsaXZyLm5ldC9ucG0vbGVhZmxldEAxLjUuMS9kaXN0L2xlYWZsZXQuanMiPjwvc2NyaXB0PgogICAgPHNjcmlwdCBzcmM9Imh0dHBzOi8vY29kZS5qcXVlcnkuY29tL2pxdWVyeS0xLjEyLjQubWluLmpzIj48L3NjcmlwdD4KICAgIDxzY3JpcHQgc3JjPSJodHRwczovL21heGNkbi5ib290c3RyYXBjZG4uY29tL2Jvb3RzdHJhcC8zLjIuMC9qcy9ib290c3RyYXAubWluLmpzIj48L3NjcmlwdD4KICAgIDxzY3JpcHQgc3JjPSJodHRwczovL2NkbmpzLmNsb3VkZmxhcmUuY29tL2FqYXgvbGlicy9MZWFmbGV0LmF3ZXNvbWUtbWFya2Vycy8yLjAuMi9sZWFmbGV0LmF3ZXNvbWUtbWFya2Vycy5qcyI+PC9zY3JpcHQ+CiAgICA8bGluayByZWw9InN0eWxlc2hlZXQiIGhyZWY9Imh0dHBzOi8vY2RuLmpzZGVsaXZyLm5ldC9ucG0vbGVhZmxldEAxLjUuMS9kaXN0L2xlYWZsZXQuY3NzIi8+CiAgICA8bGluayByZWw9InN0eWxlc2hlZXQiIGhyZWY9Imh0dHBzOi8vbWF4Y2RuLmJvb3RzdHJhcGNkbi5jb20vYm9vdHN0cmFwLzMuMi4wL2Nzcy9ib290c3RyYXAubWluLmNzcyIvPgogICAgPGxpbmsgcmVsPSJzdHlsZXNoZWV0IiBocmVmPSJodHRwczovL21heGNkbi5ib290c3RyYXBjZG4uY29tL2Jvb3RzdHJhcC8zLjIuMC9jc3MvYm9vdHN0cmFwLXRoZW1lLm1pbi5jc3MiLz4KICAgIDxsaW5rIHJlbD0ic3R5bGVzaGVldCIgaHJlZj0iaHR0cHM6Ly9tYXhjZG4uYm9vdHN0cmFwY2RuLmNvbS9mb250LWF3ZXNvbWUvNC42LjMvY3NzL2ZvbnQtYXdlc29tZS5taW4uY3NzIi8+CiAgICA8bGluayByZWw9InN0eWxlc2hlZXQiIGhyZWY9Imh0dHBzOi8vY2RuanMuY2xvdWRmbGFyZS5jb20vYWpheC9saWJzL0xlYWZsZXQuYXdlc29tZS1tYXJrZXJzLzIuMC4yL2xlYWZsZXQuYXdlc29tZS1tYXJrZXJzLmNzcyIvPgogICAgPGxpbmsgcmVsPSJzdHlsZXNoZWV0IiBocmVmPSJodHRwczovL3Jhd2Nkbi5naXRoYWNrLmNvbS9weXRob24tdmlzdWFsaXphdGlvbi9mb2xpdW0vbWFzdGVyL2ZvbGl1bS90ZW1wbGF0ZXMvbGVhZmxldC5hd2Vzb21lLnJvdGF0ZS5jc3MiLz4KICAgIDxzdHlsZT5odG1sLCBib2R5IHt3aWR0aDogMTAwJTtoZWlnaHQ6IDEwMCU7bWFyZ2luOiAwO3BhZGRpbmc6IDA7fTwvc3R5bGU+CiAgICA8c3R5bGU+I21hcCB7cG9zaXRpb246YWJzb2x1dGU7dG9wOjA7Ym90dG9tOjA7cmlnaHQ6MDtsZWZ0OjA7fTwvc3R5bGU+CiAgICAKICAgICAgICAgICAgPG1ldGEgbmFtZT0idmlld3BvcnQiIGNvbnRlbnQ9IndpZHRoPWRldmljZS13aWR0aCwKICAgICAgICAgICAgICAgIGluaXRpYWwtc2NhbGU9MS4wLCBtYXhpbXVtLXNjYWxlPTEuMCwgdXNlci1zY2FsYWJsZT1ubyIgLz4KICAgICAgICAgICAgPHN0eWxlPgogICAgICAgICAgICAgICAgI21hcF8wZDVjYTY1YTcyMWQ0YmM2ODYyMjBiOWFhZTM3ZGQwZSB7CiAgICAgICAgICAgICAgICAgICAgcG9zaXRpb246IHJlbGF0aXZlOwogICAgICAgICAgICAgICAgICAgIHdpZHRoOiAxMDAuMCU7CiAgICAgICAgICAgICAgICAgICAgaGVpZ2h0OiAxMDAuMCU7CiAgICAgICAgICAgICAgICAgICAgbGVmdDogMC4wJTsKICAgICAgICAgICAgICAgICAgICB0b3A6IDAuMCU7CiAgICAgICAgICAgICAgICB9CiAgICAgICAgICAgIDwvc3R5bGU+CiAgICAgICAgCjwvaGVhZD4KPGJvZHk+ICAgIAogICAgCiAgICAgICAgICAgIDxkaXYgY2xhc3M9ImZvbGl1bS1tYXAiIGlkPSJtYXBfMGQ1Y2E2NWE3MjFkNGJjNjg2MjIwYjlhYWUzN2RkMGUiID48L2Rpdj4KICAgICAgICAKPC9ib2R5Pgo8c2NyaXB0PiAgICAKICAgIAogICAgICAgICAgICB2YXIgbWFwXzBkNWNhNjVhNzIxZDRiYzY4NjIyMGI5YWFlMzdkZDBlID0gTC5tYXAoCiAgICAgICAgICAgICAgICAibWFwXzBkNWNhNjVhNzIxZDRiYzY4NjIyMGI5YWFlMzdkZDBlIiwKICAgICAgICAgICAgICAgIHsKICAgICAgICAgICAgICAgICAgICBjZW50ZXI6IFs0My42NTM5NjMsIC03OS4zODcyMDddLAogICAgICAgICAgICAgICAgICAgIGNyczogTC5DUlMuRVBTRzM4NTcsCiAgICAgICAgICAgICAgICAgICAgem9vbTogMTEsCiAgICAgICAgICAgICAgICAgICAgem9vbUNvbnRyb2w6IHRydWUsCiAgICAgICAgICAgICAgICAgICAgcHJlZmVyQ2FudmFzOiBmYWxzZSwKICAgICAgICAgICAgICAgIH0KICAgICAgICAgICAgKTsKCiAgICAgICAgICAgIAoKICAgICAgICAKICAgIAogICAgICAgICAgICB2YXIgdGlsZV9sYXllcl80ZDJmMmQ3ZjhjYjM0MDU0YjE1Njc1MzFiMjZkMjdiMyA9IEwudGlsZUxheWVyKAogICAgICAgICAgICAgICAgImh0dHBzOi8ve3N9LnRpbGUub3BlbnN0cmVldG1hcC5vcmcve3p9L3t4fS97eX0ucG5nIiwKICAgICAgICAgICAgICAgIHsiYXR0cmlidXRpb24iOiAiRGF0YSBieSBcdTAwMjZjb3B5OyBcdTAwM2NhIGhyZWY9XCJodHRwOi8vb3BlbnN0cmVldG1hcC5vcmdcIlx1MDAzZU9wZW5TdHJlZXRNYXBcdTAwM2MvYVx1MDAzZSwgdW5kZXIgXHUwMDNjYSBocmVmPVwiaHR0cDovL3d3dy5vcGVuc3RyZWV0bWFwLm9yZy9jb3B5cmlnaHRcIlx1MDAzZU9EYkxcdTAwM2MvYVx1MDAzZS4iLCAiZGV0ZWN0UmV0aW5hIjogZmFsc2UsICJtYXhOYXRpdmVab29tIjogMTgsICJtYXhab29tIjogMTgsICJtaW5ab29tIjogMCwgIm5vV3JhcCI6IGZhbHNlLCAib3BhY2l0eSI6IDEsICJzdWJkb21haW5zIjogImFiYyIsICJ0bXMiOiBmYWxzZX0KICAgICAgICAgICAgKS5hZGRUbyhtYXBfMGQ1Y2E2NWE3MjFkNGJjNjg2MjIwYjlhYWUzN2RkMGUpOwogICAgICAgIAogICAgCiAgICAgICAgICAgIHZhciBjaXJjbGVfbWFya2VyXzM2MTUzODZiMDlhYTQzNjg4YTY5ZDRhMGNjYjVkMjcxID0gTC5jaXJjbGVNYXJrZXIoCiAgICAgICAgICAgICAgICBbNDMuODA2Njg2MywgLTc5LjE5NDM1MzRdLAogICAgICAgICAgICAgICAgeyJidWJibGluZ01vdXNlRXZlbnRzIjogdHJ1ZSwgImNvbG9yIjogIiNmZmEyNTYiLCAiZGFzaEFycmF5IjogbnVsbCwgImRhc2hPZmZzZXQiOiBudWxsLCAiZmlsbCI6IHRydWUsICJmaWxsQ29sb3IiOiAiI2ZmYTI1NiIsICJmaWxsT3BhY2l0eSI6IDAuNywgImZpbGxSdWxlIjogImV2ZW5vZGQiLCAibGluZUNhcCI6ICJyb3VuZCIsICJsaW5lSm9pbiI6ICJyb3VuZCIsICJvcGFjaXR5IjogMS4wLCAicmFkaXVzIjogNSwgInN0cm9rZSI6IHRydWUsICJ3ZWlnaHQiOiAzfQogICAgICAgICAgICApLmFkZFRvKG1hcF8wZDVjYTY1YTcyMWQ0YmM2ODYyMjBiOWFhZTM3ZGQwZSk7CiAgICAgICAgCiAgICAKICAgICAgICB2YXIgcG9wdXBfY2E1YmIyMmE5ODlkNDc4YmIwZWVkZjdjYjkzMmM2MDIgPSBMLnBvcHVwKHsibWF4V2lkdGgiOiAiMTAwJSJ9KTsKCiAgICAgICAgCiAgICAgICAgICAgIHZhciBodG1sX2QyZDY0MTBhZWYyZTQ0MmY4NDgyODE2YjI2ZDJlMzU0ID0gJChgPGRpdiBpZD0iaHRtbF9kMmQ2NDEwYWVmMmU0NDJmODQ4MjgxNmIyNmQyZTM1NCIgc3R5bGU9IndpZHRoOiAxMDAuMCU7IGhlaWdodDogMTAwLjAlOyI+U2NhcmJvcm91Z2gsIE1hbHZlcm4gQ2x1c3RlciA4PC9kaXY+YClbMF07CiAgICAgICAgICAgIHBvcHVwX2NhNWJiMjJhOTg5ZDQ3OGJiMGVlZGY3Y2I5MzJjNjAyLnNldENvbnRlbnQoaHRtbF9kMmQ2NDEwYWVmMmU0NDJmODQ4MjgxNmIyNmQyZTM1NCk7CiAgICAgICAgCgogICAgICAgIGNpcmNsZV9tYXJrZXJfMzYxNTM4NmIwOWFhNDM2ODhhNjlkNGEwY2NiNWQyNzEuYmluZFBvcHVwKHBvcHVwX2NhNWJiMjJhOTg5ZDQ3OGJiMGVlZGY3Y2I5MzJjNjAyKQogICAgICAgIDsKCiAgICAgICAgCiAgICAKICAgIAogICAgICAgICAgICB2YXIgY2lyY2xlX21hcmtlcl8yZTRlZjE1ZWNkM2M0NmE1YWVkMjM4M2UxMjlmMmUwMCA9IEwuY2lyY2xlTWFya2VyKAogICAgICAgICAgICAgICAgWzQzLjc4NDUzNTEsIC03OS4xNjA0OTcxXSwKICAgICAgICAgICAgICAgIHsiYnViYmxpbmdNb3VzZUV2ZW50cyI6IHRydWUsICJjb2xvciI6ICIjMTBhMmYwIiwgImRhc2hBcnJheSI6IG51bGwsICJkYXNoT2Zmc2V0IjogbnVsbCwgImZpbGwiOiB0cnVlLCAiZmlsbENvbG9yIjogIiMxMGEyZjAiLCAiZmlsbE9wYWNpdHkiOiAwLjcsICJmaWxsUnVsZSI6ICJldmVub2RkIiwgImxpbmVDYXAiOiAicm91bmQiLCAibGluZUpvaW4iOiAicm91bmQiLCAib3BhY2l0eSI6IDEuMCwgInJhZGl1cyI6IDUsICJzdHJva2UiOiB0cnVlLCAid2VpZ2h0IjogM30KICAgICAgICAgICAgKS5hZGRUbyhtYXBfMGQ1Y2E2NWE3MjFkNGJjNjg2MjIwYjlhYWUzN2RkMGUpOwogICAgICAgIAogICAgCiAgICAgICAgdmFyIHBvcHVwX2UxZTRiYzNmYTRkNDQ0NmI4MTRlYzY4MTI0M2M3YWI5ID0gTC5wb3B1cCh7Im1heFdpZHRoIjogIjEwMCUifSk7CgogICAgICAgIAogICAgICAgICAgICB2YXIgaHRtbF84ODMyYjkwZGNlZGQ0ZmE0YjE0NzMwNGMxMzUxYjM0OCA9ICQoYDxkaXYgaWQ9Imh0bWxfODgzMmI5MGRjZWRkNGZhNGIxNDczMDRjMTM1MWIzNDgiIHN0eWxlPSJ3aWR0aDogMTAwLjAlOyBoZWlnaHQ6IDEwMC4wJTsiPlNjYXJib3JvdWdoLCBQb3J0IFVuaW9uIENsdXN0ZXIgMzwvZGl2PmApWzBdOwogICAgICAgICAgICBwb3B1cF9lMWU0YmMzZmE0ZDQ0NDZiODE0ZWM2ODEyNDNjN2FiOS5zZXRDb250ZW50KGh0bWxfODgzMmI5MGRjZWRkNGZhNGIxNDczMDRjMTM1MWIzNDgpOwogICAgICAgIAoKICAgICAgICBjaXJjbGVfbWFya2VyXzJlNGVmMTVlY2QzYzQ2YTVhZWQyMzgzZTEyOWYyZTAwLmJpbmRQb3B1cChwb3B1cF9lMWU0YmMzZmE0ZDQ0NDZiODE0ZWM2ODEyNDNjN2FiOSkKICAgICAgICA7CgogICAgICAgIAogICAgCiAgICAKICAgICAgICAgICAgdmFyIGNpcmNsZV9tYXJrZXJfMGVjZmRmM2NlNTQ0NDQ3OWI1ZGI2MDQyOTRjOWUyYjIgPSBMLmNpcmNsZU1hcmtlcigKICAgICAgICAgICAgICAgIFs0My43NjM1NzI2LCAtNzkuMTg4NzExNV0sCiAgICAgICAgICAgICAgICB7ImJ1YmJsaW5nTW91c2VFdmVudHMiOiB0cnVlLCAiY29sb3IiOiAiIzEwYTJmMCIsICJkYXNoQXJyYXkiOiBudWxsLCAiZGFzaE9mZnNldCI6IG51bGwsICJmaWxsIjogdHJ1ZSwgImZpbGxDb2xvciI6ICIjMTBhMmYwIiwgImZpbGxPcGFjaXR5IjogMC43LCAiZmlsbFJ1bGUiOiAiZXZlbm9kZCIsICJsaW5lQ2FwIjogInJvdW5kIiwgImxpbmVKb2luIjogInJvdW5kIiwgIm9wYWNpdHkiOiAxLjAsICJyYWRpdXMiOiA1LCAic3Ryb2tlIjogdHJ1ZSwgIndlaWdodCI6IDN9CiAgICAgICAgICAgICkuYWRkVG8obWFwXzBkNWNhNjVhNzIxZDRiYzY4NjIyMGI5YWFlMzdkZDBlKTsKICAgICAgICAKICAgIAogICAgICAgIHZhciBwb3B1cF9iNTE5MWFhZGMyYTk0NmM2YTc4ZTQ4N2Y1MWNmMzFjZSA9IEwucG9wdXAoeyJtYXhXaWR0aCI6ICIxMDAlIn0pOwoKICAgICAgICAKICAgICAgICAgICAgdmFyIGh0bWxfODA4YzFkNmE2NTdiNGE5YThiMGVkMWIyNmFiZDczYTQgPSAkKGA8ZGl2IGlkPSJodG1sXzgwOGMxZDZhNjU3YjRhOWE4YjBlZDFiMjZhYmQ3M2E0IiBzdHlsZT0id2lkdGg6IDEwMC4wJTsgaGVpZ2h0OiAxMDAuMCU7Ij5TY2FyYm9yb3VnaCwgV2VzdCBIaWxsIENsdXN0ZXIgMzwvZGl2PmApWzBdOwogICAgICAgICAgICBwb3B1cF9iNTE5MWFhZGMyYTk0NmM2YTc4ZTQ4N2Y1MWNmMzFjZS5zZXRDb250ZW50KGh0bWxfODA4YzFkNmE2NTdiNGE5YThiMGVkMWIyNmFiZDczYTQpOwogICAgICAgIAoKICAgICAgICBjaXJjbGVfbWFya2VyXzBlY2ZkZjNjZTU0NDQ0NzliNWRiNjA0Mjk0YzllMmIyLmJpbmRQb3B1cChwb3B1cF9iNTE5MWFhZGMyYTk0NmM2YTc4ZTQ4N2Y1MWNmMzFjZSkKICAgICAgICA7CgogICAgICAgIAogICAgCiAgICAKICAgICAgICAgICAgdmFyIGNpcmNsZV9tYXJrZXJfOWNmMjFmYzU5MzUyNGU1NmJhN2Q2MmQ2ZjZlMmE1ZWQgPSBMLmNpcmNsZU1hcmtlcigKICAgICAgICAgICAgICAgIFs0My43NzA5OTIxLCAtNzkuMjE2OTE3NF0sCiAgICAgICAgICAgICAgICB7ImJ1YmJsaW5nTW91c2VFdmVudHMiOiB0cnVlLCAiY29sb3IiOiAiI2ZmNTYyYyIsICJkYXNoQXJyYXkiOiBudWxsLCAiZGFzaE9mZnNldCI6IG51bGwsICJmaWxsIjogdHJ1ZSwgImZpbGxDb2xvciI6ICIjZmY1NjJjIiwgImZpbGxPcGFjaXR5IjogMC43LCAiZmlsbFJ1bGUiOiAiZXZlbm9kZCIsICJsaW5lQ2FwIjogInJvdW5kIiwgImxpbmVKb2luIjogInJvdW5kIiwgIm9wYWNpdHkiOiAxLjAsICJyYWRpdXMiOiA1LCAic3Ryb2tlIjogdHJ1ZSwgIndlaWdodCI6IDN9CiAgICAgICAgICAgICkuYWRkVG8obWFwXzBkNWNhNjVhNzIxZDRiYzY4NjIyMGI5YWFlMzdkZDBlKTsKICAgICAgICAKICAgIAogICAgICAgIHZhciBwb3B1cF81OWY3NTY5MGE4NDM0ZjEyYTYxYTA5YjM5YTMxMGY3YiA9IEwucG9wdXAoeyJtYXhXaWR0aCI6ICIxMDAlIn0pOwoKICAgICAgICAKICAgICAgICAgICAgdmFyIGh0bWxfY2U1NTliN2RiNzIzNDhiN2EwZTc5MzY5ODM3OWI0M2MgPSAkKGA8ZGl2IGlkPSJodG1sX2NlNTU5YjdkYjcyMzQ4YjdhMGU3OTM2OTgzNzliNDNjIiBzdHlsZT0id2lkdGg6IDEwMC4wJTsgaGVpZ2h0OiAxMDAuMCU7Ij5Xb2J1cm4gQ2x1c3RlciA5PC9kaXY+YClbMF07CiAgICAgICAgICAgIHBvcHVwXzU5Zjc1NjkwYTg0MzRmMTJhNjFhMDliMzlhMzEwZjdiLnNldENvbnRlbnQoaHRtbF9jZTU1OWI3ZGI3MjM0OGI3YTBlNzkzNjk4Mzc5YjQzYyk7CiAgICAgICAgCgogICAgICAgIGNpcmNsZV9tYXJrZXJfOWNmMjFmYzU5MzUyNGU1NmJhN2Q2MmQ2ZjZlMmE1ZWQuYmluZFBvcHVwKHBvcHVwXzU5Zjc1NjkwYTg0MzRmMTJhNjFhMDliMzlhMzEwZjdiKQogICAgICAgIDsKCiAgICAgICAgCiAgICAKICAgIAogICAgICAgICAgICB2YXIgY2lyY2xlX21hcmtlcl9mODljZThmZmE4OTQ0YWFjOWRlNTIxNTcxYTg5YThlNSA9IEwuY2lyY2xlTWFya2VyKAogICAgICAgICAgICAgICAgWzQzLjc3MzEzNiwgLTc5LjIzOTQ3NjFdLAogICAgICAgICAgICAgICAgeyJidWJibGluZ01vdXNlRXZlbnRzIjogdHJ1ZSwgImNvbG9yIjogIiMxMGEyZjAiLCAiZGFzaEFycmF5IjogbnVsbCwgImRhc2hPZmZzZXQiOiBudWxsLCAiZmlsbCI6IHRydWUsICJmaWxsQ29sb3IiOiAiIzEwYTJmMCIsICJmaWxsT3BhY2l0eSI6IDAuNywgImZpbGxSdWxlIjogImV2ZW5vZGQiLCAibGluZUNhcCI6ICJyb3VuZCIsICJsaW5lSm9pbiI6ICJyb3VuZCIsICJvcGFjaXR5IjogMS4wLCAicmFkaXVzIjogNSwgInN0cm9rZSI6IHRydWUsICJ3ZWlnaHQiOiAzfQogICAgICAgICAgICApLmFkZFRvKG1hcF8wZDVjYTY1YTcyMWQ0YmM2ODYyMjBiOWFhZTM3ZGQwZSk7CiAgICAgICAgCiAgICAKICAgICAgICB2YXIgcG9wdXBfMmI1NWIxNzY5MjZlNGZlYWJmZTk2ZDUyYTA3Y2U4OWIgPSBMLnBvcHVwKHsibWF4V2lkdGgiOiAiMTAwJSJ9KTsKCiAgICAgICAgCiAgICAgICAgICAgIHZhciBodG1sXzJjODg0NDUwM2Y2ZTQzYTFiYWQzODNhNTA0YzVjNDM1ID0gJChgPGRpdiBpZD0iaHRtbF8yYzg4NDQ1MDNmNmU0M2ExYmFkMzgzYTUwNGM1YzQzNSIgc3R5bGU9IndpZHRoOiAxMDAuMCU7IGhlaWdodDogMTAwLjAlOyI+Q2VkYXJicmFlIENsdXN0ZXIgMzwvZGl2PmApWzBdOwogICAgICAgICAgICBwb3B1cF8yYjU1YjE3NjkyNmU0ZmVhYmZlOTZkNTJhMDdjZTg5Yi5zZXRDb250ZW50KGh0bWxfMmM4ODQ0NTAzZjZlNDNhMWJhZDM4M2E1MDRjNWM0MzUpOwogICAgICAgIAoKICAgICAgICBjaXJjbGVfbWFya2VyX2Y4OWNlOGZmYTg5NDRhYWM5ZGU1MjE1NzFhODlhOGU1LmJpbmRQb3B1cChwb3B1cF8yYjU1YjE3NjkyNmU0ZmVhYmZlOTZkNTJhMDdjZTg5YikKICAgICAgICA7CgogICAgICAgIAogICAgCiAgICAKICAgICAgICAgICAgdmFyIGNpcmNsZV9tYXJrZXJfNDk2Y2ExOWM5ZTU5NDE4ZGFmMzI5ODQ4YjU1N2QzMjMgPSBMLmNpcmNsZU1hcmtlcigKICAgICAgICAgICAgICAgIFs0My43NDQ3MzQyLCAtNzkuMjM5NDc2MV0sCiAgICAgICAgICAgICAgICB7ImJ1YmJsaW5nTW91c2VFdmVudHMiOiB0cnVlLCAiY29sb3IiOiAiIzgwMDBmZiIsICJkYXNoQXJyYXkiOiBudWxsLCAiZGFzaE9mZnNldCI6IG51bGwsICJmaWxsIjogdHJ1ZSwgImZpbGxDb2xvciI6ICIjODAwMGZmIiwgImZpbGxPcGFjaXR5IjogMC43LCAiZmlsbFJ1bGUiOiAiZXZlbm9kZCIsICJsaW5lQ2FwIjogInJvdW5kIiwgImxpbmVKb2luIjogInJvdW5kIiwgIm9wYWNpdHkiOiAxLjAsICJyYWRpdXMiOiA1LCAic3Ryb2tlIjogdHJ1ZSwgIndlaWdodCI6IDN9CiAgICAgICAgICAgICkuYWRkVG8obWFwXzBkNWNhNjVhNzIxZDRiYzY4NjIyMGI5YWFlMzdkZDBlKTsKICAgICAgICAKICAgIAogICAgICAgIHZhciBwb3B1cF9jY2U5NjFlOTY5ZDc0NzY3YjE5ZGUxOTRmNDk0MTU2YiA9IEwucG9wdXAoeyJtYXhXaWR0aCI6ICIxMDAlIn0pOwoKICAgICAgICAKICAgICAgICAgICAgdmFyIGh0bWxfYzc5OTk5ZDVjNWI0NGJiMDk2ZjhmMGMzNzJhNzlhMzcgPSAkKGA8ZGl2IGlkPSJodG1sX2M3OTk5OWQ1YzViNDRiYjA5NmY4ZjBjMzcyYTc5YTM3IiBzdHlsZT0id2lkdGg6IDEwMC4wJTsgaGVpZ2h0OiAxMDAuMCU7Ij5TY2FyYm9yb3VnaCBWaWxsYWdlIENsdXN0ZXIgMTwvZGl2PmApWzBdOwogICAgICAgICAgICBwb3B1cF9jY2U5NjFlOTY5ZDc0NzY3YjE5ZGUxOTRmNDk0MTU2Yi5zZXRDb250ZW50KGh0bWxfYzc5OTk5ZDVjNWI0NGJiMDk2ZjhmMGMzNzJhNzlhMzcpOwogICAgICAgIAoKICAgICAgICBjaXJjbGVfbWFya2VyXzQ5NmNhMTljOWU1OTQxOGRhZjMyOTg0OGI1NTdkMzIzLmJpbmRQb3B1cChwb3B1cF9jY2U5NjFlOTY5ZDc0NzY3YjE5ZGUxOTRmNDk0MTU2YikKICAgICAgICA7CgogICAgICAgIAogICAgCiAgICAKICAgICAgICAgICAgdmFyIGNpcmNsZV9tYXJrZXJfZGU3ODI2NzhhY2Y4NGRkNzhkYjdhNDBmODdiYzljZTIgPSBMLmNpcmNsZU1hcmtlcigKICAgICAgICAgICAgICAgIFs0My43Mjc5MjkyLCAtNzkuMjYyMDI5NF0sCiAgICAgICAgICAgICAgICB7ImJ1YmJsaW5nTW91c2VFdmVudHMiOiB0cnVlLCAiY29sb3IiOiAiIzEwYTJmMCIsICJkYXNoQXJyYXkiOiBudWxsLCAiZGFzaE9mZnNldCI6IG51bGwsICJmaWxsIjogdHJ1ZSwgImZpbGxDb2xvciI6ICIjMTBhMmYwIiwgImZpbGxPcGFjaXR5IjogMC43LCAiZmlsbFJ1bGUiOiAiZXZlbm9kZCIsICJsaW5lQ2FwIjogInJvdW5kIiwgImxpbmVKb2luIjogInJvdW5kIiwgIm9wYWNpdHkiOiAxLjAsICJyYWRpdXMiOiA1LCAic3Ryb2tlIjogdHJ1ZSwgIndlaWdodCI6IDN9CiAgICAgICAgICAgICkuYWRkVG8obWFwXzBkNWNhNjVhNzIxZDRiYzY4NjIyMGI5YWFlMzdkZDBlKTsKICAgICAgICAKICAgIAogICAgICAgIHZhciBwb3B1cF9hMDZkNWU1ZjFkZmY0ODY1YjA5M2I1YjcyN2ZiOTFhNCA9IEwucG9wdXAoeyJtYXhXaWR0aCI6ICIxMDAlIn0pOwoKICAgICAgICAKICAgICAgICAgICAgdmFyIGh0bWxfNTE4ZmQ2ZDc0NDE2NDdlYmEzY2MxOTFlZWRlMmFhYWMgPSAkKGA8ZGl2IGlkPSJodG1sXzUxOGZkNmQ3NDQxNjQ3ZWJhM2NjMTkxZWVkZTJhYWFjIiBzdHlsZT0id2lkdGg6IDEwMC4wJTsgaGVpZ2h0OiAxMDAuMCU7Ij5TY2FyYm9yb3VnaCwgS2VubmVkeSBQYXJrIENsdXN0ZXIgMzwvZGl2PmApWzBdOwogICAgICAgICAgICBwb3B1cF9hMDZkNWU1ZjFkZmY0ODY1YjA5M2I1YjcyN2ZiOTFhNC5zZXRDb250ZW50KGh0bWxfNTE4ZmQ2ZDc0NDE2NDdlYmEzY2MxOTFlZWRlMmFhYWMpOwogICAgICAgIAoKICAgICAgICBjaXJjbGVfbWFya2VyX2RlNzgyNjc4YWNmODRkZDc4ZGI3YTQwZjg3YmM5Y2UyLmJpbmRQb3B1cChwb3B1cF9hMDZkNWU1ZjFkZmY0ODY1YjA5M2I1YjcyN2ZiOTFhNCkKICAgICAgICA7CgogICAgICAgIAogICAgCiAgICAKICAgICAgICAgICAgdmFyIGNpcmNsZV9tYXJrZXJfN2FlZDg5ZjFiMDY2NGQ3MDllNmE4NWM2M2RmMTdkODggPSBMLmNpcmNsZU1hcmtlcigKICAgICAgICAgICAgICAgIFs0My43MTExMTE3LCAtNzkuMjg0NTc3Ml0sCiAgICAgICAgICAgICAgICB7ImJ1YmJsaW5nTW91c2VFdmVudHMiOiB0cnVlLCAiY29sb3IiOiAiIzEwYTJmMCIsICJkYXNoQXJyYXkiOiBudWxsLCAiZGFzaE9mZnNldCI6IG51bGwsICJmaWxsIjogdHJ1ZSwgImZpbGxDb2xvciI6ICIjMTBhMmYwIiwgImZpbGxPcGFjaXR5IjogMC43LCAiZmlsbFJ1bGUiOiAiZXZlbm9kZCIsICJsaW5lQ2FwIjogInJvdW5kIiwgImxpbmVKb2luIjogInJvdW5kIiwgIm9wYWNpdHkiOiAxLjAsICJyYWRpdXMiOiA1LCAic3Ryb2tlIjogdHJ1ZSwgIndlaWdodCI6IDN9CiAgICAgICAgICAgICkuYWRkVG8obWFwXzBkNWNhNjVhNzIxZDRiYzY4NjIyMGI5YWFlMzdkZDBlKTsKICAgICAgICAKICAgIAogICAgICAgIHZhciBwb3B1cF8xNWVhMDI3NjlmYmI0MTlkODUwNWE5Mjk1MWU4NWQyMCA9IEwucG9wdXAoeyJtYXhXaWR0aCI6ICIxMDAlIn0pOwoKICAgICAgICAKICAgICAgICAgICAgdmFyIGh0bWxfZmVmYzZlN2FhYzg1NDBmNjk3NzQ3NjEyZTQwYzkwMjMgPSAkKGA8ZGl2IGlkPSJodG1sX2ZlZmM2ZTdhYWM4NTQwZjY5Nzc0NzYxMmU0MGM5MDIzIiBzdHlsZT0id2lkdGg6IDEwMC4wJTsgaGVpZ2h0OiAxMDAuMCU7Ij5TY2FyYm9yb3VnaCwgT2FrcmlkZ2UgQ2x1c3RlciAzPC9kaXY+YClbMF07CiAgICAgICAgICAgIHBvcHVwXzE1ZWEwMjc2OWZiYjQxOWQ4NTA1YTkyOTUxZTg1ZDIwLnNldENvbnRlbnQoaHRtbF9mZWZjNmU3YWFjODU0MGY2OTc3NDc2MTJlNDBjOTAyMyk7CiAgICAgICAgCgogICAgICAgIGNpcmNsZV9tYXJrZXJfN2FlZDg5ZjFiMDY2NGQ3MDllNmE4NWM2M2RmMTdkODguYmluZFBvcHVwKHBvcHVwXzE1ZWEwMjc2OWZiYjQxOWQ4NTA1YTkyOTUxZTg1ZDIwKQogICAgICAgIDsKCiAgICAgICAgCiAgICAKICAgIAogICAgICAgICAgICB2YXIgY2lyY2xlX21hcmtlcl84YjZmNzYxMTRjYWY0NzAwYjU0NzBiNWJhN2I3OGI2YSA9IEwuY2lyY2xlTWFya2VyKAogICAgICAgICAgICAgICAgWzQzLjcxNjMxNiwgLTc5LjIzOTQ3NjFdLAogICAgICAgICAgICAgICAgeyJidWJibGluZ01vdXNlRXZlbnRzIjogdHJ1ZSwgImNvbG9yIjogIiMxMGEyZjAiLCAiZGFzaEFycmF5IjogbnVsbCwgImRhc2hPZmZzZXQiOiBudWxsLCAiZmlsbCI6IHRydWUsICJmaWxsQ29sb3IiOiAiIzEwYTJmMCIsICJmaWxsT3BhY2l0eSI6IDAuNywgImZpbGxSdWxlIjogImV2ZW5vZGQiLCAibGluZUNhcCI6ICJyb3VuZCIsICJsaW5lSm9pbiI6ICJyb3VuZCIsICJvcGFjaXR5IjogMS4wLCAicmFkaXVzIjogNSwgInN0cm9rZSI6IHRydWUsICJ3ZWlnaHQiOiAzfQogICAgICAgICAgICApLmFkZFRvKG1hcF8wZDVjYTY1YTcyMWQ0YmM2ODYyMjBiOWFhZTM3ZGQwZSk7CiAgICAgICAgCiAgICAKICAgICAgICB2YXIgcG9wdXBfMmE0MGVmY2I1ZjA0NDBhMjlmNjlkNGFmN2EzOTM5MzQgPSBMLnBvcHVwKHsibWF4V2lkdGgiOiAiMTAwJSJ9KTsKCiAgICAgICAgCiAgICAgICAgICAgIHZhciBodG1sXzM5YWMwYTFmN2IyYzRhYjdhMTBkZjc3NjkyZjgwNGE0ID0gJChgPGRpdiBpZD0iaHRtbF8zOWFjMGExZjdiMmM0YWI3YTEwZGY3NzY5MmY4MDRhNCIgc3R5bGU9IndpZHRoOiAxMDAuMCU7IGhlaWdodDogMTAwLjAlOyI+U2NhcmJvcm91Z2gsIFNjYXJib3JvdWdoIFZpbGxhZ2UgV2VzdCBDbHVzdGVyIDM8L2Rpdj5gKVswXTsKICAgICAgICAgICAgcG9wdXBfMmE0MGVmY2I1ZjA0NDBhMjlmNjlkNGFmN2EzOTM5MzQuc2V0Q29udGVudChodG1sXzM5YWMwYTFmN2IyYzRhYjdhMTBkZjc3NjkyZjgwNGE0KTsKICAgICAgICAKCiAgICAgICAgY2lyY2xlX21hcmtlcl84YjZmNzYxMTRjYWY0NzAwYjU0NzBiNWJhN2I3OGI2YS5iaW5kUG9wdXAocG9wdXBfMmE0MGVmY2I1ZjA0NDBhMjlmNjlkNGFmN2EzOTM5MzQpCiAgICAgICAgOwoKICAgICAgICAKICAgIAogICAgCiAgICAgICAgICAgIHZhciBjaXJjbGVfbWFya2VyXzdhMzc0ZGEwY2UwMTRiMjA4ODc3MmJjYzcxODc0MTI0ID0gTC5jaXJjbGVNYXJrZXIoCiAgICAgICAgICAgICAgICBbNDMuNjkyNjU3LCAtNzkuMjY0ODQ4MV0sCiAgICAgICAgICAgICAgICB7ImJ1YmJsaW5nTW91c2VFdmVudHMiOiB0cnVlLCAiY29sb3IiOiAiIzEwYTJmMCIsICJkYXNoQXJyYXkiOiBudWxsLCAiZGFzaE9mZnNldCI6IG51bGwsICJmaWxsIjogdHJ1ZSwgImZpbGxDb2xvciI6ICIjMTBhMmYwIiwgImZpbGxPcGFjaXR5IjogMC43LCAiZmlsbFJ1bGUiOiAiZXZlbm9kZCIsICJsaW5lQ2FwIjogInJvdW5kIiwgImxpbmVKb2luIjogInJvdW5kIiwgIm9wYWNpdHkiOiAxLjAsICJyYWRpdXMiOiA1LCAic3Ryb2tlIjogdHJ1ZSwgIndlaWdodCI6IDN9CiAgICAgICAgICAgICkuYWRkVG8obWFwXzBkNWNhNjVhNzIxZDRiYzY4NjIyMGI5YWFlMzdkZDBlKTsKICAgICAgICAKICAgIAogICAgICAgIHZhciBwb3B1cF81NmExNGFlMjU1M2E0ZTAxOTMxMWM4MGNlYzhjN2IxMCA9IEwucG9wdXAoeyJtYXhXaWR0aCI6ICIxMDAlIn0pOwoKICAgICAgICAKICAgICAgICAgICAgdmFyIGh0bWxfZTdkZmZjNmIyOWJlNGZkZTgyMDhlOTU0Yzc1YjExNGIgPSAkKGA8ZGl2IGlkPSJodG1sX2U3ZGZmYzZiMjliZTRmZGU4MjA4ZTk1NGM3NWIxMTRiIiBzdHlsZT0id2lkdGg6IDEwMC4wJTsgaGVpZ2h0OiAxMDAuMCU7Ij5TY2FyYm9yb3VnaCwgQ2xpZmZzaWRlIFdlc3QgQ2x1c3RlciAzPC9kaXY+YClbMF07CiAgICAgICAgICAgIHBvcHVwXzU2YTE0YWUyNTUzYTRlMDE5MzExYzgwY2VjOGM3YjEwLnNldENvbnRlbnQoaHRtbF9lN2RmZmM2YjI5YmU0ZmRlODIwOGU5NTRjNzViMTE0Yik7CiAgICAgICAgCgogICAgICAgIGNpcmNsZV9tYXJrZXJfN2EzNzRkYTBjZTAxNGIyMDg4NzcyYmNjNzE4NzQxMjQuYmluZFBvcHVwKHBvcHVwXzU2YTE0YWUyNTUzYTRlMDE5MzExYzgwY2VjOGM3YjEwKQogICAgICAgIDsKCiAgICAgICAgCiAgICAKICAgIAogICAgICAgICAgICB2YXIgY2lyY2xlX21hcmtlcl9hNmY4YmQ5Y2VmYmQ0ZjJmYjUwYzY2ZWQ5NTkzZTFiNyA9IEwuY2lyY2xlTWFya2VyKAogICAgICAgICAgICAgICAgWzQzLjc1NzQwOTYsIC03OS4yNzMzMDRdLAogICAgICAgICAgICAgICAgeyJidWJibGluZ01vdXNlRXZlbnRzIjogdHJ1ZSwgImNvbG9yIjogIiMxMGEyZjAiLCAiZGFzaEFycmF5IjogbnVsbCwgImRhc2hPZmZzZXQiOiBudWxsLCAiZmlsbCI6IHRydWUsICJmaWxsQ29sb3IiOiAiIzEwYTJmMCIsICJmaWxsT3BhY2l0eSI6IDAuNywgImZpbGxSdWxlIjogImV2ZW5vZGQiLCAibGluZUNhcCI6ICJyb3VuZCIsICJsaW5lSm9pbiI6ICJyb3VuZCIsICJvcGFjaXR5IjogMS4wLCAicmFkaXVzIjogNSwgInN0cm9rZSI6IHRydWUsICJ3ZWlnaHQiOiAzfQogICAgICAgICAgICApLmFkZFRvKG1hcF8wZDVjYTY1YTcyMWQ0YmM2ODYyMjBiOWFhZTM3ZGQwZSk7CiAgICAgICAgCiAgICAKICAgICAgICB2YXIgcG9wdXBfMDRlNDhkNGMyMDliNGEwNGI3YTE3NDAyOGViNTc1MTEgPSBMLnBvcHVwKHsibWF4V2lkdGgiOiAiMTAwJSJ9KTsKCiAgICAgICAgCiAgICAgICAgICAgIHZhciBodG1sXzNhMzZkNTg2ZjdlNDQwODk5YzkxODgxOGJiY2JjZGE3ID0gJChgPGRpdiBpZD0iaHRtbF8zYTM2ZDU4NmY3ZTQ0MDg5OWM5MTg4MThiYmNiY2RhNyIgc3R5bGU9IndpZHRoOiAxMDAuMCU7IGhlaWdodDogMTAwLjAlOyI+U2NhcmJvcm91Z2gsIFdleGZvcmQgSGVpZ2h0cyBDbHVzdGVyIDM8L2Rpdj5gKVswXTsKICAgICAgICAgICAgcG9wdXBfMDRlNDhkNGMyMDliNGEwNGI3YTE3NDAyOGViNTc1MTEuc2V0Q29udGVudChodG1sXzNhMzZkNTg2ZjdlNDQwODk5YzkxODgxOGJiY2JjZGE3KTsKICAgICAgICAKCiAgICAgICAgY2lyY2xlX21hcmtlcl9hNmY4YmQ5Y2VmYmQ0ZjJmYjUwYzY2ZWQ5NTkzZTFiNy5iaW5kUG9wdXAocG9wdXBfMDRlNDhkNGMyMDliNGEwNGI3YTE3NDAyOGViNTc1MTEpCiAgICAgICAgOwoKICAgICAgICAKICAgIAogICAgCiAgICAgICAgICAgIHZhciBjaXJjbGVfbWFya2VyXzA4MDJlNTkxZDk0MzQ5YzliYWQxZmRlMzM4MmIxODhjID0gTC5jaXJjbGVNYXJrZXIoCiAgICAgICAgICAgICAgICBbNDMuNzUwMDcxNSwgLTc5LjI5NTg0OTFdLAogICAgICAgICAgICAgICAgeyJidWJibGluZ01vdXNlRXZlbnRzIjogdHJ1ZSwgImNvbG9yIjogIiMxMGEyZjAiLCAiZGFzaEFycmF5IjogbnVsbCwgImRhc2hPZmZzZXQiOiBudWxsLCAiZmlsbCI6IHRydWUsICJmaWxsQ29sb3IiOiAiIzEwYTJmMCIsICJmaWxsT3BhY2l0eSI6IDAuNywgImZpbGxSdWxlIjogImV2ZW5vZGQiLCAibGluZUNhcCI6ICJyb3VuZCIsICJsaW5lSm9pbiI6ICJyb3VuZCIsICJvcGFjaXR5IjogMS4wLCAicmFkaXVzIjogNSwgInN0cm9rZSI6IHRydWUsICJ3ZWlnaHQiOiAzfQogICAgICAgICAgICApLmFkZFRvKG1hcF8wZDVjYTY1YTcyMWQ0YmM2ODYyMjBiOWFhZTM3ZGQwZSk7CiAgICAgICAgCiAgICAKICAgICAgICB2YXIgcG9wdXBfOTFhNjdjZTk1NjFlNGI1M2E5NmM2NzI5YTA1YWY2ZmYgPSBMLnBvcHVwKHsibWF4V2lkdGgiOiAiMTAwJSJ9KTsKCiAgICAgICAgCiAgICAgICAgICAgIHZhciBodG1sX2I5Y2JlZGQ3OWZmYzRkZDVhMzZjMTYxNmYyNWNjMDU0ID0gJChgPGRpdiBpZD0iaHRtbF9iOWNiZWRkNzlmZmM0ZGQ1YTM2YzE2MTZmMjVjYzA1NCIgc3R5bGU9IndpZHRoOiAxMDAuMCU7IGhlaWdodDogMTAwLjAlOyI+U2NhcmJvcm91Z2gsIFdleGZvcmQgQ2x1c3RlciAzPC9kaXY+YClbMF07CiAgICAgICAgICAgIHBvcHVwXzkxYTY3Y2U5NTYxZTRiNTNhOTZjNjcyOWEwNWFmNmZmLnNldENvbnRlbnQoaHRtbF9iOWNiZWRkNzlmZmM0ZGQ1YTM2YzE2MTZmMjVjYzA1NCk7CiAgICAgICAgCgogICAgICAgIGNpcmNsZV9tYXJrZXJfMDgwMmU1OTFkOTQzNDljOWJhZDFmZGUzMzgyYjE4OGMuYmluZFBvcHVwKHBvcHVwXzkxYTY3Y2U5NTYxZTRiNTNhOTZjNjcyOWEwNWFmNmZmKQogICAgICAgIDsKCiAgICAgICAgCiAgICAKICAgIAogICAgICAgICAgICB2YXIgY2lyY2xlX21hcmtlcl81OGI2MWI3OTdiYTE0Yjc1YjM4NzQ1YmMzYTlmNTVkMyA9IEwuY2lyY2xlTWFya2VyKAogICAgICAgICAgICAgICAgWzQzLjc5NDIwMDMsIC03OS4yNjIwMjk0XSwKICAgICAgICAgICAgICAgIHsiYnViYmxpbmdNb3VzZUV2ZW50cyI6IHRydWUsICJjb2xvciI6ICIjMTBhMmYwIiwgImRhc2hBcnJheSI6IG51bGwsICJkYXNoT2Zmc2V0IjogbnVsbCwgImZpbGwiOiB0cnVlLCAiZmlsbENvbG9yIjogIiMxMGEyZjAiLCAiZmlsbE9wYWNpdHkiOiAwLjcsICJmaWxsUnVsZSI6ICJldmVub2RkIiwgImxpbmVDYXAiOiAicm91bmQiLCAibGluZUpvaW4iOiAicm91bmQiLCAib3BhY2l0eSI6IDEuMCwgInJhZGl1cyI6IDUsICJzdHJva2UiOiB0cnVlLCAid2VpZ2h0IjogM30KICAgICAgICAgICAgKS5hZGRUbyhtYXBfMGQ1Y2E2NWE3MjFkNGJjNjg2MjIwYjlhYWUzN2RkMGUpOwogICAgICAgIAogICAgCiAgICAgICAgdmFyIHBvcHVwXzNhMThiZTlkOTVmMjQxMTNhNGFjMWM2MTIwZmI0NTRhID0gTC5wb3B1cCh7Im1heFdpZHRoIjogIjEwMCUifSk7CgogICAgICAgIAogICAgICAgICAgICB2YXIgaHRtbF84MDdmMTZiMWM0ZDg0YjM3OTQ0ZjRiZGQyMzk0MGQ1ZCA9ICQoYDxkaXYgaWQ9Imh0bWxfODA3ZjE2YjFjNGQ4NGIzNzk0NGY0YmRkMjM5NDBkNWQiIHN0eWxlPSJ3aWR0aDogMTAwLjAlOyBoZWlnaHQ6IDEwMC4wJTsiPkFnaW5jb3VydCBDbHVzdGVyIDM8L2Rpdj5gKVswXTsKICAgICAgICAgICAgcG9wdXBfM2ExOGJlOWQ5NWYyNDExM2E0YWMxYzYxMjBmYjQ1NGEuc2V0Q29udGVudChodG1sXzgwN2YxNmIxYzRkODRiMzc5NDRmNGJkZDIzOTQwZDVkKTsKICAgICAgICAKCiAgICAgICAgY2lyY2xlX21hcmtlcl81OGI2MWI3OTdiYTE0Yjc1YjM4NzQ1YmMzYTlmNTVkMy5iaW5kUG9wdXAocG9wdXBfM2ExOGJlOWQ5NWYyNDExM2E0YWMxYzYxMjBmYjQ1NGEpCiAgICAgICAgOwoKICAgICAgICAKICAgIAogICAgCiAgICAgICAgICAgIHZhciBjaXJjbGVfbWFya2VyXzk3YWExNzRjNjBmMDQyYWVhMzgzOWY3YTIwNGFmM2I3ID0gTC5jaXJjbGVNYXJrZXIoCiAgICAgICAgICAgICAgICBbNDMuNzgxNjM3NSwgLTc5LjMwNDMwMjFdLAogICAgICAgICAgICAgICAgeyJidWJibGluZ01vdXNlRXZlbnRzIjogdHJ1ZSwgImNvbG9yIjogIiMxMGEyZjAiLCAiZGFzaEFycmF5IjogbnVsbCwgImRhc2hPZmZzZXQiOiBudWxsLCAiZmlsbCI6IHRydWUsICJmaWxsQ29sb3IiOiAiIzEwYTJmMCIsICJmaWxsT3BhY2l0eSI6IDAuNywgImZpbGxSdWxlIjogImV2ZW5vZGQiLCAibGluZUNhcCI6ICJyb3VuZCIsICJsaW5lSm9pbiI6ICJyb3VuZCIsICJvcGFjaXR5IjogMS4wLCAicmFkaXVzIjogNSwgInN0cm9rZSI6IHRydWUsICJ3ZWlnaHQiOiAzfQogICAgICAgICAgICApLmFkZFRvKG1hcF8wZDVjYTY1YTcyMWQ0YmM2ODYyMjBiOWFhZTM3ZGQwZSk7CiAgICAgICAgCiAgICAKICAgICAgICB2YXIgcG9wdXBfNTY3NmExMTllODMzNDFmMzhkMmIyMWE5ZjhhZWFmYzggPSBMLnBvcHVwKHsibWF4V2lkdGgiOiAiMTAwJSJ9KTsKCiAgICAgICAgCiAgICAgICAgICAgIHZhciBodG1sXzBmYmU4MTZjZGQ4YjQ5MGRhZjVkNGVhYzczZTRjYWYyID0gJChgPGRpdiBpZD0iaHRtbF8wZmJlODE2Y2RkOGI0OTBkYWY1ZDRlYWM3M2U0Y2FmMiIgc3R5bGU9IndpZHRoOiAxMDAuMCU7IGhlaWdodDogMTAwLjAlOyI+U2NhcmJvcm91Z2gsIFRhbSBPJiMzOTtTaGFudGVyIENsdXN0ZXIgMzwvZGl2PmApWzBdOwogICAgICAgICAgICBwb3B1cF81Njc2YTExOWU4MzM0MWYzOGQyYjIxYTlmOGFlYWZjOC5zZXRDb250ZW50KGh0bWxfMGZiZTgxNmNkZDhiNDkwZGFmNWQ0ZWFjNzNlNGNhZjIpOwogICAgICAgIAoKICAgICAgICBjaXJjbGVfbWFya2VyXzk3YWExNzRjNjBmMDQyYWVhMzgzOWY3YTIwNGFmM2I3LmJpbmRQb3B1cChwb3B1cF81Njc2YTExOWU4MzM0MWYzOGQyYjIxYTlmOGFlYWZjOCkKICAgICAgICA7CgogICAgICAgIAogICAgCiAgICAKICAgICAgICAgICAgdmFyIGNpcmNsZV9tYXJrZXJfOTE4ODg1NGE4Yzg4NGRiZGI1NjRkNDQxNTM3NzczZDkgPSBMLmNpcmNsZU1hcmtlcigKICAgICAgICAgICAgICAgIFs0My44MTUyNTIyLCAtNzkuMjg0NTc3Ml0sCiAgICAgICAgICAgICAgICB7ImJ1YmJsaW5nTW91c2VFdmVudHMiOiB0cnVlLCAiY29sb3IiOiAiI2ZmMDAwMCIsICJkYXNoQXJyYXkiOiBudWxsLCAiZGFzaE9mZnNldCI6IG51bGwsICJmaWxsIjogdHJ1ZSwgImZpbGxDb2xvciI6ICIjZmYwMDAwIiwgImZpbGxPcGFjaXR5IjogMC43LCAiZmlsbFJ1bGUiOiAiZXZlbm9kZCIsICJsaW5lQ2FwIjogInJvdW5kIiwgImxpbmVKb2luIjogInJvdW5kIiwgIm9wYWNpdHkiOiAxLjAsICJyYWRpdXMiOiA1LCAic3Ryb2tlIjogdHJ1ZSwgIndlaWdodCI6IDN9CiAgICAgICAgICAgICkuYWRkVG8obWFwXzBkNWNhNjVhNzIxZDRiYzY4NjIyMGI5YWFlMzdkZDBlKTsKICAgICAgICAKICAgIAogICAgICAgIHZhciBwb3B1cF9iNmI2N2VkMWJkYjM0ODEzYTNkMTYwMmE1OTBhMjUwNyA9IEwucG9wdXAoeyJtYXhXaWR0aCI6ICIxMDAlIn0pOwoKICAgICAgICAKICAgICAgICAgICAgdmFyIGh0bWxfNjc4Y2Q4MGUxZmU2NDQ2MDk3NzE0NTEwZDU3Y2E1ZDMgPSAkKGA8ZGl2IGlkPSJodG1sXzY3OGNkODBlMWZlNjQ0NjA5NzcxNDUxMGQ1N2NhNWQzIiBzdHlsZT0id2lkdGg6IDEwMC4wJTsgaGVpZ2h0OiAxMDAuMCU7Ij5TY2FyYm9yb3VnaCwgU3RlZWxlcyBFYXN0IENsdXN0ZXIgMDwvZGl2PmApWzBdOwogICAgICAgICAgICBwb3B1cF9iNmI2N2VkMWJkYjM0ODEzYTNkMTYwMmE1OTBhMjUwNy5zZXRDb250ZW50KGh0bWxfNjc4Y2Q4MGUxZmU2NDQ2MDk3NzE0NTEwZDU3Y2E1ZDMpOwogICAgICAgIAoKICAgICAgICBjaXJjbGVfbWFya2VyXzkxODg4NTRhOGM4ODRkYmRiNTY0ZDQ0MTUzNzc3M2Q5LmJpbmRQb3B1cChwb3B1cF9iNmI2N2VkMWJkYjM0ODEzYTNkMTYwMmE1OTBhMjUwNykKICAgICAgICA7CgogICAgICAgIAogICAgCiAgICAKICAgICAgICAgICAgdmFyIGNpcmNsZV9tYXJrZXJfYjQzNmE5MWU4OGFmNDY5ZDhiMmU3OWI0YTI0NzA1NTkgPSBMLmNpcmNsZU1hcmtlcigKICAgICAgICAgICAgICAgIFs0My43OTk1MjUyLCAtNzkuMzE4Mzg4N10sCiAgICAgICAgICAgICAgICB7ImJ1YmJsaW5nTW91c2VFdmVudHMiOiB0cnVlLCAiY29sb3IiOiAiIzEwYTJmMCIsICJkYXNoQXJyYXkiOiBudWxsLCAiZGFzaE9mZnNldCI6IG51bGwsICJmaWxsIjogdHJ1ZSwgImZpbGxDb2xvciI6ICIjMTBhMmYwIiwgImZpbGxPcGFjaXR5IjogMC43LCAiZmlsbFJ1bGUiOiAiZXZlbm9kZCIsICJsaW5lQ2FwIjogInJvdW5kIiwgImxpbmVKb2luIjogInJvdW5kIiwgIm9wYWNpdHkiOiAxLjAsICJyYWRpdXMiOiA1LCAic3Ryb2tlIjogdHJ1ZSwgIndlaWdodCI6IDN9CiAgICAgICAgICAgICkuYWRkVG8obWFwXzBkNWNhNjVhNzIxZDRiYzY4NjIyMGI5YWFlMzdkZDBlKTsKICAgICAgICAKICAgIAogICAgICAgIHZhciBwb3B1cF9jZGY2OGY5NTBkOGE0NTE3YmNmODJjZTk5NjcwZjI1ZCA9IEwucG9wdXAoeyJtYXhXaWR0aCI6ICIxMDAlIn0pOwoKICAgICAgICAKICAgICAgICAgICAgdmFyIGh0bWxfMmZmNjM1MWIyMTNjNDEyZGJhMjI1OGYzMjYxYmU1ZGYgPSAkKGA8ZGl2IGlkPSJodG1sXzJmZjYzNTFiMjEzYzQxMmRiYTIyNThmMzI2MWJlNWRmIiBzdHlsZT0id2lkdGg6IDEwMC4wJTsgaGVpZ2h0OiAxMDAuMCU7Ij5MJiMzOTtBbW9yZWF1eCBXZXN0IENsdXN0ZXIgMzwvZGl2PmApWzBdOwogICAgICAgICAgICBwb3B1cF9jZGY2OGY5NTBkOGE0NTE3YmNmODJjZTk5NjcwZjI1ZC5zZXRDb250ZW50KGh0bWxfMmZmNjM1MWIyMTNjNDEyZGJhMjI1OGYzMjYxYmU1ZGYpOwogICAgICAgIAoKICAgICAgICBjaXJjbGVfbWFya2VyX2I0MzZhOTFlODhhZjQ2OWQ4YjJlNzliNGEyNDcwNTU5LmJpbmRQb3B1cChwb3B1cF9jZGY2OGY5NTBkOGE0NTE3YmNmODJjZTk5NjcwZjI1ZCkKICAgICAgICA7CgogICAgICAgIAogICAgCiAgICAKICAgICAgICAgICAgdmFyIGNpcmNsZV9tYXJrZXJfODI1NDM5MTYwYTY3NDlhZDliYjBlMGRjMTA4NzI4ODggPSBMLmNpcmNsZU1hcmtlcigKICAgICAgICAgICAgICAgIFs0My44MDM3NjIyLCAtNzkuMzYzNDUxN10sCiAgICAgICAgICAgICAgICB7ImJ1YmJsaW5nTW91c2VFdmVudHMiOiB0cnVlLCAiY29sb3IiOiAiIzEwYTJmMCIsICJkYXNoQXJyYXkiOiBudWxsLCAiZGFzaE9mZnNldCI6IG51bGwsICJmaWxsIjogdHJ1ZSwgImZpbGxDb2xvciI6ICIjMTBhMmYwIiwgImZpbGxPcGFjaXR5IjogMC43LCAiZmlsbFJ1bGUiOiAiZXZlbm9kZCIsICJsaW5lQ2FwIjogInJvdW5kIiwgImxpbmVKb2luIjogInJvdW5kIiwgIm9wYWNpdHkiOiAxLjAsICJyYWRpdXMiOiA1LCAic3Ryb2tlIjogdHJ1ZSwgIndlaWdodCI6IDN9CiAgICAgICAgICAgICkuYWRkVG8obWFwXzBkNWNhNjVhNzIxZDRiYzY4NjIyMGI5YWFlMzdkZDBlKTsKICAgICAgICAKICAgIAogICAgICAgIHZhciBwb3B1cF80OGI4MTg2Mzk2NmE0OTlkODM0ZWU4NzNhMTAwMWUzZSA9IEwucG9wdXAoeyJtYXhXaWR0aCI6ICIxMDAlIn0pOwoKICAgICAgICAKICAgICAgICAgICAgdmFyIGh0bWxfNzIzMTMzMzU1N2ZmNGQzYmFlZGM3ODRhNjdhNWVhYjUgPSAkKGA8ZGl2IGlkPSJodG1sXzcyMzEzMzM1NTdmZjRkM2JhZWRjNzg0YTY3YTVlYWI1IiBzdHlsZT0id2lkdGg6IDEwMC4wJTsgaGVpZ2h0OiAxMDAuMCU7Ij5IaWxsY3Jlc3QgVmlsbGFnZSBDbHVzdGVyIDM8L2Rpdj5gKVswXTsKICAgICAgICAgICAgcG9wdXBfNDhiODE4NjM5NjZhNDk5ZDgzNGVlODczYTEwMDFlM2Uuc2V0Q29udGVudChodG1sXzcyMzEzMzM1NTdmZjRkM2JhZWRjNzg0YTY3YTVlYWI1KTsKICAgICAgICAKCiAgICAgICAgY2lyY2xlX21hcmtlcl84MjU0MzkxNjBhNjc0OWFkOWJiMGUwZGMxMDg3Mjg4OC5iaW5kUG9wdXAocG9wdXBfNDhiODE4NjM5NjZhNDk5ZDgzNGVlODczYTEwMDFlM2UpCiAgICAgICAgOwoKICAgICAgICAKICAgIAogICAgCiAgICAgICAgICAgIHZhciBjaXJjbGVfbWFya2VyXzg2Yjg0YzNhNDYyNTRmZWI4ZjZmMWFjNTU0YzY2NGQ5ID0gTC5jaXJjbGVNYXJrZXIoCiAgICAgICAgICAgICAgICBbNDMuNzc4NTE3NSwgLTc5LjM0NjU1NTddLAogICAgICAgICAgICAgICAgeyJidWJibGluZ01vdXNlRXZlbnRzIjogdHJ1ZSwgImNvbG9yIjogIiMxMGEyZjAiLCAiZGFzaEFycmF5IjogbnVsbCwgImRhc2hPZmZzZXQiOiBudWxsLCAiZmlsbCI6IHRydWUsICJmaWxsQ29sb3IiOiAiIzEwYTJmMCIsICJmaWxsT3BhY2l0eSI6IDAuNywgImZpbGxSdWxlIjogImV2ZW5vZGQiLCAibGluZUNhcCI6ICJyb3VuZCIsICJsaW5lSm9pbiI6ICJyb3VuZCIsICJvcGFjaXR5IjogMS4wLCAicmFkaXVzIjogNSwgInN0cm9rZSI6IHRydWUsICJ3ZWlnaHQiOiAzfQogICAgICAgICAgICApLmFkZFRvKG1hcF8wZDVjYTY1YTcyMWQ0YmM2ODYyMjBiOWFhZTM3ZGQwZSk7CiAgICAgICAgCiAgICAKICAgICAgICB2YXIgcG9wdXBfNTIwMGYwM2NjM2RmNGIyY2JmODBkYWM4YTBhMjhkYTEgPSBMLnBvcHVwKHsibWF4V2lkdGgiOiAiMTAwJSJ9KTsKCiAgICAgICAgCiAgICAgICAgICAgIHZhciBodG1sXzhlNTU4NmM1ZjJlMDQyZjBhNjk1Y2VmMmY4YmViN2VmID0gJChgPGRpdiBpZD0iaHRtbF84ZTU1ODZjNWYyZTA0MmYwYTY5NWNlZjJmOGJlYjdlZiIgc3R5bGU9IndpZHRoOiAxMDAuMCU7IGhlaWdodDogMTAwLjAlOyI+Tm9ydGggWW9yaywgT3Jpb2xlIENsdXN0ZXIgMzwvZGl2PmApWzBdOwogICAgICAgICAgICBwb3B1cF81MjAwZjAzY2MzZGY0YjJjYmY4MGRhYzhhMGEyOGRhMS5zZXRDb250ZW50KGh0bWxfOGU1NTg2YzVmMmUwNDJmMGE2OTVjZWYyZjhiZWI3ZWYpOwogICAgICAgIAoKICAgICAgICBjaXJjbGVfbWFya2VyXzg2Yjg0YzNhNDYyNTRmZWI4ZjZmMWFjNTU0YzY2NGQ5LmJpbmRQb3B1cChwb3B1cF81MjAwZjAzY2MzZGY0YjJjYmY4MGRhYzhhMGEyOGRhMSkKICAgICAgICA7CgogICAgICAgIAogICAgCiAgICAKICAgICAgICAgICAgdmFyIGNpcmNsZV9tYXJrZXJfN2RiZDkwNzAzNjE3NDllZWFkNDAzNDVmMzAxZDE1ZWEgPSBMLmNpcmNsZU1hcmtlcigKICAgICAgICAgICAgICAgIFs0My43ODY5NDczLCAtNzkuMzg1OTc1XSwKICAgICAgICAgICAgICAgIHsiYnViYmxpbmdNb3VzZUV2ZW50cyI6IHRydWUsICJjb2xvciI6ICIjMTBhMmYwIiwgImRhc2hBcnJheSI6IG51bGwsICJkYXNoT2Zmc2V0IjogbnVsbCwgImZpbGwiOiB0cnVlLCAiZmlsbENvbG9yIjogIiMxMGEyZjAiLCAiZmlsbE9wYWNpdHkiOiAwLjcsICJmaWxsUnVsZSI6ICJldmVub2RkIiwgImxpbmVDYXAiOiAicm91bmQiLCAibGluZUpvaW4iOiAicm91bmQiLCAib3BhY2l0eSI6IDEuMCwgInJhZGl1cyI6IDUsICJzdHJva2UiOiB0cnVlLCAid2VpZ2h0IjogM30KICAgICAgICAgICAgKS5hZGRUbyhtYXBfMGQ1Y2E2NWE3MjFkNGJjNjg2MjIwYjlhYWUzN2RkMGUpOwogICAgICAgIAogICAgCiAgICAgICAgdmFyIHBvcHVwX2VlNThlYmJmMjA5ZDRjZTA5MWVmZTA2ZjI4OGFlOTAxID0gTC5wb3B1cCh7Im1heFdpZHRoIjogIjEwMCUifSk7CgogICAgICAgIAogICAgICAgICAgICB2YXIgaHRtbF8yOGI0YTg5YTdlZjM0YTVkYjYzNWVlZjM1YTJiMjc3MCA9ICQoYDxkaXYgaWQ9Imh0bWxfMjhiNGE4OWE3ZWYzNGE1ZGI2MzVlZWYzNWEyYjI3NzAiIHN0eWxlPSJ3aWR0aDogMTAwLjAlOyBoZWlnaHQ6IDEwMC4wJTsiPkJheXZpZXcgVmlsbGFnZSBDbHVzdGVyIDM8L2Rpdj5gKVswXTsKICAgICAgICAgICAgcG9wdXBfZWU1OGViYmYyMDlkNGNlMDkxZWZlMDZmMjg4YWU5MDEuc2V0Q29udGVudChodG1sXzI4YjRhODlhN2VmMzRhNWRiNjM1ZWVmMzVhMmIyNzcwKTsKICAgICAgICAKCiAgICAgICAgY2lyY2xlX21hcmtlcl83ZGJkOTA3MDM2MTc0OWVlYWQ0MDM0NWYzMDFkMTVlYS5iaW5kUG9wdXAocG9wdXBfZWU1OGViYmYyMDlkNGNlMDkxZWZlMDZmMjg4YWU5MDEpCiAgICAgICAgOwoKICAgICAgICAKICAgIAogICAgCiAgICAgICAgICAgIHZhciBjaXJjbGVfbWFya2VyX2QxNTJkNWEyNjMzMDQ1Y2M5YWY2NTExMzVkZjMwMzhkID0gTC5jaXJjbGVNYXJrZXIoCiAgICAgICAgICAgICAgICBbNDMuNzU3NDkwMiwgLTc5LjM3NDcxNDFdLAogICAgICAgICAgICAgICAgeyJidWJibGluZ01vdXNlRXZlbnRzIjogdHJ1ZSwgImNvbG9yIjogIiM2MmZiYzQiLCAiZGFzaEFycmF5IjogbnVsbCwgImRhc2hPZmZzZXQiOiBudWxsLCAiZmlsbCI6IHRydWUsICJmaWxsQ29sb3IiOiAiIzYyZmJjNCIsICJmaWxsT3BhY2l0eSI6IDAuNywgImZpbGxSdWxlIjogImV2ZW5vZGQiLCAibGluZUNhcCI6ICJyb3VuZCIsICJsaW5lSm9pbiI6ICJyb3VuZCIsICJvcGFjaXR5IjogMS4wLCAicmFkaXVzIjogNSwgInN0cm9rZSI6IHRydWUsICJ3ZWlnaHQiOiAzfQogICAgICAgICAgICApLmFkZFRvKG1hcF8wZDVjYTY1YTcyMWQ0YmM2ODYyMjBiOWFhZTM3ZGQwZSk7CiAgICAgICAgCiAgICAKICAgICAgICB2YXIgcG9wdXBfYzliMGZhNmJmZjY5NGJkOTlkMWNiZDUyMDQ2NjA2ODEgPSBMLnBvcHVwKHsibWF4V2lkdGgiOiAiMTAwJSJ9KTsKCiAgICAgICAgCiAgICAgICAgICAgIHZhciBodG1sXzgxNTZmZWIzM2VjYjQ0NmZiMTM2NmY1YjM4ZDIyYmU2ID0gJChgPGRpdiBpZD0iaHRtbF84MTU2ZmViMzNlY2I0NDZmYjEzNjZmNWIzOGQyMmJlNiIgc3R5bGU9IndpZHRoOiAxMDAuMCU7IGhlaWdodDogMTAwLjAlOyI+Tm9ydGggWW9yaywgWW9yayBNaWxscyBDbHVzdGVyIDU8L2Rpdj5gKVswXTsKICAgICAgICAgICAgcG9wdXBfYzliMGZhNmJmZjY5NGJkOTlkMWNiZDUyMDQ2NjA2ODEuc2V0Q29udGVudChodG1sXzgxNTZmZWIzM2VjYjQ0NmZiMTM2NmY1YjM4ZDIyYmU2KTsKICAgICAgICAKCiAgICAgICAgY2lyY2xlX21hcmtlcl9kMTUyZDVhMjYzMzA0NWNjOWFmNjUxMTM1ZGYzMDM4ZC5iaW5kUG9wdXAocG9wdXBfYzliMGZhNmJmZjY5NGJkOTlkMWNiZDUyMDQ2NjA2ODEpCiAgICAgICAgOwoKICAgICAgICAKICAgIAogICAgCiAgICAgICAgICAgIHZhciBjaXJjbGVfbWFya2VyXzFlMTU3NDEyNTQ1OTQ4NzA4Y2E2NmU5OWFiNWZhMjUyID0gTC5jaXJjbGVNYXJrZXIoCiAgICAgICAgICAgICAgICBbNDMuNzcwMTE5OSwgLTc5LjQwODQ5MjhdLAogICAgICAgICAgICAgICAgeyJidWJibGluZ01vdXNlRXZlbnRzIjogdHJ1ZSwgImNvbG9yIjogIiMxMGEyZjAiLCAiZGFzaEFycmF5IjogbnVsbCwgImRhc2hPZmZzZXQiOiBudWxsLCAiZmlsbCI6IHRydWUsICJmaWxsQ29sb3IiOiAiIzEwYTJmMCIsICJmaWxsT3BhY2l0eSI6IDAuNywgImZpbGxSdWxlIjogImV2ZW5vZGQiLCAibGluZUNhcCI6ICJyb3VuZCIsICJsaW5lSm9pbiI6ICJyb3VuZCIsICJvcGFjaXR5IjogMS4wLCAicmFkaXVzIjogNSwgInN0cm9rZSI6IHRydWUsICJ3ZWlnaHQiOiAzfQogICAgICAgICAgICApLmFkZFRvKG1hcF8wZDVjYTY1YTcyMWQ0YmM2ODYyMjBiOWFhZTM3ZGQwZSk7CiAgICAgICAgCiAgICAKICAgICAgICB2YXIgcG9wdXBfNTdiNjRlZTA4M2M3NDdmMDg0MWNlZmRiYWRiNGFlZTcgPSBMLnBvcHVwKHsibWF4V2lkdGgiOiAiMTAwJSJ9KTsKCiAgICAgICAgCiAgICAgICAgICAgIHZhciBodG1sXzE4ZmE3YjBmY2JlNjRlNmY4MzdlMDA1NjIzOGNjMjU1ID0gJChgPGRpdiBpZD0iaHRtbF8xOGZhN2IwZmNiZTY0ZTZmODM3ZTAwNTYyMzhjYzI1NSIgc3R5bGU9IndpZHRoOiAxMDAuMCU7IGhlaWdodDogMTAwLjAlOyI+V2lsbG93ZGFsZSBTb3V0aCBDbHVzdGVyIDM8L2Rpdj5gKVswXTsKICAgICAgICAgICAgcG9wdXBfNTdiNjRlZTA4M2M3NDdmMDg0MWNlZmRiYWRiNGFlZTcuc2V0Q29udGVudChodG1sXzE4ZmE3YjBmY2JlNjRlNmY4MzdlMDA1NjIzOGNjMjU1KTsKICAgICAgICAKCiAgICAgICAgY2lyY2xlX21hcmtlcl8xZTE1NzQxMjU0NTk0ODcwOGNhNjZlOTlhYjVmYTI1Mi5iaW5kUG9wdXAocG9wdXBfNTdiNjRlZTA4M2M3NDdmMDg0MWNlZmRiYWRiNGFlZTcpCiAgICAgICAgOwoKICAgICAgICAKICAgIAogICAgCiAgICAgICAgICAgIHZhciBjaXJjbGVfbWFya2VyX2NkNDY1NDJjODM1MDQ4MTBhYmJiZTM3NjkxZDY5MTE5ID0gTC5jaXJjbGVNYXJrZXIoCiAgICAgICAgICAgICAgICBbNDMuNzUyNzU4MywgLTc5LjQwMDA0OTNdLAogICAgICAgICAgICAgICAgeyJidWJibGluZ01vdXNlRXZlbnRzIjogdHJ1ZSwgImNvbG9yIjogIiNmZjAwMDAiLCAiZGFzaEFycmF5IjogbnVsbCwgImRhc2hPZmZzZXQiOiBudWxsLCAiZmlsbCI6IHRydWUsICJmaWxsQ29sb3IiOiAiI2ZmMDAwMCIsICJmaWxsT3BhY2l0eSI6IDAuNywgImZpbGxSdWxlIjogImV2ZW5vZGQiLCAibGluZUNhcCI6ICJyb3VuZCIsICJsaW5lSm9pbiI6ICJyb3VuZCIsICJvcGFjaXR5IjogMS4wLCAicmFkaXVzIjogNSwgInN0cm9rZSI6IHRydWUsICJ3ZWlnaHQiOiAzfQogICAgICAgICAgICApLmFkZFRvKG1hcF8wZDVjYTY1YTcyMWQ0YmM2ODYyMjBiOWFhZTM3ZGQwZSk7CiAgICAgICAgCiAgICAKICAgICAgICB2YXIgcG9wdXBfZmIzMWMyMTMyZDcxNDNjM2JiN2NiZjNiYWIwY2Q2ZmYgPSBMLnBvcHVwKHsibWF4V2lkdGgiOiAiMTAwJSJ9KTsKCiAgICAgICAgCiAgICAgICAgICAgIHZhciBodG1sXzcwN2UyOTZiNzI3ZTQxOTFhM2JjZTg4ZDk4YzJiMWIyID0gJChgPGRpdiBpZD0iaHRtbF83MDdlMjk2YjcyN2U0MTkxYTNiY2U4OGQ5OGMyYjFiMiIgc3R5bGU9IndpZHRoOiAxMDAuMCU7IGhlaWdodDogMTAwLjAlOyI+WW9yayBNaWxscyBXZXN0IENsdXN0ZXIgMDwvZGl2PmApWzBdOwogICAgICAgICAgICBwb3B1cF9mYjMxYzIxMzJkNzE0M2MzYmI3Y2JmM2JhYjBjZDZmZi5zZXRDb250ZW50KGh0bWxfNzA3ZTI5NmI3MjdlNDE5MWEzYmNlODhkOThjMmIxYjIpOwogICAgICAgIAoKICAgICAgICBjaXJjbGVfbWFya2VyX2NkNDY1NDJjODM1MDQ4MTBhYmJiZTM3NjkxZDY5MTE5LmJpbmRQb3B1cChwb3B1cF9mYjMxYzIxMzJkNzE0M2MzYmI3Y2JmM2JhYjBjZDZmZikKICAgICAgICA7CgogICAgICAgIAogICAgCiAgICAKICAgICAgICAgICAgdmFyIGNpcmNsZV9tYXJrZXJfMmM0MjZlNjA1MzQ0NDM3NGE5OThhNjNlMzkwYWFlNGIgPSBMLmNpcmNsZU1hcmtlcigKICAgICAgICAgICAgICAgIFs0My43ODI3MzY0LCAtNzkuNDQyMjU5M10sCiAgICAgICAgICAgICAgICB7ImJ1YmJsaW5nTW91c2VFdmVudHMiOiB0cnVlLCAiY29sb3IiOiAiIzgwMDBmZiIsICJkYXNoQXJyYXkiOiBudWxsLCAiZGFzaE9mZnNldCI6IG51bGwsICJmaWxsIjogdHJ1ZSwgImZpbGxDb2xvciI6ICIjODAwMGZmIiwgImZpbGxPcGFjaXR5IjogMC43LCAiZmlsbFJ1bGUiOiAiZXZlbm9kZCIsICJsaW5lQ2FwIjogInJvdW5kIiwgImxpbmVKb2luIjogInJvdW5kIiwgIm9wYWNpdHkiOiAxLjAsICJyYWRpdXMiOiA1LCAic3Ryb2tlIjogdHJ1ZSwgIndlaWdodCI6IDN9CiAgICAgICAgICAgICkuYWRkVG8obWFwXzBkNWNhNjVhNzIxZDRiYzY4NjIyMGI5YWFlMzdkZDBlKTsKICAgICAgICAKICAgIAogICAgICAgIHZhciBwb3B1cF9mNTYyYzRmYmI3NTE0MzNiYmRjMDg0MDY5NTRlODAzMyA9IEwucG9wdXAoeyJtYXhXaWR0aCI6ICIxMDAlIn0pOwoKICAgICAgICAKICAgICAgICAgICAgdmFyIGh0bWxfZmRjYTc0YmI4MGRjNDVjNTk5MDE5NDIxZjFiNjU3MGIgPSAkKGA8ZGl2IGlkPSJodG1sX2ZkY2E3NGJiODBkYzQ1YzU5OTAxOTQyMWYxYjY1NzBiIiBzdHlsZT0id2lkdGg6IDEwMC4wJTsgaGVpZ2h0OiAxMDAuMCU7Ij5XaWxsb3dkYWxlIFdlc3QgQ2x1c3RlciAxPC9kaXY+YClbMF07CiAgICAgICAgICAgIHBvcHVwX2Y1NjJjNGZiYjc1MTQzM2JiZGMwODQwNjk1NGU4MDMzLnNldENvbnRlbnQoaHRtbF9mZGNhNzRiYjgwZGM0NWM1OTkwMTk0MjFmMWI2NTcwYik7CiAgICAgICAgCgogICAgICAgIGNpcmNsZV9tYXJrZXJfMmM0MjZlNjA1MzQ0NDM3NGE5OThhNjNlMzkwYWFlNGIuYmluZFBvcHVwKHBvcHVwX2Y1NjJjNGZiYjc1MTQzM2JiZGMwODQwNjk1NGU4MDMzKQogICAgICAgIDsKCiAgICAgICAgCiAgICAKICAgIAogICAgICAgICAgICB2YXIgY2lyY2xlX21hcmtlcl9mYzE0MzQxOTgwZGM0NzczODI5MTkzYmUyNWJlOWEwZCA9IEwuY2lyY2xlTWFya2VyKAogICAgICAgICAgICAgICAgWzQzLjc1MzI1ODYsIC03OS4zMjk2NTY1XSwKICAgICAgICAgICAgICAgIHsiYnViYmxpbmdNb3VzZUV2ZW50cyI6IHRydWUsICJjb2xvciI6ICIjZmYwMDAwIiwgImRhc2hBcnJheSI6IG51bGwsICJkYXNoT2Zmc2V0IjogbnVsbCwgImZpbGwiOiB0cnVlLCAiZmlsbENvbG9yIjogIiNmZjAwMDAiLCAiZmlsbE9wYWNpdHkiOiAwLjcsICJmaWxsUnVsZSI6ICJldmVub2RkIiwgImxpbmVDYXAiOiAicm91bmQiLCAibGluZUpvaW4iOiAicm91bmQiLCAib3BhY2l0eSI6IDEuMCwgInJhZGl1cyI6IDUsICJzdHJva2UiOiB0cnVlLCAid2VpZ2h0IjogM30KICAgICAgICAgICAgKS5hZGRUbyhtYXBfMGQ1Y2E2NWE3MjFkNGJjNjg2MjIwYjlhYWUzN2RkMGUpOwogICAgICAgIAogICAgCiAgICAgICAgdmFyIHBvcHVwX2U3NzVmMDBkMWY0ODQ1ZGNiZjkyNGM2OGRmYzlkMzY3ID0gTC5wb3B1cCh7Im1heFdpZHRoIjogIjEwMCUifSk7CgogICAgICAgIAogICAgICAgICAgICB2YXIgaHRtbF82NjI1Y2UwOTYwYTI0NmUwODU2ODIzNjAzMjgwM2JlMCA9ICQoYDxkaXYgaWQ9Imh0bWxfNjYyNWNlMDk2MGEyNDZlMDg1NjgyMzYwMzI4MDNiZTAiIHN0eWxlPSJ3aWR0aDogMTAwLjAlOyBoZWlnaHQ6IDEwMC4wJTsiPlBhcmt3b29kcyBDbHVzdGVyIDA8L2Rpdj5gKVswXTsKICAgICAgICAgICAgcG9wdXBfZTc3NWYwMGQxZjQ4NDVkY2JmOTI0YzY4ZGZjOWQzNjcuc2V0Q29udGVudChodG1sXzY2MjVjZTA5NjBhMjQ2ZTA4NTY4MjM2MDMyODAzYmUwKTsKICAgICAgICAKCiAgICAgICAgY2lyY2xlX21hcmtlcl9mYzE0MzQxOTgwZGM0NzczODI5MTkzYmUyNWJlOWEwZC5iaW5kUG9wdXAocG9wdXBfZTc3NWYwMGQxZjQ4NDVkY2JmOTI0YzY4ZGZjOWQzNjcpCiAgICAgICAgOwoKICAgICAgICAKICAgIAogICAgCiAgICAgICAgICAgIHZhciBjaXJjbGVfbWFya2VyX2RlMGNkNzFkOWVlZjRlM2E5YjBmODgzOTZiZDJhNTdhID0gTC5jaXJjbGVNYXJrZXIoCiAgICAgICAgICAgICAgICBbNDMuNzQ1OTA1OCwgLTc5LjM1MjE4OF0sCiAgICAgICAgICAgICAgICB7ImJ1YmJsaW5nTW91c2VFdmVudHMiOiB0cnVlLCAiY29sb3IiOiAiIzEwYTJmMCIsICJkYXNoQXJyYXkiOiBudWxsLCAiZGFzaE9mZnNldCI6IG51bGwsICJmaWxsIjogdHJ1ZSwgImZpbGxDb2xvciI6ICIjMTBhMmYwIiwgImZpbGxPcGFjaXR5IjogMC43LCAiZmlsbFJ1bGUiOiAiZXZlbm9kZCIsICJsaW5lQ2FwIjogInJvdW5kIiwgImxpbmVKb2luIjogInJvdW5kIiwgIm9wYWNpdHkiOiAxLjAsICJyYWRpdXMiOiA1LCAic3Ryb2tlIjogdHJ1ZSwgIndlaWdodCI6IDN9CiAgICAgICAgICAgICkuYWRkVG8obWFwXzBkNWNhNjVhNzIxZDRiYzY4NjIyMGI5YWFlMzdkZDBlKTsKICAgICAgICAKICAgIAogICAgICAgIHZhciBwb3B1cF8xMWZhNzdkYjdjZWE0ZjExYjQ4MmU1N2VhMDk5MDMzNiA9IEwucG9wdXAoeyJtYXhXaWR0aCI6ICIxMDAlIn0pOwoKICAgICAgICAKICAgICAgICAgICAgdmFyIGh0bWxfNTgxYzhhMTM1YzdmNDAzNGFkNDdmNzA3ZmVjMTcwODUgPSAkKGA8ZGl2IGlkPSJodG1sXzU4MWM4YTEzNWM3ZjQwMzRhZDQ3ZjcwN2ZlYzE3MDg1IiBzdHlsZT0id2lkdGg6IDEwMC4wJTsgaGVpZ2h0OiAxMDAuMCU7Ij5Eb24gTWlsbHMgTm9ydGggQ2x1c3RlciAzPC9kaXY+YClbMF07CiAgICAgICAgICAgIHBvcHVwXzExZmE3N2RiN2NlYTRmMTFiNDgyZTU3ZWEwOTkwMzM2LnNldENvbnRlbnQoaHRtbF81ODFjOGExMzVjN2Y0MDM0YWQ0N2Y3MDdmZWMxNzA4NSk7CiAgICAgICAgCgogICAgICAgIGNpcmNsZV9tYXJrZXJfZGUwY2Q3MWQ5ZWVmNGUzYTliMGY4ODM5NmJkMmE1N2EuYmluZFBvcHVwKHBvcHVwXzExZmE3N2RiN2NlYTRmMTFiNDgyZTU3ZWEwOTkwMzM2KQogICAgICAgIDsKCiAgICAgICAgCiAgICAKICAgIAogICAgICAgICAgICB2YXIgY2lyY2xlX21hcmtlcl9lNDZiMmIxMmQyN2M0ZGY1YTEwYzVlZmRkMDQ1MjQ2YSA9IEwuY2lyY2xlTWFya2VyKAogICAgICAgICAgICAgICAgWzQzLjcyNTg5OTcsIC03OS4zNDA5MjNdLAogICAgICAgICAgICAgICAgeyJidWJibGluZ01vdXNlRXZlbnRzIjogdHJ1ZSwgImNvbG9yIjogIiMxMGEyZjAiLCAiZGFzaEFycmF5IjogbnVsbCwgImRhc2hPZmZzZXQiOiBudWxsLCAiZmlsbCI6IHRydWUsICJmaWxsQ29sb3IiOiAiIzEwYTJmMCIsICJmaWxsT3BhY2l0eSI6IDAuNywgImZpbGxSdWxlIjogImV2ZW5vZGQiLCAibGluZUNhcCI6ICJyb3VuZCIsICJsaW5lSm9pbiI6ICJyb3VuZCIsICJvcGFjaXR5IjogMS4wLCAicmFkaXVzIjogNSwgInN0cm9rZSI6IHRydWUsICJ3ZWlnaHQiOiAzfQogICAgICAgICAgICApLmFkZFRvKG1hcF8wZDVjYTY1YTcyMWQ0YmM2ODYyMjBiOWFhZTM3ZGQwZSk7CiAgICAgICAgCiAgICAKICAgICAgICB2YXIgcG9wdXBfM2NmYjcxODkzMTcwNDdkNmExMDViZDM0NjMxYjg5N2QgPSBMLnBvcHVwKHsibWF4V2lkdGgiOiAiMTAwJSJ9KTsKCiAgICAgICAgCiAgICAgICAgICAgIHZhciBodG1sXzY5ZDkwZGZiNmIxZTQ3ODVhZjY1NGFjZmUxN2MzMjIzID0gJChgPGRpdiBpZD0iaHRtbF82OWQ5MGRmYjZiMWU0Nzg1YWY2NTRhY2ZlMTdjMzIyMyIgc3R5bGU9IndpZHRoOiAxMDAuMCU7IGhlaWdodDogMTAwLjAlOyI+Tm9ydGggWW9yaywgRG9uIE1pbGxzIFNvdXRoIENsdXN0ZXIgMzwvZGl2PmApWzBdOwogICAgICAgICAgICBwb3B1cF8zY2ZiNzE4OTMxNzA0N2Q2YTEwNWJkMzQ2MzFiODk3ZC5zZXRDb250ZW50KGh0bWxfNjlkOTBkZmI2YjFlNDc4NWFmNjU0YWNmZTE3YzMyMjMpOwogICAgICAgIAoKICAgICAgICBjaXJjbGVfbWFya2VyX2U0NmIyYjEyZDI3YzRkZjVhMTBjNWVmZGQwNDUyNDZhLmJpbmRQb3B1cChwb3B1cF8zY2ZiNzE4OTMxNzA0N2Q2YTEwNWJkMzQ2MzFiODk3ZCkKICAgICAgICA7CgogICAgICAgIAogICAgCiAgICAKICAgICAgICAgICAgdmFyIGNpcmNsZV9tYXJrZXJfMDBmZDlhNGI0MzFlNGRhZGIyNjhlNjE2NzdmNDIzZGIgPSBMLmNpcmNsZU1hcmtlcigKICAgICAgICAgICAgICAgIFs0My43NTQzMjgzLCAtNzkuNDQyMjU5M10sCiAgICAgICAgICAgICAgICB7ImJ1YmJsaW5nTW91c2VFdmVudHMiOiB0cnVlLCAiY29sb3IiOiAiIzEwYTJmMCIsICJkYXNoQXJyYXkiOiBudWxsLCAiZGFzaE9mZnNldCI6IG51bGwsICJmaWxsIjogdHJ1ZSwgImZpbGxDb2xvciI6ICIjMTBhMmYwIiwgImZpbGxPcGFjaXR5IjogMC43LCAiZmlsbFJ1bGUiOiAiZXZlbm9kZCIsICJsaW5lQ2FwIjogInJvdW5kIiwgImxpbmVKb2luIjogInJvdW5kIiwgIm9wYWNpdHkiOiAxLjAsICJyYWRpdXMiOiA1LCAic3Ryb2tlIjogdHJ1ZSwgIndlaWdodCI6IDN9CiAgICAgICAgICAgICkuYWRkVG8obWFwXzBkNWNhNjVhNzIxZDRiYzY4NjIyMGI5YWFlMzdkZDBlKTsKICAgICAgICAKICAgIAogICAgICAgIHZhciBwb3B1cF9jMWNiZTUwZTc2YzI0ZGU2ODQ5ZTU3YzY3ZDFkZDUwNSA9IEwucG9wdXAoeyJtYXhXaWR0aCI6ICIxMDAlIn0pOwoKICAgICAgICAKICAgICAgICAgICAgdmFyIGh0bWxfZmUxNTFiZjE2NTMwNDE5ZDllN2E1YTQwZWU0YmM1ZGYgPSAkKGA8ZGl2IGlkPSJodG1sX2ZlMTUxYmYxNjUzMDQxOWQ5ZTdhNWE0MGVlNGJjNWRmIiBzdHlsZT0id2lkdGg6IDEwMC4wJTsgaGVpZ2h0OiAxMDAuMCU7Ij5Ob3J0aCBZb3JrLCBXaWxzb24gSGVpZ2h0cyBDbHVzdGVyIDM8L2Rpdj5gKVswXTsKICAgICAgICAgICAgcG9wdXBfYzFjYmU1MGU3NmMyNGRlNjg0OWU1N2M2N2QxZGQ1MDUuc2V0Q29udGVudChodG1sX2ZlMTUxYmYxNjUzMDQxOWQ5ZTdhNWE0MGVlNGJjNWRmKTsKICAgICAgICAKCiAgICAgICAgY2lyY2xlX21hcmtlcl8wMGZkOWE0YjQzMWU0ZGFkYjI2OGU2MTY3N2Y0MjNkYi5iaW5kUG9wdXAocG9wdXBfYzFjYmU1MGU3NmMyNGRlNjg0OWU1N2M2N2QxZGQ1MDUpCiAgICAgICAgOwoKICAgICAgICAKICAgIAogICAgCiAgICAgICAgICAgIHZhciBjaXJjbGVfbWFya2VyXzU4OGMxOTNlYmRjNjRkMzhiZGJlNDU4N2EwMjM0OWM0ID0gTC5jaXJjbGVNYXJrZXIoCiAgICAgICAgICAgICAgICBbNDMuNzY3OTgwMywgLTc5LjQ4NzI2MTldLAogICAgICAgICAgICAgICAgeyJidWJibGluZ01vdXNlRXZlbnRzIjogdHJ1ZSwgImNvbG9yIjogIiMxMGEyZjAiLCAiZGFzaEFycmF5IjogbnVsbCwgImRhc2hPZmZzZXQiOiBudWxsLCAiZmlsbCI6IHRydWUsICJmaWxsQ29sb3IiOiAiIzEwYTJmMCIsICJmaWxsT3BhY2l0eSI6IDAuNywgImZpbGxSdWxlIjogImV2ZW5vZGQiLCAibGluZUNhcCI6ICJyb3VuZCIsICJsaW5lSm9pbiI6ICJyb3VuZCIsICJvcGFjaXR5IjogMS4wLCAicmFkaXVzIjogNSwgInN0cm9rZSI6IHRydWUsICJ3ZWlnaHQiOiAzfQogICAgICAgICAgICApLmFkZFRvKG1hcF8wZDVjYTY1YTcyMWQ0YmM2ODYyMjBiOWFhZTM3ZGQwZSk7CiAgICAgICAgCiAgICAKICAgICAgICB2YXIgcG9wdXBfOGQ3ZTlkNzg1ZjAxNDkzOGIwMjBlZjU2YjIzNTQyMzggPSBMLnBvcHVwKHsibWF4V2lkdGgiOiAiMTAwJSJ9KTsKCiAgICAgICAgCiAgICAgICAgICAgIHZhciBodG1sX2JhZTY5NmU4MjM3ZjQ3M2M5ZGU5YTNmNTM4ZDUyNGJmID0gJChgPGRpdiBpZD0iaHRtbF9iYWU2OTZlODIzN2Y0NzNjOWRlOWEzZjUzOGQ1MjRiZiIgc3R5bGU9IndpZHRoOiAxMDAuMCU7IGhlaWdodDogMTAwLjAlOyI+Tm9ydGggWW9yaywgWW9yayBVbml2ZXJzaXR5IENsdXN0ZXIgMzwvZGl2PmApWzBdOwogICAgICAgICAgICBwb3B1cF84ZDdlOWQ3ODVmMDE0OTM4YjAyMGVmNTZiMjM1NDIzOC5zZXRDb250ZW50KGh0bWxfYmFlNjk2ZTgyMzdmNDczYzlkZTlhM2Y1MzhkNTI0YmYpOwogICAgICAgIAoKICAgICAgICBjaXJjbGVfbWFya2VyXzU4OGMxOTNlYmRjNjRkMzhiZGJlNDU4N2EwMjM0OWM0LmJpbmRQb3B1cChwb3B1cF84ZDdlOWQ3ODVmMDE0OTM4YjAyMGVmNTZiMjM1NDIzOCkKICAgICAgICA7CgogICAgICAgIAogICAgCiAgICAKICAgICAgICAgICAgdmFyIGNpcmNsZV9tYXJrZXJfMzBiYzhkYjY5MzQ2NDU1MThkMjVhMjc2MmEwYmY4ZDMgPSBMLmNpcmNsZU1hcmtlcigKICAgICAgICAgICAgICAgIFs0My43Mzc0NzMyLCAtNzkuNDY0NzYzM10sCiAgICAgICAgICAgICAgICB7ImJ1YmJsaW5nTW91c2VFdmVudHMiOiB0cnVlLCAiY29sb3IiOiAiI2ZmMDAwMCIsICJkYXNoQXJyYXkiOiBudWxsLCAiZGFzaE9mZnNldCI6IG51bGwsICJmaWxsIjogdHJ1ZSwgImZpbGxDb2xvciI6ICIjZmYwMDAwIiwgImZpbGxPcGFjaXR5IjogMC43LCAiZmlsbFJ1bGUiOiAiZXZlbm9kZCIsICJsaW5lQ2FwIjogInJvdW5kIiwgImxpbmVKb2luIjogInJvdW5kIiwgIm9wYWNpdHkiOiAxLjAsICJyYWRpdXMiOiA1LCAic3Ryb2tlIjogdHJ1ZSwgIndlaWdodCI6IDN9CiAgICAgICAgICAgICkuYWRkVG8obWFwXzBkNWNhNjVhNzIxZDRiYzY4NjIyMGI5YWFlMzdkZDBlKTsKICAgICAgICAKICAgIAogICAgICAgIHZhciBwb3B1cF8zNmY5ZGMyYTRmYTA0YTM2YjIwODgxZjUxNDUwZTc1ZSA9IEwucG9wdXAoeyJtYXhXaWR0aCI6ICIxMDAlIn0pOwoKICAgICAgICAKICAgICAgICAgICAgdmFyIGh0bWxfMWI3NTE4YWJlNmZhNGFiY2FiNzc4MDBiMWY2NGRmNzEgPSAkKGA8ZGl2IGlkPSJodG1sXzFiNzUxOGFiZTZmYTRhYmNhYjc3ODAwYjFmNjRkZjcxIiBzdHlsZT0id2lkdGg6IDEwMC4wJTsgaGVpZ2h0OiAxMDAuMCU7Ij5Ob3J0aCBZb3JrLCBEb3duc3ZpZXcgRWFzdCBDbHVzdGVyIDA8L2Rpdj5gKVswXTsKICAgICAgICAgICAgcG9wdXBfMzZmOWRjMmE0ZmEwNGEzNmIyMDg4MWY1MTQ1MGU3NWUuc2V0Q29udGVudChodG1sXzFiNzUxOGFiZTZmYTRhYmNhYjc3ODAwYjFmNjRkZjcxKTsKICAgICAgICAKCiAgICAgICAgY2lyY2xlX21hcmtlcl8zMGJjOGRiNjkzNDY0NTUxOGQyNWEyNzYyYTBiZjhkMy5iaW5kUG9wdXAocG9wdXBfMzZmOWRjMmE0ZmEwNGEzNmIyMDg4MWY1MTQ1MGU3NWUpCiAgICAgICAgOwoKICAgICAgICAKICAgIAogICAgCiAgICAgICAgICAgIHZhciBjaXJjbGVfbWFya2VyXzkwNDAyNmY0MmIxYTQ0MzU5YmE4M2NjZmJlNGRiYzBmID0gTC5jaXJjbGVNYXJrZXIoCiAgICAgICAgICAgICAgICBbNDMuNzM5MDE0NiwgLTc5LjUwNjk0MzZdLAogICAgICAgICAgICAgICAgeyJidWJibGluZ01vdXNlRXZlbnRzIjogdHJ1ZSwgImNvbG9yIjogIiM4MDAwZmYiLCAiZGFzaEFycmF5IjogbnVsbCwgImRhc2hPZmZzZXQiOiBudWxsLCAiZmlsbCI6IHRydWUsICJmaWxsQ29sb3IiOiAiIzgwMDBmZiIsICJmaWxsT3BhY2l0eSI6IDAuNywgImZpbGxSdWxlIjogImV2ZW5vZGQiLCAibGluZUNhcCI6ICJyb3VuZCIsICJsaW5lSm9pbiI6ICJyb3VuZCIsICJvcGFjaXR5IjogMS4wLCAicmFkaXVzIjogNSwgInN0cm9rZSI6IHRydWUsICJ3ZWlnaHQiOiAzfQogICAgICAgICAgICApLmFkZFRvKG1hcF8wZDVjYTY1YTcyMWQ0YmM2ODYyMjBiOWFhZTM3ZGQwZSk7CiAgICAgICAgCiAgICAKICAgICAgICB2YXIgcG9wdXBfM2FiY2VkZmVmMzU4NGUzNWE3ZmVlZWNlZWZiOGFmNTcgPSBMLnBvcHVwKHsibWF4V2lkdGgiOiAiMTAwJSJ9KTsKCiAgICAgICAgCiAgICAgICAgICAgIHZhciBodG1sXzRiZjc0ZmEwMTlmNDQzZWRhMjIzZGUzZmU5M2UyOWFiID0gJChgPGRpdiBpZD0iaHRtbF80YmY3NGZhMDE5ZjQ0M2VkYTIyM2RlM2ZlOTNlMjlhYiIgc3R5bGU9IndpZHRoOiAxMDAuMCU7IGhlaWdodDogMTAwLjAlOyI+RG93bnN2aWV3IFdlc3QgQ2x1c3RlciAxPC9kaXY+YClbMF07CiAgICAgICAgICAgIHBvcHVwXzNhYmNlZGZlZjM1ODRlMzVhN2ZlZWVjZWVmYjhhZjU3LnNldENvbnRlbnQoaHRtbF80YmY3NGZhMDE5ZjQ0M2VkYTIyM2RlM2ZlOTNlMjlhYik7CiAgICAgICAgCgogICAgICAgIGNpcmNsZV9tYXJrZXJfOTA0MDI2ZjQyYjFhNDQzNTliYTgzY2NmYmU0ZGJjMGYuYmluZFBvcHVwKHBvcHVwXzNhYmNlZGZlZjM1ODRlMzVhN2ZlZWVjZWVmYjhhZjU3KQogICAgICAgIDsKCiAgICAgICAgCiAgICAKICAgIAogICAgICAgICAgICB2YXIgY2lyY2xlX21hcmtlcl83ZTIyNDc1YTE3Nzg0NzVjYjAyMTViNTRiYzU5ZWIzYiA9IEwuY2lyY2xlTWFya2VyKAogICAgICAgICAgICAgICAgWzQzLjcyODQ5NjQsIC03OS40OTU2OTc0XSwKICAgICAgICAgICAgICAgIHsiYnViYmxpbmdNb3VzZUV2ZW50cyI6IHRydWUsICJjb2xvciI6ICIjZDRkZDgwIiwgImRhc2hBcnJheSI6IG51bGwsICJkYXNoT2Zmc2V0IjogbnVsbCwgImZpbGwiOiB0cnVlLCAiZmlsbENvbG9yIjogIiNkNGRkODAiLCAiZmlsbE9wYWNpdHkiOiAwLjcsICJmaWxsUnVsZSI6ICJldmVub2RkIiwgImxpbmVDYXAiOiAicm91bmQiLCAibGluZUpvaW4iOiAicm91bmQiLCAib3BhY2l0eSI6IDEuMCwgInJhZGl1cyI6IDUsICJzdHJva2UiOiB0cnVlLCAid2VpZ2h0IjogM30KICAgICAgICAgICAgKS5hZGRUbyhtYXBfMGQ1Y2E2NWE3MjFkNGJjNjg2MjIwYjlhYWUzN2RkMGUpOwogICAgICAgIAogICAgCiAgICAgICAgdmFyIHBvcHVwX2U5MjE2YzE3YjcxNDRkNzViMzczZjIyNDViM2M4MTJmID0gTC5wb3B1cCh7Im1heFdpZHRoIjogIjEwMCUifSk7CgogICAgICAgIAogICAgICAgICAgICB2YXIgaHRtbF8yYzRhYzIyMjcyMzQ0YmJmYmJlYjFjZDQ5NWI5ZGQ5YyA9ICQoYDxkaXYgaWQ9Imh0bWxfMmM0YWMyMjI3MjM0NGJiZmJiZWIxY2Q0OTViOWRkOWMiIHN0eWxlPSJ3aWR0aDogMTAwLjAlOyBoZWlnaHQ6IDEwMC4wJTsiPkRvd25zdmlldyBDZW50cmFsIENsdXN0ZXIgNzwvZGl2PmApWzBdOwogICAgICAgICAgICBwb3B1cF9lOTIxNmMxN2I3MTQ0ZDc1YjM3M2YyMjQ1YjNjODEyZi5zZXRDb250ZW50KGh0bWxfMmM0YWMyMjI3MjM0NGJiZmJiZWIxY2Q0OTViOWRkOWMpOwogICAgICAgIAoKICAgICAgICBjaXJjbGVfbWFya2VyXzdlMjI0NzVhMTc3ODQ3NWNiMDIxNWI1NGJjNTllYjNiLmJpbmRQb3B1cChwb3B1cF9lOTIxNmMxN2I3MTQ0ZDc1YjM3M2YyMjQ1YjNjODEyZikKICAgICAgICA7CgogICAgICAgIAogICAgCiAgICAKICAgICAgICAgICAgdmFyIGNpcmNsZV9tYXJrZXJfMjFhZDRkZGYyYWVmNDBiM2JjNmMwZThmZTRlMTNhN2UgPSBMLmNpcmNsZU1hcmtlcigKICAgICAgICAgICAgICAgIFs0My43NjE2MzEzLCAtNzkuNTIwOTk5NF0sCiAgICAgICAgICAgICAgICB7ImJ1YmJsaW5nTW91c2VFdmVudHMiOiB0cnVlLCAiY29sb3IiOiAiIzgwMDBmZiIsICJkYXNoQXJyYXkiOiBudWxsLCAiZGFzaE9mZnNldCI6IG51bGwsICJmaWxsIjogdHJ1ZSwgImZpbGxDb2xvciI6ICIjODAwMGZmIiwgImZpbGxPcGFjaXR5IjogMC43LCAiZmlsbFJ1bGUiOiAiZXZlbm9kZCIsICJsaW5lQ2FwIjogInJvdW5kIiwgImxpbmVKb2luIjogInJvdW5kIiwgIm9wYWNpdHkiOiAxLjAsICJyYWRpdXMiOiA1LCAic3Ryb2tlIjogdHJ1ZSwgIndlaWdodCI6IDN9CiAgICAgICAgICAgICkuYWRkVG8obWFwXzBkNWNhNjVhNzIxZDRiYzY4NjIyMGI5YWFlMzdkZDBlKTsKICAgICAgICAKICAgIAogICAgICAgIHZhciBwb3B1cF85ODNmMGViNTAzY2I0ZTFiOTM0N2ZkNzM4Zjc2NzE5YSA9IEwucG9wdXAoeyJtYXhXaWR0aCI6ICIxMDAlIn0pOwoKICAgICAgICAKICAgICAgICAgICAgdmFyIGh0bWxfMjhlOGE0OTJjMGY3NDZlNGE1NWZmOTFlYTgzMjU4MDUgPSAkKGA8ZGl2IGlkPSJodG1sXzI4ZThhNDkyYzBmNzQ2ZTRhNTVmZjkxZWE4MzI1ODA1IiBzdHlsZT0id2lkdGg6IDEwMC4wJTsgaGVpZ2h0OiAxMDAuMCU7Ij5Eb3duc3ZpZXcgTm9ydGh3ZXN0IENsdXN0ZXIgMTwvZGl2PmApWzBdOwogICAgICAgICAgICBwb3B1cF85ODNmMGViNTAzY2I0ZTFiOTM0N2ZkNzM4Zjc2NzE5YS5zZXRDb250ZW50KGh0bWxfMjhlOGE0OTJjMGY3NDZlNGE1NWZmOTFlYTgzMjU4MDUpOwogICAgICAgIAoKICAgICAgICBjaXJjbGVfbWFya2VyXzIxYWQ0ZGRmMmFlZjQwYjNiYzZjMGU4ZmU0ZTEzYTdlLmJpbmRQb3B1cChwb3B1cF85ODNmMGViNTAzY2I0ZTFiOTM0N2ZkNzM4Zjc2NzE5YSkKICAgICAgICA7CgogICAgICAgIAogICAgCiAgICAKICAgICAgICAgICAgdmFyIGNpcmNsZV9tYXJrZXJfYmJkNDQ0NWQyNmY4NDMwN2FhNDEwMDE5YjM5Yzk4YzIgPSBMLmNpcmNsZU1hcmtlcigKICAgICAgICAgICAgICAgIFs0My43MjU4ODIzLCAtNzkuMzE1NTcxNl0sCiAgICAgICAgICAgICAgICB7ImJ1YmJsaW5nTW91c2VFdmVudHMiOiB0cnVlLCAiY29sb3IiOiAiIzgwMDBmZiIsICJkYXNoQXJyYXkiOiBudWxsLCAiZGFzaE9mZnNldCI6IG51bGwsICJmaWxsIjogdHJ1ZSwgImZpbGxDb2xvciI6ICIjODAwMGZmIiwgImZpbGxPcGFjaXR5IjogMC43LCAiZmlsbFJ1bGUiOiAiZXZlbm9kZCIsICJsaW5lQ2FwIjogInJvdW5kIiwgImxpbmVKb2luIjogInJvdW5kIiwgIm9wYWNpdHkiOiAxLjAsICJyYWRpdXMiOiA1LCAic3Ryb2tlIjogdHJ1ZSwgIndlaWdodCI6IDN9CiAgICAgICAgICAgICkuYWRkVG8obWFwXzBkNWNhNjVhNzIxZDRiYzY4NjIyMGI5YWFlMzdkZDBlKTsKICAgICAgICAKICAgIAogICAgICAgIHZhciBwb3B1cF8wMmZkYjhkNjgzYzA0MGRiOTRjMmZlZGY5NzI3YTM3NyA9IEwucG9wdXAoeyJtYXhXaWR0aCI6ICIxMDAlIn0pOwoKICAgICAgICAKICAgICAgICAgICAgdmFyIGh0bWxfOGNjMDBjZGRhNTdmNGFkMjg0MzFhMjEyMTA0ZjllNWQgPSAkKGA8ZGl2IGlkPSJodG1sXzhjYzAwY2RkYTU3ZjRhZDI4NDMxYTIxMjEwNGY5ZTVkIiBzdHlsZT0id2lkdGg6IDEwMC4wJTsgaGVpZ2h0OiAxMDAuMCU7Ij5WaWN0b3JpYSBWaWxsYWdlIENsdXN0ZXIgMTwvZGl2PmApWzBdOwogICAgICAgICAgICBwb3B1cF8wMmZkYjhkNjgzYzA0MGRiOTRjMmZlZGY5NzI3YTM3Ny5zZXRDb250ZW50KGh0bWxfOGNjMDBjZGRhNTdmNGFkMjg0MzFhMjEyMTA0ZjllNWQpOwogICAgICAgIAoKICAgICAgICBjaXJjbGVfbWFya2VyX2JiZDQ0NDVkMjZmODQzMDdhYTQxMDAxOWIzOWM5OGMyLmJpbmRQb3B1cChwb3B1cF8wMmZkYjhkNjgzYzA0MGRiOTRjMmZlZGY5NzI3YTM3NykKICAgICAgICA7CgogICAgICAgIAogICAgCiAgICAKICAgICAgICAgICAgdmFyIGNpcmNsZV9tYXJrZXJfZmI5YjJlZjFhMTgxNDFmNzg1MGI2ZGRjMjBmMzZlMjEgPSBMLmNpcmNsZU1hcmtlcigKICAgICAgICAgICAgICAgIFs0My43MDYzOTcyLCAtNzkuMzA5OTM3XSwKICAgICAgICAgICAgICAgIHsiYnViYmxpbmdNb3VzZUV2ZW50cyI6IHRydWUsICJjb2xvciI6ICIjMTBhMmYwIiwgImRhc2hBcnJheSI6IG51bGwsICJkYXNoT2Zmc2V0IjogbnVsbCwgImZpbGwiOiB0cnVlLCAiZmlsbENvbG9yIjogIiMxMGEyZjAiLCAiZmlsbE9wYWNpdHkiOiAwLjcsICJmaWxsUnVsZSI6ICJldmVub2RkIiwgImxpbmVDYXAiOiAicm91bmQiLCAibGluZUpvaW4iOiAicm91bmQiLCAib3BhY2l0eSI6IDEuMCwgInJhZGl1cyI6IDUsICJzdHJva2UiOiB0cnVlLCAid2VpZ2h0IjogM30KICAgICAgICAgICAgKS5hZGRUbyhtYXBfMGQ1Y2E2NWE3MjFkNGJjNjg2MjIwYjlhYWUzN2RkMGUpOwogICAgICAgIAogICAgCiAgICAgICAgdmFyIHBvcHVwXzAwNDc1MjFlNjUwYjRkNDk4ZDQwNjljMzY4ZTA5MGY2ID0gTC5wb3B1cCh7Im1heFdpZHRoIjogIjEwMCUifSk7CgogICAgICAgIAogICAgICAgICAgICB2YXIgaHRtbF9jOGRlMGM0ZmNmYjY0MWY3YTgxMmFmMDJkZjViYzNhNSA9ICQoYDxkaXYgaWQ9Imh0bWxfYzhkZTBjNGZjZmI2NDFmN2E4MTJhZjAyZGY1YmMzYTUiIHN0eWxlPSJ3aWR0aDogMTAwLjAlOyBoZWlnaHQ6IDEwMC4wJTsiPkVhc3QgWW9yaywgUGFya3ZpZXcgSGlsbCBDbHVzdGVyIDM8L2Rpdj5gKVswXTsKICAgICAgICAgICAgcG9wdXBfMDA0NzUyMWU2NTBiNGQ0OThkNDA2OWMzNjhlMDkwZjYuc2V0Q29udGVudChodG1sX2M4ZGUwYzRmY2ZiNjQxZjdhODEyYWYwMmRmNWJjM2E1KTsKICAgICAgICAKCiAgICAgICAgY2lyY2xlX21hcmtlcl9mYjliMmVmMWExODE0MWY3ODUwYjZkZGMyMGYzNmUyMS5iaW5kUG9wdXAocG9wdXBfMDA0NzUyMWU2NTBiNGQ0OThkNDA2OWMzNjhlMDkwZjYpCiAgICAgICAgOwoKICAgICAgICAKICAgIAogICAgCiAgICAgICAgICAgIHZhciBjaXJjbGVfbWFya2VyXzk2OTQ3ZGY4MTFmMDQ5NmI4Njc2MDY5MjM4YzcwYmI5ID0gTC5jaXJjbGVNYXJrZXIoCiAgICAgICAgICAgICAgICBbNDMuNjk1MzQzOSwgLTc5LjMxODM4ODddLAogICAgICAgICAgICAgICAgeyJidWJibGluZ01vdXNlRXZlbnRzIjogdHJ1ZSwgImNvbG9yIjogIiMxMGEyZjAiLCAiZGFzaEFycmF5IjogbnVsbCwgImRhc2hPZmZzZXQiOiBudWxsLCAiZmlsbCI6IHRydWUsICJmaWxsQ29sb3IiOiAiIzEwYTJmMCIsICJmaWxsT3BhY2l0eSI6IDAuNywgImZpbGxSdWxlIjogImV2ZW5vZGQiLCAibGluZUNhcCI6ICJyb3VuZCIsICJsaW5lSm9pbiI6ICJyb3VuZCIsICJvcGFjaXR5IjogMS4wLCAicmFkaXVzIjogNSwgInN0cm9rZSI6IHRydWUsICJ3ZWlnaHQiOiAzfQogICAgICAgICAgICApLmFkZFRvKG1hcF8wZDVjYTY1YTcyMWQ0YmM2ODYyMjBiOWFhZTM3ZGQwZSk7CiAgICAgICAgCiAgICAKICAgICAgICB2YXIgcG9wdXBfNzkwZjBhZDZjYjg2NGIxMTljNmRlYTI0NjlkZTM4N2QgPSBMLnBvcHVwKHsibWF4V2lkdGgiOiAiMTAwJSJ9KTsKCiAgICAgICAgCiAgICAgICAgICAgIHZhciBodG1sXzY1ZjBhOTk4ODVmYjQ0NjNiZjM2N2NiOWFlN2VlZGZlID0gJChgPGRpdiBpZD0iaHRtbF82NWYwYTk5ODg1ZmI0NDYzYmYzNjdjYjlhZTdlZWRmZSIgc3R5bGU9IndpZHRoOiAxMDAuMCU7IGhlaWdodDogMTAwLjAlOyI+V29vZGJpbmUgSGVpZ2h0cyBDbHVzdGVyIDM8L2Rpdj5gKVswXTsKICAgICAgICAgICAgcG9wdXBfNzkwZjBhZDZjYjg2NGIxMTljNmRlYTI0NjlkZTM4N2Quc2V0Q29udGVudChodG1sXzY1ZjBhOTk4ODVmYjQ0NjNiZjM2N2NiOWFlN2VlZGZlKTsKICAgICAgICAKCiAgICAgICAgY2lyY2xlX21hcmtlcl85Njk0N2RmODExZjA0OTZiODY3NjA2OTIzOGM3MGJiOS5iaW5kUG9wdXAocG9wdXBfNzkwZjBhZDZjYjg2NGIxMTljNmRlYTI0NjlkZTM4N2QpCiAgICAgICAgOwoKICAgICAgICAKICAgIAogICAgCiAgICAgICAgICAgIHZhciBjaXJjbGVfbWFya2VyXzM2NDk1YjAwZWE0YzQyOWNiNTZhY2E5OWI1ZWQ0NDIyID0gTC5jaXJjbGVNYXJrZXIoCiAgICAgICAgICAgICAgICBbNDMuNjc2MzU3NCwgLTc5LjI5MzAzMTJdLAogICAgICAgICAgICAgICAgeyJidWJibGluZ01vdXNlRXZlbnRzIjogdHJ1ZSwgImNvbG9yIjogIiMxMGEyZjAiLCAiZGFzaEFycmF5IjogbnVsbCwgImRhc2hPZmZzZXQiOiBudWxsLCAiZmlsbCI6IHRydWUsICJmaWxsQ29sb3IiOiAiIzEwYTJmMCIsICJmaWxsT3BhY2l0eSI6IDAuNywgImZpbGxSdWxlIjogImV2ZW5vZGQiLCAibGluZUNhcCI6ICJyb3VuZCIsICJsaW5lSm9pbiI6ICJyb3VuZCIsICJvcGFjaXR5IjogMS4wLCAicmFkaXVzIjogNSwgInN0cm9rZSI6IHRydWUsICJ3ZWlnaHQiOiAzfQogICAgICAgICAgICApLmFkZFRvKG1hcF8wZDVjYTY1YTcyMWQ0YmM2ODYyMjBiOWFhZTM3ZGQwZSk7CiAgICAgICAgCiAgICAKICAgICAgICB2YXIgcG9wdXBfYjkxNzhkZTg1ZDJlNGI4NGI0Njg1NjAyYjZlOGQ2NDAgPSBMLnBvcHVwKHsibWF4V2lkdGgiOiAiMTAwJSJ9KTsKCiAgICAgICAgCiAgICAgICAgICAgIHZhciBodG1sXzdiMDhmYjFhNDk2MzQwZDVhYmI3YzdhMmVhMDBhMDJkID0gJChgPGRpdiBpZD0iaHRtbF83YjA4ZmIxYTQ5NjM0MGQ1YWJiN2M3YTJlYTAwYTAyZCIgc3R5bGU9IndpZHRoOiAxMDAuMCU7IGhlaWdodDogMTAwLjAlOyI+VGhlIEJlYWNoZXMgQ2x1c3RlciAzPC9kaXY+YClbMF07CiAgICAgICAgICAgIHBvcHVwX2I5MTc4ZGU4NWQyZTRiODRiNDY4NTYwMmI2ZThkNjQwLnNldENvbnRlbnQoaHRtbF83YjA4ZmIxYTQ5NjM0MGQ1YWJiN2M3YTJlYTAwYTAyZCk7CiAgICAgICAgCgogICAgICAgIGNpcmNsZV9tYXJrZXJfMzY0OTViMDBlYTRjNDI5Y2I1NmFjYTk5YjVlZDQ0MjIuYmluZFBvcHVwKHBvcHVwX2I5MTc4ZGU4NWQyZTRiODRiNDY4NTYwMmI2ZThkNjQwKQogICAgICAgIDsKCiAgICAgICAgCiAgICAKICAgIAogICAgICAgICAgICB2YXIgY2lyY2xlX21hcmtlcl8xM2Q1YTNmOWM5OTc0MWUxODE5YzQ2OWVjZWIxNjFlYSA9IEwuY2lyY2xlTWFya2VyKAogICAgICAgICAgICAgICAgWzQzLjcwOTA2MDQsIC03OS4zNjM0NTE3XSwKICAgICAgICAgICAgICAgIHsiYnViYmxpbmdNb3VzZUV2ZW50cyI6IHRydWUsICJjb2xvciI6ICIjMTBhMmYwIiwgImRhc2hBcnJheSI6IG51bGwsICJkYXNoT2Zmc2V0IjogbnVsbCwgImZpbGwiOiB0cnVlLCAiZmlsbENvbG9yIjogIiMxMGEyZjAiLCAiZmlsbE9wYWNpdHkiOiAwLjcsICJmaWxsUnVsZSI6ICJldmVub2RkIiwgImxpbmVDYXAiOiAicm91bmQiLCAibGluZUpvaW4iOiAicm91bmQiLCAib3BhY2l0eSI6IDEuMCwgInJhZGl1cyI6IDUsICJzdHJva2UiOiB0cnVlLCAid2VpZ2h0IjogM30KICAgICAgICAgICAgKS5hZGRUbyhtYXBfMGQ1Y2E2NWE3MjFkNGJjNjg2MjIwYjlhYWUzN2RkMGUpOwogICAgICAgIAogICAgCiAgICAgICAgdmFyIHBvcHVwXzMyZWVlZjdjNTU4YzQwMThhNjFjYmI4ZmQzMTYwMjA5ID0gTC5wb3B1cCh7Im1heFdpZHRoIjogIjEwMCUifSk7CgogICAgICAgIAogICAgICAgICAgICB2YXIgaHRtbF84Njk1MjI0MGI5OTc0NGQzYWEzOWU1MTBlZDA4YTY5ZiA9ICQoYDxkaXYgaWQ9Imh0bWxfODY5NTIyNDBiOTk3NDRkM2FhMzllNTEwZWQwOGE2OWYiIHN0eWxlPSJ3aWR0aDogMTAwLjAlOyBoZWlnaHQ6IDEwMC4wJTsiPkxlYXNpZGUgQ2x1c3RlciAzPC9kaXY+YClbMF07CiAgICAgICAgICAgIHBvcHVwXzMyZWVlZjdjNTU4YzQwMThhNjFjYmI4ZmQzMTYwMjA5LnNldENvbnRlbnQoaHRtbF84Njk1MjI0MGI5OTc0NGQzYWEzOWU1MTBlZDA4YTY5Zik7CiAgICAgICAgCgogICAgICAgIGNpcmNsZV9tYXJrZXJfMTNkNWEzZjljOTk3NDFlMTgxOWM0NjllY2ViMTYxZWEuYmluZFBvcHVwKHBvcHVwXzMyZWVlZjdjNTU4YzQwMThhNjFjYmI4ZmQzMTYwMjA5KQogICAgICAgIDsKCiAgICAgICAgCiAgICAKICAgIAogICAgICAgICAgICB2YXIgY2lyY2xlX21hcmtlcl9mZTg4ZGUwMzEwZjI0YTIzYjhkNGJmZDk0YjU5MjQ3YiA9IEwuY2lyY2xlTWFya2VyKAogICAgICAgICAgICAgICAgWzQzLjcwNTM2ODksIC03OS4zNDkzNzE5XSwKICAgICAgICAgICAgICAgIHsiYnViYmxpbmdNb3VzZUV2ZW50cyI6IHRydWUsICJjb2xvciI6ICIjMTBhMmYwIiwgImRhc2hBcnJheSI6IG51bGwsICJkYXNoT2Zmc2V0IjogbnVsbCwgImZpbGwiOiB0cnVlLCAiZmlsbENvbG9yIjogIiMxMGEyZjAiLCAiZmlsbE9wYWNpdHkiOiAwLjcsICJmaWxsUnVsZSI6ICJldmVub2RkIiwgImxpbmVDYXAiOiAicm91bmQiLCAibGluZUpvaW4iOiAicm91bmQiLCAib3BhY2l0eSI6IDEuMCwgInJhZGl1cyI6IDUsICJzdHJva2UiOiB0cnVlLCAid2VpZ2h0IjogM30KICAgICAgICAgICAgKS5hZGRUbyhtYXBfMGQ1Y2E2NWE3MjFkNGJjNjg2MjIwYjlhYWUzN2RkMGUpOwogICAgICAgIAogICAgCiAgICAgICAgdmFyIHBvcHVwX2U2MzE2MjAxMzhkYjRjZDY4NWE0M2QyOWMwMmMxODllID0gTC5wb3B1cCh7Im1heFdpZHRoIjogIjEwMCUifSk7CgogICAgICAgIAogICAgICAgICAgICB2YXIgaHRtbF9kNjEwZWE1MThkYzU0MTY5ODUzNTE2YThiZDIyZDBhZiA9ICQoYDxkaXYgaWQ9Imh0bWxfZDYxMGVhNTE4ZGM1NDE2OTg1MzUxNmE4YmQyMmQwYWYiIHN0eWxlPSJ3aWR0aDogMTAwLjAlOyBoZWlnaHQ6IDEwMC4wJTsiPlRob3JuY2xpZmZlIFBhcmsgQ2x1c3RlciAzPC9kaXY+YClbMF07CiAgICAgICAgICAgIHBvcHVwX2U2MzE2MjAxMzhkYjRjZDY4NWE0M2QyOWMwMmMxODllLnNldENvbnRlbnQoaHRtbF9kNjEwZWE1MThkYzU0MTY5ODUzNTE2YThiZDIyZDBhZik7CiAgICAgICAgCgogICAgICAgIGNpcmNsZV9tYXJrZXJfZmU4OGRlMDMxMGYyNGEyM2I4ZDRiZmQ5NGI1OTI0N2IuYmluZFBvcHVwKHBvcHVwX2U2MzE2MjAxMzhkYjRjZDY4NWE0M2QyOWMwMmMxODllKQogICAgICAgIDsKCiAgICAgICAgCiAgICAKICAgIAogICAgICAgICAgICB2YXIgY2lyY2xlX21hcmtlcl85YTVmNTVlYzBlNWI0MDhkOTRiYjIxZjhhYmE0ZTVjZSA9IEwuY2lyY2xlTWFya2VyKAogICAgICAgICAgICAgICAgWzQzLjY4NTM0NywgLTc5LjMzODEwNjVdLAogICAgICAgICAgICAgICAgeyJidWJibGluZ01vdXNlRXZlbnRzIjogdHJ1ZSwgImNvbG9yIjogIiNmZjAwMDAiLCAiZGFzaEFycmF5IjogbnVsbCwgImRhc2hPZmZzZXQiOiBudWxsLCAiZmlsbCI6IHRydWUsICJmaWxsQ29sb3IiOiAiI2ZmMDAwMCIsICJmaWxsT3BhY2l0eSI6IDAuNywgImZpbGxSdWxlIjogImV2ZW5vZGQiLCAibGluZUNhcCI6ICJyb3VuZCIsICJsaW5lSm9pbiI6ICJyb3VuZCIsICJvcGFjaXR5IjogMS4wLCAicmFkaXVzIjogNSwgInN0cm9rZSI6IHRydWUsICJ3ZWlnaHQiOiAzfQogICAgICAgICAgICApLmFkZFRvKG1hcF8wZDVjYTY1YTcyMWQ0YmM2ODYyMjBiOWFhZTM3ZGQwZSk7CiAgICAgICAgCiAgICAKICAgICAgICB2YXIgcG9wdXBfZjJkNjc2M2Y0YzEyNGY2YmJkOGUxOTY4MDc3ZDY4OWIgPSBMLnBvcHVwKHsibWF4V2lkdGgiOiAiMTAwJSJ9KTsKCiAgICAgICAgCiAgICAgICAgICAgIHZhciBodG1sX2NhNTI0MjVmZmYxYjQ2YWI5NGZkMDgwMTgwODRhNWE1ID0gJChgPGRpdiBpZD0iaHRtbF9jYTUyNDI1ZmZmMWI0NmFiOTRmZDA4MDE4MDg0YTVhNSIgc3R5bGU9IndpZHRoOiAxMDAuMCU7IGhlaWdodDogMTAwLjAlOyI+RWFzdCBUb3JvbnRvIENsdXN0ZXIgMDwvZGl2PmApWzBdOwogICAgICAgICAgICBwb3B1cF9mMmQ2NzYzZjRjMTI0ZjZiYmQ4ZTE5NjgwNzdkNjg5Yi5zZXRDb250ZW50KGh0bWxfY2E1MjQyNWZmZjFiNDZhYjk0ZmQwODAxODA4NGE1YTUpOwogICAgICAgIAoKICAgICAgICBjaXJjbGVfbWFya2VyXzlhNWY1NWVjMGU1YjQwOGQ5NGJiMjFmOGFiYTRlNWNlLmJpbmRQb3B1cChwb3B1cF9mMmQ2NzYzZjRjMTI0ZjZiYmQ4ZTE5NjgwNzdkNjg5YikKICAgICAgICA7CgogICAgICAgIAogICAgCiAgICAKICAgICAgICAgICAgdmFyIGNpcmNsZV9tYXJrZXJfMjc2ZmMxYTkwOGJiNGYyMGFjYWIwZThlYjUxNjU0OWIgPSBMLmNpcmNsZU1hcmtlcigKICAgICAgICAgICAgICAgIFs0My42Nzk1NTcxLCAtNzkuMzUyMTg4XSwKICAgICAgICAgICAgICAgIHsiYnViYmxpbmdNb3VzZUV2ZW50cyI6IHRydWUsICJjb2xvciI6ICIjMTBhMmYwIiwgImRhc2hBcnJheSI6IG51bGwsICJkYXNoT2Zmc2V0IjogbnVsbCwgImZpbGwiOiB0cnVlLCAiZmlsbENvbG9yIjogIiMxMGEyZjAiLCAiZmlsbE9wYWNpdHkiOiAwLjcsICJmaWxsUnVsZSI6ICJldmVub2RkIiwgImxpbmVDYXAiOiAicm91bmQiLCAibGluZUpvaW4iOiAicm91bmQiLCAib3BhY2l0eSI6IDEuMCwgInJhZGl1cyI6IDUsICJzdHJva2UiOiB0cnVlLCAid2VpZ2h0IjogM30KICAgICAgICAgICAgKS5hZGRUbyhtYXBfMGQ1Y2E2NWE3MjFkNGJjNjg2MjIwYjlhYWUzN2RkMGUpOwogICAgICAgIAogICAgCiAgICAgICAgdmFyIHBvcHVwX2U3NjdlZjdmM2FjZDRiMDhiOTYzZWIzYTA2YmNiZjcyID0gTC5wb3B1cCh7Im1heFdpZHRoIjogIjEwMCUifSk7CgogICAgICAgIAogICAgICAgICAgICB2YXIgaHRtbF80NjFiNWRhYzg1ZmU0ODMyYTY4ZTRiNjU3MWFjYzViYiA9ICQoYDxkaXYgaWQ9Imh0bWxfNDYxYjVkYWM4NWZlNDgzMmE2OGU0YjY1NzFhY2M1YmIiIHN0eWxlPSJ3aWR0aDogMTAwLjAlOyBoZWlnaHQ6IDEwMC4wJTsiPkVhc3QgVG9yb250bywgUml2ZXJkYWxlIENsdXN0ZXIgMzwvZGl2PmApWzBdOwogICAgICAgICAgICBwb3B1cF9lNzY3ZWY3ZjNhY2Q0YjA4Yjk2M2ViM2EwNmJjYmY3Mi5zZXRDb250ZW50KGh0bWxfNDYxYjVkYWM4NWZlNDgzMmE2OGU0YjY1NzFhY2M1YmIpOwogICAgICAgIAoKICAgICAgICBjaXJjbGVfbWFya2VyXzI3NmZjMWE5MDhiYjRmMjBhY2FiMGU4ZWI1MTY1NDliLmJpbmRQb3B1cChwb3B1cF9lNzY3ZWY3ZjNhY2Q0YjA4Yjk2M2ViM2EwNmJjYmY3MikKICAgICAgICA7CgogICAgICAgIAogICAgCiAgICAKICAgICAgICAgICAgdmFyIGNpcmNsZV9tYXJrZXJfNWVhMzA1NjY5NmZjNDQyZDgyMDg4ZDNlOTBhZWNmNGIgPSBMLmNpcmNsZU1hcmtlcigKICAgICAgICAgICAgICAgIFs0My42Njg5OTg1LCAtNzkuMzE1NTcxNl0sCiAgICAgICAgICAgICAgICB7ImJ1YmJsaW5nTW91c2VFdmVudHMiOiB0cnVlLCAiY29sb3IiOiAiIzEwYTJmMCIsICJkYXNoQXJyYXkiOiBudWxsLCAiZGFzaE9mZnNldCI6IG51bGwsICJmaWxsIjogdHJ1ZSwgImZpbGxDb2xvciI6ICIjMTBhMmYwIiwgImZpbGxPcGFjaXR5IjogMC43LCAiZmlsbFJ1bGUiOiAiZXZlbm9kZCIsICJsaW5lQ2FwIjogInJvdW5kIiwgImxpbmVKb2luIjogInJvdW5kIiwgIm9wYWNpdHkiOiAxLjAsICJyYWRpdXMiOiA1LCAic3Ryb2tlIjogdHJ1ZSwgIndlaWdodCI6IDN9CiAgICAgICAgICAgICkuYWRkVG8obWFwXzBkNWNhNjVhNzIxZDRiYzY4NjIyMGI5YWFlMzdkZDBlKTsKICAgICAgICAKICAgIAogICAgICAgIHZhciBwb3B1cF9jOWI4OWZjZTVkZDI0OGVhYTZkNzFlMWUwY2ViMjg2OSA9IEwucG9wdXAoeyJtYXhXaWR0aCI6ICIxMDAlIn0pOwoKICAgICAgICAKICAgICAgICAgICAgdmFyIGh0bWxfODYwOTQ2MGM3MWZlNGIwYjk5MzNiMjBhOThkZjI1NjAgPSAkKGA8ZGl2IGlkPSJodG1sXzg2MDk0NjBjNzFmZTRiMGI5OTMzYjIwYTk4ZGYyNTYwIiBzdHlsZT0id2lkdGg6IDEwMC4wJTsgaGVpZ2h0OiAxMDAuMCU7Ij5FYXN0IFRvcm9udG8sIEluZGlhIEJhemFhciBDbHVzdGVyIDM8L2Rpdj5gKVswXTsKICAgICAgICAgICAgcG9wdXBfYzliODlmY2U1ZGQyNDhlYWE2ZDcxZTFlMGNlYjI4Njkuc2V0Q29udGVudChodG1sXzg2MDk0NjBjNzFmZTRiMGI5OTMzYjIwYTk4ZGYyNTYwKTsKICAgICAgICAKCiAgICAgICAgY2lyY2xlX21hcmtlcl81ZWEzMDU2Njk2ZmM0NDJkODIwODhkM2U5MGFlY2Y0Yi5iaW5kUG9wdXAocG9wdXBfYzliODlmY2U1ZGQyNDhlYWE2ZDcxZTFlMGNlYjI4NjkpCiAgICAgICAgOwoKICAgICAgICAKICAgIAogICAgCiAgICAgICAgICAgIHZhciBjaXJjbGVfbWFya2VyX2ZmMjlhNzdkMmM2YTQ4OGViMGRmNGY2Zjg5NjVjZThiID0gTC5jaXJjbGVNYXJrZXIoCiAgICAgICAgICAgICAgICBbNDMuNjU5NTI1NSwgLTc5LjM0MDkyM10sCiAgICAgICAgICAgICAgICB7ImJ1YmJsaW5nTW91c2VFdmVudHMiOiB0cnVlLCAiY29sb3IiOiAiIzEwYTJmMCIsICJkYXNoQXJyYXkiOiBudWxsLCAiZGFzaE9mZnNldCI6IG51bGwsICJmaWxsIjogdHJ1ZSwgImZpbGxDb2xvciI6ICIjMTBhMmYwIiwgImZpbGxPcGFjaXR5IjogMC43LCAiZmlsbFJ1bGUiOiAiZXZlbm9kZCIsICJsaW5lQ2FwIjogInJvdW5kIiwgImxpbmVKb2luIjogInJvdW5kIiwgIm9wYWNpdHkiOiAxLjAsICJyYWRpdXMiOiA1LCAic3Ryb2tlIjogdHJ1ZSwgIndlaWdodCI6IDN9CiAgICAgICAgICAgICkuYWRkVG8obWFwXzBkNWNhNjVhNzIxZDRiYzY4NjIyMGI5YWFlMzdkZDBlKTsKICAgICAgICAKICAgIAogICAgICAgIHZhciBwb3B1cF84OTRiNjJkYzFiMjQ0YmI4OTgyMTFiNWNmNWJlMDM4OSA9IEwucG9wdXAoeyJtYXhXaWR0aCI6ICIxMDAlIn0pOwoKICAgICAgICAKICAgICAgICAgICAgdmFyIGh0bWxfNzg4M2VjNjk2NTc3NDI2MmI5MTgyMDNjNzFlNTRhZmIgPSAkKGA8ZGl2IGlkPSJodG1sXzc4ODNlYzY5NjU3NzQyNjJiOTE4MjAzYzcxZTU0YWZiIiBzdHlsZT0id2lkdGg6IDEwMC4wJTsgaGVpZ2h0OiAxMDAuMCU7Ij5TdHVkaW8gRGlzdHJpY3QgQ2x1c3RlciAzPC9kaXY+YClbMF07CiAgICAgICAgICAgIHBvcHVwXzg5NGI2MmRjMWIyNDRiYjg5ODIxMWI1Y2Y1YmUwMzg5LnNldENvbnRlbnQoaHRtbF83ODgzZWM2OTY1Nzc0MjYyYjkxODIwM2M3MWU1NGFmYik7CiAgICAgICAgCgogICAgICAgIGNpcmNsZV9tYXJrZXJfZmYyOWE3N2QyYzZhNDg4ZWIwZGY0ZjZmODk2NWNlOGIuYmluZFBvcHVwKHBvcHVwXzg5NGI2MmRjMWIyNDRiYjg5ODIxMWI1Y2Y1YmUwMzg5KQogICAgICAgIDsKCiAgICAgICAgCiAgICAKICAgIAogICAgICAgICAgICB2YXIgY2lyY2xlX21hcmtlcl8yOWI0ZjcyNWYyMmY0ODZlYTFlZmZiN2ViODFjMjdiMSA9IEwuY2lyY2xlTWFya2VyKAogICAgICAgICAgICAgICAgWzQzLjcyODAyMDUsIC03OS4zODg3OTAxXSwKICAgICAgICAgICAgICAgIHsiYnViYmxpbmdNb3VzZUV2ZW50cyI6IHRydWUsICJjb2xvciI6ICIjZmYwMDAwIiwgImRhc2hBcnJheSI6IG51bGwsICJkYXNoT2Zmc2V0IjogbnVsbCwgImZpbGwiOiB0cnVlLCAiZmlsbENvbG9yIjogIiNmZjAwMDAiLCAiZmlsbE9wYWNpdHkiOiAwLjcsICJmaWxsUnVsZSI6ICJldmVub2RkIiwgImxpbmVDYXAiOiAicm91bmQiLCAibGluZUpvaW4iOiAicm91bmQiLCAib3BhY2l0eSI6IDEuMCwgInJhZGl1cyI6IDUsICJzdHJva2UiOiB0cnVlLCAid2VpZ2h0IjogM30KICAgICAgICAgICAgKS5hZGRUbyhtYXBfMGQ1Y2E2NWE3MjFkNGJjNjg2MjIwYjlhYWUzN2RkMGUpOwogICAgICAgIAogICAgCiAgICAgICAgdmFyIHBvcHVwXzkzOTZlZGU2ZDNmZDRkYWFiZmQyMDE4MTg3MTJjODE3ID0gTC5wb3B1cCh7Im1heFdpZHRoIjogIjEwMCUifSk7CgogICAgICAgIAogICAgICAgICAgICB2YXIgaHRtbF85MzU5ZGIxYWFjODk0NDQ0OGM1MmFkNTM3ZGY0MzNlMiA9ICQoYDxkaXYgaWQ9Imh0bWxfOTM1OWRiMWFhYzg5NDQ0NDhjNTJhZDUzN2RmNDMzZTIiIHN0eWxlPSJ3aWR0aDogMTAwLjAlOyBoZWlnaHQ6IDEwMC4wJTsiPkxhd3JlbmNlIFBhcmsgQ2x1c3RlciAwPC9kaXY+YClbMF07CiAgICAgICAgICAgIHBvcHVwXzkzOTZlZGU2ZDNmZDRkYWFiZmQyMDE4MTg3MTJjODE3LnNldENvbnRlbnQoaHRtbF85MzU5ZGIxYWFjODk0NDQ0OGM1MmFkNTM3ZGY0MzNlMik7CiAgICAgICAgCgogICAgICAgIGNpcmNsZV9tYXJrZXJfMjliNGY3MjVmMjJmNDg2ZWExZWZmYjdlYjgxYzI3YjEuYmluZFBvcHVwKHBvcHVwXzkzOTZlZGU2ZDNmZDRkYWFiZmQyMDE4MTg3MTJjODE3KQogICAgICAgIDsKCiAgICAgICAgCiAgICAKICAgIAogICAgICAgICAgICB2YXIgY2lyY2xlX21hcmtlcl8wYmFlNTYxMzg5ZjI0YWE0YTI5MDA2OTU1ZDg1NDU2ZiA9IEwuY2lyY2xlTWFya2VyKAogICAgICAgICAgICAgICAgWzQzLjcxMjc1MTEsIC03OS4zOTAxOTc1XSwKICAgICAgICAgICAgICAgIHsiYnViYmxpbmdNb3VzZUV2ZW50cyI6IHRydWUsICJjb2xvciI6ICIjMTBhMmYwIiwgImRhc2hBcnJheSI6IG51bGwsICJkYXNoT2Zmc2V0IjogbnVsbCwgImZpbGwiOiB0cnVlLCAiZmlsbENvbG9yIjogIiMxMGEyZjAiLCAiZmlsbE9wYWNpdHkiOiAwLjcsICJmaWxsUnVsZSI6ICJldmVub2RkIiwgImxpbmVDYXAiOiAicm91bmQiLCAibGluZUpvaW4iOiAicm91bmQiLCAib3BhY2l0eSI6IDEuMCwgInJhZGl1cyI6IDUsICJzdHJva2UiOiB0cnVlLCAid2VpZ2h0IjogM30KICAgICAgICAgICAgKS5hZGRUbyhtYXBfMGQ1Y2E2NWE3MjFkNGJjNjg2MjIwYjlhYWUzN2RkMGUpOwogICAgICAgIAogICAgCiAgICAgICAgdmFyIHBvcHVwX2VkZWEwMDc2NTlhZDQyMTI4NDlhNDM1YTBhNWFkMWE0ID0gTC5wb3B1cCh7Im1heFdpZHRoIjogIjEwMCUifSk7CgogICAgICAgIAogICAgICAgICAgICB2YXIgaHRtbF9kZDRkOTllNmIxM2E0OTQ5YWRlMGM4NjhmMGFhMTI5NSA9ICQoYDxkaXYgaWQ9Imh0bWxfZGQ0ZDk5ZTZiMTNhNDk0OWFkZTBjODY4ZjBhYTEyOTUiIHN0eWxlPSJ3aWR0aDogMTAwLjAlOyBoZWlnaHQ6IDEwMC4wJTsiPkRhdmlzdmlsbGUgTm9ydGggQ2x1c3RlciAzPC9kaXY+YClbMF07CiAgICAgICAgICAgIHBvcHVwX2VkZWEwMDc2NTlhZDQyMTI4NDlhNDM1YTBhNWFkMWE0LnNldENvbnRlbnQoaHRtbF9kZDRkOTllNmIxM2E0OTQ5YWRlMGM4NjhmMGFhMTI5NSk7CiAgICAgICAgCgogICAgICAgIGNpcmNsZV9tYXJrZXJfMGJhZTU2MTM4OWYyNGFhNGEyOTAwNjk1NWQ4NTQ1NmYuYmluZFBvcHVwKHBvcHVwX2VkZWEwMDc2NTlhZDQyMTI4NDlhNDM1YTBhNWFkMWE0KQogICAgICAgIDsKCiAgICAgICAgCiAgICAKICAgIAogICAgICAgICAgICB2YXIgY2lyY2xlX21hcmtlcl83MzA0Yjg1NWZjZDM0NDkyOTViY2E1YTY2NDE4N2IzNSA9IEwuY2lyY2xlTWFya2VyKAogICAgICAgICAgICAgICAgWzQzLjcxNTM4MzQsIC03OS40MDU2Nzg0XSwKICAgICAgICAgICAgICAgIHsiYnViYmxpbmdNb3VzZUV2ZW50cyI6IHRydWUsICJjb2xvciI6ICIjMTBhMmYwIiwgImRhc2hBcnJheSI6IG51bGwsICJkYXNoT2Zmc2V0IjogbnVsbCwgImZpbGwiOiB0cnVlLCAiZmlsbENvbG9yIjogIiMxMGEyZjAiLCAiZmlsbE9wYWNpdHkiOiAwLjcsICJmaWxsUnVsZSI6ICJldmVub2RkIiwgImxpbmVDYXAiOiAicm91bmQiLCAibGluZUpvaW4iOiAicm91bmQiLCAib3BhY2l0eSI6IDEuMCwgInJhZGl1cyI6IDUsICJzdHJva2UiOiB0cnVlLCAid2VpZ2h0IjogM30KICAgICAgICAgICAgKS5hZGRUbyhtYXBfMGQ1Y2E2NWE3MjFkNGJjNjg2MjIwYjlhYWUzN2RkMGUpOwogICAgICAgIAogICAgCiAgICAgICAgdmFyIHBvcHVwXzk0MWZkMDcwMjlmZjRkNWNiN2JlZjJlZmQ0MWQzZmVmID0gTC5wb3B1cCh7Im1heFdpZHRoIjogIjEwMCUifSk7CgogICAgICAgIAogICAgICAgICAgICB2YXIgaHRtbF9iMzgyZGVlODFmODg0MTczOTQxOTNhMjY3NmViNWI0MyA9ICQoYDxkaXYgaWQ9Imh0bWxfYjM4MmRlZTgxZjg4NDE3Mzk0MTkzYTI2NzZlYjViNDMiIHN0eWxlPSJ3aWR0aDogMTAwLjAlOyBoZWlnaHQ6IDEwMC4wJTsiPk5vcnRoIFRvcm9udG8gV2VzdCBDbHVzdGVyIDM8L2Rpdj5gKVswXTsKICAgICAgICAgICAgcG9wdXBfOTQxZmQwNzAyOWZmNGQ1Y2I3YmVmMmVmZDQxZDNmZWYuc2V0Q29udGVudChodG1sX2IzODJkZWU4MWY4ODQxNzM5NDE5M2EyNjc2ZWI1YjQzKTsKICAgICAgICAKCiAgICAgICAgY2lyY2xlX21hcmtlcl83MzA0Yjg1NWZjZDM0NDkyOTViY2E1YTY2NDE4N2IzNS5iaW5kUG9wdXAocG9wdXBfOTQxZmQwNzAyOWZmNGQ1Y2I3YmVmMmVmZDQxZDNmZWYpCiAgICAgICAgOwoKICAgICAgICAKICAgIAogICAgCiAgICAgICAgICAgIHZhciBjaXJjbGVfbWFya2VyXzQzMDRmMDEyNDRhYjQ1ZjA5ZGFlMjNmMmNiZDgxODQ0ID0gTC5jaXJjbGVNYXJrZXIoCiAgICAgICAgICAgICAgICBbNDMuNzA0MzI0NCwgLTc5LjM4ODc5MDFdLAogICAgICAgICAgICAgICAgeyJidWJibGluZ01vdXNlRXZlbnRzIjogdHJ1ZSwgImNvbG9yIjogIiMxMGEyZjAiLCAiZGFzaEFycmF5IjogbnVsbCwgImRhc2hPZmZzZXQiOiBudWxsLCAiZmlsbCI6IHRydWUsICJmaWxsQ29sb3IiOiAiIzEwYTJmMCIsICJmaWxsT3BhY2l0eSI6IDAuNywgImZpbGxSdWxlIjogImV2ZW5vZGQiLCAibGluZUNhcCI6ICJyb3VuZCIsICJsaW5lSm9pbiI6ICJyb3VuZCIsICJvcGFjaXR5IjogMS4wLCAicmFkaXVzIjogNSwgInN0cm9rZSI6IHRydWUsICJ3ZWlnaHQiOiAzfQogICAgICAgICAgICApLmFkZFRvKG1hcF8wZDVjYTY1YTcyMWQ0YmM2ODYyMjBiOWFhZTM3ZGQwZSk7CiAgICAgICAgCiAgICAKICAgICAgICB2YXIgcG9wdXBfY2Y2NDU0MzI0YmM0NGQ2Njk3MWYwNTIyNWVmZjViNTQgPSBMLnBvcHVwKHsibWF4V2lkdGgiOiAiMTAwJSJ9KTsKCiAgICAgICAgCiAgICAgICAgICAgIHZhciBodG1sXzhjNzMzMGYwYWExMjRkMzJiNmUyNGE5YWI0ZGZhYjliID0gJChgPGRpdiBpZD0iaHRtbF84YzczMzBmMGFhMTI0ZDMyYjZlMjRhOWFiNGRmYWI5YiIgc3R5bGU9IndpZHRoOiAxMDAuMCU7IGhlaWdodDogMTAwLjAlOyI+RGF2aXN2aWxsZSBDbHVzdGVyIDM8L2Rpdj5gKVswXTsKICAgICAgICAgICAgcG9wdXBfY2Y2NDU0MzI0YmM0NGQ2Njk3MWYwNTIyNWVmZjViNTQuc2V0Q29udGVudChodG1sXzhjNzMzMGYwYWExMjRkMzJiNmUyNGE5YWI0ZGZhYjliKTsKICAgICAgICAKCiAgICAgICAgY2lyY2xlX21hcmtlcl80MzA0ZjAxMjQ0YWI0NWYwOWRhZTIzZjJjYmQ4MTg0NC5iaW5kUG9wdXAocG9wdXBfY2Y2NDU0MzI0YmM0NGQ2Njk3MWYwNTIyNWVmZjViNTQpCiAgICAgICAgOwoKICAgICAgICAKICAgIAogICAgCiAgICAgICAgICAgIHZhciBjaXJjbGVfbWFya2VyXzRjYzFkOWJkYWJmYzRjMmI5Y2Y4MzIyZTc0MTU5NzY4ID0gTC5jaXJjbGVNYXJrZXIoCiAgICAgICAgICAgICAgICBbNDMuNjg5NTc0MywgLTc5LjM4MzE1OTldLAogICAgICAgICAgICAgICAgeyJidWJibGluZ01vdXNlRXZlbnRzIjogdHJ1ZSwgImNvbG9yIjogIiMxMGEyZjAiLCAiZGFzaEFycmF5IjogbnVsbCwgImRhc2hPZmZzZXQiOiBudWxsLCAiZmlsbCI6IHRydWUsICJmaWxsQ29sb3IiOiAiIzEwYTJmMCIsICJmaWxsT3BhY2l0eSI6IDAuNywgImZpbGxSdWxlIjogImV2ZW5vZGQiLCAibGluZUNhcCI6ICJyb3VuZCIsICJsaW5lSm9pbiI6ICJyb3VuZCIsICJvcGFjaXR5IjogMS4wLCAicmFkaXVzIjogNSwgInN0cm9rZSI6IHRydWUsICJ3ZWlnaHQiOiAzfQogICAgICAgICAgICApLmFkZFRvKG1hcF8wZDVjYTY1YTcyMWQ0YmM2ODYyMjBiOWFhZTM3ZGQwZSk7CiAgICAgICAgCiAgICAKICAgICAgICB2YXIgcG9wdXBfYzg5Njc0OTU5MTczNDc3N2IyYTkxNTFmNDAyYTQ5MWMgPSBMLnBvcHVwKHsibWF4V2lkdGgiOiAiMTAwJSJ9KTsKCiAgICAgICAgCiAgICAgICAgICAgIHZhciBodG1sX2JiMDhmOTY1M2NkZjQ0N2Q4MTc2ZTZhY2I0MmFhYjFlID0gJChgPGRpdiBpZD0iaHRtbF9iYjA4Zjk2NTNjZGY0NDdkODE3NmU2YWNiNDJhYWIxZSIgc3R5bGU9IndpZHRoOiAxMDAuMCU7IGhlaWdodDogMTAwLjAlOyI+Q2VudHJhbCBUb3JvbnRvLCBTdW1tZXJoaWxsIEVhc3QgQ2x1c3RlciAzPC9kaXY+YClbMF07CiAgICAgICAgICAgIHBvcHVwX2M4OTY3NDk1OTE3MzQ3NzdiMmE5MTUxZjQwMmE0OTFjLnNldENvbnRlbnQoaHRtbF9iYjA4Zjk2NTNjZGY0NDdkODE3NmU2YWNiNDJhYWIxZSk7CiAgICAgICAgCgogICAgICAgIGNpcmNsZV9tYXJrZXJfNGNjMWQ5YmRhYmZjNGMyYjljZjgzMjJlNzQxNTk3NjguYmluZFBvcHVwKHBvcHVwX2M4OTY3NDk1OTE3MzQ3NzdiMmE5MTUxZjQwMmE0OTFjKQogICAgICAgIDsKCiAgICAgICAgCiAgICAKICAgIAogICAgICAgICAgICB2YXIgY2lyY2xlX21hcmtlcl9hMjUwZmM0ZTdjMDg0MTViOWFhZjg2MzAzNjkyZDRkNSA9IEwuY2lyY2xlTWFya2VyKAogICAgICAgICAgICAgICAgWzQzLjY4NjQxMjMsIC03OS40MDAwNDkzXSwKICAgICAgICAgICAgICAgIHsiYnViYmxpbmdNb3VzZUV2ZW50cyI6IHRydWUsICJjb2xvciI6ICIjMTBhMmYwIiwgImRhc2hBcnJheSI6IG51bGwsICJkYXNoT2Zmc2V0IjogbnVsbCwgImZpbGwiOiB0cnVlLCAiZmlsbENvbG9yIjogIiMxMGEyZjAiLCAiZmlsbE9wYWNpdHkiOiAwLjcsICJmaWxsUnVsZSI6ICJldmVub2RkIiwgImxpbmVDYXAiOiAicm91bmQiLCAibGluZUpvaW4iOiAicm91bmQiLCAib3BhY2l0eSI6IDEuMCwgInJhZGl1cyI6IDUsICJzdHJva2UiOiB0cnVlLCAid2VpZ2h0IjogM30KICAgICAgICAgICAgKS5hZGRUbyhtYXBfMGQ1Y2E2NWE3MjFkNGJjNjg2MjIwYjlhYWUzN2RkMGUpOwogICAgICAgIAogICAgCiAgICAgICAgdmFyIHBvcHVwXzI0MGRlNDg5MTRiYjQ3NzZhY2ZkZGRmZDQyMDE5MzNlID0gTC5wb3B1cCh7Im1heFdpZHRoIjogIjEwMCUifSk7CgogICAgICAgIAogICAgICAgICAgICB2YXIgaHRtbF8yY2RkMWNhZTM0MmI0YjFmOTQ3NGE3ZWEwYTBlNzU4MiA9ICQoYDxkaXYgaWQ9Imh0bWxfMmNkZDFjYWUzNDJiNGIxZjk0NzRhN2VhMGEwZTc1ODIiIHN0eWxlPSJ3aWR0aDogMTAwLjAlOyBoZWlnaHQ6IDEwMC4wJTsiPkNlbnRyYWwgVG9yb250bywgU3VtbWVyaGlsbCBXZXN0IENsdXN0ZXIgMzwvZGl2PmApWzBdOwogICAgICAgICAgICBwb3B1cF8yNDBkZTQ4OTE0YmI0Nzc2YWNmZGRkZmQ0MjAxOTMzZS5zZXRDb250ZW50KGh0bWxfMmNkZDFjYWUzNDJiNGIxZjk0NzRhN2VhMGEwZTc1ODIpOwogICAgICAgIAoKICAgICAgICBjaXJjbGVfbWFya2VyX2EyNTBmYzRlN2MwODQxNWI5YWFmODYzMDM2OTJkNGQ1LmJpbmRQb3B1cChwb3B1cF8yNDBkZTQ4OTE0YmI0Nzc2YWNmZGRkZmQ0MjAxOTMzZSkKICAgICAgICA7CgogICAgICAgIAogICAgCiAgICAKICAgICAgICAgICAgdmFyIGNpcmNsZV9tYXJrZXJfZTJiMjFmZGVlYzg0NDIyODhjYTZhZTE0MzMyYTE3YTQgPSBMLmNpcmNsZU1hcmtlcigKICAgICAgICAgICAgICAgIFs0My42Nzk1NjI2LCAtNzkuMzc3NTI5NF0sCiAgICAgICAgICAgICAgICB7ImJ1YmJsaW5nTW91c2VFdmVudHMiOiB0cnVlLCAiY29sb3IiOiAiI2ZmMDAwMCIsICJkYXNoQXJyYXkiOiBudWxsLCAiZGFzaE9mZnNldCI6IG51bGwsICJmaWxsIjogdHJ1ZSwgImZpbGxDb2xvciI6ICIjZmYwMDAwIiwgImZpbGxPcGFjaXR5IjogMC43LCAiZmlsbFJ1bGUiOiAiZXZlbm9kZCIsICJsaW5lQ2FwIjogInJvdW5kIiwgImxpbmVKb2luIjogInJvdW5kIiwgIm9wYWNpdHkiOiAxLjAsICJyYWRpdXMiOiA1LCAic3Ryb2tlIjogdHJ1ZSwgIndlaWdodCI6IDN9CiAgICAgICAgICAgICkuYWRkVG8obWFwXzBkNWNhNjVhNzIxZDRiYzY4NjIyMGI5YWFlMzdkZDBlKTsKICAgICAgICAKICAgIAogICAgICAgIHZhciBwb3B1cF8xNzkyYmVlM2Y0YWI0MWMyODA0ZThhYWE0ZDdjNjc1NCA9IEwucG9wdXAoeyJtYXhXaWR0aCI6ICIxMDAlIn0pOwoKICAgICAgICAKICAgICAgICAgICAgdmFyIGh0bWxfNjg1OGM5YzgxOTY2NGIyYmI1OGRkOTRiM2E3OGM2ODEgPSAkKGA8ZGl2IGlkPSJodG1sXzY4NThjOWM4MTk2NjRiMmJiNThkZDk0YjNhNzhjNjgxIiBzdHlsZT0id2lkdGg6IDEwMC4wJTsgaGVpZ2h0OiAxMDAuMCU7Ij5Sb3NlZGFsZSBDbHVzdGVyIDA8L2Rpdj5gKVswXTsKICAgICAgICAgICAgcG9wdXBfMTc5MmJlZTNmNGFiNDFjMjgwNGU4YWFhNGQ3YzY3NTQuc2V0Q29udGVudChodG1sXzY4NThjOWM4MTk2NjRiMmJiNThkZDk0YjNhNzhjNjgxKTsKICAgICAgICAKCiAgICAgICAgY2lyY2xlX21hcmtlcl9lMmIyMWZkZWVjODQ0MjI4OGNhNmFlMTQzMzJhMTdhNC5iaW5kUG9wdXAocG9wdXBfMTc5MmJlZTNmNGFiNDFjMjgwNGU4YWFhNGQ3YzY3NTQpCiAgICAgICAgOwoKICAgICAgICAKICAgIAogICAgCiAgICAgICAgICAgIHZhciBjaXJjbGVfbWFya2VyXzZhNjBjOTkyNTkwMjQ5ZjZiOWRmOGE1ZDNjZjk4NTZlID0gTC5jaXJjbGVNYXJrZXIoCiAgICAgICAgICAgICAgICBbNDMuNjY3OTY3LCAtNzkuMzY3Njc1M10sCiAgICAgICAgICAgICAgICB7ImJ1YmJsaW5nTW91c2VFdmVudHMiOiB0cnVlLCAiY29sb3IiOiAiIzEwYTJmMCIsICJkYXNoQXJyYXkiOiBudWxsLCAiZGFzaE9mZnNldCI6IG51bGwsICJmaWxsIjogdHJ1ZSwgImZpbGxDb2xvciI6ICIjMTBhMmYwIiwgImZpbGxPcGFjaXR5IjogMC43LCAiZmlsbFJ1bGUiOiAiZXZlbm9kZCIsICJsaW5lQ2FwIjogInJvdW5kIiwgImxpbmVKb2luIjogInJvdW5kIiwgIm9wYWNpdHkiOiAxLjAsICJyYWRpdXMiOiA1LCAic3Ryb2tlIjogdHJ1ZSwgIndlaWdodCI6IDN9CiAgICAgICAgICAgICkuYWRkVG8obWFwXzBkNWNhNjVhNzIxZDRiYzY4NjIyMGI5YWFlMzdkZDBlKTsKICAgICAgICAKICAgIAogICAgICAgIHZhciBwb3B1cF85NmMxOTVkYzI2M2I0NGRhYmI5NWMzOGUyNTM2Njk1OSA9IEwucG9wdXAoeyJtYXhXaWR0aCI6ICIxMDAlIn0pOwoKICAgICAgICAKICAgICAgICAgICAgdmFyIGh0bWxfYWQ3ZWE0OWVlYTJmNDExOTgwMTg3ZDNlMGQ0MzI2YmIgPSAkKGA8ZGl2IGlkPSJodG1sX2FkN2VhNDllZWEyZjQxMTk4MDE4N2QzZTBkNDMyNmJiIiBzdHlsZT0id2lkdGg6IDEwMC4wJTsgaGVpZ2h0OiAxMDAuMCU7Ij5Eb3dudG93biBUb3JvbnRvLCBTdC4gSmFtZXMgVG93biBDbHVzdGVyIDM8L2Rpdj5gKVswXTsKICAgICAgICAgICAgcG9wdXBfOTZjMTk1ZGMyNjNiNDRkYWJiOTVjMzhlMjUzNjY5NTkuc2V0Q29udGVudChodG1sX2FkN2VhNDllZWEyZjQxMTk4MDE4N2QzZTBkNDMyNmJiKTsKICAgICAgICAKCiAgICAgICAgY2lyY2xlX21hcmtlcl82YTYwYzk5MjU5MDI0OWY2YjlkZjhhNWQzY2Y5ODU2ZS5iaW5kUG9wdXAocG9wdXBfOTZjMTk1ZGMyNjNiNDRkYWJiOTVjMzhlMjUzNjY5NTkpCiAgICAgICAgOwoKICAgICAgICAKICAgIAogICAgCiAgICAgICAgICAgIHZhciBjaXJjbGVfbWFya2VyXzFmMGE1ZGM1MjQ1ODRhMDE4NGIyZDIzNWU1MTY5Y2IxID0gTC5jaXJjbGVNYXJrZXIoCiAgICAgICAgICAgICAgICBbNDMuNjY1ODU5OSwgLTc5LjM4MzE1OTldLAogICAgICAgICAgICAgICAgeyJidWJibGluZ01vdXNlRXZlbnRzIjogdHJ1ZSwgImNvbG9yIjogIiMxMGEyZjAiLCAiZGFzaEFycmF5IjogbnVsbCwgImRhc2hPZmZzZXQiOiBudWxsLCAiZmlsbCI6IHRydWUsICJmaWxsQ29sb3IiOiAiIzEwYTJmMCIsICJmaWxsT3BhY2l0eSI6IDAuNywgImZpbGxSdWxlIjogImV2ZW5vZGQiLCAibGluZUNhcCI6ICJyb3VuZCIsICJsaW5lSm9pbiI6ICJyb3VuZCIsICJvcGFjaXR5IjogMS4wLCAicmFkaXVzIjogNSwgInN0cm9rZSI6IHRydWUsICJ3ZWlnaHQiOiAzfQogICAgICAgICAgICApLmFkZFRvKG1hcF8wZDVjYTY1YTcyMWQ0YmM2ODYyMjBiOWFhZTM3ZGQwZSk7CiAgICAgICAgCiAgICAKICAgICAgICB2YXIgcG9wdXBfZTE5N2MwMjhlZWRjNGI5NGFlNDIxMzJkOTgzNWM3MTkgPSBMLnBvcHVwKHsibWF4V2lkdGgiOiAiMTAwJSJ9KTsKCiAgICAgICAgCiAgICAgICAgICAgIHZhciBodG1sXzY2MmYyZjc5ZTkwZjQxY2U5Y2NiYWVhMjkwYmEzMTQwID0gJChgPGRpdiBpZD0iaHRtbF82NjJmMmY3OWU5MGY0MWNlOWNjYmFlYTI5MGJhMzE0MCIgc3R5bGU9IndpZHRoOiAxMDAuMCU7IGhlaWdodDogMTAwLjAlOyI+Q2h1cmNoIGFuZCBXZWxsZXNsZXkgQ2x1c3RlciAzPC9kaXY+YClbMF07CiAgICAgICAgICAgIHBvcHVwX2UxOTdjMDI4ZWVkYzRiOTRhZTQyMTMyZDk4MzVjNzE5LnNldENvbnRlbnQoaHRtbF82NjJmMmY3OWU5MGY0MWNlOWNjYmFlYTI5MGJhMzE0MCk7CiAgICAgICAgCgogICAgICAgIGNpcmNsZV9tYXJrZXJfMWYwYTVkYzUyNDU4NGEwMTg0YjJkMjM1ZTUxNjljYjEuYmluZFBvcHVwKHBvcHVwX2UxOTdjMDI4ZWVkYzRiOTRhZTQyMTMyZDk4MzVjNzE5KQogICAgICAgIDsKCiAgICAgICAgCiAgICAKICAgIAogICAgICAgICAgICB2YXIgY2lyY2xlX21hcmtlcl83YmI5NDZmMjUwNTA0YjI5OGMzOGE0ODU4MmUxNmJlNCA9IEwuY2lyY2xlTWFya2VyKAogICAgICAgICAgICAgICAgWzQzLjY1NDI1OTksIC03OS4zNjA2MzU5XSwKICAgICAgICAgICAgICAgIHsiYnViYmxpbmdNb3VzZUV2ZW50cyI6IHRydWUsICJjb2xvciI6ICIjMTBhMmYwIiwgImRhc2hBcnJheSI6IG51bGwsICJkYXNoT2Zmc2V0IjogbnVsbCwgImZpbGwiOiB0cnVlLCAiZmlsbENvbG9yIjogIiMxMGEyZjAiLCAiZmlsbE9wYWNpdHkiOiAwLjcsICJmaWxsUnVsZSI6ICJldmVub2RkIiwgImxpbmVDYXAiOiAicm91bmQiLCAibGluZUpvaW4iOiAicm91bmQiLCAib3BhY2l0eSI6IDEuMCwgInJhZGl1cyI6IDUsICJzdHJva2UiOiB0cnVlLCAid2VpZ2h0IjogM30KICAgICAgICAgICAgKS5hZGRUbyhtYXBfMGQ1Y2E2NWE3MjFkNGJjNjg2MjIwYjlhYWUzN2RkMGUpOwogICAgICAgIAogICAgCiAgICAgICAgdmFyIHBvcHVwX2Y0ZWY1Y2QwNDJjMTQ1Njk5OGI1M2FiYTc4N2YzYTRlID0gTC5wb3B1cCh7Im1heFdpZHRoIjogIjEwMCUifSk7CgogICAgICAgIAogICAgICAgICAgICB2YXIgaHRtbF82NmZmNmZjZjgxNDE0MjYyYjgxYTcwZDc5NDU5MDE3ZiA9ICQoYDxkaXYgaWQ9Imh0bWxfNjZmZjZmY2Y4MTQxNDI2MmI4MWE3MGQ3OTQ1OTAxN2YiIHN0eWxlPSJ3aWR0aDogMTAwLjAlOyBoZWlnaHQ6IDEwMC4wJTsiPkhhcmJvdXJmcm9udCBDbHVzdGVyIDM8L2Rpdj5gKVswXTsKICAgICAgICAgICAgcG9wdXBfZjRlZjVjZDA0MmMxNDU2OTk4YjUzYWJhNzg3ZjNhNGUuc2V0Q29udGVudChodG1sXzY2ZmY2ZmNmODE0MTQyNjJiODFhNzBkNzk0NTkwMTdmKTsKICAgICAgICAKCiAgICAgICAgY2lyY2xlX21hcmtlcl83YmI5NDZmMjUwNTA0YjI5OGMzOGE0ODU4MmUxNmJlNC5iaW5kUG9wdXAocG9wdXBfZjRlZjVjZDA0MmMxNDU2OTk4YjUzYWJhNzg3ZjNhNGUpCiAgICAgICAgOwoKICAgICAgICAKICAgIAogICAgCiAgICAgICAgICAgIHZhciBjaXJjbGVfbWFya2VyX2U3NWU4OTI2NmI4ZTQ4MGQ4YzA2NjM3NWU3Mjk5NTU2ID0gTC5jaXJjbGVNYXJrZXIoCiAgICAgICAgICAgICAgICBbNDMuNjU3MTYxOCwgLTc5LjM3ODkzNzFdLAogICAgICAgICAgICAgICAgeyJidWJibGluZ01vdXNlRXZlbnRzIjogdHJ1ZSwgImNvbG9yIjogIiMxMGEyZjAiLCAiZGFzaEFycmF5IjogbnVsbCwgImRhc2hPZmZzZXQiOiBudWxsLCAiZmlsbCI6IHRydWUsICJmaWxsQ29sb3IiOiAiIzEwYTJmMCIsICJmaWxsT3BhY2l0eSI6IDAuNywgImZpbGxSdWxlIjogImV2ZW5vZGQiLCAibGluZUNhcCI6ICJyb3VuZCIsICJsaW5lSm9pbiI6ICJyb3VuZCIsICJvcGFjaXR5IjogMS4wLCAicmFkaXVzIjogNSwgInN0cm9rZSI6IHRydWUsICJ3ZWlnaHQiOiAzfQogICAgICAgICAgICApLmFkZFRvKG1hcF8wZDVjYTY1YTcyMWQ0YmM2ODYyMjBiOWFhZTM3ZGQwZSk7CiAgICAgICAgCiAgICAKICAgICAgICB2YXIgcG9wdXBfNTU5NDUzMWEyMTE5NDZjZDlkZTVlMGM0ZTkwNmJjNzMgPSBMLnBvcHVwKHsibWF4V2lkdGgiOiAiMTAwJSJ9KTsKCiAgICAgICAgCiAgICAgICAgICAgIHZhciBodG1sXzBjMTg2YTkzYTA2MDQwNDFhMzQ5ZGZjNTQ1YWYyMzUwID0gJChgPGRpdiBpZD0iaHRtbF8wYzE4NmE5M2EwNjA0MDQxYTM0OWRmYzU0NWFmMjM1MCIgc3R5bGU9IndpZHRoOiAxMDAuMCU7IGhlaWdodDogMTAwLjAlOyI+RG93bnRvd24gVG9yb250bywgR2FyZGVuIERpc3RyaWN0IENsdXN0ZXIgMzwvZGl2PmApWzBdOwogICAgICAgICAgICBwb3B1cF81NTk0NTMxYTIxMTk0NmNkOWRlNWUwYzRlOTA2YmM3My5zZXRDb250ZW50KGh0bWxfMGMxODZhOTNhMDYwNDA0MWEzNDlkZmM1NDVhZjIzNTApOwogICAgICAgIAoKICAgICAgICBjaXJjbGVfbWFya2VyX2U3NWU4OTI2NmI4ZTQ4MGQ4YzA2NjM3NWU3Mjk5NTU2LmJpbmRQb3B1cChwb3B1cF81NTk0NTMxYTIxMTk0NmNkOWRlNWUwYzRlOTA2YmM3MykKICAgICAgICA7CgogICAgICAgIAogICAgCiAgICAKICAgICAgICAgICAgdmFyIGNpcmNsZV9tYXJrZXJfNzY2NTM2ZDFjNGQ3NGY3ZWEzZWIzM2I2ZGYxNjg3OTYgPSBMLmNpcmNsZU1hcmtlcigKICAgICAgICAgICAgICAgIFs0My42NTE0OTM5LCAtNzkuMzc1NDE3OV0sCiAgICAgICAgICAgICAgICB7ImJ1YmJsaW5nTW91c2VFdmVudHMiOiB0cnVlLCAiY29sb3IiOiAiIzEwYTJmMCIsICJkYXNoQXJyYXkiOiBudWxsLCAiZGFzaE9mZnNldCI6IG51bGwsICJmaWxsIjogdHJ1ZSwgImZpbGxDb2xvciI6ICIjMTBhMmYwIiwgImZpbGxPcGFjaXR5IjogMC43LCAiZmlsbFJ1bGUiOiAiZXZlbm9kZCIsICJsaW5lQ2FwIjogInJvdW5kIiwgImxpbmVKb2luIjogInJvdW5kIiwgIm9wYWNpdHkiOiAxLjAsICJyYWRpdXMiOiA1LCAic3Ryb2tlIjogdHJ1ZSwgIndlaWdodCI6IDN9CiAgICAgICAgICAgICkuYWRkVG8obWFwXzBkNWNhNjVhNzIxZDRiYzY4NjIyMGI5YWFlMzdkZDBlKTsKICAgICAgICAKICAgIAogICAgICAgIHZhciBwb3B1cF8zYjFiM2QzYjM3MTk0YzgzYWExNjA5YjY1YjI3NDc4ZiA9IEwucG9wdXAoeyJtYXhXaWR0aCI6ICIxMDAlIn0pOwoKICAgICAgICAKICAgICAgICAgICAgdmFyIGh0bWxfYTM0MzQ4YWI5OWFmNDc4MWI3Yjc2ZWU5MDY2YzdlMTIgPSAkKGA8ZGl2IGlkPSJodG1sX2EzNDM0OGFiOTlhZjQ3ODFiN2I3NmVlOTA2NmM3ZTEyIiBzdHlsZT0id2lkdGg6IDEwMC4wJTsgaGVpZ2h0OiAxMDAuMCU7Ij5TdC4gSmFtZXMgVG93biBDbHVzdGVyIDM8L2Rpdj5gKVswXTsKICAgICAgICAgICAgcG9wdXBfM2IxYjNkM2IzNzE5NGM4M2FhMTYwOWI2NWIyNzQ3OGYuc2V0Q29udGVudChodG1sX2EzNDM0OGFiOTlhZjQ3ODFiN2I3NmVlOTA2NmM3ZTEyKTsKICAgICAgICAKCiAgICAgICAgY2lyY2xlX21hcmtlcl83NjY1MzZkMWM0ZDc0ZjdlYTNlYjMzYjZkZjE2ODc5Ni5iaW5kUG9wdXAocG9wdXBfM2IxYjNkM2IzNzE5NGM4M2FhMTYwOWI2NWIyNzQ3OGYpCiAgICAgICAgOwoKICAgICAgICAKICAgIAogICAgCiAgICAgICAgICAgIHZhciBjaXJjbGVfbWFya2VyX2Q5MDY0OTFkNmJmNDRjNDk4MzIzYzU0YTU1MTBlZGI0ID0gTC5jaXJjbGVNYXJrZXIoCiAgICAgICAgICAgICAgICBbNDMuNjQ0NzcwOCwgLTc5LjM3MzMwNjRdLAogICAgICAgICAgICAgICAgeyJidWJibGluZ01vdXNlRXZlbnRzIjogdHJ1ZSwgImNvbG9yIjogIiMxMGEyZjAiLCAiZGFzaEFycmF5IjogbnVsbCwgImRhc2hPZmZzZXQiOiBudWxsLCAiZmlsbCI6IHRydWUsICJmaWxsQ29sb3IiOiAiIzEwYTJmMCIsICJmaWxsT3BhY2l0eSI6IDAuNywgImZpbGxSdWxlIjogImV2ZW5vZGQiLCAibGluZUNhcCI6ICJyb3VuZCIsICJsaW5lSm9pbiI6ICJyb3VuZCIsICJvcGFjaXR5IjogMS4wLCAicmFkaXVzIjogNSwgInN0cm9rZSI6IHRydWUsICJ3ZWlnaHQiOiAzfQogICAgICAgICAgICApLmFkZFRvKG1hcF8wZDVjYTY1YTcyMWQ0YmM2ODYyMjBiOWFhZTM3ZGQwZSk7CiAgICAgICAgCiAgICAKICAgICAgICB2YXIgcG9wdXBfZTBiMDllZGU4OGY2NDZhNjlkYzIxMTMyZTUyYzYzZDQgPSBMLnBvcHVwKHsibWF4V2lkdGgiOiAiMTAwJSJ9KTsKCiAgICAgICAgCiAgICAgICAgICAgIHZhciBodG1sX2MxMzY1NGE5MWE2ZTQzNWRiMjg2ZWI1NzUyODYwOTc2ID0gJChgPGRpdiBpZD0iaHRtbF9jMTM2NTRhOTFhNmU0MzVkYjI4NmViNTc1Mjg2MDk3NiIgc3R5bGU9IndpZHRoOiAxMDAuMCU7IGhlaWdodDogMTAwLjAlOyI+QmVyY3p5IFBhcmsgQ2x1c3RlciAzPC9kaXY+YClbMF07CiAgICAgICAgICAgIHBvcHVwX2UwYjA5ZWRlODhmNjQ2YTY5ZGMyMTEzMmU1MmM2M2Q0LnNldENvbnRlbnQoaHRtbF9jMTM2NTRhOTFhNmU0MzVkYjI4NmViNTc1Mjg2MDk3Nik7CiAgICAgICAgCgogICAgICAgIGNpcmNsZV9tYXJrZXJfZDkwNjQ5MWQ2YmY0NGM0OTgzMjNjNTRhNTUxMGVkYjQuYmluZFBvcHVwKHBvcHVwX2UwYjA5ZWRlODhmNjQ2YTY5ZGMyMTEzMmU1MmM2M2Q0KQogICAgICAgIDsKCiAgICAgICAgCiAgICAKICAgIAogICAgICAgICAgICB2YXIgY2lyY2xlX21hcmtlcl9kMmRkZjQ1OGQ4OGI0MDA3YTlkM2I3MGFkNjBmMTBlOSA9IEwuY2lyY2xlTWFya2VyKAogICAgICAgICAgICAgICAgWzQzLjY1Nzk1MjQsIC03OS4zODczODI2XSwKICAgICAgICAgICAgICAgIHsiYnViYmxpbmdNb3VzZUV2ZW50cyI6IHRydWUsICJjb2xvciI6ICIjMTBhMmYwIiwgImRhc2hBcnJheSI6IG51bGwsICJkYXNoT2Zmc2V0IjogbnVsbCwgImZpbGwiOiB0cnVlLCAiZmlsbENvbG9yIjogIiMxMGEyZjAiLCAiZmlsbE9wYWNpdHkiOiAwLjcsICJmaWxsUnVsZSI6ICJldmVub2RkIiwgImxpbmVDYXAiOiAicm91bmQiLCAibGluZUpvaW4iOiAicm91bmQiLCAib3BhY2l0eSI6IDEuMCwgInJhZGl1cyI6IDUsICJzdHJva2UiOiB0cnVlLCAid2VpZ2h0IjogM30KICAgICAgICAgICAgKS5hZGRUbyhtYXBfMGQ1Y2E2NWE3MjFkNGJjNjg2MjIwYjlhYWUzN2RkMGUpOwogICAgICAgIAogICAgCiAgICAgICAgdmFyIHBvcHVwXzBjNzRhMDE0ZDI1MjQ2YjA4NDBmNWNiOWZiN2MxMGU1ID0gTC5wb3B1cCh7Im1heFdpZHRoIjogIjEwMCUifSk7CgogICAgICAgIAogICAgICAgICAgICB2YXIgaHRtbF82OWUxZDEzOTcyNGY0OGYxYmEzYzg5YzFkM2NiODJmMiA9ICQoYDxkaXYgaWQ9Imh0bWxfNjllMWQxMzk3MjRmNDhmMWJhM2M4OWMxZDNjYjgyZjIiIHN0eWxlPSJ3aWR0aDogMTAwLjAlOyBoZWlnaHQ6IDEwMC4wJTsiPkNlbnRyYWwgQmF5IFN0cmVldCBDbHVzdGVyIDM8L2Rpdj5gKVswXTsKICAgICAgICAgICAgcG9wdXBfMGM3NGEwMTRkMjUyNDZiMDg0MGY1Y2I5ZmI3YzEwZTUuc2V0Q29udGVudChodG1sXzY5ZTFkMTM5NzI0ZjQ4ZjFiYTNjODljMWQzY2I4MmYyKTsKICAgICAgICAKCiAgICAgICAgY2lyY2xlX21hcmtlcl9kMmRkZjQ1OGQ4OGI0MDA3YTlkM2I3MGFkNjBmMTBlOS5iaW5kUG9wdXAocG9wdXBfMGM3NGEwMTRkMjUyNDZiMDg0MGY1Y2I5ZmI3YzEwZTUpCiAgICAgICAgOwoKICAgICAgICAKICAgIAogICAgCiAgICAgICAgICAgIHZhciBjaXJjbGVfbWFya2VyX2Y0YTg0ZmE1YmRkYTQyYTFhNjc2Nzk4OWY0NDZiMzA0ID0gTC5jaXJjbGVNYXJrZXIoCiAgICAgICAgICAgICAgICBbNDMuNjUwNTcxMiwgLTc5LjM4NDU2NzVdLAogICAgICAgICAgICAgICAgeyJidWJibGluZ01vdXNlRXZlbnRzIjogdHJ1ZSwgImNvbG9yIjogIiMxMGEyZjAiLCAiZGFzaEFycmF5IjogbnVsbCwgImRhc2hPZmZzZXQiOiBudWxsLCAiZmlsbCI6IHRydWUsICJmaWxsQ29sb3IiOiAiIzEwYTJmMCIsICJmaWxsT3BhY2l0eSI6IDAuNywgImZpbGxSdWxlIjogImV2ZW5vZGQiLCAibGluZUNhcCI6ICJyb3VuZCIsICJsaW5lSm9pbiI6ICJyb3VuZCIsICJvcGFjaXR5IjogMS4wLCAicmFkaXVzIjogNSwgInN0cm9rZSI6IHRydWUsICJ3ZWlnaHQiOiAzfQogICAgICAgICAgICApLmFkZFRvKG1hcF8wZDVjYTY1YTcyMWQ0YmM2ODYyMjBiOWFhZTM3ZGQwZSk7CiAgICAgICAgCiAgICAKICAgICAgICB2YXIgcG9wdXBfZmI5NGM4ZDkwNGMwNDkyN2IzYjQyNTBiZjUwNWE2ODMgPSBMLnBvcHVwKHsibWF4V2lkdGgiOiAiMTAwJSJ9KTsKCiAgICAgICAgCiAgICAgICAgICAgIHZhciBodG1sXzQzYjcyNmVmZDE5OTQwYzA5ZWI3Y2IwZDkzYzU2ZGJhID0gJChgPGRpdiBpZD0iaHRtbF80M2I3MjZlZmQxOTk0MGMwOWViN2NiMGQ5M2M1NmRiYSIgc3R5bGU9IndpZHRoOiAxMDAuMCU7IGhlaWdodDogMTAwLjAlOyI+RG93bnRvd24gVG9yb250bywgUmljaG1vbmQgQ2x1c3RlciAzPC9kaXY+YClbMF07CiAgICAgICAgICAgIHBvcHVwX2ZiOTRjOGQ5MDRjMDQ5MjdiM2I0MjUwYmY1MDVhNjgzLnNldENvbnRlbnQoaHRtbF80M2I3MjZlZmQxOTk0MGMwOWViN2NiMGQ5M2M1NmRiYSk7CiAgICAgICAgCgogICAgICAgIGNpcmNsZV9tYXJrZXJfZjRhODRmYTViZGRhNDJhMWE2NzY3OTg5ZjQ0NmIzMDQuYmluZFBvcHVwKHBvcHVwX2ZiOTRjOGQ5MDRjMDQ5MjdiM2I0MjUwYmY1MDVhNjgzKQogICAgICAgIDsKCiAgICAgICAgCiAgICAKICAgIAogICAgICAgICAgICB2YXIgY2lyY2xlX21hcmtlcl81NTExZWY2NTliZmI0NWJlYjgwOGY1YzZiNmE2ODk2NiA9IEwuY2lyY2xlTWFya2VyKAogICAgICAgICAgICAgICAgWzQzLjY0MDgxNTcsIC03OS4zODE3NTIzXSwKICAgICAgICAgICAgICAgIHsiYnViYmxpbmdNb3VzZUV2ZW50cyI6IHRydWUsICJjb2xvciI6ICIjMTBhMmYwIiwgImRhc2hBcnJheSI6IG51bGwsICJkYXNoT2Zmc2V0IjogbnVsbCwgImZpbGwiOiB0cnVlLCAiZmlsbENvbG9yIjogIiMxMGEyZjAiLCAiZmlsbE9wYWNpdHkiOiAwLjcsICJmaWxsUnVsZSI6ICJldmVub2RkIiwgImxpbmVDYXAiOiAicm91bmQiLCAibGluZUpvaW4iOiAicm91bmQiLCAib3BhY2l0eSI6IDEuMCwgInJhZGl1cyI6IDUsICJzdHJva2UiOiB0cnVlLCAid2VpZ2h0IjogM30KICAgICAgICAgICAgKS5hZGRUbyhtYXBfMGQ1Y2E2NWE3MjFkNGJjNjg2MjIwYjlhYWUzN2RkMGUpOwogICAgICAgIAogICAgCiAgICAgICAgdmFyIHBvcHVwX2VjOGE2NDkzNzY0ODQ4ODFiMzAwOTI3NTBkYzU2YzYxID0gTC5wb3B1cCh7Im1heFdpZHRoIjogIjEwMCUifSk7CgogICAgICAgIAogICAgICAgICAgICB2YXIgaHRtbF9iMjYxMzRjMDNjNjA0MDcwOGIxMGFmNDA2YjIxNDYzNSA9ICQoYDxkaXYgaWQ9Imh0bWxfYjI2MTM0YzAzYzYwNDA3MDhiMTBhZjQwNmIyMTQ2MzUiIHN0eWxlPSJ3aWR0aDogMTAwLjAlOyBoZWlnaHQ6IDEwMC4wJTsiPkRvd250b3duIFRvcm9udG8sIFVuaW9uIFN0YXRpb24gQ2x1c3RlciAzPC9kaXY+YClbMF07CiAgICAgICAgICAgIHBvcHVwX2VjOGE2NDkzNzY0ODQ4ODFiMzAwOTI3NTBkYzU2YzYxLnNldENvbnRlbnQoaHRtbF9iMjYxMzRjMDNjNjA0MDcwOGIxMGFmNDA2YjIxNDYzNSk7CiAgICAgICAgCgogICAgICAgIGNpcmNsZV9tYXJrZXJfNTUxMWVmNjU5YmZiNDViZWI4MDhmNWM2YjZhNjg5NjYuYmluZFBvcHVwKHBvcHVwX2VjOGE2NDkzNzY0ODQ4ODFiMzAwOTI3NTBkYzU2YzYxKQogICAgICAgIDsKCiAgICAgICAgCiAgICAKICAgIAogICAgICAgICAgICB2YXIgY2lyY2xlX21hcmtlcl83Nzc3NmU2NGVkY2Y0NGUyOWZjNWY1ZGM0NDk5ZTA1OCA9IEwuY2lyY2xlTWFya2VyKAogICAgICAgICAgICAgICAgWzQzLjY0NzE3NjgsIC03OS4zODE1NzY0XSwKICAgICAgICAgICAgICAgIHsiYnViYmxpbmdNb3VzZUV2ZW50cyI6IHRydWUsICJjb2xvciI6ICIjMTBhMmYwIiwgImRhc2hBcnJheSI6IG51bGwsICJkYXNoT2Zmc2V0IjogbnVsbCwgImZpbGwiOiB0cnVlLCAiZmlsbENvbG9yIjogIiMxMGEyZjAiLCAiZmlsbE9wYWNpdHkiOiAwLjcsICJmaWxsUnVsZSI6ICJldmVub2RkIiwgImxpbmVDYXAiOiAicm91bmQiLCAibGluZUpvaW4iOiAicm91bmQiLCAib3BhY2l0eSI6IDEuMCwgInJhZGl1cyI6IDUsICJzdHJva2UiOiB0cnVlLCAid2VpZ2h0IjogM30KICAgICAgICAgICAgKS5hZGRUbyhtYXBfMGQ1Y2E2NWE3MjFkNGJjNjg2MjIwYjlhYWUzN2RkMGUpOwogICAgICAgIAogICAgCiAgICAgICAgdmFyIHBvcHVwXzllN2UyY2YxOGViYjQ0MTBhNjYzMDFmYWE5YjYwYmFhID0gTC5wb3B1cCh7Im1heFdpZHRoIjogIjEwMCUifSk7CgogICAgICAgIAogICAgICAgICAgICB2YXIgaHRtbF84YTUzNzBhMTNjMWU0MjVhOWZmZTk0OTZjOGZmMzMwOSA9ICQoYDxkaXYgaWQ9Imh0bWxfOGE1MzcwYTEzYzFlNDI1YTlmZmU5NDk2YzhmZjMzMDkiIHN0eWxlPSJ3aWR0aDogMTAwLjAlOyBoZWlnaHQ6IDEwMC4wJTsiPkRvd250b3duIFRvcm9udG8sIFRvcm9udG8gRG9taW5pb24gQ2VudHJlIENsdXN0ZXIgMzwvZGl2PmApWzBdOwogICAgICAgICAgICBwb3B1cF85ZTdlMmNmMThlYmI0NDEwYTY2MzAxZmFhOWI2MGJhYS5zZXRDb250ZW50KGh0bWxfOGE1MzcwYTEzYzFlNDI1YTlmZmU5NDk2YzhmZjMzMDkpOwogICAgICAgIAoKICAgICAgICBjaXJjbGVfbWFya2VyXzc3Nzc2ZTY0ZWRjZjQ0ZTI5ZmM1ZjVkYzQ0OTllMDU4LmJpbmRQb3B1cChwb3B1cF85ZTdlMmNmMThlYmI0NDEwYTY2MzAxZmFhOWI2MGJhYSkKICAgICAgICA7CgogICAgICAgIAogICAgCiAgICAKICAgICAgICAgICAgdmFyIGNpcmNsZV9tYXJrZXJfMDZmYjQ1YmE0NWRhNDY1Zjk5MWQwOWU2YWQ5ZjQzYjQgPSBMLmNpcmNsZU1hcmtlcigKICAgICAgICAgICAgICAgIFs0My42NDgxOTg1LCAtNzkuMzc5ODE2OV0sCiAgICAgICAgICAgICAgICB7ImJ1YmJsaW5nTW91c2VFdmVudHMiOiB0cnVlLCAiY29sb3IiOiAiIzEwYTJmMCIsICJkYXNoQXJyYXkiOiBudWxsLCAiZGFzaE9mZnNldCI6IG51bGwsICJmaWxsIjogdHJ1ZSwgImZpbGxDb2xvciI6ICIjMTBhMmYwIiwgImZpbGxPcGFjaXR5IjogMC43LCAiZmlsbFJ1bGUiOiAiZXZlbm9kZCIsICJsaW5lQ2FwIjogInJvdW5kIiwgImxpbmVKb2luIjogInJvdW5kIiwgIm9wYWNpdHkiOiAxLjAsICJyYWRpdXMiOiA1LCAic3Ryb2tlIjogdHJ1ZSwgIndlaWdodCI6IDN9CiAgICAgICAgICAgICkuYWRkVG8obWFwXzBkNWNhNjVhNzIxZDRiYzY4NjIyMGI5YWFlMzdkZDBlKTsKICAgICAgICAKICAgIAogICAgICAgIHZhciBwb3B1cF84MTQ3NWNkYjc1M2Y0N2IwYWM5MGNhNjdiYWZjZjFjMiA9IEwucG9wdXAoeyJtYXhXaWR0aCI6ICIxMDAlIn0pOwoKICAgICAgICAKICAgICAgICAgICAgdmFyIGh0bWxfYmY1ZWY2NWRjMzBlNGVkNWI3ODA3NDFmMDczZTYwYzggPSAkKGA8ZGl2IGlkPSJodG1sX2JmNWVmNjVkYzMwZTRlZDViNzgwNzQxZjA3M2U2MGM4IiBzdHlsZT0id2lkdGg6IDEwMC4wJTsgaGVpZ2h0OiAxMDAuMCU7Ij5Eb3dudG93biBUb3JvbnRvLCBWaWN0b3JpYSBIb3RlbCBDbHVzdGVyIDM8L2Rpdj5gKVswXTsKICAgICAgICAgICAgcG9wdXBfODE0NzVjZGI3NTNmNDdiMGFjOTBjYTY3YmFmY2YxYzIuc2V0Q29udGVudChodG1sX2JmNWVmNjVkYzMwZTRlZDViNzgwNzQxZjA3M2U2MGM4KTsKICAgICAgICAKCiAgICAgICAgY2lyY2xlX21hcmtlcl8wNmZiNDViYTQ1ZGE0NjVmOTkxZDA5ZTZhZDlmNDNiNC5iaW5kUG9wdXAocG9wdXBfODE0NzVjZGI3NTNmNDdiMGFjOTBjYTY3YmFmY2YxYzIpCiAgICAgICAgOwoKICAgICAgICAKICAgIAogICAgCiAgICAgICAgICAgIHZhciBjaXJjbGVfbWFya2VyXzE0ZjFjYjY2M2E4NDRjZTE4OWQzZTUzYjQyMmZmZmEwID0gTC5jaXJjbGVNYXJrZXIoCiAgICAgICAgICAgICAgICBbNDMuNzMzMjgyNSwgLTc5LjQxOTc0OTddLAogICAgICAgICAgICAgICAgeyJidWJibGluZ01vdXNlRXZlbnRzIjogdHJ1ZSwgImNvbG9yIjogIiMxMGEyZjAiLCAiZGFzaEFycmF5IjogbnVsbCwgImRhc2hPZmZzZXQiOiBudWxsLCAiZmlsbCI6IHRydWUsICJmaWxsQ29sb3IiOiAiIzEwYTJmMCIsICJmaWxsT3BhY2l0eSI6IDAuNywgImZpbGxSdWxlIjogImV2ZW5vZGQiLCAibGluZUNhcCI6ICJyb3VuZCIsICJsaW5lSm9pbiI6ICJyb3VuZCIsICJvcGFjaXR5IjogMS4wLCAicmFkaXVzIjogNSwgInN0cm9rZSI6IHRydWUsICJ3ZWlnaHQiOiAzfQogICAgICAgICAgICApLmFkZFRvKG1hcF8wZDVjYTY1YTcyMWQ0YmM2ODYyMjBiOWFhZTM3ZGQwZSk7CiAgICAgICAgCiAgICAKICAgICAgICB2YXIgcG9wdXBfMjMzZmExYzI1MjVhNGZmYjk1MTlhYmQ3NWEzZjJmMjAgPSBMLnBvcHVwKHsibWF4V2lkdGgiOiAiMTAwJSJ9KTsKCiAgICAgICAgCiAgICAgICAgICAgIHZhciBodG1sX2U3NDkxZWZiOTY2NjRjZWJhZmE3YjI5ZWNlYTZjNzg5ID0gJChgPGRpdiBpZD0iaHRtbF9lNzQ5MWVmYjk2NjY0Y2ViYWZhN2IyOWVjZWE2Yzc4OSIgc3R5bGU9IndpZHRoOiAxMDAuMCU7IGhlaWdodDogMTAwLjAlOyI+Tm9ydGggWW9yaywgTGF3cmVuY2UgTWFub3IgRWFzdCBDbHVzdGVyIDM8L2Rpdj5gKVswXTsKICAgICAgICAgICAgcG9wdXBfMjMzZmExYzI1MjVhNGZmYjk1MTlhYmQ3NWEzZjJmMjAuc2V0Q29udGVudChodG1sX2U3NDkxZWZiOTY2NjRjZWJhZmE3YjI5ZWNlYTZjNzg5KTsKICAgICAgICAKCiAgICAgICAgY2lyY2xlX21hcmtlcl8xNGYxY2I2NjNhODQ0Y2UxODlkM2U1M2I0MjJmZmZhMC5iaW5kUG9wdXAocG9wdXBfMjMzZmExYzI1MjVhNGZmYjk1MTlhYmQ3NWEzZjJmMjApCiAgICAgICAgOwoKICAgICAgICAKICAgIAogICAgCiAgICAgICAgICAgIHZhciBjaXJjbGVfbWFya2VyX2JmMmQ3YmZkMGQ1ZjRlZGY4OWEzYjkyOTBlNmY0NjE2ID0gTC5jaXJjbGVNYXJrZXIoCiAgICAgICAgICAgICAgICBbNDMuNzExNjk0OCwgLTc5LjQxNjkzNTZdLAogICAgICAgICAgICAgICAgeyJidWJibGluZ01vdXNlRXZlbnRzIjogdHJ1ZSwgImNvbG9yIjogIiM5Y2ZiYTQiLCAiZGFzaEFycmF5IjogbnVsbCwgImRhc2hPZmZzZXQiOiBudWxsLCAiZmlsbCI6IHRydWUsICJmaWxsQ29sb3IiOiAiIzljZmJhNCIsICJmaWxsT3BhY2l0eSI6IDAuNywgImZpbGxSdWxlIjogImV2ZW5vZGQiLCAibGluZUNhcCI6ICJyb3VuZCIsICJsaW5lSm9pbiI6ICJyb3VuZCIsICJvcGFjaXR5IjogMS4wLCAicmFkaXVzIjogNSwgInN0cm9rZSI6IHRydWUsICJ3ZWlnaHQiOiAzfQogICAgICAgICAgICApLmFkZFRvKG1hcF8wZDVjYTY1YTcyMWQ0YmM2ODYyMjBiOWFhZTM3ZGQwZSk7CiAgICAgICAgCiAgICAKICAgICAgICB2YXIgcG9wdXBfZGY1NzllMDg1NGFiNGI2ZjhlMTFiNzhmNWE5Mzg1M2YgPSBMLnBvcHVwKHsibWF4V2lkdGgiOiAiMTAwJSJ9KTsKCiAgICAgICAgCiAgICAgICAgICAgIHZhciBodG1sXzkxMzA5MGI0ODdkOTRjOTc4N2U4ZjQ3NTc0YjEyMTQ4ID0gJChgPGRpdiBpZD0iaHRtbF85MTMwOTBiNDg3ZDk0Yzk3ODdlOGY0NzU3NGIxMjE0OCIgc3R5bGU9IndpZHRoOiAxMDAuMCU7IGhlaWdodDogMTAwLjAlOyI+Um9zZWxhd24gQ2x1c3RlciA2PC9kaXY+YClbMF07CiAgICAgICAgICAgIHBvcHVwX2RmNTc5ZTA4NTRhYjRiNmY4ZTExYjc4ZjVhOTM4NTNmLnNldENvbnRlbnQoaHRtbF85MTMwOTBiNDg3ZDk0Yzk3ODdlOGY0NzU3NGIxMjE0OCk7CiAgICAgICAgCgogICAgICAgIGNpcmNsZV9tYXJrZXJfYmYyZDdiZmQwZDVmNGVkZjg5YTNiOTI5MGU2ZjQ2MTYuYmluZFBvcHVwKHBvcHVwX2RmNTc5ZTA4NTRhYjRiNmY4ZTExYjc4ZjVhOTM4NTNmKQogICAgICAgIDsKCiAgICAgICAgCiAgICAKICAgIAogICAgICAgICAgICB2YXIgY2lyY2xlX21hcmtlcl84NzU1MDkzOWU1M2I0NTQ5YjFiODQyNWI4YzIxNjgwNiA9IEwuY2lyY2xlTWFya2VyKAogICAgICAgICAgICAgICAgWzQzLjY5Njk0NzYsIC03OS40MTEzMDcyXSwKICAgICAgICAgICAgICAgIHsiYnViYmxpbmdNb3VzZUV2ZW50cyI6IHRydWUsICJjb2xvciI6ICIjZmYwMDAwIiwgImRhc2hBcnJheSI6IG51bGwsICJkYXNoT2Zmc2V0IjogbnVsbCwgImZpbGwiOiB0cnVlLCAiZmlsbENvbG9yIjogIiNmZjAwMDAiLCAiZmlsbE9wYWNpdHkiOiAwLjcsICJmaWxsUnVsZSI6ICJldmVub2RkIiwgImxpbmVDYXAiOiAicm91bmQiLCAibGluZUpvaW4iOiAicm91bmQiLCAib3BhY2l0eSI6IDEuMCwgInJhZGl1cyI6IDUsICJzdHJva2UiOiB0cnVlLCAid2VpZ2h0IjogM30KICAgICAgICAgICAgKS5hZGRUbyhtYXBfMGQ1Y2E2NWE3MjFkNGJjNjg2MjIwYjlhYWUzN2RkMGUpOwogICAgICAgIAogICAgCiAgICAgICAgdmFyIHBvcHVwXzQ3YmJhYzVkZTZhYzRlMzU5OWM3ZjBmM2I2OTgyYzNjID0gTC5wb3B1cCh7Im1heFdpZHRoIjogIjEwMCUifSk7CgogICAgICAgIAogICAgICAgICAgICB2YXIgaHRtbF9kNzFlNTZlMTcxMGM0OWQ0OGMyZTU0YWJkYWZmNDI2YiA9ICQoYDxkaXYgaWQ9Imh0bWxfZDcxZTU2ZTE3MTBjNDlkNDhjMmU1NGFiZGFmZjQyNmIiIHN0eWxlPSJ3aWR0aDogMTAwLjAlOyBoZWlnaHQ6IDEwMC4wJTsiPkNlbnRyYWwgVG9yb250bywgRm9yZXN0IEhpbGwgV2VzdCBDbHVzdGVyIDA8L2Rpdj5gKVswXTsKICAgICAgICAgICAgcG9wdXBfNDdiYmFjNWRlNmFjNGUzNTk5YzdmMGYzYjY5ODJjM2Muc2V0Q29udGVudChodG1sX2Q3MWU1NmUxNzEwYzQ5ZDQ4YzJlNTRhYmRhZmY0MjZiKTsKICAgICAgICAKCiAgICAgICAgY2lyY2xlX21hcmtlcl84NzU1MDkzOWU1M2I0NTQ5YjFiODQyNWI4YzIxNjgwNi5iaW5kUG9wdXAocG9wdXBfNDdiYmFjNWRlNmFjNGUzNTk5YzdmMGYzYjY5ODJjM2MpCiAgICAgICAgOwoKICAgICAgICAKICAgIAogICAgCiAgICAgICAgICAgIHZhciBjaXJjbGVfbWFya2VyXzlmZGJiYWM4Mjg1NDQyOWQ5NjI5NGNlMGVhNWVjOTEwID0gTC5jaXJjbGVNYXJrZXIoCiAgICAgICAgICAgICAgICBbNDMuNjcyNzA5NywgLTc5LjQwNTY3ODRdLAogICAgICAgICAgICAgICAgeyJidWJibGluZ01vdXNlRXZlbnRzIjogdHJ1ZSwgImNvbG9yIjogIiMxMGEyZjAiLCAiZGFzaEFycmF5IjogbnVsbCwgImRhc2hPZmZzZXQiOiBudWxsLCAiZmlsbCI6IHRydWUsICJmaWxsQ29sb3IiOiAiIzEwYTJmMCIsICJmaWxsT3BhY2l0eSI6IDAuNywgImZpbGxSdWxlIjogImV2ZW5vZGQiLCAibGluZUNhcCI6ICJyb3VuZCIsICJsaW5lSm9pbiI6ICJyb3VuZCIsICJvcGFjaXR5IjogMS4wLCAicmFkaXVzIjogNSwgInN0cm9rZSI6IHRydWUsICJ3ZWlnaHQiOiAzfQogICAgICAgICAgICApLmFkZFRvKG1hcF8wZDVjYTY1YTcyMWQ0YmM2ODYyMjBiOWFhZTM3ZGQwZSk7CiAgICAgICAgCiAgICAKICAgICAgICB2YXIgcG9wdXBfZDg5Njk2MzQ2YTk3NDRiYmFiZTBmYzZlYjM1YWUxNjAgPSBMLnBvcHVwKHsibWF4V2lkdGgiOiAiMTAwJSJ9KTsKCiAgICAgICAgCiAgICAgICAgICAgIHZhciBodG1sXzA2OGQwZGRmYzMwMzQ3NjM4ZGMwYjJkZDVjM2U4M2M5ID0gJChgPGRpdiBpZD0iaHRtbF8wNjhkMGRkZmMzMDM0NzYzOGRjMGIyZGQ1YzNlODNjOSIgc3R5bGU9IndpZHRoOiAxMDAuMCU7IGhlaWdodDogMTAwLjAlOyI+Q2VudHJhbCBUb3JvbnRvLCBZb3JrdmlsbGUgQ2x1c3RlciAzPC9kaXY+YClbMF07CiAgICAgICAgICAgIHBvcHVwX2Q4OTY5NjM0NmE5NzQ0YmJhYmUwZmM2ZWIzNWFlMTYwLnNldENvbnRlbnQoaHRtbF8wNjhkMGRkZmMzMDM0NzYzOGRjMGIyZGQ1YzNlODNjOSk7CiAgICAgICAgCgogICAgICAgIGNpcmNsZV9tYXJrZXJfOWZkYmJhYzgyODU0NDI5ZDk2Mjk0Y2UwZWE1ZWM5MTAuYmluZFBvcHVwKHBvcHVwX2Q4OTY5NjM0NmE5NzQ0YmJhYmUwZmM2ZWIzNWFlMTYwKQogICAgICAgIDsKCiAgICAgICAgCiAgICAKICAgIAogICAgICAgICAgICB2YXIgY2lyY2xlX21hcmtlcl8zMzU4Zjc4YWY2Y2U0YWVlODE2NWVjZmIxODdhNjNiNyA9IEwuY2lyY2xlTWFya2VyKAogICAgICAgICAgICAgICAgWzQzLjY2MjY5NTYsIC03OS40MDAwNDkzXSwKICAgICAgICAgICAgICAgIHsiYnViYmxpbmdNb3VzZUV2ZW50cyI6IHRydWUsICJjb2xvciI6ICIjMTBhMmYwIiwgImRhc2hBcnJheSI6IG51bGwsICJkYXNoT2Zmc2V0IjogbnVsbCwgImZpbGwiOiB0cnVlLCAiZmlsbENvbG9yIjogIiMxMGEyZjAiLCAiZmlsbE9wYWNpdHkiOiAwLjcsICJmaWxsUnVsZSI6ICJldmVub2RkIiwgImxpbmVDYXAiOiAicm91bmQiLCAibGluZUpvaW4iOiAicm91bmQiLCAib3BhY2l0eSI6IDEuMCwgInJhZGl1cyI6IDUsICJzdHJva2UiOiB0cnVlLCAid2VpZ2h0IjogM30KICAgICAgICAgICAgKS5hZGRUbyhtYXBfMGQ1Y2E2NWE3MjFkNGJjNjg2MjIwYjlhYWUzN2RkMGUpOwogICAgICAgIAogICAgCiAgICAgICAgdmFyIHBvcHVwX2JmMzFhYmE0MjI1YjRmNjQ5ODcyOGM4ODJjNmE1OTdmID0gTC5wb3B1cCh7Im1heFdpZHRoIjogIjEwMCUifSk7CgogICAgICAgIAogICAgICAgICAgICB2YXIgaHRtbF83NDAxNjNkMjAwYTg0ZmQxYmU3ZGZlYjZmMTg3ZWIyNyA9ICQoYDxkaXYgaWQ9Imh0bWxfNzQwMTYzZDIwMGE4NGZkMWJlN2RmZWI2ZjE4N2ViMjciIHN0eWxlPSJ3aWR0aDogMTAwLjAlOyBoZWlnaHQ6IDEwMC4wJTsiPkRvd250b3duIFRvcm9udG8sIFVuaXZlcnNpdHkgb2YgVG9yb250byBDbHVzdGVyIDM8L2Rpdj5gKVswXTsKICAgICAgICAgICAgcG9wdXBfYmYzMWFiYTQyMjViNGY2NDk4NzI4Yzg4MmM2YTU5N2Yuc2V0Q29udGVudChodG1sXzc0MDE2M2QyMDBhODRmZDFiZTdkZmViNmYxODdlYjI3KTsKICAgICAgICAKCiAgICAgICAgY2lyY2xlX21hcmtlcl8zMzU4Zjc4YWY2Y2U0YWVlODE2NWVjZmIxODdhNjNiNy5iaW5kUG9wdXAocG9wdXBfYmYzMWFiYTQyMjViNGY2NDk4NzI4Yzg4MmM2YTU5N2YpCiAgICAgICAgOwoKICAgICAgICAKICAgIAogICAgCiAgICAgICAgICAgIHZhciBjaXJjbGVfbWFya2VyXzI1YjFmMDY1OTUxMzQzMTZiYzY3OTkxMzFlNGI0NzkxID0gTC5jaXJjbGVNYXJrZXIoCiAgICAgICAgICAgICAgICBbNDMuNjUzMjA1NywgLTc5LjQwMDA0OTNdLAogICAgICAgICAgICAgICAgeyJidWJibGluZ01vdXNlRXZlbnRzIjogdHJ1ZSwgImNvbG9yIjogIiMxMGEyZjAiLCAiZGFzaEFycmF5IjogbnVsbCwgImRhc2hPZmZzZXQiOiBudWxsLCAiZmlsbCI6IHRydWUsICJmaWxsQ29sb3IiOiAiIzEwYTJmMCIsICJmaWxsT3BhY2l0eSI6IDAuNywgImZpbGxSdWxlIjogImV2ZW5vZGQiLCAibGluZUNhcCI6ICJyb3VuZCIsICJsaW5lSm9pbiI6ICJyb3VuZCIsICJvcGFjaXR5IjogMS4wLCAicmFkaXVzIjogNSwgInN0cm9rZSI6IHRydWUsICJ3ZWlnaHQiOiAzfQogICAgICAgICAgICApLmFkZFRvKG1hcF8wZDVjYTY1YTcyMWQ0YmM2ODYyMjBiOWFhZTM3ZGQwZSk7CiAgICAgICAgCiAgICAKICAgICAgICB2YXIgcG9wdXBfMGRhM2Q0MDdiNTFkNDU1MGJiN2RhYmRmYjJjMTM0N2QgPSBMLnBvcHVwKHsibWF4V2lkdGgiOiAiMTAwJSJ9KTsKCiAgICAgICAgCiAgICAgICAgICAgIHZhciBodG1sXzI2ZDYzZThhNGQxOTQxOWQ4MDQxNTQxZDUyOWUyM2E4ID0gJChgPGRpdiBpZD0iaHRtbF8yNmQ2M2U4YTRkMTk0MTlkODA0MTU0MWQ1MjllMjNhOCIgc3R5bGU9IndpZHRoOiAxMDAuMCU7IGhlaWdodDogMTAwLjAlOyI+RG93bnRvd24gVG9yb250bywgS2Vuc2luZ3RvbiBNYXJrZXQgQ2x1c3RlciAzPC9kaXY+YClbMF07CiAgICAgICAgICAgIHBvcHVwXzBkYTNkNDA3YjUxZDQ1NTBiYjdkYWJkZmIyYzEzNDdkLnNldENvbnRlbnQoaHRtbF8yNmQ2M2U4YTRkMTk0MTlkODA0MTU0MWQ1MjllMjNhOCk7CiAgICAgICAgCgogICAgICAgIGNpcmNsZV9tYXJrZXJfMjViMWYwNjU5NTEzNDMxNmJjNjc5OTEzMWU0YjQ3OTEuYmluZFBvcHVwKHBvcHVwXzBkYTNkNDA3YjUxZDQ1NTBiYjdkYWJkZmIyYzEzNDdkKQogICAgICAgIDsKCiAgICAgICAgCiAgICAKICAgIAogICAgICAgICAgICB2YXIgY2lyY2xlX21hcmtlcl9kZGE1YWE5MzEyZGU0M2I4ODY2NGMyZjVjZjY2MmYyYyA9IEwuY2lyY2xlTWFya2VyKAogICAgICAgICAgICAgICAgWzQzLjYyODk0NjcsIC03OS4zOTQ0MTk5XSwKICAgICAgICAgICAgICAgIHsiYnViYmxpbmdNb3VzZUV2ZW50cyI6IHRydWUsICJjb2xvciI6ICIjMTBhMmYwIiwgImRhc2hBcnJheSI6IG51bGwsICJkYXNoT2Zmc2V0IjogbnVsbCwgImZpbGwiOiB0cnVlLCAiZmlsbENvbG9yIjogIiMxMGEyZjAiLCAiZmlsbE9wYWNpdHkiOiAwLjcsICJmaWxsUnVsZSI6ICJldmVub2RkIiwgImxpbmVDYXAiOiAicm91bmQiLCAibGluZUpvaW4iOiAicm91bmQiLCAib3BhY2l0eSI6IDEuMCwgInJhZGl1cyI6IDUsICJzdHJva2UiOiB0cnVlLCAid2VpZ2h0IjogM30KICAgICAgICAgICAgKS5hZGRUbyhtYXBfMGQ1Y2E2NWE3MjFkNGJjNjg2MjIwYjlhYWUzN2RkMGUpOwogICAgICAgIAogICAgCiAgICAgICAgdmFyIHBvcHVwXzEzZGM4NzRkYmMyYjQ1OTNiODE2YTk5Y2NiYmVhM2UxID0gTC5wb3B1cCh7Im1heFdpZHRoIjogIjEwMCUifSk7CgogICAgICAgIAogICAgICAgICAgICB2YXIgaHRtbF83OGVhZDljOGMzOWQ0ZWZlOTk5NDdiMmMwMTI2ZWQ5ZiA9ICQoYDxkaXYgaWQ9Imh0bWxfNzhlYWQ5YzhjMzlkNGVmZTk5OTQ3YjJjMDEyNmVkOWYiIHN0eWxlPSJ3aWR0aDogMTAwLjAlOyBoZWlnaHQ6IDEwMC4wJTsiPkRvd250b3duIFRvcm9udG8sIFNvdXRoIE5pYWdhcmEgQ2x1c3RlciAzPC9kaXY+YClbMF07CiAgICAgICAgICAgIHBvcHVwXzEzZGM4NzRkYmMyYjQ1OTNiODE2YTk5Y2NiYmVhM2UxLnNldENvbnRlbnQoaHRtbF83OGVhZDljOGMzOWQ0ZWZlOTk5NDdiMmMwMTI2ZWQ5Zik7CiAgICAgICAgCgogICAgICAgIGNpcmNsZV9tYXJrZXJfZGRhNWFhOTMxMmRlNDNiODg2NjRjMmY1Y2Y2NjJmMmMuYmluZFBvcHVwKHBvcHVwXzEzZGM4NzRkYmMyYjQ1OTNiODE2YTk5Y2NiYmVhM2UxKQogICAgICAgIDsKCiAgICAgICAgCiAgICAKICAgIAogICAgICAgICAgICB2YXIgY2lyY2xlX21hcmtlcl80YmVjMzgyNWYwNGQ0MjVkOTJjYjQ0MjVmZDU0ZWRhYiA9IEwuY2lyY2xlTWFya2VyKAogICAgICAgICAgICAgICAgWzQzLjY0NjQzNTIsIC03OS4zNzQ4NDZdLAogICAgICAgICAgICAgICAgeyJidWJibGluZ01vdXNlRXZlbnRzIjogdHJ1ZSwgImNvbG9yIjogIiMxMGEyZjAiLCAiZGFzaEFycmF5IjogbnVsbCwgImRhc2hPZmZzZXQiOiBudWxsLCAiZmlsbCI6IHRydWUsICJmaWxsQ29sb3IiOiAiIzEwYTJmMCIsICJmaWxsT3BhY2l0eSI6IDAuNywgImZpbGxSdWxlIjogImV2ZW5vZGQiLCAibGluZUNhcCI6ICJyb3VuZCIsICJsaW5lSm9pbiI6ICJyb3VuZCIsICJvcGFjaXR5IjogMS4wLCAicmFkaXVzIjogNSwgInN0cm9rZSI6IHRydWUsICJ3ZWlnaHQiOiAzfQogICAgICAgICAgICApLmFkZFRvKG1hcF8wZDVjYTY1YTcyMWQ0YmM2ODYyMjBiOWFhZTM3ZGQwZSk7CiAgICAgICAgCiAgICAKICAgICAgICB2YXIgcG9wdXBfYzU0NTFhZWY0MmMxNDZhMGJjMDdjNzNjYzFkOGQ5MGUgPSBMLnBvcHVwKHsibWF4V2lkdGgiOiAiMTAwJSJ9KTsKCiAgICAgICAgCiAgICAgICAgICAgIHZhciBodG1sXzNjMzZiY2Y1YzQ2ZTRiMjViNzE2NzgyZTM3ODMxMDk4ID0gJChgPGRpdiBpZD0iaHRtbF8zYzM2YmNmNWM0NmU0YjI1YjcxNjc4MmUzNzgzMTA5OCIgc3R5bGU9IndpZHRoOiAxMDAuMCU7IGhlaWdodDogMTAwLjAlOyI+U3RuIEEgUE8gQm94ZXMgMjUgVGhlIEVzcGxhbmFkZSBDbHVzdGVyIDM8L2Rpdj5gKVswXTsKICAgICAgICAgICAgcG9wdXBfYzU0NTFhZWY0MmMxNDZhMGJjMDdjNzNjYzFkOGQ5MGUuc2V0Q29udGVudChodG1sXzNjMzZiY2Y1YzQ2ZTRiMjViNzE2NzgyZTM3ODMxMDk4KTsKICAgICAgICAKCiAgICAgICAgY2lyY2xlX21hcmtlcl80YmVjMzgyNWYwNGQ0MjVkOTJjYjQ0MjVmZDU0ZWRhYi5iaW5kUG9wdXAocG9wdXBfYzU0NTFhZWY0MmMxNDZhMGJjMDdjNzNjYzFkOGQ5MGUpCiAgICAgICAgOwoKICAgICAgICAKICAgIAogICAgCiAgICAgICAgICAgIHZhciBjaXJjbGVfbWFya2VyXzhjNzNhYzVhZjVhZjQ2YTViMzc4YjkzMjIyODljNGZjID0gTC5jaXJjbGVNYXJrZXIoCiAgICAgICAgICAgICAgICBbNDMuNjQ4NDI5MiwgLTc5LjM4MjI4MDJdLAogICAgICAgICAgICAgICAgeyJidWJibGluZ01vdXNlRXZlbnRzIjogdHJ1ZSwgImNvbG9yIjogIiMxMGEyZjAiLCAiZGFzaEFycmF5IjogbnVsbCwgImRhc2hPZmZzZXQiOiBudWxsLCAiZmlsbCI6IHRydWUsICJmaWxsQ29sb3IiOiAiIzEwYTJmMCIsICJmaWxsT3BhY2l0eSI6IDAuNywgImZpbGxSdWxlIjogImV2ZW5vZGQiLCAibGluZUNhcCI6ICJyb3VuZCIsICJsaW5lSm9pbiI6ICJyb3VuZCIsICJvcGFjaXR5IjogMS4wLCAicmFkaXVzIjogNSwgInN0cm9rZSI6IHRydWUsICJ3ZWlnaHQiOiAzfQogICAgICAgICAgICApLmFkZFRvKG1hcF8wZDVjYTY1YTcyMWQ0YmM2ODYyMjBiOWFhZTM3ZGQwZSk7CiAgICAgICAgCiAgICAKICAgICAgICB2YXIgcG9wdXBfNmQ4OTJlMzFkMTBlNDRhZGE4MjliNGY0MmMxM2VkMWYgPSBMLnBvcHVwKHsibWF4V2lkdGgiOiAiMTAwJSJ9KTsKCiAgICAgICAgCiAgICAgICAgICAgIHZhciBodG1sX2IxNDVkNjVhODk0MzQwY2ZiYzExYjM4MDE4ZGYyYTRmID0gJChgPGRpdiBpZD0iaHRtbF9iMTQ1ZDY1YTg5NDM0MGNmYmMxMWIzODAxOGRmMmE0ZiIgc3R5bGU9IndpZHRoOiAxMDAuMCU7IGhlaWdodDogMTAwLjAlOyI+RG93bnRvd24gVG9yb250bywgVW5kZXJncm91bmQgY2l0eSBDbHVzdGVyIDM8L2Rpdj5gKVswXTsKICAgICAgICAgICAgcG9wdXBfNmQ4OTJlMzFkMTBlNDRhZGE4MjliNGY0MmMxM2VkMWYuc2V0Q29udGVudChodG1sX2IxNDVkNjVhODk0MzQwY2ZiYzExYjM4MDE4ZGYyYTRmKTsKICAgICAgICAKCiAgICAgICAgY2lyY2xlX21hcmtlcl84YzczYWM1YWY1YWY0NmE1YjM3OGI5MzIyMjg5YzRmYy5iaW5kUG9wdXAocG9wdXBfNmQ4OTJlMzFkMTBlNDRhZGE4MjliNGY0MmMxM2VkMWYpCiAgICAgICAgOwoKICAgICAgICAKICAgIAogICAgCiAgICAgICAgICAgIHZhciBjaXJjbGVfbWFya2VyX2ZlNDllODdlZjJjMDQxYWE4YmZjYzMwYjFmMzAxYzZlID0gTC5jaXJjbGVNYXJrZXIoCiAgICAgICAgICAgICAgICBbNDMuNzE4NTE4LCAtNzkuNDY0NzYzM10sCiAgICAgICAgICAgICAgICB7ImJ1YmJsaW5nTW91c2VFdmVudHMiOiB0cnVlLCAiY29sb3IiOiAiIzEwYTJmMCIsICJkYXNoQXJyYXkiOiBudWxsLCAiZGFzaE9mZnNldCI6IG51bGwsICJmaWxsIjogdHJ1ZSwgImZpbGxDb2xvciI6ICIjMTBhMmYwIiwgImZpbGxPcGFjaXR5IjogMC43LCAiZmlsbFJ1bGUiOiAiZXZlbm9kZCIsICJsaW5lQ2FwIjogInJvdW5kIiwgImxpbmVKb2luIjogInJvdW5kIiwgIm9wYWNpdHkiOiAxLjAsICJyYWRpdXMiOiA1LCAic3Ryb2tlIjogdHJ1ZSwgIndlaWdodCI6IDN9CiAgICAgICAgICAgICkuYWRkVG8obWFwXzBkNWNhNjVhNzIxZDRiYzY4NjIyMGI5YWFlMzdkZDBlKTsKICAgICAgICAKICAgIAogICAgICAgIHZhciBwb3B1cF80ZGY4MTMxMGNmNWM0NDUyOTcyMjJiNDg4ODYyYWMyMCA9IEwucG9wdXAoeyJtYXhXaWR0aCI6ICIxMDAlIn0pOwoKICAgICAgICAKICAgICAgICAgICAgdmFyIGh0bWxfNmU5YTkzYWFjMDMxNDY4NWIzNGZkMjMzY2Q4MzU4Y2EgPSAkKGA8ZGl2IGlkPSJodG1sXzZlOWE5M2FhYzAzMTQ2ODViMzRmZDIzM2NkODM1OGNhIiBzdHlsZT0id2lkdGg6IDEwMC4wJTsgaGVpZ2h0OiAxMDAuMCU7Ij5Ob3J0aCBZb3JrLCBMYXdyZW5jZSBNYW5vciBDbHVzdGVyIDM8L2Rpdj5gKVswXTsKICAgICAgICAgICAgcG9wdXBfNGRmODEzMTBjZjVjNDQ1Mjk3MjIyYjQ4ODg2MmFjMjAuc2V0Q29udGVudChodG1sXzZlOWE5M2FhYzAzMTQ2ODViMzRmZDIzM2NkODM1OGNhKTsKICAgICAgICAKCiAgICAgICAgY2lyY2xlX21hcmtlcl9mZTQ5ZTg3ZWYyYzA0MWFhOGJmY2MzMGIxZjMwMWM2ZS5iaW5kUG9wdXAocG9wdXBfNGRmODEzMTBjZjVjNDQ1Mjk3MjIyYjQ4ODg2MmFjMjApCiAgICAgICAgOwoKICAgICAgICAKICAgIAogICAgCiAgICAgICAgICAgIHZhciBjaXJjbGVfbWFya2VyXzEyYTExMTliN2FkZjRlZjJiZjg2ZDE1Mjg3MGM3YTE4ID0gTC5jaXJjbGVNYXJrZXIoCiAgICAgICAgICAgICAgICBbNDMuNzA5NTc3LCAtNzkuNDQ1MDcyNl0sCiAgICAgICAgICAgICAgICB7ImJ1YmJsaW5nTW91c2VFdmVudHMiOiB0cnVlLCAiY29sb3IiOiAiIzEwYTJmMCIsICJkYXNoQXJyYXkiOiBudWxsLCAiZGFzaE9mZnNldCI6IG51bGwsICJmaWxsIjogdHJ1ZSwgImZpbGxDb2xvciI6ICIjMTBhMmYwIiwgImZpbGxPcGFjaXR5IjogMC43LCAiZmlsbFJ1bGUiOiAiZXZlbm9kZCIsICJsaW5lQ2FwIjogInJvdW5kIiwgImxpbmVKb2luIjogInJvdW5kIiwgIm9wYWNpdHkiOiAxLjAsICJyYWRpdXMiOiA1LCAic3Ryb2tlIjogdHJ1ZSwgIndlaWdodCI6IDN9CiAgICAgICAgICAgICkuYWRkVG8obWFwXzBkNWNhNjVhNzIxZDRiYzY4NjIyMGI5YWFlMzdkZDBlKTsKICAgICAgICAKICAgIAogICAgICAgIHZhciBwb3B1cF9lYTc3YmE1MzNkMzY0MThiYmMxYjIwMDc1YTRjZjU0NCA9IEwucG9wdXAoeyJtYXhXaWR0aCI6ICIxMDAlIn0pOwoKICAgICAgICAKICAgICAgICAgICAgdmFyIGh0bWxfNjlmODcyZGZhZjU2NDQxMWI4YzJhMGQzYmFjOWI2OTUgPSAkKGA8ZGl2IGlkPSJodG1sXzY5Zjg3MmRmYWY1NjQ0MTFiOGMyYTBkM2JhYzliNjk1IiBzdHlsZT0id2lkdGg6IDEwMC4wJTsgaGVpZ2h0OiAxMDAuMCU7Ij5HbGVuY2Fpcm4gQ2x1c3RlciAzPC9kaXY+YClbMF07CiAgICAgICAgICAgIHBvcHVwX2VhNzdiYTUzM2QzNjQxOGJiYzFiMjAwNzVhNGNmNTQ0LnNldENvbnRlbnQoaHRtbF82OWY4NzJkZmFmNTY0NDExYjhjMmEwZDNiYWM5YjY5NSk7CiAgICAgICAgCgogICAgICAgIGNpcmNsZV9tYXJrZXJfMTJhMTExOWI3YWRmNGVmMmJmODZkMTUyODcwYzdhMTguYmluZFBvcHVwKHBvcHVwX2VhNzdiYTUzM2QzNjQxOGJiYzFiMjAwNzVhNGNmNTQ0KQogICAgICAgIDsKCiAgICAgICAgCiAgICAKICAgIAogICAgICAgICAgICB2YXIgY2lyY2xlX21hcmtlcl85ZmQzOTYzYjJhYWE0ZmVkYTA2NGRhNjhkMjJjYzExYiA9IEwuY2lyY2xlTWFya2VyKAogICAgICAgICAgICAgICAgWzQzLjY5Mzc4MTMsIC03OS40MjgxOTE0XSwKICAgICAgICAgICAgICAgIHsiYnViYmxpbmdNb3VzZUV2ZW50cyI6IHRydWUsICJjb2xvciI6ICIjMmFkZGRkIiwgImRhc2hBcnJheSI6IG51bGwsICJkYXNoT2Zmc2V0IjogbnVsbCwgImZpbGwiOiB0cnVlLCAiZmlsbENvbG9yIjogIiMyYWRkZGQiLCAiZmlsbE9wYWNpdHkiOiAwLjcsICJmaWxsUnVsZSI6ICJldmVub2RkIiwgImxpbmVDYXAiOiAicm91bmQiLCAibGluZUpvaW4iOiAicm91bmQiLCAib3BhY2l0eSI6IDEuMCwgInJhZGl1cyI6IDUsICJzdHJva2UiOiB0cnVlLCAid2VpZ2h0IjogM30KICAgICAgICAgICAgKS5hZGRUbyhtYXBfMGQ1Y2E2NWE3MjFkNGJjNjg2MjIwYjlhYWUzN2RkMGUpOwogICAgICAgIAogICAgCiAgICAgICAgdmFyIHBvcHVwXzg4YTcwNDZhNzI3NjRmYjhhYjY2OTYzYWFiNDk1MzU1ID0gTC5wb3B1cCh7Im1heFdpZHRoIjogIjEwMCUifSk7CgogICAgICAgIAogICAgICAgICAgICB2YXIgaHRtbF9kMjIzNTFkYmJmNmY0ZjE0OGY1YzIzY2ExODNhZjYyMiA9ICQoYDxkaXYgaWQ9Imh0bWxfZDIyMzUxZGJiZjZmNGYxNDhmNWMyM2NhMTgzYWY2MjIiIHN0eWxlPSJ3aWR0aDogMTAwLjAlOyBoZWlnaHQ6IDEwMC4wJTsiPkh1bWV3b29kLUNlZGFydmFsZSBDbHVzdGVyIDQ8L2Rpdj5gKVswXTsKICAgICAgICAgICAgcG9wdXBfODhhNzA0NmE3Mjc2NGZiOGFiNjY5NjNhYWI0OTUzNTUuc2V0Q29udGVudChodG1sX2QyMjM1MWRiYmY2ZjRmMTQ4ZjVjMjNjYTE4M2FmNjIyKTsKICAgICAgICAKCiAgICAgICAgY2lyY2xlX21hcmtlcl85ZmQzOTYzYjJhYWE0ZmVkYTA2NGRhNjhkMjJjYzExYi5iaW5kUG9wdXAocG9wdXBfODhhNzA0NmE3Mjc2NGZiOGFiNjY5NjNhYWI0OTUzNTUpCiAgICAgICAgOwoKICAgICAgICAKICAgIAogICAgCiAgICAgICAgICAgIHZhciBjaXJjbGVfbWFya2VyX2IwM2VkNjY0NTUwMTQ4NjM4M2I1MWUxMjY1NDg5YTJjID0gTC5jaXJjbGVNYXJrZXIoCiAgICAgICAgICAgICAgICBbNDMuNjg5MDI1NiwgLTc5LjQ1MzUxMl0sCiAgICAgICAgICAgICAgICB7ImJ1YmJsaW5nTW91c2VFdmVudHMiOiB0cnVlLCAiY29sb3IiOiAiI2ZmMDAwMCIsICJkYXNoQXJyYXkiOiBudWxsLCAiZGFzaE9mZnNldCI6IG51bGwsICJmaWxsIjogdHJ1ZSwgImZpbGxDb2xvciI6ICIjZmYwMDAwIiwgImZpbGxPcGFjaXR5IjogMC43LCAiZmlsbFJ1bGUiOiAiZXZlbm9kZCIsICJsaW5lQ2FwIjogInJvdW5kIiwgImxpbmVKb2luIjogInJvdW5kIiwgIm9wYWNpdHkiOiAxLjAsICJyYWRpdXMiOiA1LCAic3Ryb2tlIjogdHJ1ZSwgIndlaWdodCI6IDN9CiAgICAgICAgICAgICkuYWRkVG8obWFwXzBkNWNhNjVhNzIxZDRiYzY4NjIyMGI5YWFlMzdkZDBlKTsKICAgICAgICAKICAgIAogICAgICAgIHZhciBwb3B1cF80OTZiZjFhMWRiOTA0MjBkOGJlNDQ2NzNkNDM3MGU0MyA9IEwucG9wdXAoeyJtYXhXaWR0aCI6ICIxMDAlIn0pOwoKICAgICAgICAKICAgICAgICAgICAgdmFyIGh0bWxfNmRhNTY5ZTJiODI0NDNhMGFmY2Y3MDBhOWNmYmYwZTIgPSAkKGA8ZGl2IGlkPSJodG1sXzZkYTU2OWUyYjgyNDQzYTBhZmNmNzAwYTljZmJmMGUyIiBzdHlsZT0id2lkdGg6IDEwMC4wJTsgaGVpZ2h0OiAxMDAuMCU7Ij5DYWxlZG9uaWEtRmFpcmJhbmtzIENsdXN0ZXIgMDwvZGl2PmApWzBdOwogICAgICAgICAgICBwb3B1cF80OTZiZjFhMWRiOTA0MjBkOGJlNDQ2NzNkNDM3MGU0My5zZXRDb250ZW50KGh0bWxfNmRhNTY5ZTJiODI0NDNhMGFmY2Y3MDBhOWNmYmYwZTIpOwogICAgICAgIAoKICAgICAgICBjaXJjbGVfbWFya2VyX2IwM2VkNjY0NTUwMTQ4NjM4M2I1MWUxMjY1NDg5YTJjLmJpbmRQb3B1cChwb3B1cF80OTZiZjFhMWRiOTA0MjBkOGJlNDQ2NzNkNDM3MGU0MykKICAgICAgICA7CgogICAgICAgIAogICAgCiAgICAKICAgICAgICAgICAgdmFyIGNpcmNsZV9tYXJrZXJfZjhhNTY3NzI0ZTJkNDg5YzhlYjcyM2I3MTA3YzdkN2QgPSBMLmNpcmNsZU1hcmtlcigKICAgICAgICAgICAgICAgIFs0My42Njk1NDIsIC03OS40MjI1NjM3XSwKICAgICAgICAgICAgICAgIHsiYnViYmxpbmdNb3VzZUV2ZW50cyI6IHRydWUsICJjb2xvciI6ICIjODAwMGZmIiwgImRhc2hBcnJheSI6IG51bGwsICJkYXNoT2Zmc2V0IjogbnVsbCwgImZpbGwiOiB0cnVlLCAiZmlsbENvbG9yIjogIiM4MDAwZmYiLCAiZmlsbE9wYWNpdHkiOiAwLjcsICJmaWxsUnVsZSI6ICJldmVub2RkIiwgImxpbmVDYXAiOiAicm91bmQiLCAibGluZUpvaW4iOiAicm91bmQiLCAib3BhY2l0eSI6IDEuMCwgInJhZGl1cyI6IDUsICJzdHJva2UiOiB0cnVlLCAid2VpZ2h0IjogM30KICAgICAgICAgICAgKS5hZGRUbyhtYXBfMGQ1Y2E2NWE3MjFkNGJjNjg2MjIwYjlhYWUzN2RkMGUpOwogICAgICAgIAogICAgCiAgICAgICAgdmFyIHBvcHVwXzAzZTE1ZDZkYjYzYzRkMzRhZGU2ZTM1MjY3YjhjNDY1ID0gTC5wb3B1cCh7Im1heFdpZHRoIjogIjEwMCUifSk7CgogICAgICAgIAogICAgICAgICAgICB2YXIgaHRtbF9lZTkwYzBjNDhlZjI0Mjk1OTg2NWNiMjMzNzcwM2NhMiA9ICQoYDxkaXYgaWQ9Imh0bWxfZWU5MGMwYzQ4ZWYyNDI5NTk4NjVjYjIzMzc3MDNjYTIiIHN0eWxlPSJ3aWR0aDogMTAwLjAlOyBoZWlnaHQ6IDEwMC4wJTsiPkNocmlzdGllIENsdXN0ZXIgMTwvZGl2PmApWzBdOwogICAgICAgICAgICBwb3B1cF8wM2UxNWQ2ZGI2M2M0ZDM0YWRlNmUzNTI2N2I4YzQ2NS5zZXRDb250ZW50KGh0bWxfZWU5MGMwYzQ4ZWYyNDI5NTk4NjVjYjIzMzc3MDNjYTIpOwogICAgICAgIAoKICAgICAgICBjaXJjbGVfbWFya2VyX2Y4YTU2NzcyNGUyZDQ4OWM4ZWI3MjNiNzEwN2M3ZDdkLmJpbmRQb3B1cChwb3B1cF8wM2UxNWQ2ZGI2M2M0ZDM0YWRlNmUzNTI2N2I4YzQ2NSkKICAgICAgICA7CgogICAgICAgIAogICAgCiAgICAKICAgICAgICAgICAgdmFyIGNpcmNsZV9tYXJrZXJfOTJkYzVhOWRhYTQ2NDFmZWE5NTZmYzlhMTZjM2JkMWEgPSBMLmNpcmNsZU1hcmtlcigKICAgICAgICAgICAgICAgIFs0My42NjkwMDUxLCAtNzkuNDQyMjU5M10sCiAgICAgICAgICAgICAgICB7ImJ1YmJsaW5nTW91c2VFdmVudHMiOiB0cnVlLCAiY29sb3IiOiAiIzEwYTJmMCIsICJkYXNoQXJyYXkiOiBudWxsLCAiZGFzaE9mZnNldCI6IG51bGwsICJmaWxsIjogdHJ1ZSwgImZpbGxDb2xvciI6ICIjMTBhMmYwIiwgImZpbGxPcGFjaXR5IjogMC43LCAiZmlsbFJ1bGUiOiAiZXZlbm9kZCIsICJsaW5lQ2FwIjogInJvdW5kIiwgImxpbmVKb2luIjogInJvdW5kIiwgIm9wYWNpdHkiOiAxLjAsICJyYWRpdXMiOiA1LCAic3Ryb2tlIjogdHJ1ZSwgIndlaWdodCI6IDN9CiAgICAgICAgICAgICkuYWRkVG8obWFwXzBkNWNhNjVhNzIxZDRiYzY4NjIyMGI5YWFlMzdkZDBlKTsKICAgICAgICAKICAgIAogICAgICAgIHZhciBwb3B1cF82ZDU4YzNjODQwMDg0ZWQ1YjMxNWZhMTc2MGNjODNlNiA9IEwucG9wdXAoeyJtYXhXaWR0aCI6ICIxMDAlIn0pOwoKICAgICAgICAKICAgICAgICAgICAgdmFyIGh0bWxfM2YyNjU3MjZmN2Y3NDFhMGIyYTMzNDg5YzliZmE0Y2QgPSAkKGA8ZGl2IGlkPSJodG1sXzNmMjY1NzI2ZjdmNzQxYTBiMmEzMzQ4OWM5YmZhNGNkIiBzdHlsZT0id2lkdGg6IDEwMC4wJTsgaGVpZ2h0OiAxMDAuMCU7Ij5XZXN0IFRvcm9udG8sIER1ZmZlcmluIENsdXN0ZXIgMzwvZGl2PmApWzBdOwogICAgICAgICAgICBwb3B1cF82ZDU4YzNjODQwMDg0ZWQ1YjMxNWZhMTc2MGNjODNlNi5zZXRDb250ZW50KGh0bWxfM2YyNjU3MjZmN2Y3NDFhMGIyYTMzNDg5YzliZmE0Y2QpOwogICAgICAgIAoKICAgICAgICBjaXJjbGVfbWFya2VyXzkyZGM1YTlkYWE0NjQxZmVhOTU2ZmM5YTE2YzNiZDFhLmJpbmRQb3B1cChwb3B1cF82ZDU4YzNjODQwMDg0ZWQ1YjMxNWZhMTc2MGNjODNlNikKICAgICAgICA7CgogICAgICAgIAogICAgCiAgICAKICAgICAgICAgICAgdmFyIGNpcmNsZV9tYXJrZXJfMTI4ZjZhOGQ0YjVkNDcxYzlkNzc3YzVjY2FkMGE5YWYgPSBMLmNpcmNsZU1hcmtlcigKICAgICAgICAgICAgICAgIFs0My42NDc5MjY3LCAtNzkuNDE5NzQ5N10sCiAgICAgICAgICAgICAgICB7ImJ1YmJsaW5nTW91c2VFdmVudHMiOiB0cnVlLCAiY29sb3IiOiAiIzEwYTJmMCIsICJkYXNoQXJyYXkiOiBudWxsLCAiZGFzaE9mZnNldCI6IG51bGwsICJmaWxsIjogdHJ1ZSwgImZpbGxDb2xvciI6ICIjMTBhMmYwIiwgImZpbGxPcGFjaXR5IjogMC43LCAiZmlsbFJ1bGUiOiAiZXZlbm9kZCIsICJsaW5lQ2FwIjogInJvdW5kIiwgImxpbmVKb2luIjogInJvdW5kIiwgIm9wYWNpdHkiOiAxLjAsICJyYWRpdXMiOiA1LCAic3Ryb2tlIjogdHJ1ZSwgIndlaWdodCI6IDN9CiAgICAgICAgICAgICkuYWRkVG8obWFwXzBkNWNhNjVhNzIxZDRiYzY4NjIyMGI5YWFlMzdkZDBlKTsKICAgICAgICAKICAgIAogICAgICAgIHZhciBwb3B1cF84NDI2ZGI0ZWRjMzg0YmRlOTcyMWExNDc1MTY3ZGZiNyA9IEwucG9wdXAoeyJtYXhXaWR0aCI6ICIxMDAlIn0pOwoKICAgICAgICAKICAgICAgICAgICAgdmFyIGh0bWxfZWJlMzc3YzgxYjQwNDcxN2JiYzBkOGRjOGY0ZTkxYjUgPSAkKGA8ZGl2IGlkPSJodG1sX2ViZTM3N2M4MWI0MDQ3MTdiYmMwZDhkYzhmNGU5MWI1IiBzdHlsZT0id2lkdGg6IDEwMC4wJTsgaGVpZ2h0OiAxMDAuMCU7Ij5XZXN0IFRvcm9udG8sIFRyaW5pdHkgQ2x1c3RlciAzPC9kaXY+YClbMF07CiAgICAgICAgICAgIHBvcHVwXzg0MjZkYjRlZGMzODRiZGU5NzIxYTE0NzUxNjdkZmI3LnNldENvbnRlbnQoaHRtbF9lYmUzNzdjODFiNDA0NzE3YmJjMGQ4ZGM4ZjRlOTFiNSk7CiAgICAgICAgCgogICAgICAgIGNpcmNsZV9tYXJrZXJfMTI4ZjZhOGQ0YjVkNDcxYzlkNzc3YzVjY2FkMGE5YWYuYmluZFBvcHVwKHBvcHVwXzg0MjZkYjRlZGMzODRiZGU5NzIxYTE0NzUxNjdkZmI3KQogICAgICAgIDsKCiAgICAgICAgCiAgICAKICAgIAogICAgICAgICAgICB2YXIgY2lyY2xlX21hcmtlcl83ZmI3Nzg4MDMwZDQ0N2E2ODA3OWFhZDYyYTI0ZTI0ZSA9IEwuY2lyY2xlTWFya2VyKAogICAgICAgICAgICAgICAgWzQzLjYzNjg0NzIsIC03OS40MjgxOTE0XSwKICAgICAgICAgICAgICAgIHsiYnViYmxpbmdNb3VzZUV2ZW50cyI6IHRydWUsICJjb2xvciI6ICIjMTBhMmYwIiwgImRhc2hBcnJheSI6IG51bGwsICJkYXNoT2Zmc2V0IjogbnVsbCwgImZpbGwiOiB0cnVlLCAiZmlsbENvbG9yIjogIiMxMGEyZjAiLCAiZmlsbE9wYWNpdHkiOiAwLjcsICJmaWxsUnVsZSI6ICJldmVub2RkIiwgImxpbmVDYXAiOiAicm91bmQiLCAibGluZUpvaW4iOiAicm91bmQiLCAib3BhY2l0eSI6IDEuMCwgInJhZGl1cyI6IDUsICJzdHJva2UiOiB0cnVlLCAid2VpZ2h0IjogM30KICAgICAgICAgICAgKS5hZGRUbyhtYXBfMGQ1Y2E2NWE3MjFkNGJjNjg2MjIwYjlhYWUzN2RkMGUpOwogICAgICAgIAogICAgCiAgICAgICAgdmFyIHBvcHVwXzZmNTcyMWFlMmU2ZjQxNGQ5OGM0YWExNzllMmY0NGE0ID0gTC5wb3B1cCh7Im1heFdpZHRoIjogIjEwMCUifSk7CgogICAgICAgIAogICAgICAgICAgICB2YXIgaHRtbF85ZmM5MjBkYzFlMjE0MTQ3OWEzYWRiZTU5ZDkxN2EzYSA9ICQoYDxkaXYgaWQ9Imh0bWxfOWZjOTIwZGMxZTIxNDE0NzlhM2FkYmU1OWQ5MTdhM2EiIHN0eWxlPSJ3aWR0aDogMTAwLjAlOyBoZWlnaHQ6IDEwMC4wJTsiPldlc3QgVG9yb250bywgUGFya2RhbGUgVmlsbGFnZSBDbHVzdGVyIDM8L2Rpdj5gKVswXTsKICAgICAgICAgICAgcG9wdXBfNmY1NzIxYWUyZTZmNDE0ZDk4YzRhYTE3OWUyZjQ0YTQuc2V0Q29udGVudChodG1sXzlmYzkyMGRjMWUyMTQxNDc5YTNhZGJlNTlkOTE3YTNhKTsKICAgICAgICAKCiAgICAgICAgY2lyY2xlX21hcmtlcl83ZmI3Nzg4MDMwZDQ0N2E2ODA3OWFhZDYyYTI0ZTI0ZS5iaW5kUG9wdXAocG9wdXBfNmY1NzIxYWUyZTZmNDE0ZDk4YzRhYTE3OWUyZjQ0YTQpCiAgICAgICAgOwoKICAgICAgICAKICAgIAogICAgCiAgICAgICAgICAgIHZhciBjaXJjbGVfbWFya2VyXzEzYzI1Y2JiMDIyMTQ2Nzg5ZGIyODMxOWNkNDZmMjczID0gTC5jaXJjbGVNYXJrZXIoCiAgICAgICAgICAgICAgICBbNDMuNzEzNzU2MiwgLTc5LjQ5MDA3MzhdLAogICAgICAgICAgICAgICAgeyJidWJibGluZ01vdXNlRXZlbnRzIjogdHJ1ZSwgImNvbG9yIjogIiNmZjAwMDAiLCAiZGFzaEFycmF5IjogbnVsbCwgImRhc2hPZmZzZXQiOiBudWxsLCAiZmlsbCI6IHRydWUsICJmaWxsQ29sb3IiOiAiI2ZmMDAwMCIsICJmaWxsT3BhY2l0eSI6IDAuNywgImZpbGxSdWxlIjogImV2ZW5vZGQiLCAibGluZUNhcCI6ICJyb3VuZCIsICJsaW5lSm9pbiI6ICJyb3VuZCIsICJvcGFjaXR5IjogMS4wLCAicmFkaXVzIjogNSwgInN0cm9rZSI6IHRydWUsICJ3ZWlnaHQiOiAzfQogICAgICAgICAgICApLmFkZFRvKG1hcF8wZDVjYTY1YTcyMWQ0YmM2ODYyMjBiOWFhZTM3ZGQwZSk7CiAgICAgICAgCiAgICAKICAgICAgICB2YXIgcG9wdXBfMGI5NTkyMzZhYjMwNDU3ZTk4MGNjMDhlZWUyYThiZjUgPSBMLnBvcHVwKHsibWF4V2lkdGgiOiAiMTAwJSJ9KTsKCiAgICAgICAgCiAgICAgICAgICAgIHZhciBodG1sXzJlODk5YWJhNjM5MjQyOTk5OTJkY2QyN2M5ZjI2M2FjID0gJChgPGRpdiBpZD0iaHRtbF8yZTg5OWFiYTYzOTI0Mjk5OTkyZGNkMjdjOWYyNjNhYyIgc3R5bGU9IndpZHRoOiAxMDAuMCU7IGhlaWdodDogMTAwLjAlOyI+Tm9ydGggWW9yaywgVXB3b29kIFBhcmsgQ2x1c3RlciAwPC9kaXY+YClbMF07CiAgICAgICAgICAgIHBvcHVwXzBiOTU5MjM2YWIzMDQ1N2U5ODBjYzA4ZWVlMmE4YmY1LnNldENvbnRlbnQoaHRtbF8yZTg5OWFiYTYzOTI0Mjk5OTkyZGNkMjdjOWYyNjNhYyk7CiAgICAgICAgCgogICAgICAgIGNpcmNsZV9tYXJrZXJfMTNjMjVjYmIwMjIxNDY3ODlkYjI4MzE5Y2Q0NmYyNzMuYmluZFBvcHVwKHBvcHVwXzBiOTU5MjM2YWIzMDQ1N2U5ODBjYzA4ZWVlMmE4YmY1KQogICAgICAgIDsKCiAgICAgICAgCiAgICAKICAgIAogICAgICAgICAgICB2YXIgY2lyY2xlX21hcmtlcl8yZTY5YjEwOTIwMmU0YWE5OThjMjliN2UzZmUzMTU2OCA9IEwuY2lyY2xlTWFya2VyKAogICAgICAgICAgICAgICAgWzQzLjY5MTExNTgsIC03OS40NzYwMTMzXSwKICAgICAgICAgICAgICAgIHsiYnViYmxpbmdNb3VzZUV2ZW50cyI6IHRydWUsICJjb2xvciI6ICIjMTBhMmYwIiwgImRhc2hBcnJheSI6IG51bGwsICJkYXNoT2Zmc2V0IjogbnVsbCwgImZpbGwiOiB0cnVlLCAiZmlsbENvbG9yIjogIiMxMGEyZjAiLCAiZmlsbE9wYWNpdHkiOiAwLjcsICJmaWxsUnVsZSI6ICJldmVub2RkIiwgImxpbmVDYXAiOiAicm91bmQiLCAibGluZUpvaW4iOiAicm91bmQiLCAib3BhY2l0eSI6IDEuMCwgInJhZGl1cyI6IDUsICJzdHJva2UiOiB0cnVlLCAid2VpZ2h0IjogM30KICAgICAgICAgICAgKS5hZGRUbyhtYXBfMGQ1Y2E2NWE3MjFkNGJjNjg2MjIwYjlhYWUzN2RkMGUpOwogICAgICAgIAogICAgCiAgICAgICAgdmFyIHBvcHVwX2QxNjFjZDNiNTQxMDRiMGY4MzA4OWM1N2JlYTdhZTkyID0gTC5wb3B1cCh7Im1heFdpZHRoIjogIjEwMCUifSk7CgogICAgICAgIAogICAgICAgICAgICB2YXIgaHRtbF85ZGJlYWEwYWIwYjg0OGY3YWFjYWNlOGUzNzNlZjYzOSA9ICQoYDxkaXYgaWQ9Imh0bWxfOWRiZWFhMGFiMGI4NDhmN2FhY2FjZThlMzczZWY2MzkiIHN0eWxlPSJ3aWR0aDogMTAwLjAlOyBoZWlnaHQ6IDEwMC4wJTsiPllvcmssIFNpbHZlcnRob3JuIENsdXN0ZXIgMzwvZGl2PmApWzBdOwogICAgICAgICAgICBwb3B1cF9kMTYxY2QzYjU0MTA0YjBmODMwODljNTdiZWE3YWU5Mi5zZXRDb250ZW50KGh0bWxfOWRiZWFhMGFiMGI4NDhmN2FhY2FjZThlMzczZWY2MzkpOwogICAgICAgIAoKICAgICAgICBjaXJjbGVfbWFya2VyXzJlNjliMTA5MjAyZTRhYTk5OGMyOWI3ZTNmZTMxNTY4LmJpbmRQb3B1cChwb3B1cF9kMTYxY2QzYjU0MTA0YjBmODMwODljNTdiZWE3YWU5MikKICAgICAgICA7CgogICAgICAgIAogICAgCiAgICAKICAgICAgICAgICAgdmFyIGNpcmNsZV9tYXJrZXJfMWYyNDE5ODRhZjM3NDY1YmI4ODYyYjNjNzcwODhmOWUgPSBMLmNpcmNsZU1hcmtlcigKICAgICAgICAgICAgICAgIFs0My42NzMxODUzLCAtNzkuNDg3MjYxOV0sCiAgICAgICAgICAgICAgICB7ImJ1YmJsaW5nTW91c2VFdmVudHMiOiB0cnVlLCAiY29sb3IiOiAiIzgwMDBmZiIsICJkYXNoQXJyYXkiOiBudWxsLCAiZGFzaE9mZnNldCI6IG51bGwsICJmaWxsIjogdHJ1ZSwgImZpbGxDb2xvciI6ICIjODAwMGZmIiwgImZpbGxPcGFjaXR5IjogMC43LCAiZmlsbFJ1bGUiOiAiZXZlbm9kZCIsICJsaW5lQ2FwIjogInJvdW5kIiwgImxpbmVKb2luIjogInJvdW5kIiwgIm9wYWNpdHkiOiAxLjAsICJyYWRpdXMiOiA1LCAic3Ryb2tlIjogdHJ1ZSwgIndlaWdodCI6IDN9CiAgICAgICAgICAgICkuYWRkVG8obWFwXzBkNWNhNjVhNzIxZDRiYzY4NjIyMGI5YWFlMzdkZDBlKTsKICAgICAgICAKICAgIAogICAgICAgIHZhciBwb3B1cF8zMTBhMTFjNDJhZDA0ZmNhOWMyOTlmN2FhMjQzMmExZiA9IEwucG9wdXAoeyJtYXhXaWR0aCI6ICIxMDAlIn0pOwoKICAgICAgICAKICAgICAgICAgICAgdmFyIGh0bWxfNjU1N2IzNWM5NzJjNDYwZTgyMTc5NDc2ZDQ2ZTQ2NGUgPSAkKGA8ZGl2IGlkPSJodG1sXzY1NTdiMzVjOTcyYzQ2MGU4MjE3OTQ3NmQ0NmU0NjRlIiBzdHlsZT0id2lkdGg6IDEwMC4wJTsgaGVpZ2h0OiAxMDAuMCU7Ij5Zb3JrLCBSdW5ueW1lZGUgQ2x1c3RlciAxPC9kaXY+YClbMF07CiAgICAgICAgICAgIHBvcHVwXzMxMGExMWM0MmFkMDRmY2E5YzI5OWY3YWEyNDMyYTFmLnNldENvbnRlbnQoaHRtbF82NTU3YjM1Yzk3MmM0NjBlODIxNzk0NzZkNDZlNDY0ZSk7CiAgICAgICAgCgogICAgICAgIGNpcmNsZV9tYXJrZXJfMWYyNDE5ODRhZjM3NDY1YmI4ODYyYjNjNzcwODhmOWUuYmluZFBvcHVwKHBvcHVwXzMxMGExMWM0MmFkMDRmY2E5YzI5OWY3YWEyNDMyYTFmKQogICAgICAgIDsKCiAgICAgICAgCiAgICAKICAgIAogICAgICAgICAgICB2YXIgY2lyY2xlX21hcmtlcl9lYTNkOThjMjNjNDE0OTdhYWVkNmU3MmUyYjRmODAzNSA9IEwuY2lyY2xlTWFya2VyKAogICAgICAgICAgICAgICAgWzQzLjY2MTYwODMsIC03OS40NjQ3NjMzXSwKICAgICAgICAgICAgICAgIHsiYnViYmxpbmdNb3VzZUV2ZW50cyI6IHRydWUsICJjb2xvciI6ICIjMTBhMmYwIiwgImRhc2hBcnJheSI6IG51bGwsICJkYXNoT2Zmc2V0IjogbnVsbCwgImZpbGwiOiB0cnVlLCAiZmlsbENvbG9yIjogIiMxMGEyZjAiLCAiZmlsbE9wYWNpdHkiOiAwLjcsICJmaWxsUnVsZSI6ICJldmVub2RkIiwgImxpbmVDYXAiOiAicm91bmQiLCAibGluZUpvaW4iOiAicm91bmQiLCAib3BhY2l0eSI6IDEuMCwgInJhZGl1cyI6IDUsICJzdHJva2UiOiB0cnVlLCAid2VpZ2h0IjogM30KICAgICAgICAgICAgKS5hZGRUbyhtYXBfMGQ1Y2E2NWE3MjFkNGJjNjg2MjIwYjlhYWUzN2RkMGUpOwogICAgICAgIAogICAgCiAgICAgICAgdmFyIHBvcHVwXzNlYjIxNGRjZGEzYTQ3ZTI4ZjI2Y2RiYjkxNzkxMGJiID0gTC5wb3B1cCh7Im1heFdpZHRoIjogIjEwMCUifSk7CgogICAgICAgIAogICAgICAgICAgICB2YXIgaHRtbF83Yjk3MTI4MTdmMjE0YjMyYmZjNjU2NWFkNzY4NTA3YSA9ICQoYDxkaXYgaWQ9Imh0bWxfN2I5NzEyODE3ZjIxNGIzMmJmYzY1NjVhZDc2ODUwN2EiIHN0eWxlPSJ3aWR0aDogMTAwLjAlOyBoZWlnaHQ6IDEwMC4wJTsiPldlc3QgVG9yb250bywgVGhlIEp1bmN0aW9uIFNvdXRoIENsdXN0ZXIgMzwvZGl2PmApWzBdOwogICAgICAgICAgICBwb3B1cF8zZWIyMTRkY2RhM2E0N2UyOGYyNmNkYmI5MTc5MTBiYi5zZXRDb250ZW50KGh0bWxfN2I5NzEyODE3ZjIxNGIzMmJmYzY1NjVhZDc2ODUwN2EpOwogICAgICAgIAoKICAgICAgICBjaXJjbGVfbWFya2VyX2VhM2Q5OGMyM2M0MTQ5N2FhZWQ2ZTcyZTJiNGY4MDM1LmJpbmRQb3B1cChwb3B1cF8zZWIyMTRkY2RhM2E0N2UyOGYyNmNkYmI5MTc5MTBiYikKICAgICAgICA7CgogICAgICAgIAogICAgCiAgICAKICAgICAgICAgICAgdmFyIGNpcmNsZV9tYXJrZXJfMTVjMDIyMjIzN2JkNDVkMjliYTI1MTUwMzRmZmQ3MGUgPSBMLmNpcmNsZU1hcmtlcigKICAgICAgICAgICAgICAgIFs0My42NDg5NTk3LCAtNzkuNDU2MzI1XSwKICAgICAgICAgICAgICAgIHsiYnViYmxpbmdNb3VzZUV2ZW50cyI6IHRydWUsICJjb2xvciI6ICIjMTBhMmYwIiwgImRhc2hBcnJheSI6IG51bGwsICJkYXNoT2Zmc2V0IjogbnVsbCwgImZpbGwiOiB0cnVlLCAiZmlsbENvbG9yIjogIiMxMGEyZjAiLCAiZmlsbE9wYWNpdHkiOiAwLjcsICJmaWxsUnVsZSI6ICJldmVub2RkIiwgImxpbmVDYXAiOiAicm91bmQiLCAibGluZUpvaW4iOiAicm91bmQiLCAib3BhY2l0eSI6IDEuMCwgInJhZGl1cyI6IDUsICJzdHJva2UiOiB0cnVlLCAid2VpZ2h0IjogM30KICAgICAgICAgICAgKS5hZGRUbyhtYXBfMGQ1Y2E2NWE3MjFkNGJjNjg2MjIwYjlhYWUzN2RkMGUpOwogICAgICAgIAogICAgCiAgICAgICAgdmFyIHBvcHVwXzY2NGQyZDllZDYwMzRjNTk5N2RmMzNhNmMwYmY3Y2Y4ID0gTC5wb3B1cCh7Im1heFdpZHRoIjogIjEwMCUifSk7CgogICAgICAgIAogICAgICAgICAgICB2YXIgaHRtbF9hN2Q4MjVhZjljMDY0NmYyYjM2MmQ3OWVlYTM0MDc2ZiA9ICQoYDxkaXYgaWQ9Imh0bWxfYTdkODI1YWY5YzA2NDZmMmIzNjJkNzllZWEzNDA3NmYiIHN0eWxlPSJ3aWR0aDogMTAwLjAlOyBoZWlnaHQ6IDEwMC4wJTsiPldlc3QgVG9yb250bywgUm9uY2VzdmFsbGVzIENsdXN0ZXIgMzwvZGl2PmApWzBdOwogICAgICAgICAgICBwb3B1cF82NjRkMmQ5ZWQ2MDM0YzU5OTdkZjMzYTZjMGJmN2NmOC5zZXRDb250ZW50KGh0bWxfYTdkODI1YWY5YzA2NDZmMmIzNjJkNzllZWEzNDA3NmYpOwogICAgICAgIAoKICAgICAgICBjaXJjbGVfbWFya2VyXzE1YzAyMjIyMzdiZDQ1ZDI5YmEyNTE1MDM0ZmZkNzBlLmJpbmRQb3B1cChwb3B1cF82NjRkMmQ5ZWQ2MDM0YzU5OTdkZjMzYTZjMGJmN2NmOCkKICAgICAgICA7CgogICAgICAgIAogICAgCiAgICAKICAgICAgICAgICAgdmFyIGNpcmNsZV9tYXJrZXJfN2EyZmU5MThiZTFkNGUzODk3NmJmNWUyOTNlMDIzYmMgPSBMLmNpcmNsZU1hcmtlcigKICAgICAgICAgICAgICAgIFs0My42NTE1NzA2LCAtNzkuNDg0NDQ5OV0sCiAgICAgICAgICAgICAgICB7ImJ1YmJsaW5nTW91c2VFdmVudHMiOiB0cnVlLCAiY29sb3IiOiAiIzEwYTJmMCIsICJkYXNoQXJyYXkiOiBudWxsLCAiZGFzaE9mZnNldCI6IG51bGwsICJmaWxsIjogdHJ1ZSwgImZpbGxDb2xvciI6ICIjMTBhMmYwIiwgImZpbGxPcGFjaXR5IjogMC43LCAiZmlsbFJ1bGUiOiAiZXZlbm9kZCIsICJsaW5lQ2FwIjogInJvdW5kIiwgImxpbmVKb2luIjogInJvdW5kIiwgIm9wYWNpdHkiOiAxLjAsICJyYWRpdXMiOiA1LCAic3Ryb2tlIjogdHJ1ZSwgIndlaWdodCI6IDN9CiAgICAgICAgICAgICkuYWRkVG8obWFwXzBkNWNhNjVhNzIxZDRiYzY4NjIyMGI5YWFlMzdkZDBlKTsKICAgICAgICAKICAgIAogICAgICAgIHZhciBwb3B1cF9mNjgyY2M5YTY0MmI0N2ZkOGVjNzcyOTU2NzMzZjgwMCA9IEwucG9wdXAoeyJtYXhXaWR0aCI6ICIxMDAlIn0pOwoKICAgICAgICAKICAgICAgICAgICAgdmFyIGh0bWxfNzUxMzcxZWM0MDNhNDJmYmEwNWNmOWE2MWYxMWQxYmMgPSAkKGA8ZGl2IGlkPSJodG1sXzc1MTM3MWVjNDAzYTQyZmJhMDVjZjlhNjFmMTFkMWJjIiBzdHlsZT0id2lkdGg6IDEwMC4wJTsgaGVpZ2h0OiAxMDAuMCU7Ij5XZXN0IFRvcm9udG8sIFN3YW5zZWEgQ2x1c3RlciAzPC9kaXY+YClbMF07CiAgICAgICAgICAgIHBvcHVwX2Y2ODJjYzlhNjQyYjQ3ZmQ4ZWM3NzI5NTY3MzNmODAwLnNldENvbnRlbnQoaHRtbF83NTEzNzFlYzQwM2E0MmZiYTA1Y2Y5YTYxZjExZDFiYyk7CiAgICAgICAgCgogICAgICAgIGNpcmNsZV9tYXJrZXJfN2EyZmU5MThiZTFkNGUzODk3NmJmNWUyOTNlMDIzYmMuYmluZFBvcHVwKHBvcHVwX2Y2ODJjYzlhNjQyYjQ3ZmQ4ZWM3NzI5NTY3MzNmODAwKQogICAgICAgIDsKCiAgICAgICAgCiAgICAKICAgIAogICAgICAgICAgICB2YXIgY2lyY2xlX21hcmtlcl9lMDhmNzQ0OGE5ODM0OGFhODA2ZWRhNmUwYjE1YTdlZSA9IEwuY2lyY2xlTWFya2VyKAogICAgICAgICAgICAgICAgWzQzLjY2MjMwMTUsIC03OS4zODk0OTM4XSwKICAgICAgICAgICAgICAgIHsiYnViYmxpbmdNb3VzZUV2ZW50cyI6IHRydWUsICJjb2xvciI6ICIjMTBhMmYwIiwgImRhc2hBcnJheSI6IG51bGwsICJkYXNoT2Zmc2V0IjogbnVsbCwgImZpbGwiOiB0cnVlLCAiZmlsbENvbG9yIjogIiMxMGEyZjAiLCAiZmlsbE9wYWNpdHkiOiAwLjcsICJmaWxsUnVsZSI6ICJldmVub2RkIiwgImxpbmVDYXAiOiAicm91bmQiLCAibGluZUpvaW4iOiAicm91bmQiLCAib3BhY2l0eSI6IDEuMCwgInJhZGl1cyI6IDUsICJzdHJva2UiOiB0cnVlLCAid2VpZ2h0IjogM30KICAgICAgICAgICAgKS5hZGRUbyhtYXBfMGQ1Y2E2NWE3MjFkNGJjNjg2MjIwYjlhYWUzN2RkMGUpOwogICAgICAgIAogICAgCiAgICAgICAgdmFyIHBvcHVwXzhkMTA1MWNiZDhhNjQ3MDdhMzQ5NzE5OTYzMzE5ZmVhID0gTC5wb3B1cCh7Im1heFdpZHRoIjogIjEwMCUifSk7CgogICAgICAgIAogICAgICAgICAgICB2YXIgaHRtbF83OTkzZTEyMWRiN2E0NTA0YjY3MWYwZmY1OTliYmY5YyA9ICQoYDxkaXYgaWQ9Imh0bWxfNzk5M2UxMjFkYjdhNDUwNGI2NzFmMGZmNTk5YmJmOWMiIHN0eWxlPSJ3aWR0aDogMTAwLjAlOyBoZWlnaHQ6IDEwMC4wJTsiPlF1ZWVuJiMzOTtzIFBhcmsgQ2x1c3RlciAzPC9kaXY+YClbMF07CiAgICAgICAgICAgIHBvcHVwXzhkMTA1MWNiZDhhNjQ3MDdhMzQ5NzE5OTYzMzE5ZmVhLnNldENvbnRlbnQoaHRtbF83OTkzZTEyMWRiN2E0NTA0YjY3MWYwZmY1OTliYmY5Yyk7CiAgICAgICAgCgogICAgICAgIGNpcmNsZV9tYXJrZXJfZTA4Zjc0NDhhOTgzNDhhYTgwNmVkYTZlMGIxNWE3ZWUuYmluZFBvcHVwKHBvcHVwXzhkMTA1MWNiZDhhNjQ3MDdhMzQ5NzE5OTYzMzE5ZmVhKQogICAgICAgIDsKCiAgICAgICAgCiAgICAKICAgIAogICAgICAgICAgICB2YXIgY2lyY2xlX21hcmtlcl82N2Q2ODBjMTlmNjU0MDM0YjkzNTMyMGFhYzc3Y2Q2OCA9IEwuY2lyY2xlTWFya2VyKAogICAgICAgICAgICAgICAgWzQzLjYzNjk2NTYsIC03OS42MTU4MTldLAogICAgICAgICAgICAgICAgeyJidWJibGluZ01vdXNlRXZlbnRzIjogdHJ1ZSwgImNvbG9yIjogIiMxMGEyZjAiLCAiZGFzaEFycmF5IjogbnVsbCwgImRhc2hPZmZzZXQiOiBudWxsLCAiZmlsbCI6IHRydWUsICJmaWxsQ29sb3IiOiAiIzEwYTJmMCIsICJmaWxsT3BhY2l0eSI6IDAuNywgImZpbGxSdWxlIjogImV2ZW5vZGQiLCAibGluZUNhcCI6ICJyb3VuZCIsICJsaW5lSm9pbiI6ICJyb3VuZCIsICJvcGFjaXR5IjogMS4wLCAicmFkaXVzIjogNSwgInN0cm9rZSI6IHRydWUsICJ3ZWlnaHQiOiAzfQogICAgICAgICAgICApLmFkZFRvKG1hcF8wZDVjYTY1YTcyMWQ0YmM2ODYyMjBiOWFhZTM3ZGQwZSk7CiAgICAgICAgCiAgICAKICAgICAgICB2YXIgcG9wdXBfZjRiNmY4M2MwNzMzNGFmNDk3M2YzYzdjNDVkYWRlZTYgPSBMLnBvcHVwKHsibWF4V2lkdGgiOiAiMTAwJSJ9KTsKCiAgICAgICAgCiAgICAgICAgICAgIHZhciBodG1sXzRlNzdhZWQ5MWYzZDQ5MzA4ZmFlMThhYjBhYWM1OTMyID0gJChgPGRpdiBpZD0iaHRtbF80ZTc3YWVkOTFmM2Q0OTMwOGZhZTE4YWIwYWFjNTkzMiIgc3R5bGU9IndpZHRoOiAxMDAuMCU7IGhlaWdodDogMTAwLjAlOyI+Q2FuYWRhIFBvc3QgR2F0ZXdheSBQcm9jZXNzaW5nIENlbnRyZSBDbHVzdGVyIDM8L2Rpdj5gKVswXTsKICAgICAgICAgICAgcG9wdXBfZjRiNmY4M2MwNzMzNGFmNDk3M2YzYzdjNDVkYWRlZTYuc2V0Q29udGVudChodG1sXzRlNzdhZWQ5MWYzZDQ5MzA4ZmFlMThhYjBhYWM1OTMyKTsKICAgICAgICAKCiAgICAgICAgY2lyY2xlX21hcmtlcl82N2Q2ODBjMTlmNjU0MDM0YjkzNTMyMGFhYzc3Y2Q2OC5iaW5kUG9wdXAocG9wdXBfZjRiNmY4M2MwNzMzNGFmNDk3M2YzYzdjNDVkYWRlZTYpCiAgICAgICAgOwoKICAgICAgICAKICAgIAogICAgCiAgICAgICAgICAgIHZhciBjaXJjbGVfbWFya2VyXzUwNzNkMTc4NWJhMTQxM2U4NjM3OTNjZjdlNGI0YmYwID0gTC5jaXJjbGVNYXJrZXIoCiAgICAgICAgICAgICAgICBbNDMuNjYyNzQzOSwgLTc5LjMyMTU1OF0sCiAgICAgICAgICAgICAgICB7ImJ1YmJsaW5nTW91c2VFdmVudHMiOiB0cnVlLCAiY29sb3IiOiAiIzEwYTJmMCIsICJkYXNoQXJyYXkiOiBudWxsLCAiZGFzaE9mZnNldCI6IG51bGwsICJmaWxsIjogdHJ1ZSwgImZpbGxDb2xvciI6ICIjMTBhMmYwIiwgImZpbGxPcGFjaXR5IjogMC43LCAiZmlsbFJ1bGUiOiAiZXZlbm9kZCIsICJsaW5lQ2FwIjogInJvdW5kIiwgImxpbmVKb2luIjogInJvdW5kIiwgIm9wYWNpdHkiOiAxLjAsICJyYWRpdXMiOiA1LCAic3Ryb2tlIjogdHJ1ZSwgIndlaWdodCI6IDN9CiAgICAgICAgICAgICkuYWRkVG8obWFwXzBkNWNhNjVhNzIxZDRiYzY4NjIyMGI5YWFlMzdkZDBlKTsKICAgICAgICAKICAgIAogICAgICAgIHZhciBwb3B1cF80NzBlZTlhMmNmOWY0MmU5YmZlZTc4OGE0MWNkODAwZSA9IEwucG9wdXAoeyJtYXhXaWR0aCI6ICIxMDAlIn0pOwoKICAgICAgICAKICAgICAgICAgICAgdmFyIGh0bWxfZDVmYjQzZWI1MjM5NGQ4ZjgzZTdhZjU4OGM3MGRiYzUgPSAkKGA8ZGl2IGlkPSJodG1sX2Q1ZmI0M2ViNTIzOTRkOGY4M2U3YWY1ODhjNzBkYmM1IiBzdHlsZT0id2lkdGg6IDEwMC4wJTsgaGVpZ2h0OiAxMDAuMCU7Ij5CdXNpbmVzcyBSZXBseSBNYWlsIFByb2Nlc3NpbmcgQ2VudHJlIDk2OSBFYXN0ZXJuIENsdXN0ZXIgMzwvZGl2PmApWzBdOwogICAgICAgICAgICBwb3B1cF80NzBlZTlhMmNmOWY0MmU5YmZlZTc4OGE0MWNkODAwZS5zZXRDb250ZW50KGh0bWxfZDVmYjQzZWI1MjM5NGQ4ZjgzZTdhZjU4OGM3MGRiYzUpOwogICAgICAgIAoKICAgICAgICBjaXJjbGVfbWFya2VyXzUwNzNkMTc4NWJhMTQxM2U4NjM3OTNjZjdlNGI0YmYwLmJpbmRQb3B1cChwb3B1cF80NzBlZTlhMmNmOWY0MmU5YmZlZTc4OGE0MWNkODAwZSkKICAgICAgICA7CgogICAgICAgIAogICAgCiAgICAKICAgICAgICAgICAgdmFyIGNpcmNsZV9tYXJrZXJfZDY0YTk3NjIwZDIyNDQxMDhmNmIxMTgyYjM5MTY5OTEgPSBMLmNpcmNsZU1hcmtlcigKICAgICAgICAgICAgICAgIFs0My42MDU2NDY2LCAtNzkuNTAxMzIwN10sCiAgICAgICAgICAgICAgICB7ImJ1YmJsaW5nTW91c2VFdmVudHMiOiB0cnVlLCAiY29sb3IiOiAiIzEwYTJmMCIsICJkYXNoQXJyYXkiOiBudWxsLCAiZGFzaE9mZnNldCI6IG51bGwsICJmaWxsIjogdHJ1ZSwgImZpbGxDb2xvciI6ICIjMTBhMmYwIiwgImZpbGxPcGFjaXR5IjogMC43LCAiZmlsbFJ1bGUiOiAiZXZlbm9kZCIsICJsaW5lQ2FwIjogInJvdW5kIiwgImxpbmVKb2luIjogInJvdW5kIiwgIm9wYWNpdHkiOiAxLjAsICJyYWRpdXMiOiA1LCAic3Ryb2tlIjogdHJ1ZSwgIndlaWdodCI6IDN9CiAgICAgICAgICAgICkuYWRkVG8obWFwXzBkNWNhNjVhNzIxZDRiYzY4NjIyMGI5YWFlMzdkZDBlKTsKICAgICAgICAKICAgIAogICAgICAgIHZhciBwb3B1cF8xZWM1MjFjZmQ2YzY0ZDlmYjgyMTI2ZTc5MmIyMTRhNCA9IEwucG9wdXAoeyJtYXhXaWR0aCI6ICIxMDAlIn0pOwoKICAgICAgICAKICAgICAgICAgICAgdmFyIGh0bWxfNDZmZjQ4ZGE2MDEzNGVhMDhmZmJmNTY1ZmNkNmVmNGQgPSAkKGA8ZGl2IGlkPSJodG1sXzQ2ZmY0OGRhNjAxMzRlYTA4ZmZiZjU2NWZjZDZlZjRkIiBzdHlsZT0id2lkdGg6IDEwMC4wJTsgaGVpZ2h0OiAxMDAuMCU7Ij5FdG9iaWNva2UsIE5ldyBUb3JvbnRvIENsdXN0ZXIgMzwvZGl2PmApWzBdOwogICAgICAgICAgICBwb3B1cF8xZWM1MjFjZmQ2YzY0ZDlmYjgyMTI2ZTc5MmIyMTRhNC5zZXRDb250ZW50KGh0bWxfNDZmZjQ4ZGE2MDEzNGVhMDhmZmJmNTY1ZmNkNmVmNGQpOwogICAgICAgIAoKICAgICAgICBjaXJjbGVfbWFya2VyX2Q2NGE5NzYyMGQyMjQ0MTA4ZjZiMTE4MmIzOTE2OTkxLmJpbmRQb3B1cChwb3B1cF8xZWM1MjFjZmQ2YzY0ZDlmYjgyMTI2ZTc5MmIyMTRhNCkKICAgICAgICA7CgogICAgICAgIAogICAgCiAgICAKICAgICAgICAgICAgdmFyIGNpcmNsZV9tYXJrZXJfOGQ5ZWY2NDA1NmQ4NDk3YjllM2JhMzg3ZWJmY2Q4YzAgPSBMLmNpcmNsZU1hcmtlcigKICAgICAgICAgICAgICAgIFs0My42MDI0MTM3LCAtNzkuNTQzNDg0MV0sCiAgICAgICAgICAgICAgICB7ImJ1YmJsaW5nTW91c2VFdmVudHMiOiB0cnVlLCAiY29sb3IiOiAiIzEwYTJmMCIsICJkYXNoQXJyYXkiOiBudWxsLCAiZGFzaE9mZnNldCI6IG51bGwsICJmaWxsIjogdHJ1ZSwgImZpbGxDb2xvciI6ICIjMTBhMmYwIiwgImZpbGxPcGFjaXR5IjogMC43LCAiZmlsbFJ1bGUiOiAiZXZlbm9kZCIsICJsaW5lQ2FwIjogInJvdW5kIiwgImxpbmVKb2luIjogInJvdW5kIiwgIm9wYWNpdHkiOiAxLjAsICJyYWRpdXMiOiA1LCAic3Ryb2tlIjogdHJ1ZSwgIndlaWdodCI6IDN9CiAgICAgICAgICAgICkuYWRkVG8obWFwXzBkNWNhNjVhNzIxZDRiYzY4NjIyMGI5YWFlMzdkZDBlKTsKICAgICAgICAKICAgIAogICAgICAgIHZhciBwb3B1cF82MmIzNTVkNTRiMmM0NTE5ODJhMTdhNzhkMTY1OWUzMiA9IEwucG9wdXAoeyJtYXhXaWR0aCI6ICIxMDAlIn0pOwoKICAgICAgICAKICAgICAgICAgICAgdmFyIGh0bWxfYTFjNGU1MzYxNTIxNDg1YThmNGQ1NTVjODU1ZmVlNjMgPSAkKGA8ZGl2IGlkPSJodG1sX2ExYzRlNTM2MTUyMTQ4NWE4ZjRkNTU1Yzg1NWZlZTYzIiBzdHlsZT0id2lkdGg6IDEwMC4wJTsgaGVpZ2h0OiAxMDAuMCU7Ij5FdG9iaWNva2UsIExvbmcgQnJhbmNoIENsdXN0ZXIgMzwvZGl2PmApWzBdOwogICAgICAgICAgICBwb3B1cF82MmIzNTVkNTRiMmM0NTE5ODJhMTdhNzhkMTY1OWUzMi5zZXRDb250ZW50KGh0bWxfYTFjNGU1MzYxNTIxNDg1YThmNGQ1NTVjODU1ZmVlNjMpOwogICAgICAgIAoKICAgICAgICBjaXJjbGVfbWFya2VyXzhkOWVmNjQwNTZkODQ5N2I5ZTNiYTM4N2ViZmNkOGMwLmJpbmRQb3B1cChwb3B1cF82MmIzNTVkNTRiMmM0NTE5ODJhMTdhNzhkMTY1OWUzMikKICAgICAgICA7CgogICAgICAgIAogICAgCiAgICAKICAgICAgICAgICAgdmFyIGNpcmNsZV9tYXJrZXJfYzhkNzRjZmI5MWE4NGE3ODk3YTMyMDc1MDQxYmM1N2IgPSBMLmNpcmNsZU1hcmtlcigKICAgICAgICAgICAgICAgIFs0My42NTM2NTM2LCAtNzkuNTA2OTQzNl0sCiAgICAgICAgICAgICAgICB7ImJ1YmJsaW5nTW91c2VFdmVudHMiOiB0cnVlLCAiY29sb3IiOiAiI2ZmMDAwMCIsICJkYXNoQXJyYXkiOiBudWxsLCAiZGFzaE9mZnNldCI6IG51bGwsICJmaWxsIjogdHJ1ZSwgImZpbGxDb2xvciI6ICIjZmYwMDAwIiwgImZpbGxPcGFjaXR5IjogMC43LCAiZmlsbFJ1bGUiOiAiZXZlbm9kZCIsICJsaW5lQ2FwIjogInJvdW5kIiwgImxpbmVKb2luIjogInJvdW5kIiwgIm9wYWNpdHkiOiAxLjAsICJyYWRpdXMiOiA1LCAic3Ryb2tlIjogdHJ1ZSwgIndlaWdodCI6IDN9CiAgICAgICAgICAgICkuYWRkVG8obWFwXzBkNWNhNjVhNzIxZDRiYzY4NjIyMGI5YWFlMzdkZDBlKTsKICAgICAgICAKICAgIAogICAgICAgIHZhciBwb3B1cF8wMWQ3ZjgzNjQ2Yzk0OGZmOWJiNjgzYWQ5YTY5YTJjNCA9IEwucG9wdXAoeyJtYXhXaWR0aCI6ICIxMDAlIn0pOwoKICAgICAgICAKICAgICAgICAgICAgdmFyIGh0bWxfNDExYjA4MTMwMzY3NDkyMWI1NGJmYjk3MWRmMWMwZWYgPSAkKGA8ZGl2IGlkPSJodG1sXzQxMWIwODEzMDM2NzQ5MjFiNTRiZmI5NzFkZjFjMGVmIiBzdHlsZT0id2lkdGg6IDEwMC4wJTsgaGVpZ2h0OiAxMDAuMCU7Ij5FdG9iaWNva2UsIE9sZCBNaWxsIE5vcnRoIENsdXN0ZXIgMDwvZGl2PmApWzBdOwogICAgICAgICAgICBwb3B1cF8wMWQ3ZjgzNjQ2Yzk0OGZmOWJiNjgzYWQ5YTY5YTJjNC5zZXRDb250ZW50KGh0bWxfNDExYjA4MTMwMzY3NDkyMWI1NGJmYjk3MWRmMWMwZWYpOwogICAgICAgIAoKICAgICAgICBjaXJjbGVfbWFya2VyX2M4ZDc0Y2ZiOTFhODRhNzg5N2EzMjA3NTA0MWJjNTdiLmJpbmRQb3B1cChwb3B1cF8wMWQ3ZjgzNjQ2Yzk0OGZmOWJiNjgzYWQ5YTY5YTJjNCkKICAgICAgICA7CgogICAgICAgIAogICAgCiAgICAKICAgICAgICAgICAgdmFyIGNpcmNsZV9tYXJrZXJfNmVmNzViNDg3ODlhNDlkOGI0ODI5NzAwYmE2NDRlNjUgPSBMLmNpcmNsZU1hcmtlcigKICAgICAgICAgICAgICAgIFs0My42MzYyNTc5LCAtNzkuNDk4NTA5MV0sCiAgICAgICAgICAgICAgICB7ImJ1YmJsaW5nTW91c2VFdmVudHMiOiB0cnVlLCAiY29sb3IiOiAiI2Q0ZGQ4MCIsICJkYXNoQXJyYXkiOiBudWxsLCAiZGFzaE9mZnNldCI6IG51bGwsICJmaWxsIjogdHJ1ZSwgImZpbGxDb2xvciI6ICIjZDRkZDgwIiwgImZpbGxPcGFjaXR5IjogMC43LCAiZmlsbFJ1bGUiOiAiZXZlbm9kZCIsICJsaW5lQ2FwIjogInJvdW5kIiwgImxpbmVKb2luIjogInJvdW5kIiwgIm9wYWNpdHkiOiAxLjAsICJyYWRpdXMiOiA1LCAic3Ryb2tlIjogdHJ1ZSwgIndlaWdodCI6IDN9CiAgICAgICAgICAgICkuYWRkVG8obWFwXzBkNWNhNjVhNzIxZDRiYzY4NjIyMGI5YWFlMzdkZDBlKTsKICAgICAgICAKICAgIAogICAgICAgIHZhciBwb3B1cF8zZTczZGYwYjFlYTY0Y2FkYWZmZGIyOTQ4YzI4ZDBkZCA9IEwucG9wdXAoeyJtYXhXaWR0aCI6ICIxMDAlIn0pOwoKICAgICAgICAKICAgICAgICAgICAgdmFyIGh0bWxfY2RmZTllNWI1Y2YwNDc2Zjg3NGYwNjFmNThiMjkwNjUgPSAkKGA8ZGl2IGlkPSJodG1sX2NkZmU5ZTViNWNmMDQ3NmY4NzRmMDYxZjU4YjI5MDY1IiBzdHlsZT0id2lkdGg6IDEwMC4wJTsgaGVpZ2h0OiAxMDAuMCU7Ij5FdG9iaWNva2UsIFN1bm55bGVhIENsdXN0ZXIgNzwvZGl2PmApWzBdOwogICAgICAgICAgICBwb3B1cF8zZTczZGYwYjFlYTY0Y2FkYWZmZGIyOTQ4YzI4ZDBkZC5zZXRDb250ZW50KGh0bWxfY2RmZTllNWI1Y2YwNDc2Zjg3NGYwNjFmNThiMjkwNjUpOwogICAgICAgIAoKICAgICAgICBjaXJjbGVfbWFya2VyXzZlZjc1YjQ4Nzg5YTQ5ZDhiNDgyOTcwMGJhNjQ0ZTY1LmJpbmRQb3B1cChwb3B1cF8zZTczZGYwYjFlYTY0Y2FkYWZmZGIyOTQ4YzI4ZDBkZCkKICAgICAgICA7CgogICAgICAgIAogICAgCiAgICAKICAgICAgICAgICAgdmFyIGNpcmNsZV9tYXJrZXJfYzZhNDlkYzM4MzRiNDNhZTkzYTkzYzZmNzExYmNhYjQgPSBMLmNpcmNsZU1hcmtlcigKICAgICAgICAgICAgICAgIFs0My42Mjg4NDA4LCAtNzkuNTIwOTk5NF0sCiAgICAgICAgICAgICAgICB7ImJ1YmJsaW5nTW91c2VFdmVudHMiOiB0cnVlLCAiY29sb3IiOiAiIzEwYTJmMCIsICJkYXNoQXJyYXkiOiBudWxsLCAiZGFzaE9mZnNldCI6IG51bGwsICJmaWxsIjogdHJ1ZSwgImZpbGxDb2xvciI6ICIjMTBhMmYwIiwgImZpbGxPcGFjaXR5IjogMC43LCAiZmlsbFJ1bGUiOiAiZXZlbm9kZCIsICJsaW5lQ2FwIjogInJvdW5kIiwgImxpbmVKb2luIjogInJvdW5kIiwgIm9wYWNpdHkiOiAxLjAsICJyYWRpdXMiOiA1LCAic3Ryb2tlIjogdHJ1ZSwgIndlaWdodCI6IDN9CiAgICAgICAgICAgICkuYWRkVG8obWFwXzBkNWNhNjVhNzIxZDRiYzY4NjIyMGI5YWFlMzdkZDBlKTsKICAgICAgICAKICAgIAogICAgICAgIHZhciBwb3B1cF9iYmY2ZTYxYmE5MmI0MmFlYWYzYmE4OTgxNjFiYjA1NiA9IEwucG9wdXAoeyJtYXhXaWR0aCI6ICIxMDAlIn0pOwoKICAgICAgICAKICAgICAgICAgICAgdmFyIGh0bWxfOWNlMGI4NjFkNGRmNDdhZmIyNTQxOTFmNzJjMzY4MjUgPSAkKGA8ZGl2IGlkPSJodG1sXzljZTBiODYxZDRkZjQ3YWZiMjU0MTkxZjcyYzM2ODI1IiBzdHlsZT0id2lkdGg6IDEwMC4wJTsgaGVpZ2h0OiAxMDAuMCU7Ij5FdG9iaWNva2UsIFNvdXRoIG9mIEJsb29yIENsdXN0ZXIgMzwvZGl2PmApWzBdOwogICAgICAgICAgICBwb3B1cF9iYmY2ZTYxYmE5MmI0MmFlYWYzYmE4OTgxNjFiYjA1Ni5zZXRDb250ZW50KGh0bWxfOWNlMGI4NjFkNGRmNDdhZmIyNTQxOTFmNzJjMzY4MjUpOwogICAgICAgIAoKICAgICAgICBjaXJjbGVfbWFya2VyX2M2YTQ5ZGMzODM0YjQzYWU5M2E5M2M2ZjcxMWJjYWI0LmJpbmRQb3B1cChwb3B1cF9iYmY2ZTYxYmE5MmI0MmFlYWYzYmE4OTgxNjFiYjA1NikKICAgICAgICA7CgogICAgICAgIAogICAgCiAgICAKICAgICAgICAgICAgdmFyIGNpcmNsZV9tYXJrZXJfYjRhMmZjMTU5OTZlNGQ5ZDkxZDFkZTRmMTZkODAwYjIgPSBMLmNpcmNsZU1hcmtlcigKICAgICAgICAgICAgICAgIFs0My42Njc4NTU2LCAtNzkuNTMyMjQyNF0sCiAgICAgICAgICAgICAgICB7ImJ1YmJsaW5nTW91c2VFdmVudHMiOiB0cnVlLCAiY29sb3IiOiAiIzEwYTJmMCIsICJkYXNoQXJyYXkiOiBudWxsLCAiZGFzaE9mZnNldCI6IG51bGwsICJmaWxsIjogdHJ1ZSwgImZpbGxDb2xvciI6ICIjMTBhMmYwIiwgImZpbGxPcGFjaXR5IjogMC43LCAiZmlsbFJ1bGUiOiAiZXZlbm9kZCIsICJsaW5lQ2FwIjogInJvdW5kIiwgImxpbmVKb2luIjogInJvdW5kIiwgIm9wYWNpdHkiOiAxLjAsICJyYWRpdXMiOiA1LCAic3Ryb2tlIjogdHJ1ZSwgIndlaWdodCI6IDN9CiAgICAgICAgICAgICkuYWRkVG8obWFwXzBkNWNhNjVhNzIxZDRiYzY4NjIyMGI5YWFlMzdkZDBlKTsKICAgICAgICAKICAgIAogICAgICAgIHZhciBwb3B1cF80NzM3MTJlNjJiNTg0OGZiYTNjMGU0MGQ2YjQ0OWJhOSA9IEwucG9wdXAoeyJtYXhXaWR0aCI6ICIxMDAlIn0pOwoKICAgICAgICAKICAgICAgICAgICAgdmFyIGh0bWxfNDUyY2E2NGZlMmNiNGNkYjk3NGE5MjE0MzI5NGFlNzAgPSAkKGA8ZGl2IGlkPSJodG1sXzQ1MmNhNjRmZTJjYjRjZGI5NzRhOTIxNDMyOTRhZTcwIiBzdHlsZT0id2lkdGg6IDEwMC4wJTsgaGVpZ2h0OiAxMDAuMCU7Ij5RdWVlbiYjMzk7cyBQYXJrIENsdXN0ZXIgMzwvZGl2PmApWzBdOwogICAgICAgICAgICBwb3B1cF80NzM3MTJlNjJiNTg0OGZiYTNjMGU0MGQ2YjQ0OWJhOS5zZXRDb250ZW50KGh0bWxfNDUyY2E2NGZlMmNiNGNkYjk3NGE5MjE0MzI5NGFlNzApOwogICAgICAgIAoKICAgICAgICBjaXJjbGVfbWFya2VyX2I0YTJmYzE1OTk2ZTRkOWQ5MWQxZGU0ZjE2ZDgwMGIyLmJpbmRQb3B1cChwb3B1cF80NzM3MTJlNjJiNTg0OGZiYTNjMGU0MGQ2YjQ0OWJhOSkKICAgICAgICA7CgogICAgICAgIAogICAgCiAgICAKICAgICAgICAgICAgdmFyIGNpcmNsZV9tYXJrZXJfMWZhYWI4ZjRmYjQzNGNmM2E3ZTk3NmY2Y2Y5YWVlMjQgPSBMLmNpcmNsZU1hcmtlcigKICAgICAgICAgICAgICAgIFs0My42NDM1MTUyLCAtNzkuNTc3MjAwOF0sCiAgICAgICAgICAgICAgICB7ImJ1YmJsaW5nTW91c2VFdmVudHMiOiB0cnVlLCAiY29sb3IiOiAiIzEwYTJmMCIsICJkYXNoQXJyYXkiOiBudWxsLCAiZGFzaE9mZnNldCI6IG51bGwsICJmaWxsIjogdHJ1ZSwgImZpbGxDb2xvciI6ICIjMTBhMmYwIiwgImZpbGxPcGFjaXR5IjogMC43LCAiZmlsbFJ1bGUiOiAiZXZlbm9kZCIsICJsaW5lQ2FwIjogInJvdW5kIiwgImxpbmVKb2luIjogInJvdW5kIiwgIm9wYWNpdHkiOiAxLjAsICJyYWRpdXMiOiA1LCAic3Ryb2tlIjogdHJ1ZSwgIndlaWdodCI6IDN9CiAgICAgICAgICAgICkuYWRkVG8obWFwXzBkNWNhNjVhNzIxZDRiYzY4NjIyMGI5YWFlMzdkZDBlKTsKICAgICAgICAKICAgIAogICAgICAgIHZhciBwb3B1cF82YjQ0NDZjNmJjYjA0ZmVkYTA3ZThjNDhiOTcwZTA3MyA9IEwucG9wdXAoeyJtYXhXaWR0aCI6ICIxMDAlIn0pOwoKICAgICAgICAKICAgICAgICAgICAgdmFyIGh0bWxfN2IxNGFjZGQ4NDBkNGVmMDkzNGEzMDMwNzg1ZjcyYzEgPSAkKGA8ZGl2IGlkPSJodG1sXzdiMTRhY2RkODQwZDRlZjA5MzRhMzAzMDc4NWY3MmMxIiBzdHlsZT0id2lkdGg6IDEwMC4wJTsgaGVpZ2h0OiAxMDAuMCU7Ij5FdG9iaWNva2UsIE9sZCBCdXJuaGFtdGhvcnBlIENsdXN0ZXIgMzwvZGl2PmApWzBdOwogICAgICAgICAgICBwb3B1cF82YjQ0NDZjNmJjYjA0ZmVkYTA3ZThjNDhiOTcwZTA3My5zZXRDb250ZW50KGh0bWxfN2IxNGFjZGQ4NDBkNGVmMDkzNGEzMDMwNzg1ZjcyYzEpOwogICAgICAgIAoKICAgICAgICBjaXJjbGVfbWFya2VyXzFmYWFiOGY0ZmI0MzRjZjNhN2U5NzZmNmNmOWFlZTI0LmJpbmRQb3B1cChwb3B1cF82YjQ0NDZjNmJjYjA0ZmVkYTA3ZThjNDhiOTcwZTA3MykKICAgICAgICA7CgogICAgICAgIAogICAgCiAgICAKICAgICAgICAgICAgdmFyIGNpcmNsZV9tYXJrZXJfMzg3MWEwNWEwMzU0NDc2ZGFkZTczNjk3NzBjOTI5MDUgPSBMLmNpcmNsZU1hcmtlcigKICAgICAgICAgICAgICAgIFs0My43NTYzMDMzLCAtNzkuNTY1OTYzM10sCiAgICAgICAgICAgICAgICB7ImJ1YmJsaW5nTW91c2VFdmVudHMiOiB0cnVlLCAiY29sb3IiOiAiIzQ4NTZmYiIsICJkYXNoQXJyYXkiOiBudWxsLCAiZGFzaE9mZnNldCI6IG51bGwsICJmaWxsIjogdHJ1ZSwgImZpbGxDb2xvciI6ICIjNDg1NmZiIiwgImZpbGxPcGFjaXR5IjogMC43LCAiZmlsbFJ1bGUiOiAiZXZlbm9kZCIsICJsaW5lQ2FwIjogInJvdW5kIiwgImxpbmVKb2luIjogInJvdW5kIiwgIm9wYWNpdHkiOiAxLjAsICJyYWRpdXMiOiA1LCAic3Ryb2tlIjogdHJ1ZSwgIndlaWdodCI6IDN9CiAgICAgICAgICAgICkuYWRkVG8obWFwXzBkNWNhNjVhNzIxZDRiYzY4NjIyMGI5YWFlMzdkZDBlKTsKICAgICAgICAKICAgIAogICAgICAgIHZhciBwb3B1cF84Y2Y3NTJiZjQ3YTA0NzczODk0YzdjM2FiMDAzZDkwMSA9IEwucG9wdXAoeyJtYXhXaWR0aCI6ICIxMDAlIn0pOwoKICAgICAgICAKICAgICAgICAgICAgdmFyIGh0bWxfMThiMDUxMjQwMjEyNDExZGIwZjljNDVlMzk3YjYyNjMgPSAkKGA8ZGl2IGlkPSJodG1sXzE4YjA1MTI0MDIxMjQxMWRiMGY5YzQ1ZTM5N2I2MjYzIiBzdHlsZT0id2lkdGg6IDEwMC4wJTsgaGVpZ2h0OiAxMDAuMCU7Ij5IdW1iZXIgU3VtbWl0IENsdXN0ZXIgMjwvZGl2PmApWzBdOwogICAgICAgICAgICBwb3B1cF84Y2Y3NTJiZjQ3YTA0NzczODk0YzdjM2FiMDAzZDkwMS5zZXRDb250ZW50KGh0bWxfMThiMDUxMjQwMjEyNDExZGIwZjljNDVlMzk3YjYyNjMpOwogICAgICAgIAoKICAgICAgICBjaXJjbGVfbWFya2VyXzM4NzFhMDVhMDM1NDQ3NmRhZGU3MzY5NzcwYzkyOTA1LmJpbmRQb3B1cChwb3B1cF84Y2Y3NTJiZjQ3YTA0NzczODk0YzdjM2FiMDAzZDkwMSkKICAgICAgICA7CgogICAgICAgIAogICAgCiAgICAKICAgICAgICAgICAgdmFyIGNpcmNsZV9tYXJrZXJfOGM5ODhmYmVlYjEyNDk1Y2IyMGJlMTU3OGZiNDM1NTQgPSBMLmNpcmNsZU1hcmtlcigKICAgICAgICAgICAgICAgIFs0My43MjQ3NjU5LCAtNzkuNTMyMjQyNF0sCiAgICAgICAgICAgICAgICB7ImJ1YmJsaW5nTW91c2VFdmVudHMiOiB0cnVlLCAiY29sb3IiOiAiI2Q0ZGQ4MCIsICJkYXNoQXJyYXkiOiBudWxsLCAiZGFzaE9mZnNldCI6IG51bGwsICJmaWxsIjogdHJ1ZSwgImZpbGxDb2xvciI6ICIjZDRkZDgwIiwgImZpbGxPcGFjaXR5IjogMC43LCAiZmlsbFJ1bGUiOiAiZXZlbm9kZCIsICJsaW5lQ2FwIjogInJvdW5kIiwgImxpbmVKb2luIjogInJvdW5kIiwgIm9wYWNpdHkiOiAxLjAsICJyYWRpdXMiOiA1LCAic3Ryb2tlIjogdHJ1ZSwgIndlaWdodCI6IDN9CiAgICAgICAgICAgICkuYWRkVG8obWFwXzBkNWNhNjVhNzIxZDRiYzY4NjIyMGI5YWFlMzdkZDBlKTsKICAgICAgICAKICAgIAogICAgICAgIHZhciBwb3B1cF83ZWRmNGJkNmM2NjQ0NTU1OGM2MDA1ZThmYjUzOWQ4YiA9IEwucG9wdXAoeyJtYXhXaWR0aCI6ICIxMDAlIn0pOwoKICAgICAgICAKICAgICAgICAgICAgdmFyIGh0bWxfY2QzOGE2MWIwNzRkNGEwYmEyYmY0ZDM4NTI2NjIzNDggPSAkKGA8ZGl2IGlkPSJodG1sX2NkMzhhNjFiMDc0ZDRhMGJhMmJmNGQzODUyNjYyMzQ4IiBzdHlsZT0id2lkdGg6IDEwMC4wJTsgaGVpZ2h0OiAxMDAuMCU7Ij5Ob3J0aCBZb3JrLCBIdW1iZXJsZWEgQ2x1c3RlciA3PC9kaXY+YClbMF07CiAgICAgICAgICAgIHBvcHVwXzdlZGY0YmQ2YzY2NDQ1NTU4YzYwMDVlOGZiNTM5ZDhiLnNldENvbnRlbnQoaHRtbF9jZDM4YTYxYjA3NGQ0YTBiYTJiZjRkMzg1MjY2MjM0OCk7CiAgICAgICAgCgogICAgICAgIGNpcmNsZV9tYXJrZXJfOGM5ODhmYmVlYjEyNDk1Y2IyMGJlMTU3OGZiNDM1NTQuYmluZFBvcHVwKHBvcHVwXzdlZGY0YmQ2YzY2NDQ1NTU4YzYwMDVlOGZiNTM5ZDhiKQogICAgICAgIDsKCiAgICAgICAgCiAgICAKICAgIAogICAgICAgICAgICB2YXIgY2lyY2xlX21hcmtlcl82YmEzY2E1ZTczOGE0ZDI1ODYwYjg5Nzc1MGI1YjkyYyA9IEwuY2lyY2xlTWFya2VyKAogICAgICAgICAgICAgICAgWzQzLjY5NjMxOSwgLTc5LjUzMjI0MjRdLAogICAgICAgICAgICAgICAgeyJidWJibGluZ01vdXNlRXZlbnRzIjogdHJ1ZSwgImNvbG9yIjogIiMxMGEyZjAiLCAiZGFzaEFycmF5IjogbnVsbCwgImRhc2hPZmZzZXQiOiBudWxsLCAiZmlsbCI6IHRydWUsICJmaWxsQ29sb3IiOiAiIzEwYTJmMCIsICJmaWxsT3BhY2l0eSI6IDAuNywgImZpbGxSdWxlIjogImV2ZW5vZGQiLCAibGluZUNhcCI6ICJyb3VuZCIsICJsaW5lSm9pbiI6ICJyb3VuZCIsICJvcGFjaXR5IjogMS4wLCAicmFkaXVzIjogNSwgInN0cm9rZSI6IHRydWUsICJ3ZWlnaHQiOiAzfQogICAgICAgICAgICApLmFkZFRvKG1hcF8wZDVjYTY1YTcyMWQ0YmM2ODYyMjBiOWFhZTM3ZGQwZSk7CiAgICAgICAgCiAgICAKICAgICAgICB2YXIgcG9wdXBfNjk5YjcwMTQ4NzQyNGVlYTkyY2QyNDFmOTM1N2M5OGEgPSBMLnBvcHVwKHsibWF4V2lkdGgiOiAiMTAwJSJ9KTsKCiAgICAgICAgCiAgICAgICAgICAgIHZhciBodG1sXzExZGQ2YTNlYWU2ZDQwODFiZDliYjRkYTJjMTJiZmM0ID0gJChgPGRpdiBpZD0iaHRtbF8xMWRkNmEzZWFlNmQ0MDgxYmQ5YmI0ZGEyYzEyYmZjNCIgc3R5bGU9IndpZHRoOiAxMDAuMCU7IGhlaWdodDogMTAwLjAlOyI+V2VzdG1vdW50IENsdXN0ZXIgMzwvZGl2PmApWzBdOwogICAgICAgICAgICBwb3B1cF82OTliNzAxNDg3NDI0ZWVhOTJjZDI0MWY5MzU3Yzk4YS5zZXRDb250ZW50KGh0bWxfMTFkZDZhM2VhZTZkNDA4MWJkOWJiNGRhMmMxMmJmYzQpOwogICAgICAgIAoKICAgICAgICBjaXJjbGVfbWFya2VyXzZiYTNjYTVlNzM4YTRkMjU4NjBiODk3NzUwYjViOTJjLmJpbmRQb3B1cChwb3B1cF82OTliNzAxNDg3NDI0ZWVhOTJjZDI0MWY5MzU3Yzk4YSkKICAgICAgICA7CgogICAgICAgIAogICAgCiAgICAKICAgICAgICAgICAgdmFyIGNpcmNsZV9tYXJrZXJfZGYwNzdkYzMwNTQ5NGJjMmI1ZGEwNjFjNzdlZjE5MTYgPSBMLmNpcmNsZU1hcmtlcigKICAgICAgICAgICAgICAgIFs0My42ODg5MDU0LCAtNzkuNTU0NzI0NF0sCiAgICAgICAgICAgICAgICB7ImJ1YmJsaW5nTW91c2VFdmVudHMiOiB0cnVlLCAiY29sb3IiOiAiIzEwYTJmMCIsICJkYXNoQXJyYXkiOiBudWxsLCAiZGFzaE9mZnNldCI6IG51bGwsICJmaWxsIjogdHJ1ZSwgImZpbGxDb2xvciI6ICIjMTBhMmYwIiwgImZpbGxPcGFjaXR5IjogMC43LCAiZmlsbFJ1bGUiOiAiZXZlbm9kZCIsICJsaW5lQ2FwIjogInJvdW5kIiwgImxpbmVKb2luIjogInJvdW5kIiwgIm9wYWNpdHkiOiAxLjAsICJyYWRpdXMiOiA1LCAic3Ryb2tlIjogdHJ1ZSwgIndlaWdodCI6IDN9CiAgICAgICAgICAgICkuYWRkVG8obWFwXzBkNWNhNjVhNzIxZDRiYzY4NjIyMGI5YWFlMzdkZDBlKTsKICAgICAgICAKICAgIAogICAgICAgIHZhciBwb3B1cF85NTI3MGVhZDA2YTU0NWFhYjYxODE0MjQ1OTBhZGM2YiA9IEwucG9wdXAoeyJtYXhXaWR0aCI6ICIxMDAlIn0pOwoKICAgICAgICAKICAgICAgICAgICAgdmFyIGh0bWxfODY3NWU0ZmE0YjgxNGE3YzlmZTk2MDA0NGY3YjFlZTkgPSAkKGA8ZGl2IGlkPSJodG1sXzg2NzVlNGZhNGI4MTRhN2M5ZmU5NjAwNDRmN2IxZWU5IiBzdHlsZT0id2lkdGg6IDEwMC4wJTsgaGVpZ2h0OiAxMDAuMCU7Ij5FdG9iaWNva2UsIFN0LiBQaGlsbGlwcyBDbHVzdGVyIDM8L2Rpdj5gKVswXTsKICAgICAgICAgICAgcG9wdXBfOTUyNzBlYWQwNmE1NDVhYWI2MTgxNDI0NTkwYWRjNmIuc2V0Q29udGVudChodG1sXzg2NzVlNGZhNGI4MTRhN2M5ZmU5NjAwNDRmN2IxZWU5KTsKICAgICAgICAKCiAgICAgICAgY2lyY2xlX21hcmtlcl9kZjA3N2RjMzA1NDk0YmMyYjVkYTA2MWM3N2VmMTkxNi5iaW5kUG9wdXAocG9wdXBfOTUyNzBlYWQwNmE1NDVhYWI2MTgxNDI0NTkwYWRjNmIpCiAgICAgICAgOwoKICAgICAgICAKICAgIAogICAgCiAgICAgICAgICAgIHZhciBjaXJjbGVfbWFya2VyXzU5ZjFmYzQzOTA3NzQ4MDE4NDVjYTg2YmVlMmFiN2NkID0gTC5jaXJjbGVNYXJrZXIoCiAgICAgICAgICAgICAgICBbNDMuNzM5NDE2NCwgLTc5LjU4ODQzNjldLAogICAgICAgICAgICAgICAgeyJidWJibGluZ01vdXNlRXZlbnRzIjogdHJ1ZSwgImNvbG9yIjogIiMxMGEyZjAiLCAiZGFzaEFycmF5IjogbnVsbCwgImRhc2hPZmZzZXQiOiBudWxsLCAiZmlsbCI6IHRydWUsICJmaWxsQ29sb3IiOiAiIzEwYTJmMCIsICJmaWxsT3BhY2l0eSI6IDAuNywgImZpbGxSdWxlIjogImV2ZW5vZGQiLCAibGluZUNhcCI6ICJyb3VuZCIsICJsaW5lSm9pbiI6ICJyb3VuZCIsICJvcGFjaXR5IjogMS4wLCAicmFkaXVzIjogNSwgInN0cm9rZSI6IHRydWUsICJ3ZWlnaHQiOiAzfQogICAgICAgICAgICApLmFkZFRvKG1hcF8wZDVjYTY1YTcyMWQ0YmM2ODYyMjBiOWFhZTM3ZGQwZSk7CiAgICAgICAgCiAgICAKICAgICAgICB2YXIgcG9wdXBfMzhiNmViNTNhYzZmNGFmZWIzYmQxYTJjMDkyNWY0MjMgPSBMLnBvcHVwKHsibWF4V2lkdGgiOiAiMTAwJSJ9KTsKCiAgICAgICAgCiAgICAgICAgICAgIHZhciBodG1sXzRmZTA0OWM3YTZiOTRlNWY5YmZlNmVjNDUyYThjZTA1ID0gJChgPGRpdiBpZD0iaHRtbF80ZmUwNDljN2E2Yjk0ZTVmOWJmZTZlYzQ1MmE4Y2UwNSIgc3R5bGU9IndpZHRoOiAxMDAuMCU7IGhlaWdodDogMTAwLjAlOyI+RXRvYmljb2tlLCBUaGlzdGxldG93biBDbHVzdGVyIDM8L2Rpdj5gKVswXTsKICAgICAgICAgICAgcG9wdXBfMzhiNmViNTNhYzZmNGFmZWIzYmQxYTJjMDkyNWY0MjMuc2V0Q29udGVudChodG1sXzRmZTA0OWM3YTZiOTRlNWY5YmZlNmVjNDUyYThjZTA1KTsKICAgICAgICAKCiAgICAgICAgY2lyY2xlX21hcmtlcl81OWYxZmM0MzkwNzc0ODAxODQ1Y2E4NmJlZTJhYjdjZC5iaW5kUG9wdXAocG9wdXBfMzhiNmViNTNhYzZmNGFmZWIzYmQxYTJjMDkyNWY0MjMpCiAgICAgICAgOwoKICAgICAgICAKICAgIAogICAgCiAgICAgICAgICAgIHZhciBjaXJjbGVfbWFya2VyXzBkZjk5MWE1M2Q1NzQwOWU5ZGM2NzA5ZWM5YmNjYTU2ID0gTC5jaXJjbGVNYXJrZXIoCiAgICAgICAgICAgICAgICBbNDMuNzA2NzQ4MywgLTc5LjU5NDA1NDRdLAogICAgICAgICAgICAgICAgeyJidWJibGluZ01vdXNlRXZlbnRzIjogdHJ1ZSwgImNvbG9yIjogIiMxMGEyZjAiLCAiZGFzaEFycmF5IjogbnVsbCwgImRhc2hPZmZzZXQiOiBudWxsLCAiZmlsbCI6IHRydWUsICJmaWxsQ29sb3IiOiAiIzEwYTJmMCIsICJmaWxsT3BhY2l0eSI6IDAuNywgImZpbGxSdWxlIjogImV2ZW5vZGQiLCAibGluZUNhcCI6ICJyb3VuZCIsICJsaW5lSm9pbiI6ICJyb3VuZCIsICJvcGFjaXR5IjogMS4wLCAicmFkaXVzIjogNSwgInN0cm9rZSI6IHRydWUsICJ3ZWlnaHQiOiAzfQogICAgICAgICAgICApLmFkZFRvKG1hcF8wZDVjYTY1YTcyMWQ0YmM2ODYyMjBiOWFhZTM3ZGQwZSk7CiAgICAgICAgCiAgICAKICAgICAgICB2YXIgcG9wdXBfNGVhYjNkMTJjYjE2NDA2MGE4MzFhNDlhNTUwZjA0NTMgPSBMLnBvcHVwKHsibWF4V2lkdGgiOiAiMTAwJSJ9KTsKCiAgICAgICAgCiAgICAgICAgICAgIHZhciBodG1sXzI0MDFhOWNhMzZkODQxOTc5NGQ3OGRkODg5NmNlNDY2ID0gJChgPGRpdiBpZD0iaHRtbF8yNDAxYTljYTM2ZDg0MTk3OTRkNzhkZDg4OTZjZTQ2NiIgc3R5bGU9IndpZHRoOiAxMDAuMCU7IGhlaWdodDogMTAwLjAlOyI+Tm9ydGh3ZXN0IENsdXN0ZXIgMzwvZGl2PmApWzBdOwogICAgICAgICAgICBwb3B1cF80ZWFiM2QxMmNiMTY0MDYwYTgzMWE0OWE1NTBmMDQ1My5zZXRDb250ZW50KGh0bWxfMjQwMWE5Y2EzNmQ4NDE5Nzk0ZDc4ZGQ4ODk2Y2U0NjYpOwogICAgICAgIAoKICAgICAgICBjaXJjbGVfbWFya2VyXzBkZjk5MWE1M2Q1NzQwOWU5ZGM2NzA5ZWM5YmNjYTU2LmJpbmRQb3B1cChwb3B1cF80ZWFiM2QxMmNiMTY0MDYwYTgzMWE0OWE1NTBmMDQ1MykKICAgICAgICA7CgogICAgICAgIAogICAgCjwvc2NyaXB0Pg==\" style=\"position:absolute;width:100%;height:100%;left:0;top:0;border:none !important;\" allowfullscreen webkitallowfullscreen mozallowfullscreen></iframe></div></div>"
      ],
      "text/plain": [
       "<folium.folium.Map at 0x7f5b3d6b2898>"
      ]
     },
     "execution_count": 39,
     "metadata": {},
     "output_type": "execute_result"
    }
   ],
   "source": [
    "# create map\n",
    "map_clusters = folium.Map(location=[latitude, longitude], zoom_start=11)\n",
    "\n",
    "# set color scheme for the clusters\n",
    "x = np.arange(kclusters)\n",
    "ys = [i + x + (i*x)**2 for i in range(kclusters)]\n",
    "colors_array = cm.rainbow(np.linspace(0, 1, len(ys)))\n",
    "rainbow = [colors.rgb2hex(i) for i in colors_array]\n",
    "\n",
    "# add markers to the map\n",
    "markers_colors = []\n",
    "for lat, lon, poi, cluster in zip(toronto_merged['Latitude'], toronto_merged['Longitude'], toronto_merged['Neighborhood'], toronto_merged['Cluster Labels']):\n",
    "    label = folium.Popup(str(poi) + ' Cluster ' + str(cluster), parse_html=True)\n",
    "    folium.CircleMarker(\n",
    "        [lat, lon],\n",
    "        radius=5,\n",
    "        popup=label,\n",
    "        color=rainbow[cluster-1],\n",
    "        fill=True,\n",
    "        fill_color=rainbow[cluster-1],\n",
    "        fill_opacity=0.7).add_to(map_clusters)\n",
    "        \n",
    "map_clusters"
   ]
  },
  {
   "cell_type": "code",
   "execution_count": null,
   "metadata": {},
   "outputs": [],
   "source": []
  },
  {
   "cell_type": "code",
   "execution_count": null,
   "metadata": {},
   "outputs": [],
   "source": []
  }
 ],
 "metadata": {
  "kernelspec": {
   "display_name": "Python 3",
   "language": "python",
   "name": "python3"
  },
  "language_info": {
   "codemirror_mode": {
    "name": "ipython",
    "version": 3
   },
   "file_extension": ".py",
   "mimetype": "text/x-python",
   "name": "python",
   "nbconvert_exporter": "python",
   "pygments_lexer": "ipython3",
   "version": "3.7.3"
  }
 },
 "nbformat": 4,
 "nbformat_minor": 4
}
